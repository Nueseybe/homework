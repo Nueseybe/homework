{
 "cells": [
  {
   "cell_type": "markdown",
   "id": "977e547b",
   "metadata": {},
   "source": [
    "# NumPy Homework"
   ]
  },
  {
   "cell_type": "markdown",
   "id": "3c85fee1",
   "metadata": {},
   "source": [
    "# A"
   ]
  },
  {
   "cell_type": "markdown",
   "id": "0a843feb",
   "metadata": {},
   "source": [
    "## 1) import numpy library with his usual alias!"
   ]
  },
  {
   "cell_type": "code",
   "execution_count": 2,
   "id": "bb73d452",
   "metadata": {},
   "outputs": [
    {
     "name": "stderr",
     "output_type": "stream",
     "text": [
      "Matplotlib is building the font cache; this may take a moment.\n"
     ]
    }
   ],
   "source": [
    "import numpy as np \n",
    "import pandas as pd\n",
    "import matplotlib.pyplot as plt\n",
    "from IPython.display import display"
   ]
  },
  {
   "cell_type": "markdown",
   "id": "249dc882",
   "metadata": {},
   "source": [
    "## 2) Create a random matrix, which has 2 columns and 20 rows. With this we will then create a pandas DataFrame!"
   ]
  },
  {
   "cell_type": "code",
   "execution_count": 3,
   "id": "48a57318",
   "metadata": {},
   "outputs": [
    {
     "name": "stdout",
     "output_type": "stream",
     "text": [
      "[[9 3]\n",
      " [6 9]\n",
      " [1 5]\n",
      " [6 1]\n",
      " [6 1]\n",
      " [2 4]\n",
      " [6 8]\n",
      " [4 2]\n",
      " [2 7]\n",
      " [6 5]\n",
      " [2 7]\n",
      " [6 5]\n",
      " [3 0]\n",
      " [1 5]\n",
      " [3 2]\n",
      " [6 6]\n",
      " [9 6]\n",
      " [6 3]\n",
      " [9 5]\n",
      " [9 2]]\n",
      "\n"
     ]
    },
    {
     "data": {
      "text/html": [
       "<div>\n",
       "<style scoped>\n",
       "    .dataframe tbody tr th:only-of-type {\n",
       "        vertical-align: middle;\n",
       "    }\n",
       "\n",
       "    .dataframe tbody tr th {\n",
       "        vertical-align: top;\n",
       "    }\n",
       "\n",
       "    .dataframe thead th {\n",
       "        text-align: right;\n",
       "    }\n",
       "</style>\n",
       "<table border=\"1\" class=\"dataframe\">\n",
       "  <thead>\n",
       "    <tr style=\"text-align: right;\">\n",
       "      <th></th>\n",
       "      <th>Price</th>\n",
       "      <th>Quality</th>\n",
       "    </tr>\n",
       "  </thead>\n",
       "  <tbody>\n",
       "    <tr>\n",
       "      <th>0</th>\n",
       "      <td>9</td>\n",
       "      <td>3</td>\n",
       "    </tr>\n",
       "    <tr>\n",
       "      <th>1</th>\n",
       "      <td>6</td>\n",
       "      <td>9</td>\n",
       "    </tr>\n",
       "    <tr>\n",
       "      <th>2</th>\n",
       "      <td>1</td>\n",
       "      <td>5</td>\n",
       "    </tr>\n",
       "    <tr>\n",
       "      <th>3</th>\n",
       "      <td>6</td>\n",
       "      <td>1</td>\n",
       "    </tr>\n",
       "    <tr>\n",
       "      <th>4</th>\n",
       "      <td>6</td>\n",
       "      <td>1</td>\n",
       "    </tr>\n",
       "    <tr>\n",
       "      <th>5</th>\n",
       "      <td>2</td>\n",
       "      <td>4</td>\n",
       "    </tr>\n",
       "    <tr>\n",
       "      <th>6</th>\n",
       "      <td>6</td>\n",
       "      <td>8</td>\n",
       "    </tr>\n",
       "    <tr>\n",
       "      <th>7</th>\n",
       "      <td>4</td>\n",
       "      <td>2</td>\n",
       "    </tr>\n",
       "    <tr>\n",
       "      <th>8</th>\n",
       "      <td>2</td>\n",
       "      <td>7</td>\n",
       "    </tr>\n",
       "    <tr>\n",
       "      <th>9</th>\n",
       "      <td>6</td>\n",
       "      <td>5</td>\n",
       "    </tr>\n",
       "    <tr>\n",
       "      <th>10</th>\n",
       "      <td>2</td>\n",
       "      <td>7</td>\n",
       "    </tr>\n",
       "    <tr>\n",
       "      <th>11</th>\n",
       "      <td>6</td>\n",
       "      <td>5</td>\n",
       "    </tr>\n",
       "    <tr>\n",
       "      <th>12</th>\n",
       "      <td>3</td>\n",
       "      <td>0</td>\n",
       "    </tr>\n",
       "    <tr>\n",
       "      <th>13</th>\n",
       "      <td>1</td>\n",
       "      <td>5</td>\n",
       "    </tr>\n",
       "    <tr>\n",
       "      <th>14</th>\n",
       "      <td>3</td>\n",
       "      <td>2</td>\n",
       "    </tr>\n",
       "    <tr>\n",
       "      <th>15</th>\n",
       "      <td>6</td>\n",
       "      <td>6</td>\n",
       "    </tr>\n",
       "    <tr>\n",
       "      <th>16</th>\n",
       "      <td>9</td>\n",
       "      <td>6</td>\n",
       "    </tr>\n",
       "    <tr>\n",
       "      <th>17</th>\n",
       "      <td>6</td>\n",
       "      <td>3</td>\n",
       "    </tr>\n",
       "    <tr>\n",
       "      <th>18</th>\n",
       "      <td>9</td>\n",
       "      <td>5</td>\n",
       "    </tr>\n",
       "    <tr>\n",
       "      <th>19</th>\n",
       "      <td>9</td>\n",
       "      <td>2</td>\n",
       "    </tr>\n",
       "  </tbody>\n",
       "</table>\n",
       "</div>"
      ],
      "text/plain": [
       "    Price  Quality\n",
       "0       9        3\n",
       "1       6        9\n",
       "2       1        5\n",
       "3       6        1\n",
       "4       6        1\n",
       "5       2        4\n",
       "6       6        8\n",
       "7       4        2\n",
       "8       2        7\n",
       "9       6        5\n",
       "10      2        7\n",
       "11      6        5\n",
       "12      3        0\n",
       "13      1        5\n",
       "14      3        2\n",
       "15      6        6\n",
       "16      9        6\n",
       "17      6        3\n",
       "18      9        5\n",
       "19      9        2"
      ]
     },
     "metadata": {},
     "output_type": "display_data"
    }
   ],
   "source": [
    "ratings_values = np.random.randint(10, size = (20,2))\n",
    "ratings = pd.DataFrame(ratings_values, columns=['Price', 'Quality'])\n",
    "print(ratings_values)\n",
    "print()\n",
    "display(ratings)"
   ]
  },
  {
   "cell_type": "markdown",
   "id": "30418e69",
   "metadata": {},
   "source": [
    "## 3) Create two vectors from the previous DataFrame. We will use the same values from the previous DataFrame which we already have been created. The first one contains the evaluations which show the customer satisfaction for the prices, and the second one contains for the quality. How big how good! We will then print the vectors.\n",
    "\n",
    "##### Hint: pd.DataFrame['column_name'] gives us a Series from a DataFrame. We can use it with the same functions as DataFrames."
   ]
  },
  {
   "cell_type": "code",
   "execution_count": 4,
   "id": "e6788ed8",
   "metadata": {},
   "outputs": [
    {
     "name": "stdout",
     "output_type": "stream",
     "text": [
      "Price:      Price\n",
      "0       9\n",
      "1       6\n",
      "2       1\n",
      "3       6\n",
      "4       6\n",
      "5       2\n",
      "6       6\n",
      "7       4\n",
      "8       2\n",
      "9       6\n",
      "10      2\n",
      "11      6\n",
      "12      3\n",
      "13      1\n",
      "14      3\n",
      "15      6\n",
      "16      9\n",
      "17      6\n",
      "18      9\n",
      "19      9\n",
      "Quality:      Price\n",
      "0       3\n",
      "1       9\n",
      "2       5\n",
      "3       1\n",
      "4       1\n",
      "5       4\n",
      "6       8\n",
      "7       2\n",
      "8       7\n",
      "9       5\n",
      "10      7\n",
      "11      5\n",
      "12      0\n",
      "13      5\n",
      "14      2\n",
      "15      6\n",
      "16      6\n",
      "17      3\n",
      "18      5\n",
      "19      2\n"
     ]
    }
   ],
   "source": [
    "price =   pd.DataFrame({'Price':ratings_values[:,0]}) # < write your code here >\n",
    "quality =  pd.DataFrame({'Price':ratings_values[:,1]})# < write your code here >\n",
    "\n",
    "\n",
    "print('Price: ', price)\n",
    "print('Quality: ', quality)"
   ]
  },
  {
   "cell_type": "markdown",
   "id": "549889fe",
   "metadata": {},
   "source": [
    "## 4) Find the total numbers of visitors."
   ]
  },
  {
   "cell_type": "code",
   "execution_count": 5,
   "id": "4c453a33",
   "metadata": {},
   "outputs": [
    {
     "name": "stdout",
     "output_type": "stream",
     "text": [
      "Number of visitors: 20\n"
     ]
    }
   ],
   "source": [
    "visitors_count =len(quality) # < write your code here >\n",
    "\n",
    "print('Number of visitors:', visitors_count)"
   ]
  },
  {
   "cell_type": "markdown",
   "id": "ba39a7bf",
   "metadata": {},
   "source": [
    "## 5) Find and print the average ratings for each column using numpy functions (we will find the mean and median values)"
   ]
  },
  {
   "cell_type": "code",
   "execution_count": 7,
   "id": "6e62b45d",
   "metadata": {},
   "outputs": [
    {
     "name": "stdout",
     "output_type": "stream",
     "text": [
      "The mean of the price ratings:  Price    5.1\n",
      "dtype: float64\n",
      "The median of the price ratings Price    6.0\n",
      "dtype: float64\n",
      "The mean of the quality ratings:  Price    4.3\n",
      "dtype: float64\n",
      "The median of the quality ratings Price    5.0\n",
      "dtype: float64\n"
     ]
    }
   ],
   "source": [
    "print('The mean of the price ratings: ', price.mean()) # < write your code here >\n",
    "print('The median of the price ratings', price.median()) # < write your code here >\n",
    "\n",
    "print('The mean of the quality ratings: ', quality.mean()) # < write your code here >\n",
    "print('The median of the quality ratings', quality.median()) # < write your code here >"
   ]
  },
  {
   "attachments": {},
   "cell_type": "markdown",
   "id": "1ff9799a",
   "metadata": {},
   "source": [
    "## 6) Create a new vector which is the average of the ratings of two columns, price and quality. We will name it as mean_ratings. It will show the average rating for each customer. Round elements of the array to the nearest integer."
   ]
  },
  {
   "cell_type": "code",
   "execution_count": 8,
   "id": "92fddb95",
   "metadata": {},
   "outputs": [
    {
     "name": "stdout",
     "output_type": "stream",
     "text": [
      "[6 8 3 4 4 3 7 3 4 6 4 6 2 3 2 6 8 4 7 6]\n"
     ]
    }
   ],
   "source": [
    "mean_ratings = mean_ratings = np.round((price.values+quality.values).T*0.5)[0].astype(int)# < write your code here >\n",
    "print(mean_ratings)"
   ]
  },
  {
   "cell_type": "markdown",
   "id": "ed221fa4",
   "metadata": {},
   "source": [
    "## 7) Create ratings_values matrix again with the all three vectors. Average ratings, which has just been calculated in the previous exercise, should be the third column of the new matrix. All values in the matrix should be integer! New matrix should have 20 rows and 3 columns!"
   ]
  },
  {
   "cell_type": "code",
   "execution_count": 9,
   "id": "074a8fae",
   "metadata": {},
   "outputs": [
    {
     "name": "stdout",
     "output_type": "stream",
     "text": [
      "[[9 3 6]\n",
      " [6 9 8]\n",
      " [1 5 3]\n",
      " [6 1 4]\n",
      " [6 1 4]\n",
      " [2 4 3]\n",
      " [6 8 7]\n",
      " [4 2 3]\n",
      " [2 7 4]\n",
      " [6 5 6]\n",
      " [2 7 4]\n",
      " [6 5 6]\n",
      " [3 0 2]\n",
      " [1 5 3]\n",
      " [3 2 2]\n",
      " [6 6 6]\n",
      " [9 6 8]\n",
      " [6 3 4]\n",
      " [9 5 7]\n",
      " [9 2 6]]\n",
      "<class 'numpy.ndarray'>\n",
      "(20, 3)\n"
     ]
    }
   ],
   "source": [
    "new_ratings_values = np.array([ratings_values[:,0],ratings_values[:,1],mean_ratings]).T# < write your code here >\n",
    "print(new_ratings_values)\n",
    "print(type(new_ratings_values))\n",
    "print(new_ratings_values.shape)"
   ]
  },
  {
   "cell_type": "code",
   "execution_count": 10,
   "id": "cb275581",
   "metadata": {},
   "outputs": [
    {
     "data": {
      "text/html": [
       "<div>\n",
       "<style scoped>\n",
       "    .dataframe tbody tr th:only-of-type {\n",
       "        vertical-align: middle;\n",
       "    }\n",
       "\n",
       "    .dataframe tbody tr th {\n",
       "        vertical-align: top;\n",
       "    }\n",
       "\n",
       "    .dataframe thead th {\n",
       "        text-align: right;\n",
       "    }\n",
       "</style>\n",
       "<table border=\"1\" class=\"dataframe\">\n",
       "  <thead>\n",
       "    <tr style=\"text-align: right;\">\n",
       "      <th></th>\n",
       "      <th>Price</th>\n",
       "      <th>Quality</th>\n",
       "      <th>Average</th>\n",
       "    </tr>\n",
       "  </thead>\n",
       "  <tbody>\n",
       "    <tr>\n",
       "      <th>0</th>\n",
       "      <td>9</td>\n",
       "      <td>3</td>\n",
       "      <td>6</td>\n",
       "    </tr>\n",
       "    <tr>\n",
       "      <th>1</th>\n",
       "      <td>6</td>\n",
       "      <td>9</td>\n",
       "      <td>8</td>\n",
       "    </tr>\n",
       "    <tr>\n",
       "      <th>2</th>\n",
       "      <td>1</td>\n",
       "      <td>5</td>\n",
       "      <td>3</td>\n",
       "    </tr>\n",
       "    <tr>\n",
       "      <th>3</th>\n",
       "      <td>6</td>\n",
       "      <td>1</td>\n",
       "      <td>4</td>\n",
       "    </tr>\n",
       "    <tr>\n",
       "      <th>4</th>\n",
       "      <td>6</td>\n",
       "      <td>1</td>\n",
       "      <td>4</td>\n",
       "    </tr>\n",
       "    <tr>\n",
       "      <th>5</th>\n",
       "      <td>2</td>\n",
       "      <td>4</td>\n",
       "      <td>3</td>\n",
       "    </tr>\n",
       "    <tr>\n",
       "      <th>6</th>\n",
       "      <td>6</td>\n",
       "      <td>8</td>\n",
       "      <td>7</td>\n",
       "    </tr>\n",
       "    <tr>\n",
       "      <th>7</th>\n",
       "      <td>4</td>\n",
       "      <td>2</td>\n",
       "      <td>3</td>\n",
       "    </tr>\n",
       "    <tr>\n",
       "      <th>8</th>\n",
       "      <td>2</td>\n",
       "      <td>7</td>\n",
       "      <td>4</td>\n",
       "    </tr>\n",
       "    <tr>\n",
       "      <th>9</th>\n",
       "      <td>6</td>\n",
       "      <td>5</td>\n",
       "      <td>6</td>\n",
       "    </tr>\n",
       "    <tr>\n",
       "      <th>10</th>\n",
       "      <td>2</td>\n",
       "      <td>7</td>\n",
       "      <td>4</td>\n",
       "    </tr>\n",
       "    <tr>\n",
       "      <th>11</th>\n",
       "      <td>6</td>\n",
       "      <td>5</td>\n",
       "      <td>6</td>\n",
       "    </tr>\n",
       "    <tr>\n",
       "      <th>12</th>\n",
       "      <td>3</td>\n",
       "      <td>0</td>\n",
       "      <td>2</td>\n",
       "    </tr>\n",
       "    <tr>\n",
       "      <th>13</th>\n",
       "      <td>1</td>\n",
       "      <td>5</td>\n",
       "      <td>3</td>\n",
       "    </tr>\n",
       "    <tr>\n",
       "      <th>14</th>\n",
       "      <td>3</td>\n",
       "      <td>2</td>\n",
       "      <td>2</td>\n",
       "    </tr>\n",
       "    <tr>\n",
       "      <th>15</th>\n",
       "      <td>6</td>\n",
       "      <td>6</td>\n",
       "      <td>6</td>\n",
       "    </tr>\n",
       "    <tr>\n",
       "      <th>16</th>\n",
       "      <td>9</td>\n",
       "      <td>6</td>\n",
       "      <td>8</td>\n",
       "    </tr>\n",
       "    <tr>\n",
       "      <th>17</th>\n",
       "      <td>6</td>\n",
       "      <td>3</td>\n",
       "      <td>4</td>\n",
       "    </tr>\n",
       "    <tr>\n",
       "      <th>18</th>\n",
       "      <td>9</td>\n",
       "      <td>5</td>\n",
       "      <td>7</td>\n",
       "    </tr>\n",
       "    <tr>\n",
       "      <th>19</th>\n",
       "      <td>9</td>\n",
       "      <td>2</td>\n",
       "      <td>6</td>\n",
       "    </tr>\n",
       "  </tbody>\n",
       "</table>\n",
       "</div>"
      ],
      "text/plain": [
       "    Price  Quality  Average\n",
       "0       9        3        6\n",
       "1       6        9        8\n",
       "2       1        5        3\n",
       "3       6        1        4\n",
       "4       6        1        4\n",
       "5       2        4        3\n",
       "6       6        8        7\n",
       "7       4        2        3\n",
       "8       2        7        4\n",
       "9       6        5        6\n",
       "10      2        7        4\n",
       "11      6        5        6\n",
       "12      3        0        2\n",
       "13      1        5        3\n",
       "14      3        2        2\n",
       "15      6        6        6\n",
       "16      9        6        8\n",
       "17      6        3        4\n",
       "18      9        5        7\n",
       "19      9        2        6"
      ]
     },
     "metadata": {},
     "output_type": "display_data"
    }
   ],
   "source": [
    "new_ratings = pd.DataFrame(new_ratings_values, columns=['Price', 'Quality', 'Average'])\n",
    "display(new_ratings)"
   ]
  },
  {
   "cell_type": "markdown",
   "id": "0a77d801",
   "metadata": {},
   "source": [
    "# B"
   ]
  },
  {
   "cell_type": "markdown",
   "id": "34c6abac",
   "metadata": {},
   "source": [
    "## 1) Create *Mean Absolute Error (MAE)* function\n",
    "\n",
    "\\begin{equation}\n",
    "MAE=\\frac{1}{n}\\sum_{i=1}^n|target_i - predictions_i|\n",
    "\\end{equation}"
   ]
  },
  {
   "cell_type": "code",
   "execution_count": 11,
   "id": "44680fb4",
   "metadata": {},
   "outputs": [],
   "source": [
    "def mae(target, predictions):\n",
    "    return abs(target-predictions)/target.size# < write your code here >"
   ]
  },
  {
   "cell_type": "markdown",
   "id": "a9503f14",
   "metadata": {},
   "source": [
    "## 2) Create two arrays each of them has $100$ observations. We will use them for *target* and *predictions* labelling. The target array should consist only $0$ or $1$ values which are random created, while predictions only integer $1$. The target array should have a *binomial distribution* which gives $1$ with $60$% probability."
   ]
  },
  {
   "cell_type": "code",
   "execution_count": 41,
   "id": "e1f48173",
   "metadata": {},
   "outputs": [
    {
     "name": "stdout",
     "output_type": "stream",
     "text": [
      "[1 1 0 1 1 1 1 0 0 1 1 0 1 0 1 1 1 1 0 0 0 1 1 1 1 1 0 1 1 0 0 1 1 1 1 0 1\n",
      " 1 0 0 0 1 0 1 0 1 1 0 0 0 1 1 1 1 1 1 1 1 0 0 1 1 0 0 0 1 0 1 1 0 1 1 0 0\n",
      " 1 0 1 1 1 1 0 0 1 1 1 0 1 0 1 1 0 0 1 0 1 0 0 1 1 1]\n",
      "\n",
      "[1 1 1 1 1 1 1 1 1 1 1 1 1 1 1 1 1 1 1 1 1 1 1 1 1 1 1 1 1 1 1 1 1 1 1 1 1\n",
      " 1 1 1 1 1 1 1 1 1 1 1 1 1 1 1 1 1 1 1 1 1 1 1 1 1 1 1 1 1 1 1 1 1 1 1 1 1\n",
      " 1 1 1 1 1 1 1 1 1 1 1 1 1 1 1 1 1 1 1 1 1 1 1 1 1 1]\n"
     ]
    }
   ],
   "source": [
    "target = np.random.binomial(1,0.6,100) # < write your code here >\n",
    "predictions = np.ones(100, dtype=int) # < write your code here >\n",
    "\n",
    "print(target)\n",
    "print()\n",
    "print(predictions)"
   ]
  },
  {
   "cell_type": "markdown",
   "id": "08a52b61",
   "metadata": {},
   "source": [
    "## 3) Find the *MAE* with your mae function"
   ]
  },
  {
   "cell_type": "code",
   "execution_count": 42,
   "id": "7ed87f1b",
   "metadata": {},
   "outputs": [],
   "source": [
    "mean_absolute_error =  mae(target,predictions) # < write your code here >"
   ]
  },
  {
   "cell_type": "markdown",
   "id": "83589d76",
   "metadata": {},
   "source": [
    "## 4)  Run the code in this step. Observe the printed outputs. Try to run the codes a few times from step 2. What do you think about the results? Give your thoughts shortly with 3 - 5 sentences about why two outputs are the same. What is your conclusion?"
   ]
  },
  {
   "cell_type": "code",
   "execution_count": 16,
   "id": "8116dd9a",
   "metadata": {},
   "outputs": [
    {
     "name": "stdout",
     "output_type": "stream",
     "text": [
      "0.41000000000000003\n",
      "[0.01 0.   0.   0.   0.   0.01 0.   0.01 0.   0.   0.   0.01 0.01 0.\n",
      " 0.   0.   0.   0.01 0.   0.01 0.   0.   0.01 0.   0.01 0.01 0.01 0.\n",
      " 0.01 0.   0.01 0.   0.   0.   0.   0.   0.01 0.01 0.   0.   0.   0.\n",
      " 0.01 0.01 0.   0.01 0.01 0.01 0.01 0.   0.   0.   0.01 0.01 0.   0.\n",
      " 0.   0.01 0.   0.   0.   0.   0.01 0.   0.01 0.   0.01 0.   0.   0.01\n",
      " 0.   0.01 0.01 0.01 0.   0.   0.   0.01 0.01 0.   0.   0.01 0.01 0.01\n",
      " 0.   0.01 0.01 0.   0.   0.01 0.   0.   0.01 0.   0.   0.01 0.   0.\n",
      " 0.   0.  ]\n"
     ]
    }
   ],
   "source": [
    "print(1-np.mean(target))\n",
    "\n",
    "print(mean_absolute_error)"
   ]
  },
  {
   "cell_type": "markdown",
   "id": "b8c6a06b",
   "metadata": {},
   "source": [
    " ### < write your conclusion here >"
   ]
  },
  {
   "cell_type": "markdown",
   "id": "223feb67",
   "metadata": {},
   "source": [
    "## 5) We have always chosen $1$ in our predictions, but the actual values at the target have changed each time. How likely is it that we got it right each time, and what determines this?"
   ]
  },
  {
   "cell_type": "markdown",
   "id": "c905b8d7",
   "metadata": {},
   "source": [
    " ### < write your answer here >"
   ]
  },
  {
   "cell_type": "markdown",
   "id": "3207c6b9",
   "metadata": {},
   "source": [
    "# C"
   ]
  },
  {
   "cell_type": "markdown",
   "id": "209ef743",
   "metadata": {},
   "source": [
    "## 1) Create a Pythagorean function using *np.dot()* to calculate vector length\n",
    "\n",
    "$$v = [x, y] ==> len_v = \\sqrt{x^2+y^2}$$"
   ]
  },
  {
   "cell_type": "code",
   "execution_count": 18,
   "id": "fdb7e6eb",
   "metadata": {},
   "outputs": [],
   "source": [
    "def pythagorean_length(vector):\n",
    "    return np.dot(vector,vector)**(1/2) # < write your code here >"
   ]
  },
  {
   "cell_type": "markdown",
   "id": "66c9d923",
   "metadata": {},
   "source": [
    "## 2) Calculate the length of the given vector using your *pythagorean_length* function and check your result comparing with the given"
   ]
  },
  {
   "cell_type": "code",
   "execution_count": 19,
   "id": "91f1490e",
   "metadata": {},
   "outputs": [
    {
     "name": "stdout",
     "output_type": "stream",
     "text": [
      "5.0\n",
      "5.0\n"
     ]
    }
   ],
   "source": [
    "a = np.array([3, 4])\n",
    "\n",
    "print((pythagorean_length(a))) # < write your code here >\n",
    "\n",
    "print(((a[0] ** 2) + (a[1] ** 2)) ** 0.5)"
   ]
  },
  {
   "cell_type": "markdown",
   "id": "83e04ecb",
   "metadata": {},
   "source": [
    "## 3) Find the shortest distance (Euclidean distance) using *np.dot()* between the given two vectors and compare the results to check"
   ]
  },
  {
   "cell_type": "code",
   "execution_count": 21,
   "id": "894a6dbf",
   "metadata": {},
   "outputs": [
    {
     "name": "stdout",
     "output_type": "stream",
     "text": [
      "The distance between a and b is 5.0\n",
      "The distance between a and b should be 5.0\n"
     ]
    }
   ],
   "source": [
    "a = np.array([5, 6])\n",
    "b = np.array([1, 3])\n",
    "\n",
    "c = pythagorean_length(a-b) # < write your code here >\n",
    "print('The distance between a and b is', c)\n",
    "\n",
    "from scipy.spatial import distance\n",
    "print('The distance between a and b should be', distance.euclidean(a, b))"
   ]
  },
  {
   "cell_type": "markdown",
   "id": "7cc6aed5",
   "metadata": {},
   "source": [
    "# D - Obfuscating Data"
   ]
  },
  {
   "cell_type": "markdown",
   "id": "d1067272",
   "metadata": {},
   "source": [
    "It is best to obfuscate data by multiplying the numerical features (they can be seen as the matrix $X$) by an invertible matrix $P$. \n",
    "\n",
    "$$\n",
    "X' = X \\times P\n",
    "$$\n",
    "\n",
    "Try to do that and check how the features' values will look like after the transformation. By the way, the invertible property is important here so make sure that $P$ is indeed invertible."
   ]
  },
  {
   "cell_type": "code",
   "execution_count": 22,
   "id": "167c61ea",
   "metadata": {},
   "outputs": [
    {
     "data": {
      "text/html": [
       "<div>\n",
       "<style scoped>\n",
       "    .dataframe tbody tr th:only-of-type {\n",
       "        vertical-align: middle;\n",
       "    }\n",
       "\n",
       "    .dataframe tbody tr th {\n",
       "        vertical-align: top;\n",
       "    }\n",
       "\n",
       "    .dataframe thead th {\n",
       "        text-align: right;\n",
       "    }\n",
       "</style>\n",
       "<table border=\"1\" class=\"dataframe\">\n",
       "  <thead>\n",
       "    <tr style=\"text-align: right;\">\n",
       "      <th></th>\n",
       "      <th>gender</th>\n",
       "      <th>age</th>\n",
       "      <th>salary</th>\n",
       "      <th>family_members</th>\n",
       "    </tr>\n",
       "  </thead>\n",
       "  <tbody>\n",
       "    <tr>\n",
       "      <th>990</th>\n",
       "      <td>1</td>\n",
       "      <td>84</td>\n",
       "      <td>17055</td>\n",
       "      <td>9</td>\n",
       "    </tr>\n",
       "    <tr>\n",
       "      <th>991</th>\n",
       "      <td>0</td>\n",
       "      <td>37</td>\n",
       "      <td>24764</td>\n",
       "      <td>6</td>\n",
       "    </tr>\n",
       "    <tr>\n",
       "      <th>992</th>\n",
       "      <td>1</td>\n",
       "      <td>64</td>\n",
       "      <td>20006</td>\n",
       "      <td>2</td>\n",
       "    </tr>\n",
       "    <tr>\n",
       "      <th>993</th>\n",
       "      <td>1</td>\n",
       "      <td>62</td>\n",
       "      <td>21356</td>\n",
       "      <td>0</td>\n",
       "    </tr>\n",
       "    <tr>\n",
       "      <th>994</th>\n",
       "      <td>0</td>\n",
       "      <td>38</td>\n",
       "      <td>20742</td>\n",
       "      <td>5</td>\n",
       "    </tr>\n",
       "    <tr>\n",
       "      <th>995</th>\n",
       "      <td>1</td>\n",
       "      <td>66</td>\n",
       "      <td>28177</td>\n",
       "      <td>2</td>\n",
       "    </tr>\n",
       "    <tr>\n",
       "      <th>996</th>\n",
       "      <td>1</td>\n",
       "      <td>67</td>\n",
       "      <td>25364</td>\n",
       "      <td>5</td>\n",
       "    </tr>\n",
       "    <tr>\n",
       "      <th>997</th>\n",
       "      <td>1</td>\n",
       "      <td>28</td>\n",
       "      <td>27674</td>\n",
       "      <td>6</td>\n",
       "    </tr>\n",
       "    <tr>\n",
       "      <th>998</th>\n",
       "      <td>1</td>\n",
       "      <td>42</td>\n",
       "      <td>16313</td>\n",
       "      <td>3</td>\n",
       "    </tr>\n",
       "    <tr>\n",
       "      <th>999</th>\n",
       "      <td>1</td>\n",
       "      <td>59</td>\n",
       "      <td>20075</td>\n",
       "      <td>8</td>\n",
       "    </tr>\n",
       "  </tbody>\n",
       "</table>\n",
       "</div>"
      ],
      "text/plain": [
       "     gender  age  salary  family_members\n",
       "990       1   84   17055               9\n",
       "991       0   37   24764               6\n",
       "992       1   64   20006               2\n",
       "993       1   62   21356               0\n",
       "994       0   38   20742               5\n",
       "995       1   66   28177               2\n",
       "996       1   67   25364               5\n",
       "997       1   28   27674               6\n",
       "998       1   42   16313               3\n",
       "999       1   59   20075               8"
      ]
     },
     "metadata": {},
     "output_type": "display_data"
    }
   ],
   "source": [
    "# pd.DataFrame\n",
    "columns = ['gender', 'age', 'salary', 'family_members']\n",
    "data = np.array([np.random.choice([0, 1], size=1000), \n",
    "                 np.random.randint(18, 100, 1000), \n",
    "                 np.random.normal(25000, 5000, 1000).astype(int), \n",
    "                 np.random.randint(0, 10, 1000)\n",
    "                ])\n",
    "\n",
    "personal_data = pd.DataFrame(data.T, columns=columns)\n",
    "display(personal_data.tail(10))"
   ]
  },
  {
   "cell_type": "code",
   "execution_count": 37,
   "id": "3cdf802c",
   "metadata": {},
   "outputs": [],
   "source": [
    "X = personal_data.values # < write your code here >"
   ]
  },
  {
   "cell_type": "code",
   "execution_count": 40,
   "id": "b599e985",
   "metadata": {},
   "outputs": [],
   "source": [
    "P = np.random.randint(0,10,(1000,1000))# < write your code here >\n",
    "# < write your code here >"
   ]
  },
  {
   "cell_type": "markdown",
   "id": "f85a36c3",
   "metadata": {},
   "source": [
    "**(Hint:** https://numpy.org/doc/stable/reference/random/generator.html **)**"
   ]
  },
  {
   "cell_type": "code",
   "execution_count": 34,
   "id": "d176fe5d",
   "metadata": {},
   "outputs": [
    {
     "name": "stdout",
     "output_type": "stream",
     "text": [
      "[[     2289    255347 109545591     19865]\n",
      " [     2368    254694 111635388     19871]\n",
      " [     2413    266170 114144193     20552]\n",
      " ...\n",
      " [     2304    266861 115722967     20896]\n",
      " [     2423    269091 116679401     21363]\n",
      " [     2373    262039 113946747     20451]]\n"
     ]
    }
   ],
   "source": [
    "x2= np.dot(P,X) # < write your code here >\n",
    "print(x2)"
   ]
  },
  {
   "cell_type": "code",
   "execution_count": 35,
   "id": "b8ce9d90",
   "metadata": {},
   "outputs": [],
   "source": [
    "\n",
    "X =np.dot(np.linalg.inv(P),x2)"
   ]
  },
  {
   "cell_type": "markdown",
   "id": "0458e01b",
   "metadata": {},
   "source": [
    "#### Can you guess the customers' ages or income after the transformation?"
   ]
  },
  {
   "cell_type": "code",
   "execution_count": 36,
   "id": "5f3b9975",
   "metadata": {},
   "outputs": [
    {
     "data": {
      "text/plain": [
       "<bound method NDFrame.describe of         0       1          2      3\n",
       "0    2289  255347  109545591  19865\n",
       "1    2368  254694  111635388  19871\n",
       "2    2413  266170  114144193  20552\n",
       "3    2561  272728  115679780  20787\n",
       "4    2410  258550  112637552  20284\n",
       "..    ...     ...        ...    ...\n",
       "995  2418  266678  115980515  21174\n",
       "996  2365  260292  113112702  20272\n",
       "997  2304  266861  115722967  20896\n",
       "998  2423  269091  116679401  21363\n",
       "999  2373  262039  113946747  20451\n",
       "\n",
       "[1000 rows x 4 columns]>"
      ]
     },
     "execution_count": 36,
     "metadata": {},
     "output_type": "execute_result"
    }
   ],
   "source": [
    "# Secure Data\n",
    "pd.DataFrame(x2).describe # < write your code here >"
   ]
  },
  {
   "cell_type": "markdown",
   "id": "d121d1e5",
   "metadata": {},
   "source": [
    "#### write your conlusion here\n",
    "..."
   ]
  },
  {
   "cell_type": "markdown",
   "id": "ba51f2eb",
   "metadata": {},
   "source": [
    "#### Can you recover the original data from $X'$ if you know $P$? Try to check that with calculations by moving $P$ from the right side of the formula above to the left one. The rules of matrix multiplication are really helpful here."
   ]
  },
  {
   "cell_type": "code",
   "execution_count": 29,
   "id": "3f6168f0",
   "metadata": {},
   "outputs": [],
   "source": [
    "x_new=np.dot(np.linalg.inv(P),x2)# < write your code here >"
   ]
  },
  {
   "cell_type": "code",
   "execution_count": 30,
   "id": "95cea4ea",
   "metadata": {},
   "outputs": [
    {
     "name": "stdout",
     "output_type": "stream",
     "text": [
      "[[    1    90 31906     9]\n",
      " [    1    55 23880     8]]\n",
      "----------\n",
      "[[     2368    254694 111635388     19871]\n",
      " [     2413    266170 114144193     20552]]\n",
      "----------\n",
      "[[6 0 7 ... 5 2 5]\n",
      " [7 6 0 ... 2 6 9]]\n"
     ]
    }
   ],
   "source": [
    "print(X[1:3])\n",
    "print(10*\"-\")\n",
    "print(x2[1:3])\n",
    "print(10*\"-\")\n",
    "print(P[1:3])# Printing all three cases for a few customers"
   ]
  },
  {
   "cell_type": "code",
   "execution_count": 31,
   "id": "f9e9fada",
   "metadata": {},
   "outputs": [
    {
     "data": {
      "text/html": [
       "<div>\n",
       "<style scoped>\n",
       "    .dataframe tbody tr th:only-of-type {\n",
       "        vertical-align: middle;\n",
       "    }\n",
       "\n",
       "    .dataframe tbody tr th {\n",
       "        vertical-align: top;\n",
       "    }\n",
       "\n",
       "    .dataframe thead th {\n",
       "        text-align: right;\n",
       "    }\n",
       "</style>\n",
       "<table border=\"1\" class=\"dataframe\">\n",
       "  <thead>\n",
       "    <tr style=\"text-align: right;\">\n",
       "      <th></th>\n",
       "      <th>gender</th>\n",
       "      <th>age</th>\n",
       "      <th>salary</th>\n",
       "      <th>family_members</th>\n",
       "    </tr>\n",
       "  </thead>\n",
       "  <tbody>\n",
       "    <tr>\n",
       "      <th>990</th>\n",
       "      <td>1</td>\n",
       "      <td>84</td>\n",
       "      <td>17055</td>\n",
       "      <td>9</td>\n",
       "    </tr>\n",
       "    <tr>\n",
       "      <th>991</th>\n",
       "      <td>0</td>\n",
       "      <td>37</td>\n",
       "      <td>24764</td>\n",
       "      <td>6</td>\n",
       "    </tr>\n",
       "    <tr>\n",
       "      <th>992</th>\n",
       "      <td>1</td>\n",
       "      <td>64</td>\n",
       "      <td>20006</td>\n",
       "      <td>2</td>\n",
       "    </tr>\n",
       "    <tr>\n",
       "      <th>993</th>\n",
       "      <td>1</td>\n",
       "      <td>62</td>\n",
       "      <td>21356</td>\n",
       "      <td>0</td>\n",
       "    </tr>\n",
       "    <tr>\n",
       "      <th>994</th>\n",
       "      <td>0</td>\n",
       "      <td>38</td>\n",
       "      <td>20742</td>\n",
       "      <td>5</td>\n",
       "    </tr>\n",
       "    <tr>\n",
       "      <th>995</th>\n",
       "      <td>1</td>\n",
       "      <td>66</td>\n",
       "      <td>28177</td>\n",
       "      <td>2</td>\n",
       "    </tr>\n",
       "    <tr>\n",
       "      <th>996</th>\n",
       "      <td>1</td>\n",
       "      <td>67</td>\n",
       "      <td>25364</td>\n",
       "      <td>5</td>\n",
       "    </tr>\n",
       "    <tr>\n",
       "      <th>997</th>\n",
       "      <td>1</td>\n",
       "      <td>28</td>\n",
       "      <td>27674</td>\n",
       "      <td>6</td>\n",
       "    </tr>\n",
       "    <tr>\n",
       "      <th>998</th>\n",
       "      <td>1</td>\n",
       "      <td>42</td>\n",
       "      <td>16313</td>\n",
       "      <td>3</td>\n",
       "    </tr>\n",
       "    <tr>\n",
       "      <th>999</th>\n",
       "      <td>1</td>\n",
       "      <td>59</td>\n",
       "      <td>20075</td>\n",
       "      <td>8</td>\n",
       "    </tr>\n",
       "  </tbody>\n",
       "</table>\n",
       "</div>"
      ],
      "text/plain": [
       "     gender  age  salary  family_members\n",
       "990       1   84   17055               9\n",
       "991       0   37   24764               6\n",
       "992       1   64   20006               2\n",
       "993       1   62   21356               0\n",
       "994       0   38   20742               5\n",
       "995       1   66   28177               2\n",
       "996       1   67   25364               5\n",
       "997       1   28   27674               6\n",
       "998       1   42   16313               3\n",
       "999       1   59   20075               8"
      ]
     },
     "execution_count": 31,
     "metadata": {},
     "output_type": "execute_result"
    }
   ],
   "source": [
    "# Original Data\n",
    "personal_data.tail(10)"
   ]
  },
  {
   "cell_type": "code",
   "execution_count": 32,
   "id": "18ebc61a",
   "metadata": {},
   "outputs": [
    {
     "data": {
      "text/html": [
       "<div>\n",
       "<style scoped>\n",
       "    .dataframe tbody tr th:only-of-type {\n",
       "        vertical-align: middle;\n",
       "    }\n",
       "\n",
       "    .dataframe tbody tr th {\n",
       "        vertical-align: top;\n",
       "    }\n",
       "\n",
       "    .dataframe thead th {\n",
       "        text-align: right;\n",
       "    }\n",
       "</style>\n",
       "<table border=\"1\" class=\"dataframe\">\n",
       "  <thead>\n",
       "    <tr style=\"text-align: right;\">\n",
       "      <th></th>\n",
       "      <th>0</th>\n",
       "      <th>1</th>\n",
       "      <th>2</th>\n",
       "      <th>3</th>\n",
       "    </tr>\n",
       "  </thead>\n",
       "  <tbody>\n",
       "    <tr>\n",
       "      <th>990</th>\n",
       "      <td>2318</td>\n",
       "      <td>260691</td>\n",
       "      <td>112920486</td>\n",
       "      <td>20348</td>\n",
       "    </tr>\n",
       "    <tr>\n",
       "      <th>991</th>\n",
       "      <td>2445</td>\n",
       "      <td>271323</td>\n",
       "      <td>118556044</td>\n",
       "      <td>20923</td>\n",
       "    </tr>\n",
       "    <tr>\n",
       "      <th>992</th>\n",
       "      <td>2294</td>\n",
       "      <td>263209</td>\n",
       "      <td>114523483</td>\n",
       "      <td>20886</td>\n",
       "    </tr>\n",
       "    <tr>\n",
       "      <th>993</th>\n",
       "      <td>2265</td>\n",
       "      <td>255640</td>\n",
       "      <td>111558898</td>\n",
       "      <td>20178</td>\n",
       "    </tr>\n",
       "    <tr>\n",
       "      <th>994</th>\n",
       "      <td>2393</td>\n",
       "      <td>263833</td>\n",
       "      <td>114141237</td>\n",
       "      <td>20504</td>\n",
       "    </tr>\n",
       "    <tr>\n",
       "      <th>995</th>\n",
       "      <td>2418</td>\n",
       "      <td>266678</td>\n",
       "      <td>115980515</td>\n",
       "      <td>21174</td>\n",
       "    </tr>\n",
       "    <tr>\n",
       "      <th>996</th>\n",
       "      <td>2365</td>\n",
       "      <td>260292</td>\n",
       "      <td>113112702</td>\n",
       "      <td>20272</td>\n",
       "    </tr>\n",
       "    <tr>\n",
       "      <th>997</th>\n",
       "      <td>2304</td>\n",
       "      <td>266861</td>\n",
       "      <td>115722967</td>\n",
       "      <td>20896</td>\n",
       "    </tr>\n",
       "    <tr>\n",
       "      <th>998</th>\n",
       "      <td>2423</td>\n",
       "      <td>269091</td>\n",
       "      <td>116679401</td>\n",
       "      <td>21363</td>\n",
       "    </tr>\n",
       "    <tr>\n",
       "      <th>999</th>\n",
       "      <td>2373</td>\n",
       "      <td>262039</td>\n",
       "      <td>113946747</td>\n",
       "      <td>20451</td>\n",
       "    </tr>\n",
       "  </tbody>\n",
       "</table>\n",
       "</div>"
      ],
      "text/plain": [
       "        0       1          2      3\n",
       "990  2318  260691  112920486  20348\n",
       "991  2445  271323  118556044  20923\n",
       "992  2294  263209  114523483  20886\n",
       "993  2265  255640  111558898  20178\n",
       "994  2393  263833  114141237  20504\n",
       "995  2418  266678  115980515  21174\n",
       "996  2365  260292  113112702  20272\n",
       "997  2304  266861  115722967  20896\n",
       "998  2423  269091  116679401  21363\n",
       "999  2373  262039  113946747  20451"
      ]
     },
     "execution_count": 32,
     "metadata": {},
     "output_type": "execute_result"
    }
   ],
   "source": [
    "# Secure Data\n",
    "pd.DataFrame(x2).tail(10)  # < write your code here >"
   ]
  },
  {
   "cell_type": "code",
   "execution_count": 33,
   "id": "4e3cbc0f",
   "metadata": {},
   "outputs": [
    {
     "data": {
      "text/html": [
       "<div>\n",
       "<style scoped>\n",
       "    .dataframe tbody tr th:only-of-type {\n",
       "        vertical-align: middle;\n",
       "    }\n",
       "\n",
       "    .dataframe tbody tr th {\n",
       "        vertical-align: top;\n",
       "    }\n",
       "\n",
       "    .dataframe thead th {\n",
       "        text-align: right;\n",
       "    }\n",
       "</style>\n",
       "<table border=\"1\" class=\"dataframe\">\n",
       "  <thead>\n",
       "    <tr style=\"text-align: right;\">\n",
       "      <th></th>\n",
       "      <th>0</th>\n",
       "      <th>1</th>\n",
       "      <th>2</th>\n",
       "      <th>3</th>\n",
       "    </tr>\n",
       "  </thead>\n",
       "  <tbody>\n",
       "    <tr>\n",
       "      <th>990</th>\n",
       "      <td>1</td>\n",
       "      <td>84</td>\n",
       "      <td>17055</td>\n",
       "      <td>9</td>\n",
       "    </tr>\n",
       "    <tr>\n",
       "      <th>991</th>\n",
       "      <td>0</td>\n",
       "      <td>37</td>\n",
       "      <td>24764</td>\n",
       "      <td>6</td>\n",
       "    </tr>\n",
       "    <tr>\n",
       "      <th>992</th>\n",
       "      <td>0</td>\n",
       "      <td>63</td>\n",
       "      <td>20005</td>\n",
       "      <td>1</td>\n",
       "    </tr>\n",
       "    <tr>\n",
       "      <th>993</th>\n",
       "      <td>1</td>\n",
       "      <td>62</td>\n",
       "      <td>21356</td>\n",
       "      <td>0</td>\n",
       "    </tr>\n",
       "    <tr>\n",
       "      <th>994</th>\n",
       "      <td>0</td>\n",
       "      <td>37</td>\n",
       "      <td>20741</td>\n",
       "      <td>4</td>\n",
       "    </tr>\n",
       "    <tr>\n",
       "      <th>995</th>\n",
       "      <td>0</td>\n",
       "      <td>65</td>\n",
       "      <td>28176</td>\n",
       "      <td>1</td>\n",
       "    </tr>\n",
       "    <tr>\n",
       "      <th>996</th>\n",
       "      <td>0</td>\n",
       "      <td>66</td>\n",
       "      <td>25363</td>\n",
       "      <td>4</td>\n",
       "    </tr>\n",
       "    <tr>\n",
       "      <th>997</th>\n",
       "      <td>1</td>\n",
       "      <td>28</td>\n",
       "      <td>27674</td>\n",
       "      <td>6</td>\n",
       "    </tr>\n",
       "    <tr>\n",
       "      <th>998</th>\n",
       "      <td>1</td>\n",
       "      <td>42</td>\n",
       "      <td>16313</td>\n",
       "      <td>3</td>\n",
       "    </tr>\n",
       "    <tr>\n",
       "      <th>999</th>\n",
       "      <td>0</td>\n",
       "      <td>58</td>\n",
       "      <td>20074</td>\n",
       "      <td>7</td>\n",
       "    </tr>\n",
       "  </tbody>\n",
       "</table>\n",
       "</div>"
      ],
      "text/plain": [
       "     0   1      2  3\n",
       "990  1  84  17055  9\n",
       "991  0  37  24764  6\n",
       "992  0  63  20005  1\n",
       "993  1  62  21356  0\n",
       "994  0  37  20741  4\n",
       "995  0  65  28176  1\n",
       "996  0  66  25363  4\n",
       "997  1  28  27674  6\n",
       "998  1  42  16313  3\n",
       "999  0  58  20074  7"
      ]
     },
     "execution_count": 33,
     "metadata": {},
     "output_type": "execute_result"
    }
   ],
   "source": [
    "# Recovered Data\n",
    "pd.set_option('display.float_format', '{:.2f}'.format)\n",
    "pd.DataFrame(x_new).astype('int').tail(10) # < write your code here >"
   ]
  },
  {
   "cell_type": "markdown",
   "id": "68365690",
   "metadata": {},
   "source": [
    "#### write your conlusion here\n",
    "..."
   ]
  },
  {
   "cell_type": "markdown",
   "id": "93339dd4",
   "metadata": {},
   "source": [
    "---"
   ]
  },
  {
   "cell_type": "markdown",
   "id": "01c5dc45",
   "metadata": {},
   "source": [
    "# USEFUL INFORMATIONS"
   ]
  },
  {
   "cell_type": "markdown",
   "id": "9cd2c885",
   "metadata": {},
   "source": [
    "##### Matrices and Matrix Operations"
   ]
  },
  {
   "cell_type": "markdown",
   "id": "2bcc9af1",
   "metadata": {},
   "source": [
    "- **A matrix** is a rectangular numeric table or two-dimensional array consisting of m rows and n columns.\n",
    "- **A transpose of the matrix** is a matrix operation when its rows become columns with the same numbers.- **Dummy code** is a simple code that doesn't mean anything.\n",
    "- **An identity matrix** is a square matrix with ones on the main diagonal and zeros elsewhere.\n",
    "- **An inverse matrix** for a square matrix A is a matrix A with a superscript -1 whose product with A is equal to the identity matrix.\n",
    "- **Invertible matrices** are matrices that have an inverse.\n",
    "- **Non-invertible** are matrices that don't have an inverse."
   ]
  },
  {
   "cell_type": "markdown",
   "id": "0bd1b364",
   "metadata": {},
   "source": [
    "# Properties of Matrices"
   ]
  },
  {
   "cell_type": "markdown",
   "id": "36b51f47",
   "metadata": {},
   "source": [
    "Matrices have many properties in Linear Algebra. A few of them are listed here which can help with the analytical proof in this project."
   ]
  },
  {
   "cell_type": "markdown",
   "id": "10f0d02f",
   "metadata": {},
   "source": [
    "<table>\n",
    "<tr>\n",
    "<td>Distributivity</td><td>$A(B+C)=AB+AC$</td>\n",
    "</tr>\n",
    "<tr>\n",
    "<td>Non-commutativity</td><td>$AB \\neq BA$</td>\n",
    "</tr>\n",
    "<tr>\n",
    "<td>Associative property of multiplication</td><td>$(AB)C = A(BC)$</td>\n",
    "</tr>\n",
    "<tr>\n",
    "<td>Multiplicative identity property</td><td>$IA = AI = A$</td>\n",
    "</tr>\n",
    "<tr>\n",
    "<td></td><td>$A^{-1}A = AA^{-1} = I$\n",
    "</td>\n",
    "</tr>    \n",
    "<tr>\n",
    "<td></td><td>$(AB)^{-1} = B^{-1}A^{-1}$</td>\n",
    "</tr>    \n",
    "<tr>\n",
    "<td>Reversivity of the transpose of a product of matrices,</td><td>$(AB)^T = B^TA^T$</td>\n",
    "</tr>    \n",
    "</table>"
   ]
  },
  {
   "cell_type": "markdown",
   "id": "d6d9e37a",
   "metadata": {},
   "source": [
    "---"
   ]
  }
 ],
 "metadata": {
  "kernelspec": {
   "display_name": "Python 3 (ipykernel)",
   "language": "python",
   "name": "python3"
  },
  "language_info": {
   "codemirror_mode": {
    "name": "ipython",
    "version": 3
   },
   "file_extension": ".py",
   "mimetype": "text/x-python",
   "name": "python",
   "nbconvert_exporter": "python",
   "pygments_lexer": "ipython3",
   "version": "3.9.13"
  }
 },
 "nbformat": 4,
 "nbformat_minor": 5
}
