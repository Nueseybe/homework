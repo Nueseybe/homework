{
 "cells": [
  {
   "cell_type": "markdown",
   "id": "977e547b",
   "metadata": {},
   "source": [
    "# NumPy Homework"
   ]
  },
  {
   "cell_type": "markdown",
   "id": "3c85fee1",
   "metadata": {},
   "source": [
    "# A"
   ]
  },
  {
   "cell_type": "markdown",
   "id": "0a843feb",
   "metadata": {},
   "source": [
    "## 1) import numpy library with his usual alias!"
   ]
  },
  {
   "cell_type": "code",
   "execution_count": null,
   "id": "bb73d452",
   "metadata": {},
   "outputs": [],
   "source": [
    "import numpy as np\n",
    "import pandas as pd\n",
    "import matplotlib.pyplot as plt\n",
    "from IPython.display import display"
   ]
  },
  {
   "cell_type": "markdown",
   "id": "249dc882",
   "metadata": {},
   "source": [
    "## 2) Create a random matrix, which has 2 columns and 20 rows. With this we will then create a pandas DataFrame!"
   ]
  },
  {
   "cell_type": "code",
   "execution_count": null,
   "id": "48a57318",
   "metadata": {},
   "outputs": [],
   "source": [
    "ratings_values = np.random.random(size=(20,2))*10  \n",
    "# sorry, this is my fault! these numbers should be within 10 and 100 as integers to show the ratings!\n",
    "# so, you can use the following code snippet\n",
    "# ratings_values = np.random.randint(10, 100, (20,2))  # it's better to use this code\n",
    "\n",
    "ratings = pd.DataFrame(ratings_values, columns=['Price', 'Quality'])\n",
    "print(ratings_values)\n",
    "print()\n",
    "display(ratings)"
   ]
  },
  {
   "cell_type": "markdown",
   "id": "30418e69",
   "metadata": {},
   "source": [
    "## 3) Create two vectors from the previous DataFrame. We will use the same values from the previous DataFrame which we already have been created. The first one contains the evaluations which show the customer satisfaction for the prices, and the second one contains for the quality. How big how good! We will then print the vectors.\n",
    "\n",
    "##### Hint: pd.DataFrame['column_name'] gives us a Series from a DataFrame. We can use it with the same functions as DataFrames."
   ]
  },
  {
   "cell_type": "code",
   "execution_count": null,
   "id": "e6788ed8",
   "metadata": {},
   "outputs": [],
   "source": [
    "price =  ratings [\"Price\"] #\n",
    "quality = ratings [\"Quality\"] #\n",
    "# they should be vectors, so numpy arrays\n",
    "# we have to convert them with 'pd.Series.values'\n",
    "# you can use the following code snippets\n",
    "\n",
    "# price =  ratings['Price'].values\n",
    "# quality = ratings['Quality'].values\n",
    "# type(ratings [\"Price\"])\n",
    "\n",
    "print('Price: ', price)\n",
    "print('Quality: ', quality)"
   ]
  },
  {
   "attachments": {},
   "cell_type": "markdown",
   "id": "31c5c59a",
   "metadata": {},
   "source": [
    "* _We must see here numpy array, not pandas series. Please use \".values\" in your code to convert them._ *"
   ]
  },
  {
   "cell_type": "markdown",
   "id": "549889fe",
   "metadata": {},
   "source": [
    "## 4) Find the total numbers of visitors."
   ]
  },
  {
   "cell_type": "code",
   "execution_count": null,
   "id": "4c453a33",
   "metadata": {},
   "outputs": [],
   "source": [
    "visitors_count = len(ratings) # good\n",
    "print('Number of visitors:', visitors_count)"
   ]
  },
  {
   "cell_type": "markdown",
   "id": "ba39a7bf",
   "metadata": {},
   "source": [
    "## 5) Find and print the average ratings for each column using numpy functions (we will find the mean and median values)"
   ]
  },
  {
   "cell_type": "code",
   "execution_count": null,
   "id": "6e62b45d",
   "metadata": {},
   "outputs": [],
   "source": [
    "print('The mean of the price ratings: ', ratings[\"Price\"].mean()) #\n",
    "print('The median of the price ratings', ratings[\"Price\"].median()) #\n",
    "\n",
    "print('The mean of the quality ratings: ', ratings[\"Quality\"].mean()) #\n",
    "print('The median of the quality ratings',ratings[\"Quality\"].median()) #\n",
    "\n",
    "\n",
    "# Also here, we had to use numpy functions, but these are pandas functions. *\n",
    "\"\"\"\n",
    "\n",
    "print('The mean of the price ratings: ', np.mean(price)) # < write your code here >\n",
    "print('The median of the price ratings', np.median(price)) # < write your code here >\n",
    "\n",
    "print('The mean of the quality ratings: ', np.mean(quality)) # < write your code here >\n",
    "print('The median of the quality ratings', np.median(quality)) # < write your code here >\n",
    "\"\"\""
   ]
  },
  {
   "cell_type": "markdown",
   "id": "c35ee8b8",
   "metadata": {},
   "source": []
  },
  {
   "cell_type": "markdown",
   "id": "1ff9799a",
   "metadata": {},
   "source": [
    "## 6) Create a new vector which is the average of the ratings of two columns, price and quality. We will name it as mean_ratings. It will show the average rating for each customer. Round elements of the array to the nearest integer."
   ]
  },
  {
   "cell_type": "code",
   "execution_count": null,
   "id": "92fddb95",
   "metadata": {},
   "outputs": [],
   "source": [
    "mean_ratings = np.array(np.rint(np.mean(np.array([ratings.Price,ratings.Quality]), axis=0))) #\n",
    "print(mean_ratings)\n",
    "\n",
    "\n",
    "# np.rint((price + quality) / 2)\n",
    "# to be able to use this code snippet, they should to be numpy arrays! "
   ]
  },
  {
   "cell_type": "markdown",
   "id": "ed221fa4",
   "metadata": {},
   "source": [
    "## 7) Create ratings_values matrix again with the all three vectors. Average ratings, which has just been calculated in the previous exercise, should be the third column of the new matrix. All values in the matrix should be integer! New matrix should have 20 rows and 3 columns!"
   ]
  },
  {
   "cell_type": "code",
   "execution_count": null,
   "id": "074a8fae",
   "metadata": {},
   "outputs": [],
   "source": [
    "# new_ratings_values =  np.concatenate([ratings, mean_ratings], axis=0) #\n",
    "new_ratings_values = (pd.DataFrame({\"Price\" : ratings.Price, \"Quality\": ratings.Quality,\"Mean_Ratings\" : np.array(mean_ratings) })).values\n",
    "# we will already use it in the next step, so here I mean only to create a new matrix from the columns.\n",
    "\"\"\"\n",
    "new_ratings_values = np.array([price, quality, mean_ratings], dtype = \"int\").T\n",
    "\"\"\"\n",
    "\n",
    "print(new_ratings_values)\n",
    "print(type(new_ratings_values))\n",
    "print(new_ratings_values.shape)"
   ]
  },
  {
   "cell_type": "code",
   "execution_count": null,
   "id": "cb275581",
   "metadata": {},
   "outputs": [],
   "source": [
    "new_ratings = pd.DataFrame(new_ratings_values, columns=['Price', 'Quality', 'Average'])\n",
    "display(new_ratings)"
   ]
  },
  {
   "cell_type": "markdown",
   "id": "0a77d801",
   "metadata": {},
   "source": [
    "# B"
   ]
  },
  {
   "cell_type": "markdown",
   "id": "34c6abac",
   "metadata": {},
   "source": [
    "## 1) Create *Mean Absolute Error (MAE)* function\n",
    "\n",
    "\\begin{equation}\n",
    "MAE=\\frac{1}{n}\\sum_{i=1}^n|target_i - predictions_i|\n",
    "\\end{equation}"
   ]
  },
  {
   "cell_type": "code",
   "execution_count": null,
   "id": "44680fb4",
   "metadata": {},
   "outputs": [],
   "source": [
    "def mae(target, predictions):\n",
    "    return abs(target - predictions).mean() # it should be np.abs(), not abs()"
   ]
  },
  {
   "cell_type": "markdown",
   "id": "a9503f14",
   "metadata": {},
   "source": [
    "## 2) Create two arrays each of them has $100$ observations. We will use them for *target* and *predictions* labelling. The target array should consist only $0$ or $1$ values which are random created, while predictions only integer $1$. The target array should have a *binomial distribution* which gives $1$ with $60$% probability."
   ]
  },
  {
   "cell_type": "code",
   "execution_count": null,
   "id": "e1f48173",
   "metadata": {},
   "outputs": [],
   "source": [
    "# target = np.random.randint(0, 2, (100,)) # \n",
    "target = np.random.binomial(1, 0.6, 100)\n",
    "predictions = np.ones(100, dtype = int) # well done\n",
    "\n",
    "print(target)\n",
    "print()\n",
    "print(predictions)"
   ]
  },
  {
   "cell_type": "markdown",
   "id": "08a52b61",
   "metadata": {},
   "source": [
    "## 3) Find the *MAE* with your mae function"
   ]
  },
  {
   "cell_type": "code",
   "execution_count": null,
   "id": "7ed87f1b",
   "metadata": {},
   "outputs": [],
   "source": [
    "mean_absolute_error = mae(target,predictions) # good"
   ]
  },
  {
   "cell_type": "markdown",
   "id": "83589d76",
   "metadata": {},
   "source": [
    "## 4)  Run the code in this step. Observe the printed outputs. Try to run the codes a few times from step 2. What do you think about the results? Give your thoughts shortly with 3 - 5 sentences about why two outputs are the same. What is your conclusion?"
   ]
  },
  {
   "cell_type": "code",
   "execution_count": null,
   "id": "8116dd9a",
   "metadata": {},
   "outputs": [],
   "source": [
    "print(1-np.mean(target))\n",
    "\n",
    "print(mean_absolute_error)"
   ]
  },
  {
   "attachments": {},
   "cell_type": "markdown",
   "id": "b8c6a06b",
   "metadata": {},
   "source": [
    " ### While the first one calculates exact result of target's average from 1, the second one gives a measure of the average size of the mistakes in a collection of predictions, without taking their direction into account. It is measured as the average absolute difference between the predicted values and the actual values."
   ]
  },
  {
   "cell_type": "markdown",
   "id": "223feb67",
   "metadata": {},
   "source": [
    "## 5) We have always chosen $1$ in our predictions, but the actual values at the target have changed each time. How likely is it that we got it right each time, and what determines this?"
   ]
  },
  {
   "cell_type": "markdown",
   "id": "c905b8d7",
   "metadata": {},
   "source": [
    "### ???? "
   ]
  },
  {
   "cell_type": "markdown",
   "id": "3207c6b9",
   "metadata": {},
   "source": [
    "# C"
   ]
  },
  {
   "cell_type": "markdown",
   "id": "209ef743",
   "metadata": {},
   "source": [
    "## 1) Create a Pythagorean function using *np.dot()* to calculate vector length\n",
    "\n",
    "$$v = [x, y] ==> len_v = \\sqrt{x^2+y^2}$$"
   ]
  },
  {
   "cell_type": "code",
   "execution_count": null,
   "id": "fdb7e6eb",
   "metadata": {},
   "outputs": [],
   "source": [
    "def pythagorean_length(vector):\n",
    "    return np.dot(vector,vector)**0.5 #"
   ]
  },
  {
   "cell_type": "markdown",
   "id": "66c9d923",
   "metadata": {},
   "source": [
    "## 2) Calculate the length of the given vector using your *pythagorean_length* function and check your result comparing with the given"
   ]
  },
  {
   "cell_type": "code",
   "execution_count": null,
   "id": "91f1490e",
   "metadata": {},
   "outputs": [],
   "source": [
    "a = np.array([3, 4])\n",
    "\n",
    "print(pythagorean_length(a)) # \n",
    "\n",
    "print(((a[0] ** 2) + (a[1] ** 2)) ** 0.5)"
   ]
  },
  {
   "cell_type": "markdown",
   "id": "83e04ecb",
   "metadata": {},
   "source": [
    "## 3) Find the shortest distance (Euclidean distance) using *np.dot()* between the given two vectors and compare the results to check"
   ]
  },
  {
   "cell_type": "code",
   "execution_count": null,
   "id": "894a6dbf",
   "metadata": {},
   "outputs": [],
   "source": [
    "a = np.array([5, 6])\n",
    "b = np.array([1, 3])\n",
    "\n",
    "d = a-b\n",
    "c = np.sqrt(np.dot(d.T, d)) #\n",
    "print('The distance between a and b is', c)\n",
    "\n",
    "from scipy.spatial import distance\n",
    "print('The distance between a and b should be', distance.euclidean(a, b))"
   ]
  },
  {
   "cell_type": "markdown",
   "id": "7cc6aed5",
   "metadata": {},
   "source": [
    "# D - Obfuscating Data"
   ]
  },
  {
   "cell_type": "markdown",
   "id": "d1067272",
   "metadata": {},
   "source": [
    "It is best to obfuscate data by multiplying the numerical features (they can be seen as the matrix $X$) by an invertible matrix $P$. \n",
    "\n",
    "$$\n",
    "X' = X \\times P\n",
    "$$\n",
    "\n",
    "Try to do that and check how the features' values will look like after the transformation. By the way, the invertible property is important here so make sure that $P$ is indeed invertible."
   ]
  },
  {
   "attachments": {},
   "cell_type": "markdown",
   "metadata": {},
   "source": [
    "## 1) Protect customers' personal data. It is necessary to develop a data transformation algorithm that makes it difficult to recover personal information in case the data falls into the wrong hands. This is called data masking or data obfuscation. However, the data must be protected in such a way that the quality of the machine learning models does not suffer. You don't need to choose the best model, just prove that the algorithm works correctly."
   ]
  },
  {
   "cell_type": "code",
   "execution_count": null,
   "id": "167c61ea",
   "metadata": {},
   "outputs": [],
   "source": [
    "# pd.DataFrame\n",
    "columns = ['gender', 'age', 'salary', 'family_members']\n",
    "data = np.array([np.random.choice([0, 1], size=1000), \n",
    "                 np.random.randint(18, 100, 1000), \n",
    "                 np.random.normal(25000, 5000, 1000).astype(int), \n",
    "                 np.random.randint(0, 10, 1000)\n",
    "                ])\n",
    "\n",
    "personal_data = pd.DataFrame(data.T, columns=columns)\n",
    "display(personal_data.tail(10))"
   ]
  },
  {
   "cell_type": "code",
   "execution_count": null,
   "id": "3cdf802c",
   "metadata": {},
   "outputs": [],
   "source": [
    "\"\"\"\n",
    "X = personal_data.values #\n",
    "\"\"\""
   ]
  },
  {
   "cell_type": "code",
   "execution_count": null,
   "id": "9c0d6f61",
   "metadata": {},
   "outputs": [],
   "source": [
    "# numpy-matrix convertion\n",
    "X = personal_data.values  # or X = personal_data.to_numpy()"
   ]
  },
  {
   "cell_type": "code",
   "execution_count": null,
   "id": "aee88f50",
   "metadata": {},
   "outputs": [],
   "source": [
    "X"
   ]
  },
  {
   "cell_type": "code",
   "execution_count": null,
   "id": "b599e985",
   "metadata": {},
   "outputs": [],
   "source": [
    "\"\"\"\n",
    "# P = np.random.randint(0,10,(1000,4)) # \n",
    "# X2 = X * P # \n",
    "P = np.random.randint(0,10,(1000,1000)) #\n",
    "X2 = data.dot(P) #\n",
    "\"\"\""
   ]
  },
  {
   "cell_type": "code",
   "execution_count": null,
   "id": "2fb5664a",
   "metadata": {},
   "outputs": [],
   "source": [
    "# generating a 4x4 random matrix P to multiply by X.\n",
    "rng = np.random.default_rng(seed=42)  # < write your code here >\n",
    "P = rng.random(size=(X.shape[1], X.shape[1]))  # < write your code here >"
   ]
  },
  {
   "cell_type": "code",
   "execution_count": null,
   "id": "adae2cd0",
   "metadata": {},
   "outputs": [],
   "source": [
    "P"
   ]
  },
  {
   "cell_type": "markdown",
   "id": "f85a36c3",
   "metadata": {},
   "source": [
    "**(Hint:** https://numpy.org/doc/stable/reference/random/generator.html **)**"
   ]
  },
  {
   "cell_type": "code",
   "execution_count": null,
   "id": "d176fe5d",
   "metadata": {},
   "outputs": [],
   "source": [
    "'''\n",
    "secured_data = pd.DataFrame(X2.T, columns=columns) #\n",
    "'''"
   ]
  },
  {
   "cell_type": "code",
   "execution_count": null,
   "id": "05a6770e",
   "metadata": {},
   "outputs": [],
   "source": [
    "# checking whether the matrix P is invertible\n",
    "P_inv = np.linalg.inv(P)  # < write your code here >\n",
    "P"
   ]
  },
  {
   "cell_type": "code",
   "execution_count": null,
   "id": "95afb0d6",
   "metadata": {},
   "outputs": [],
   "source": [
    "# Transformation of X\n",
    "X_secure = X @ P  # < write your code here >\n",
    "X_secure"
   ]
  },
  {
   "cell_type": "code",
   "execution_count": null,
   "id": "b8ce9d90",
   "metadata": {},
   "outputs": [],
   "source": [
    "\"\"\"\n",
    "display(secured_data.tail(10)) #\n",
    "\"\"\""
   ]
  },
  {
   "attachments": {},
   "cell_type": "markdown",
   "id": "0458e01b",
   "metadata": {},
   "source": [
    "## 2) Can you guess the customers' ages or income after the transformation?"
   ]
  },
  {
   "cell_type": "code",
   "execution_count": null,
   "id": "5f3b9975",
   "metadata": {},
   "outputs": [],
   "source": [
    "\"\"\"\n",
    "# Secure Data\n",
    "pd.DataFrame(secured_data).describe() # < write your code here >\n",
    "\"\"\""
   ]
  },
  {
   "cell_type": "code",
   "execution_count": null,
   "id": "d4b6f924",
   "metadata": {},
   "outputs": [],
   "source": [
    "# showing Secure Data with describe\n",
    "pd.DataFrame(X_secure).describe()  # < write your code here >"
   ]
  },
  {
   "attachments": {},
   "cell_type": "markdown",
   "id": "d121d1e5",
   "metadata": {},
   "source": [
    "#### write your conlusion here\n",
    "It's not possible to guess the ages or income after the transformationç"
   ]
  },
  {
   "cell_type": "markdown",
   "id": "ba51f2eb",
   "metadata": {},
   "source": [
    "## 3) Can you recover the original data from $X'$ if you know $P$? Try to check that with calculations by moving $P$ from the right side of the formula above to the left one. The rules of matrix multiplication are helpful here."
   ]
  },
  {
   "cell_type": "code",
   "execution_count": null,
   "id": "3f6168f0",
   "metadata": {},
   "outputs": [],
   "source": [
    "'''\n",
    "renewed_data = P.dot(X2.T) # < write your code here >\n",
    "'''"
   ]
  },
  {
   "cell_type": "code",
   "execution_count": null,
   "id": "81ca3b68",
   "metadata": {},
   "outputs": [],
   "source": [
    "# recovering X using multiplication with P_inv and storing new result in X_rec.\n",
    "X_rec = X_secure @ P_inv\n",
    "X_rec"
   ]
  },
  {
   "cell_type": "code",
   "execution_count": null,
   "id": "95cea4ea",
   "metadata": {},
   "outputs": [],
   "source": [
    "# Printing all three cases for a few customers"
   ]
  },
  {
   "cell_type": "code",
   "execution_count": null,
   "id": "f9e9fada",
   "metadata": {},
   "outputs": [],
   "source": [
    "# Original Data\n",
    "personal_data.tail(10)"
   ]
  },
  {
   "cell_type": "code",
   "execution_count": null,
   "id": "ebc08cf0",
   "metadata": {},
   "outputs": [],
   "source": []
  },
  {
   "cell_type": "code",
   "execution_count": null,
   "id": "18ebc61a",
   "metadata": {},
   "outputs": [],
   "source": [
    "\"\"\"\n",
    "# Secure Data\n",
    "pd.DataFrame(secured_data).tail(10)  # < write your code here >\n",
    "\"\"\""
   ]
  },
  {
   "cell_type": "code",
   "execution_count": null,
   "id": "bb7c0f33",
   "metadata": {},
   "outputs": [],
   "source": [
    "pd.DataFrame(X_secure).tail(10)  # Secure Data"
   ]
  },
  {
   "cell_type": "code",
   "execution_count": null,
   "id": "4e3cbc0f",
   "metadata": {},
   "outputs": [],
   "source": [
    "\"\"\"\n",
    "# Recovered Data\n",
    "pd.set_option('display.float_format', '{:.2f}'.format)\n",
    "pd.DataFrame(renewed_data).astype('int').tail(10) # \n",
    "\"\"\""
   ]
  },
  {
   "cell_type": "code",
   "execution_count": null,
   "id": "9292b168",
   "metadata": {},
   "outputs": [],
   "source": [
    "pd.DataFrame(X_rec).astype('int').tail(10)  # Recovered Data"
   ]
  },
  {
   "attachments": {},
   "cell_type": "markdown",
   "id": "68365690",
   "metadata": {},
   "source": [
    "#### It's possible to recover data from secured data using dot method in reverse."
   ]
  },
  {
   "attachments": {},
   "cell_type": "markdown",
   "id": "bef20dc1",
   "metadata": {},
   "source": [
    "# Yes, it's possible, you're alright! Maybe not precies, but it can. But if it is possible, then why we couldn't see the original data after the transformation to the original? Could you check the codes and give your markings in every step?"
   ]
  },
  {
   "cell_type": "markdown",
   "id": "93339dd4",
   "metadata": {},
   "source": [
    "---"
   ]
  },
  {
   "cell_type": "markdown",
   "id": "01c5dc45",
   "metadata": {},
   "source": [
    "# USEFUL INFORMATIONS"
   ]
  },
  {
   "cell_type": "markdown",
   "id": "9cd2c885",
   "metadata": {},
   "source": [
    "##### Matrices and Matrix Operations"
   ]
  },
  {
   "cell_type": "markdown",
   "id": "2bcc9af1",
   "metadata": {},
   "source": [
    "- **A matrix** is a rectangular numeric table or two-dimensional array consisting of m rows and n columns.\n",
    "- **A transpose of the matrix** is a matrix operation when its rows become columns with the same numbers.- **Dummy code** is a simple code that doesn't mean anything.\n",
    "- **An identity matrix** is a square matrix with ones on the main diagonal and zeros elsewhere.\n",
    "- **An inverse matrix** for a square matrix A is a matrix A with a superscript -1 whose product with A is equal to the identity matrix.\n",
    "- **Invertible matrices** are matrices that have an inverse.\n",
    "- **Non-invertible** are matrices that don't have an inverse."
   ]
  },
  {
   "cell_type": "markdown",
   "id": "0bd1b364",
   "metadata": {},
   "source": [
    "# Properties of Matrices"
   ]
  },
  {
   "cell_type": "markdown",
   "id": "36b51f47",
   "metadata": {},
   "source": [
    "Matrices have many properties in Linear Algebra. A few of them are listed here which can help with the analytical proof in this project."
   ]
  },
  {
   "cell_type": "markdown",
   "id": "10f0d02f",
   "metadata": {},
   "source": [
    "<table>\n",
    "<tr>\n",
    "<td>Distributivity</td><td>$A(B+C)=AB+AC$</td>\n",
    "</tr>\n",
    "<tr>\n",
    "<td>Non-commutativity</td><td>$AB \\neq BA$</td>\n",
    "</tr>\n",
    "<tr>\n",
    "<td>Associative property of multiplication</td><td>$(AB)C = A(BC)$</td>\n",
    "</tr>\n",
    "<tr>\n",
    "<td>Multiplicative identity property</td><td>$IA = AI = A$</td>\n",
    "</tr>\n",
    "<tr>\n",
    "<td></td><td>$A^{-1}A = AA^{-1} = I$\n",
    "</td>\n",
    "</tr>    \n",
    "<tr>\n",
    "<td></td><td>$(AB)^{-1} = B^{-1}A^{-1}$</td>\n",
    "</tr>    \n",
    "<tr>\n",
    "<td>Reversivity of the transpose of a product of matrices,</td><td>$(AB)^T = B^TA^T$</td>\n",
    "</tr>    \n",
    "</table>"
   ]
  },
  {
   "cell_type": "markdown",
   "id": "d6d9e37a",
   "metadata": {},
   "source": [
    "---"
   ]
  }
 ],
 "metadata": {
  "kernelspec": {
   "display_name": "Python 3 (ipykernel)",
   "language": "python",
   "name": "python3"
  },
  "language_info": {
   "codemirror_mode": {
    "name": "ipython",
    "version": 3
   },
   "file_extension": ".py",
   "mimetype": "text/x-python",
   "name": "python",
   "nbconvert_exporter": "python",
   "pygments_lexer": "ipython3",
   "version": "3.11.1"
  }
 },
 "nbformat": 4,
 "nbformat_minor": 5
}
