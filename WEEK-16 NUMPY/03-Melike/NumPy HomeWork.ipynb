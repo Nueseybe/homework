{
 "cells": [
  {
   "cell_type": "markdown",
   "id": "977e547b",
   "metadata": {},
   "source": [
    "# NumPy Homework"
   ]
  },
  {
   "cell_type": "markdown",
   "id": "3c85fee1",
   "metadata": {},
   "source": [
    "# A"
   ]
  },
  {
   "cell_type": "markdown",
   "id": "0a843feb",
   "metadata": {},
   "source": [
    "## 1) import numpy library with his usual alias!"
   ]
  },
  {
   "cell_type": "code",
   "execution_count": 2,
   "id": "bb73d452",
   "metadata": {},
   "outputs": [],
   "source": [
    "import numpy as np #\n",
    "import pandas as pd\n",
    "import matplotlib.pyplot as plt\n",
    "from IPython.display import display"
   ]
  },
  {
   "cell_type": "markdown",
   "id": "249dc882",
   "metadata": {},
   "source": [
    "## 2) Create a random matrix, which has 2 columns and 20 rows. With this we will then create a pandas DataFrame!"
   ]
  },
  {
   "cell_type": "code",
   "execution_count": 39,
   "id": "48a57318",
   "metadata": {},
   "outputs": [
    {
     "name": "stdout",
     "output_type": "stream",
     "text": [
      "[[2.78552578 6.76237114]\n",
      " [1.29556217 2.19169858]\n",
      " [1.96261895 7.39637869]\n",
      " [8.38245171 0.43291589]\n",
      " [9.35056461 0.83823809]\n",
      " [9.87690607 4.16852852]\n",
      " [7.43611059 3.19219124]\n",
      " [9.24183951 2.6868886 ]\n",
      " [5.28148368 8.62876148]\n",
      " [4.73433137 7.5720969 ]\n",
      " [6.00970929 4.03913885]\n",
      " [1.54357297 5.17878211]\n",
      " [3.54737176 7.65847087]\n",
      " [6.09444132 4.06777339]\n",
      " [0.56124415 1.31552781]\n",
      " [4.68965077 5.50203109]\n",
      " [1.32903723 2.62044216]\n",
      " [4.71384363 7.22338812]\n",
      " [1.31055461 6.60647855]\n",
      " [5.41498278 2.09583631]]\n",
      "\n"
     ]
    },
    {
     "data": {
      "text/html": [
       "<div>\n",
       "<style scoped>\n",
       "    .dataframe tbody tr th:only-of-type {\n",
       "        vertical-align: middle;\n",
       "    }\n",
       "\n",
       "    .dataframe tbody tr th {\n",
       "        vertical-align: top;\n",
       "    }\n",
       "\n",
       "    .dataframe thead th {\n",
       "        text-align: right;\n",
       "    }\n",
       "</style>\n",
       "<table border=\"1\" class=\"dataframe\">\n",
       "  <thead>\n",
       "    <tr style=\"text-align: right;\">\n",
       "      <th></th>\n",
       "      <th>Price</th>\n",
       "      <th>Quality</th>\n",
       "    </tr>\n",
       "  </thead>\n",
       "  <tbody>\n",
       "    <tr>\n",
       "      <th>0</th>\n",
       "      <td>2.785526</td>\n",
       "      <td>6.762371</td>\n",
       "    </tr>\n",
       "    <tr>\n",
       "      <th>1</th>\n",
       "      <td>1.295562</td>\n",
       "      <td>2.191699</td>\n",
       "    </tr>\n",
       "    <tr>\n",
       "      <th>2</th>\n",
       "      <td>1.962619</td>\n",
       "      <td>7.396379</td>\n",
       "    </tr>\n",
       "    <tr>\n",
       "      <th>3</th>\n",
       "      <td>8.382452</td>\n",
       "      <td>0.432916</td>\n",
       "    </tr>\n",
       "    <tr>\n",
       "      <th>4</th>\n",
       "      <td>9.350565</td>\n",
       "      <td>0.838238</td>\n",
       "    </tr>\n",
       "    <tr>\n",
       "      <th>5</th>\n",
       "      <td>9.876906</td>\n",
       "      <td>4.168529</td>\n",
       "    </tr>\n",
       "    <tr>\n",
       "      <th>6</th>\n",
       "      <td>7.436111</td>\n",
       "      <td>3.192191</td>\n",
       "    </tr>\n",
       "    <tr>\n",
       "      <th>7</th>\n",
       "      <td>9.241840</td>\n",
       "      <td>2.686889</td>\n",
       "    </tr>\n",
       "    <tr>\n",
       "      <th>8</th>\n",
       "      <td>5.281484</td>\n",
       "      <td>8.628761</td>\n",
       "    </tr>\n",
       "    <tr>\n",
       "      <th>9</th>\n",
       "      <td>4.734331</td>\n",
       "      <td>7.572097</td>\n",
       "    </tr>\n",
       "    <tr>\n",
       "      <th>10</th>\n",
       "      <td>6.009709</td>\n",
       "      <td>4.039139</td>\n",
       "    </tr>\n",
       "    <tr>\n",
       "      <th>11</th>\n",
       "      <td>1.543573</td>\n",
       "      <td>5.178782</td>\n",
       "    </tr>\n",
       "    <tr>\n",
       "      <th>12</th>\n",
       "      <td>3.547372</td>\n",
       "      <td>7.658471</td>\n",
       "    </tr>\n",
       "    <tr>\n",
       "      <th>13</th>\n",
       "      <td>6.094441</td>\n",
       "      <td>4.067773</td>\n",
       "    </tr>\n",
       "    <tr>\n",
       "      <th>14</th>\n",
       "      <td>0.561244</td>\n",
       "      <td>1.315528</td>\n",
       "    </tr>\n",
       "    <tr>\n",
       "      <th>15</th>\n",
       "      <td>4.689651</td>\n",
       "      <td>5.502031</td>\n",
       "    </tr>\n",
       "    <tr>\n",
       "      <th>16</th>\n",
       "      <td>1.329037</td>\n",
       "      <td>2.620442</td>\n",
       "    </tr>\n",
       "    <tr>\n",
       "      <th>17</th>\n",
       "      <td>4.713844</td>\n",
       "      <td>7.223388</td>\n",
       "    </tr>\n",
       "    <tr>\n",
       "      <th>18</th>\n",
       "      <td>1.310555</td>\n",
       "      <td>6.606479</td>\n",
       "    </tr>\n",
       "    <tr>\n",
       "      <th>19</th>\n",
       "      <td>5.414983</td>\n",
       "      <td>2.095836</td>\n",
       "    </tr>\n",
       "  </tbody>\n",
       "</table>\n",
       "</div>"
      ],
      "text/plain": [
       "       Price   Quality\n",
       "0   2.785526  6.762371\n",
       "1   1.295562  2.191699\n",
       "2   1.962619  7.396379\n",
       "3   8.382452  0.432916\n",
       "4   9.350565  0.838238\n",
       "5   9.876906  4.168529\n",
       "6   7.436111  3.192191\n",
       "7   9.241840  2.686889\n",
       "8   5.281484  8.628761\n",
       "9   4.734331  7.572097\n",
       "10  6.009709  4.039139\n",
       "11  1.543573  5.178782\n",
       "12  3.547372  7.658471\n",
       "13  6.094441  4.067773\n",
       "14  0.561244  1.315528\n",
       "15  4.689651  5.502031\n",
       "16  1.329037  2.620442\n",
       "17  4.713844  7.223388\n",
       "18  1.310555  6.606479\n",
       "19  5.414983  2.095836"
      ]
     },
     "metadata": {},
     "output_type": "display_data"
    }
   ],
   "source": [
    "ratings_values = np.random.random(size=(20,2))*10 #\n",
    "ratings = pd.DataFrame(ratings_values, columns=['Price', 'Quality'])\n",
    "print(ratings_values)\n",
    "print()\n",
    "display(ratings)"
   ]
  },
  {
   "cell_type": "markdown",
   "id": "30418e69",
   "metadata": {},
   "source": [
    "## 3) Create two vectors from the previous DataFrame. We will use the same values from the previous DataFrame which we already have been created. The first one contains the evaluations which show the customer satisfaction for the prices, and the second one contains for the quality. How big how good! We will then print the vectors.\n",
    "\n",
    "##### Hint: pd.DataFrame['column_name'] gives us a Series from a DataFrame. We can use it with the same functions as DataFrames."
   ]
  },
  {
   "cell_type": "code",
   "execution_count": 40,
   "id": "e6788ed8",
   "metadata": {},
   "outputs": [
    {
     "name": "stdout",
     "output_type": "stream",
     "text": [
      "Price:  0     2.785526\n",
      "1     1.295562\n",
      "2     1.962619\n",
      "3     8.382452\n",
      "4     9.350565\n",
      "5     9.876906\n",
      "6     7.436111\n",
      "7     9.241840\n",
      "8     5.281484\n",
      "9     4.734331\n",
      "10    6.009709\n",
      "11    1.543573\n",
      "12    3.547372\n",
      "13    6.094441\n",
      "14    0.561244\n",
      "15    4.689651\n",
      "16    1.329037\n",
      "17    4.713844\n",
      "18    1.310555\n",
      "19    5.414983\n",
      "Name: Price, dtype: float64\n",
      "Quality:  0     6.762371\n",
      "1     2.191699\n",
      "2     7.396379\n",
      "3     0.432916\n",
      "4     0.838238\n",
      "5     4.168529\n",
      "6     3.192191\n",
      "7     2.686889\n",
      "8     8.628761\n",
      "9     7.572097\n",
      "10    4.039139\n",
      "11    5.178782\n",
      "12    7.658471\n",
      "13    4.067773\n",
      "14    1.315528\n",
      "15    5.502031\n",
      "16    2.620442\n",
      "17    7.223388\n",
      "18    6.606479\n",
      "19    2.095836\n",
      "Name: Quality, dtype: float64\n"
     ]
    }
   ],
   "source": [
    "price =  ratings [\"Price\"] #\n",
    "quality = ratings [\"Quality\"] #\n",
    "\n",
    "print('Price: ', price)\n",
    "print('Quality: ', quality)"
   ]
  },
  {
   "cell_type": "markdown",
   "id": "549889fe",
   "metadata": {},
   "source": [
    "## 4) Find the total numbers of visitors."
   ]
  },
  {
   "cell_type": "code",
   "execution_count": 55,
   "id": "4c453a33",
   "metadata": {},
   "outputs": [
    {
     "name": "stdout",
     "output_type": "stream",
     "text": [
      "Number of visitors: 20\n"
     ]
    }
   ],
   "source": [
    "visitors_count = len(ratings) #\n",
    "print('Number of visitors:', visitors_count)"
   ]
  },
  {
   "cell_type": "markdown",
   "id": "ba39a7bf",
   "metadata": {},
   "source": [
    "## 5) Find and print the average ratings for each column using numpy functions (we will find the mean and median values)"
   ]
  },
  {
   "cell_type": "code",
   "execution_count": 44,
   "id": "6e62b45d",
   "metadata": {},
   "outputs": [
    {
     "name": "stdout",
     "output_type": "stream",
     "text": [
      "The mean of the price ratings:  4.778090147055228\n",
      "The median of the price ratings 4.724087501230804\n",
      "The mean of the quality ratings:  4.508896919301987\n",
      "The median of the quality ratings 4.118150951966774\n"
     ]
    }
   ],
   "source": [
    "print('The mean of the price ratings: ', ratings[\"Price\"].mean()) #\n",
    "print('The median of the price ratings', ratings[\"Price\"].median()) #\n",
    "\n",
    "print('The mean of the quality ratings: ', ratings[\"Quality\"].mean()) #\n",
    "print('The median of the quality ratings',ratings[\"Quality\"].median()) #"
   ]
  },
  {
   "cell_type": "markdown",
   "id": "c35ee8b8",
   "metadata": {},
   "source": []
  },
  {
   "cell_type": "markdown",
   "id": "1ff9799a",
   "metadata": {},
   "source": [
    "## 6) Create a new vector which is the average of the ratings of two columns, price and quality. We will name it as mean_ratings. It will show the average rating for each customer. Round elements of the array to the nearest integer."
   ]
  },
  {
   "cell_type": "code",
   "execution_count": 106,
   "id": "92fddb95",
   "metadata": {},
   "outputs": [
    {
     "name": "stdout",
     "output_type": "stream",
     "text": [
      "[5. 2. 5. 4. 5. 7. 5. 6. 7. 6. 5. 3. 6. 5. 1. 5. 2. 6. 4. 4.]\n"
     ]
    }
   ],
   "source": [
    "mean_ratings = np.array(np.rint(np.mean(np.array([ratings.Price,ratings.Quality]), axis=0))) #\n",
    "print(mean_ratings)"
   ]
  },
  {
   "cell_type": "markdown",
   "id": "ed221fa4",
   "metadata": {},
   "source": [
    "## 7) Create ratings_values matrix again with the all three vectors. Average ratings, which has just been calculated in the previous exercise, should be the third column of the new matrix. All values in the matrix should be integer! New matrix should have 20 rows and 3 columns!"
   ]
  },
  {
   "cell_type": "code",
   "execution_count": 113,
   "id": "074a8fae",
   "metadata": {},
   "outputs": [
    {
     "name": "stdout",
     "output_type": "stream",
     "text": [
      "[[2.78552578 6.76237114 5.        ]\n",
      " [1.29556217 2.19169858 2.        ]\n",
      " [1.96261895 7.39637869 5.        ]\n",
      " [8.38245171 0.43291589 4.        ]\n",
      " [9.35056461 0.83823809 5.        ]\n",
      " [9.87690607 4.16852852 7.        ]\n",
      " [7.43611059 3.19219124 5.        ]\n",
      " [9.24183951 2.6868886  6.        ]\n",
      " [5.28148368 8.62876148 7.        ]\n",
      " [4.73433137 7.5720969  6.        ]\n",
      " [6.00970929 4.03913885 5.        ]\n",
      " [1.54357297 5.17878211 3.        ]\n",
      " [3.54737176 7.65847087 6.        ]\n",
      " [6.09444132 4.06777339 5.        ]\n",
      " [0.56124415 1.31552781 1.        ]\n",
      " [4.68965077 5.50203109 5.        ]\n",
      " [1.32903723 2.62044216 2.        ]\n",
      " [4.71384363 7.22338812 6.        ]\n",
      " [1.31055461 6.60647855 4.        ]\n",
      " [5.41498278 2.09583631 4.        ]]\n",
      "<class 'numpy.ndarray'>\n",
      "(20, 3)\n"
     ]
    }
   ],
   "source": [
    "# new_ratings_values =  np.concatenate([ratings, mean_ratings], axis=0) #\n",
    "new_ratings_values = (pd.DataFrame({\"Price\" : ratings.Price, \"Quality\": ratings.Quality,\"Mean_Ratings\" : np.array(mean_ratings) })).values\n",
    "print(new_ratings_values)\n",
    "print(type(new_ratings_values))\n",
    "print(new_ratings_values.shape)"
   ]
  },
  {
   "cell_type": "code",
   "execution_count": 114,
   "id": "cb275581",
   "metadata": {},
   "outputs": [
    {
     "data": {
      "text/html": [
       "<div>\n",
       "<style scoped>\n",
       "    .dataframe tbody tr th:only-of-type {\n",
       "        vertical-align: middle;\n",
       "    }\n",
       "\n",
       "    .dataframe tbody tr th {\n",
       "        vertical-align: top;\n",
       "    }\n",
       "\n",
       "    .dataframe thead th {\n",
       "        text-align: right;\n",
       "    }\n",
       "</style>\n",
       "<table border=\"1\" class=\"dataframe\">\n",
       "  <thead>\n",
       "    <tr style=\"text-align: right;\">\n",
       "      <th></th>\n",
       "      <th>Price</th>\n",
       "      <th>Quality</th>\n",
       "      <th>Average</th>\n",
       "    </tr>\n",
       "  </thead>\n",
       "  <tbody>\n",
       "    <tr>\n",
       "      <th>0</th>\n",
       "      <td>2.785526</td>\n",
       "      <td>6.762371</td>\n",
       "      <td>5.0</td>\n",
       "    </tr>\n",
       "    <tr>\n",
       "      <th>1</th>\n",
       "      <td>1.295562</td>\n",
       "      <td>2.191699</td>\n",
       "      <td>2.0</td>\n",
       "    </tr>\n",
       "    <tr>\n",
       "      <th>2</th>\n",
       "      <td>1.962619</td>\n",
       "      <td>7.396379</td>\n",
       "      <td>5.0</td>\n",
       "    </tr>\n",
       "    <tr>\n",
       "      <th>3</th>\n",
       "      <td>8.382452</td>\n",
       "      <td>0.432916</td>\n",
       "      <td>4.0</td>\n",
       "    </tr>\n",
       "    <tr>\n",
       "      <th>4</th>\n",
       "      <td>9.350565</td>\n",
       "      <td>0.838238</td>\n",
       "      <td>5.0</td>\n",
       "    </tr>\n",
       "    <tr>\n",
       "      <th>5</th>\n",
       "      <td>9.876906</td>\n",
       "      <td>4.168529</td>\n",
       "      <td>7.0</td>\n",
       "    </tr>\n",
       "    <tr>\n",
       "      <th>6</th>\n",
       "      <td>7.436111</td>\n",
       "      <td>3.192191</td>\n",
       "      <td>5.0</td>\n",
       "    </tr>\n",
       "    <tr>\n",
       "      <th>7</th>\n",
       "      <td>9.241840</td>\n",
       "      <td>2.686889</td>\n",
       "      <td>6.0</td>\n",
       "    </tr>\n",
       "    <tr>\n",
       "      <th>8</th>\n",
       "      <td>5.281484</td>\n",
       "      <td>8.628761</td>\n",
       "      <td>7.0</td>\n",
       "    </tr>\n",
       "    <tr>\n",
       "      <th>9</th>\n",
       "      <td>4.734331</td>\n",
       "      <td>7.572097</td>\n",
       "      <td>6.0</td>\n",
       "    </tr>\n",
       "    <tr>\n",
       "      <th>10</th>\n",
       "      <td>6.009709</td>\n",
       "      <td>4.039139</td>\n",
       "      <td>5.0</td>\n",
       "    </tr>\n",
       "    <tr>\n",
       "      <th>11</th>\n",
       "      <td>1.543573</td>\n",
       "      <td>5.178782</td>\n",
       "      <td>3.0</td>\n",
       "    </tr>\n",
       "    <tr>\n",
       "      <th>12</th>\n",
       "      <td>3.547372</td>\n",
       "      <td>7.658471</td>\n",
       "      <td>6.0</td>\n",
       "    </tr>\n",
       "    <tr>\n",
       "      <th>13</th>\n",
       "      <td>6.094441</td>\n",
       "      <td>4.067773</td>\n",
       "      <td>5.0</td>\n",
       "    </tr>\n",
       "    <tr>\n",
       "      <th>14</th>\n",
       "      <td>0.561244</td>\n",
       "      <td>1.315528</td>\n",
       "      <td>1.0</td>\n",
       "    </tr>\n",
       "    <tr>\n",
       "      <th>15</th>\n",
       "      <td>4.689651</td>\n",
       "      <td>5.502031</td>\n",
       "      <td>5.0</td>\n",
       "    </tr>\n",
       "    <tr>\n",
       "      <th>16</th>\n",
       "      <td>1.329037</td>\n",
       "      <td>2.620442</td>\n",
       "      <td>2.0</td>\n",
       "    </tr>\n",
       "    <tr>\n",
       "      <th>17</th>\n",
       "      <td>4.713844</td>\n",
       "      <td>7.223388</td>\n",
       "      <td>6.0</td>\n",
       "    </tr>\n",
       "    <tr>\n",
       "      <th>18</th>\n",
       "      <td>1.310555</td>\n",
       "      <td>6.606479</td>\n",
       "      <td>4.0</td>\n",
       "    </tr>\n",
       "    <tr>\n",
       "      <th>19</th>\n",
       "      <td>5.414983</td>\n",
       "      <td>2.095836</td>\n",
       "      <td>4.0</td>\n",
       "    </tr>\n",
       "  </tbody>\n",
       "</table>\n",
       "</div>"
      ],
      "text/plain": [
       "       Price   Quality  Average\n",
       "0   2.785526  6.762371      5.0\n",
       "1   1.295562  2.191699      2.0\n",
       "2   1.962619  7.396379      5.0\n",
       "3   8.382452  0.432916      4.0\n",
       "4   9.350565  0.838238      5.0\n",
       "5   9.876906  4.168529      7.0\n",
       "6   7.436111  3.192191      5.0\n",
       "7   9.241840  2.686889      6.0\n",
       "8   5.281484  8.628761      7.0\n",
       "9   4.734331  7.572097      6.0\n",
       "10  6.009709  4.039139      5.0\n",
       "11  1.543573  5.178782      3.0\n",
       "12  3.547372  7.658471      6.0\n",
       "13  6.094441  4.067773      5.0\n",
       "14  0.561244  1.315528      1.0\n",
       "15  4.689651  5.502031      5.0\n",
       "16  1.329037  2.620442      2.0\n",
       "17  4.713844  7.223388      6.0\n",
       "18  1.310555  6.606479      4.0\n",
       "19  5.414983  2.095836      4.0"
      ]
     },
     "metadata": {},
     "output_type": "display_data"
    }
   ],
   "source": [
    "new_ratings = pd.DataFrame(new_ratings_values, columns=['Price', 'Quality', 'Average'])\n",
    "display(new_ratings)"
   ]
  },
  {
   "cell_type": "markdown",
   "id": "0a77d801",
   "metadata": {},
   "source": [
    "# B"
   ]
  },
  {
   "cell_type": "markdown",
   "id": "34c6abac",
   "metadata": {},
   "source": [
    "## 1) Create *Mean Absolute Error (MAE)* function\n",
    "\n",
    "\\begin{equation}\n",
    "MAE=\\frac{1}{n}\\sum_{i=1}^n|target_i - predictions_i|\n",
    "\\end{equation}"
   ]
  },
  {
   "cell_type": "code",
   "execution_count": 170,
   "id": "44680fb4",
   "metadata": {},
   "outputs": [],
   "source": [
    "def mae(target, predictions):\n",
    "    return abs(target - predictions).mean() # "
   ]
  },
  {
   "cell_type": "markdown",
   "id": "a9503f14",
   "metadata": {},
   "source": [
    "## 2) Create two arrays each of them has $100$ observations. We will use them for *target* and *predictions* labelling. The target array should consist only $0$ or $1$ values which are random created, while predictions only integer $1$. The target array should have a *binomial distribution* which gives $1$ with $60$% probability."
   ]
  },
  {
   "cell_type": "code",
   "execution_count": 195,
   "id": "e1f48173",
   "metadata": {},
   "outputs": [
    {
     "name": "stdout",
     "output_type": "stream",
     "text": [
      "[1 1 1 0 0 1 0 1 1 1 0 1 1 1 1 1 1 0 1 1 1 0 0 0 0 1 0 0 0 0 0 1 1 1 1 1 0\n",
      " 1 1 1 0 1 0 0 0 1 1 1 0 0 0 1 0 1 1 0 0 0 1 0 1 1 1 0 1 1 1 1 1 1 1 1 1 0\n",
      " 0 0 1 1 0 1 1 0 1 0 1 1 0 0 1 1 0 0 0 0 1 1 1 0 1 1]\n",
      "\n",
      "[1 1 1 1 1 1 1 1 1 1 1 1 1 1 1 1 1 1 1 1 1 1 1 1 1 1 1 1 1 1 1 1 1 1 1 1 1\n",
      " 1 1 1 1 1 1 1 1 1 1 1 1 1 1 1 1 1 1 1 1 1 1 1 1 1 1 1 1 1 1 1 1 1 1 1 1 1\n",
      " 1 1 1 1 1 1 1 1 1 1 1 1 1 1 1 1 1 1 1 1 1 1 1 1 1 1]\n"
     ]
    }
   ],
   "source": [
    "# target = np.random.randint(0, 2, (100,)) # \n",
    "target = np.random.binomial(1, 0.6, 100)\n",
    "predictions = np.ones(100, dtype = int) # \n",
    "\n",
    "print(target)\n",
    "print()\n",
    "print(predictions)"
   ]
  },
  {
   "cell_type": "markdown",
   "id": "08a52b61",
   "metadata": {},
   "source": [
    "## 3) Find the *MAE* with your mae function"
   ]
  },
  {
   "cell_type": "code",
   "execution_count": 196,
   "id": "7ed87f1b",
   "metadata": {},
   "outputs": [],
   "source": [
    "mean_absolute_error = mae(target,predictions) # "
   ]
  },
  {
   "cell_type": "markdown",
   "id": "83589d76",
   "metadata": {},
   "source": [
    "## 4)  Run the code in this step. Observe the printed outputs. Try to run the codes a few times from step 2. What do you think about the results? Give your thoughts shortly with 3 - 5 sentences about why two outputs are the same. What is your conclusion?"
   ]
  },
  {
   "cell_type": "code",
   "execution_count": 198,
   "id": "8116dd9a",
   "metadata": {},
   "outputs": [
    {
     "name": "stdout",
     "output_type": "stream",
     "text": [
      "0.41000000000000003\n",
      "0.41\n"
     ]
    }
   ],
   "source": [
    "print(1-np.mean(target))\n",
    "\n",
    "print(mean_absolute_error)"
   ]
  },
  {
   "attachments": {},
   "cell_type": "markdown",
   "id": "b8c6a06b",
   "metadata": {},
   "source": [
    " ### While the first one calculates exact result of target's average from 1, the second one gives a measure of the average size of the mistakes in a collection of predictions, without taking their direction into account. It is measured as the average absolute difference between the predicted values and the actual values."
   ]
  },
  {
   "cell_type": "markdown",
   "id": "223feb67",
   "metadata": {},
   "source": [
    "## 5) We have always chosen $1$ in our predictions, but the actual values at the target have changed each time. How likely is it that we got it right each time, and what determines this?"
   ]
  },
  {
   "cell_type": "markdown",
   "id": "c905b8d7",
   "metadata": {},
   "source": [
    "### ???? "
   ]
  },
  {
   "cell_type": "markdown",
   "id": "3207c6b9",
   "metadata": {},
   "source": [
    "# C"
   ]
  },
  {
   "cell_type": "markdown",
   "id": "209ef743",
   "metadata": {},
   "source": [
    "## 1) Create a Pythagorean function using *np.dot()* to calculate vector length\n",
    "\n",
    "$$v = [x, y] ==> len_v = \\sqrt{x^2+y^2}$$"
   ]
  },
  {
   "cell_type": "code",
   "execution_count": 136,
   "id": "fdb7e6eb",
   "metadata": {},
   "outputs": [],
   "source": [
    "def pythagorean_length(vector):\n",
    "    return np.dot(vector,vector)**0.5 #"
   ]
  },
  {
   "cell_type": "markdown",
   "id": "66c9d923",
   "metadata": {},
   "source": [
    "## 2) Calculate the length of the given vector using your *pythagorean_length* function and check your result comparing with the given"
   ]
  },
  {
   "cell_type": "code",
   "execution_count": 137,
   "id": "91f1490e",
   "metadata": {},
   "outputs": [
    {
     "name": "stdout",
     "output_type": "stream",
     "text": [
      "5.0\n",
      "5.0\n"
     ]
    }
   ],
   "source": [
    "a = np.array([3, 4])\n",
    "\n",
    "print(pythagorean_length(a)) # \n",
    "\n",
    "print(((a[0] ** 2) + (a[1] ** 2)) ** 0.5)"
   ]
  },
  {
   "cell_type": "markdown",
   "id": "83e04ecb",
   "metadata": {},
   "source": [
    "## 3) Find the shortest distance (Euclidean distance) using *np.dot()* between the given two vectors and compare the results to check"
   ]
  },
  {
   "cell_type": "code",
   "execution_count": 133,
   "id": "894a6dbf",
   "metadata": {},
   "outputs": [
    {
     "name": "stdout",
     "output_type": "stream",
     "text": [
      "The distance between a and b is 5.0\n",
      "The distance between a and b should be 5.0\n"
     ]
    }
   ],
   "source": [
    "a = np.array([5, 6])\n",
    "b = np.array([1, 3])\n",
    "\n",
    "d = a-b\n",
    "c = np.sqrt(np.dot(d.T, d)) #\n",
    "print('The distance between a and b is', c)\n",
    "\n",
    "from scipy.spatial import distance\n",
    "print('The distance between a and b should be', distance.euclidean(a, b))"
   ]
  },
  {
   "cell_type": "markdown",
   "id": "7cc6aed5",
   "metadata": {},
   "source": [
    "# D - Obfuscating Data"
   ]
  },
  {
   "cell_type": "markdown",
   "id": "d1067272",
   "metadata": {},
   "source": [
    "It is best to obfuscate data by multiplying the numerical features (they can be seen as the matrix $X$) by an invertible matrix $P$. \n",
    "\n",
    "$$\n",
    "X' = X \\times P\n",
    "$$\n",
    "\n",
    "Try to do that and check how the features' values will look like after the transformation. By the way, the invertible property is important here so make sure that $P$ is indeed invertible."
   ]
  },
  {
   "attachments": {},
   "cell_type": "markdown",
   "metadata": {},
   "source": [
    "## 1) Protect customers' personal data. It is necessary to develop a data transformation algorithm that makes it difficult to recover personal information in case the data falls into the wrong hands. This is called data masking or data obfuscation. However, the data must be protected in such a way that the quality of the machine learning models does not suffer. You don't need to choose the best model, just prove that the algorithm works correctly."
   ]
  },
  {
   "cell_type": "code",
   "execution_count": 209,
   "id": "167c61ea",
   "metadata": {},
   "outputs": [
    {
     "data": {
      "text/html": [
       "<div>\n",
       "<style scoped>\n",
       "    .dataframe tbody tr th:only-of-type {\n",
       "        vertical-align: middle;\n",
       "    }\n",
       "\n",
       "    .dataframe tbody tr th {\n",
       "        vertical-align: top;\n",
       "    }\n",
       "\n",
       "    .dataframe thead th {\n",
       "        text-align: right;\n",
       "    }\n",
       "</style>\n",
       "<table border=\"1\" class=\"dataframe\">\n",
       "  <thead>\n",
       "    <tr style=\"text-align: right;\">\n",
       "      <th></th>\n",
       "      <th>gender</th>\n",
       "      <th>age</th>\n",
       "      <th>salary</th>\n",
       "      <th>family_members</th>\n",
       "    </tr>\n",
       "  </thead>\n",
       "  <tbody>\n",
       "    <tr>\n",
       "      <th>990</th>\n",
       "      <td>0</td>\n",
       "      <td>76</td>\n",
       "      <td>27607</td>\n",
       "      <td>1</td>\n",
       "    </tr>\n",
       "    <tr>\n",
       "      <th>991</th>\n",
       "      <td>0</td>\n",
       "      <td>29</td>\n",
       "      <td>25293</td>\n",
       "      <td>3</td>\n",
       "    </tr>\n",
       "    <tr>\n",
       "      <th>992</th>\n",
       "      <td>0</td>\n",
       "      <td>89</td>\n",
       "      <td>29030</td>\n",
       "      <td>0</td>\n",
       "    </tr>\n",
       "    <tr>\n",
       "      <th>993</th>\n",
       "      <td>1</td>\n",
       "      <td>73</td>\n",
       "      <td>24670</td>\n",
       "      <td>2</td>\n",
       "    </tr>\n",
       "    <tr>\n",
       "      <th>994</th>\n",
       "      <td>1</td>\n",
       "      <td>66</td>\n",
       "      <td>22208</td>\n",
       "      <td>3</td>\n",
       "    </tr>\n",
       "    <tr>\n",
       "      <th>995</th>\n",
       "      <td>0</td>\n",
       "      <td>77</td>\n",
       "      <td>29192</td>\n",
       "      <td>0</td>\n",
       "    </tr>\n",
       "    <tr>\n",
       "      <th>996</th>\n",
       "      <td>1</td>\n",
       "      <td>69</td>\n",
       "      <td>19250</td>\n",
       "      <td>9</td>\n",
       "    </tr>\n",
       "    <tr>\n",
       "      <th>997</th>\n",
       "      <td>0</td>\n",
       "      <td>18</td>\n",
       "      <td>32442</td>\n",
       "      <td>3</td>\n",
       "    </tr>\n",
       "    <tr>\n",
       "      <th>998</th>\n",
       "      <td>1</td>\n",
       "      <td>53</td>\n",
       "      <td>23767</td>\n",
       "      <td>9</td>\n",
       "    </tr>\n",
       "    <tr>\n",
       "      <th>999</th>\n",
       "      <td>0</td>\n",
       "      <td>40</td>\n",
       "      <td>29950</td>\n",
       "      <td>1</td>\n",
       "    </tr>\n",
       "  </tbody>\n",
       "</table>\n",
       "</div>"
      ],
      "text/plain": [
       "     gender  age  salary  family_members\n",
       "990       0   76   27607               1\n",
       "991       0   29   25293               3\n",
       "992       0   89   29030               0\n",
       "993       1   73   24670               2\n",
       "994       1   66   22208               3\n",
       "995       0   77   29192               0\n",
       "996       1   69   19250               9\n",
       "997       0   18   32442               3\n",
       "998       1   53   23767               9\n",
       "999       0   40   29950               1"
      ]
     },
     "metadata": {},
     "output_type": "display_data"
    }
   ],
   "source": [
    "# pd.DataFrame\n",
    "columns = ['gender', 'age', 'salary', 'family_members']\n",
    "data = np.array([np.random.choice([0, 1], size=1000), \n",
    "                 np.random.randint(18, 100, 1000), \n",
    "                 np.random.normal(25000, 5000, 1000).astype(int), \n",
    "                 np.random.randint(0, 10, 1000)\n",
    "                ])\n",
    "\n",
    "personal_data = pd.DataFrame(data.T, columns=columns)\n",
    "display(personal_data.tail(10))"
   ]
  },
  {
   "cell_type": "code",
   "execution_count": 215,
   "id": "3cdf802c",
   "metadata": {},
   "outputs": [],
   "source": [
    "# X = personal_data.values #"
   ]
  },
  {
   "cell_type": "code",
   "execution_count": 224,
   "id": "b599e985",
   "metadata": {},
   "outputs": [],
   "source": [
    "# P = np.random.randint(0,10,(1000,4)) # \n",
    "# X2 = X * P # \n",
    "P = np.random.randint(0,10,(1000,1000)) #\n",
    "X2 = data.dot(P) #"
   ]
  },
  {
   "cell_type": "markdown",
   "id": "f85a36c3",
   "metadata": {},
   "source": [
    "**(Hint:** https://numpy.org/doc/stable/reference/random/generator.html **)**"
   ]
  },
  {
   "cell_type": "code",
   "execution_count": 239,
   "id": "d176fe5d",
   "metadata": {},
   "outputs": [],
   "source": [
    "secured_data = pd.DataFrame(X2.T, columns=columns) #"
   ]
  },
  {
   "cell_type": "code",
   "execution_count": 240,
   "id": "b8ce9d90",
   "metadata": {},
   "outputs": [
    {
     "data": {
      "text/html": [
       "<div>\n",
       "<style scoped>\n",
       "    .dataframe tbody tr th:only-of-type {\n",
       "        vertical-align: middle;\n",
       "    }\n",
       "\n",
       "    .dataframe tbody tr th {\n",
       "        vertical-align: top;\n",
       "    }\n",
       "\n",
       "    .dataframe thead th {\n",
       "        text-align: right;\n",
       "    }\n",
       "</style>\n",
       "<table border=\"1\" class=\"dataframe\">\n",
       "  <thead>\n",
       "    <tr style=\"text-align: right;\">\n",
       "      <th></th>\n",
       "      <th>gender</th>\n",
       "      <th>age</th>\n",
       "      <th>salary</th>\n",
       "      <th>family_members</th>\n",
       "    </tr>\n",
       "  </thead>\n",
       "  <tbody>\n",
       "    <tr>\n",
       "      <th>990</th>\n",
       "      <td>2295</td>\n",
       "      <td>258802</td>\n",
       "      <td>112804195</td>\n",
       "      <td>19165</td>\n",
       "    </tr>\n",
       "    <tr>\n",
       "      <th>991</th>\n",
       "      <td>2454</td>\n",
       "      <td>274817</td>\n",
       "      <td>119950158</td>\n",
       "      <td>20419</td>\n",
       "    </tr>\n",
       "    <tr>\n",
       "      <th>992</th>\n",
       "      <td>2358</td>\n",
       "      <td>261950</td>\n",
       "      <td>115522809</td>\n",
       "      <td>20037</td>\n",
       "    </tr>\n",
       "    <tr>\n",
       "      <th>993</th>\n",
       "      <td>2291</td>\n",
       "      <td>252758</td>\n",
       "      <td>111630722</td>\n",
       "      <td>19336</td>\n",
       "    </tr>\n",
       "    <tr>\n",
       "      <th>994</th>\n",
       "      <td>2375</td>\n",
       "      <td>254960</td>\n",
       "      <td>112785318</td>\n",
       "      <td>19345</td>\n",
       "    </tr>\n",
       "    <tr>\n",
       "      <th>995</th>\n",
       "      <td>2321</td>\n",
       "      <td>257453</td>\n",
       "      <td>114875040</td>\n",
       "      <td>19452</td>\n",
       "    </tr>\n",
       "    <tr>\n",
       "      <th>996</th>\n",
       "      <td>2378</td>\n",
       "      <td>263583</td>\n",
       "      <td>114330750</td>\n",
       "      <td>18901</td>\n",
       "    </tr>\n",
       "    <tr>\n",
       "      <th>997</th>\n",
       "      <td>2294</td>\n",
       "      <td>251888</td>\n",
       "      <td>113439285</td>\n",
       "      <td>19524</td>\n",
       "    </tr>\n",
       "    <tr>\n",
       "      <th>998</th>\n",
       "      <td>2264</td>\n",
       "      <td>249010</td>\n",
       "      <td>109099349</td>\n",
       "      <td>18735</td>\n",
       "    </tr>\n",
       "    <tr>\n",
       "      <th>999</th>\n",
       "      <td>2459</td>\n",
       "      <td>265254</td>\n",
       "      <td>117349382</td>\n",
       "      <td>20277</td>\n",
       "    </tr>\n",
       "  </tbody>\n",
       "</table>\n",
       "</div>"
      ],
      "text/plain": [
       "     gender     age     salary  family_members\n",
       "990    2295  258802  112804195           19165\n",
       "991    2454  274817  119950158           20419\n",
       "992    2358  261950  115522809           20037\n",
       "993    2291  252758  111630722           19336\n",
       "994    2375  254960  112785318           19345\n",
       "995    2321  257453  114875040           19452\n",
       "996    2378  263583  114330750           18901\n",
       "997    2294  251888  113439285           19524\n",
       "998    2264  249010  109099349           18735\n",
       "999    2459  265254  117349382           20277"
      ]
     },
     "metadata": {},
     "output_type": "display_data"
    }
   ],
   "source": [
    "display(secured_data.tail(10)) #"
   ]
  },
  {
   "attachments": {},
   "cell_type": "markdown",
   "id": "0458e01b",
   "metadata": {},
   "source": [
    "## 2) Can you guess the customers' ages or income after the transformation?"
   ]
  },
  {
   "cell_type": "code",
   "execution_count": 241,
   "id": "5f3b9975",
   "metadata": {},
   "outputs": [
    {
     "data": {
      "text/html": [
       "<div>\n",
       "<style scoped>\n",
       "    .dataframe tbody tr th:only-of-type {\n",
       "        vertical-align: middle;\n",
       "    }\n",
       "\n",
       "    .dataframe tbody tr th {\n",
       "        vertical-align: top;\n",
       "    }\n",
       "\n",
       "    .dataframe thead th {\n",
       "        text-align: right;\n",
       "    }\n",
       "</style>\n",
       "<table border=\"1\" class=\"dataframe\">\n",
       "  <thead>\n",
       "    <tr style=\"text-align: right;\">\n",
       "      <th></th>\n",
       "      <th>gender</th>\n",
       "      <th>age</th>\n",
       "      <th>salary</th>\n",
       "      <th>family_members</th>\n",
       "    </tr>\n",
       "  </thead>\n",
       "  <tbody>\n",
       "    <tr>\n",
       "      <th>count</th>\n",
       "      <td>1000.00</td>\n",
       "      <td>1000.00</td>\n",
       "      <td>1000.00</td>\n",
       "      <td>1000.00</td>\n",
       "    </tr>\n",
       "    <tr>\n",
       "      <th>mean</th>\n",
       "      <td>2324.20</td>\n",
       "      <td>256190.46</td>\n",
       "      <td>112818950.66</td>\n",
       "      <td>19398.95</td>\n",
       "    </tr>\n",
       "    <tr>\n",
       "      <th>std</th>\n",
       "      <td>65.04</td>\n",
       "      <td>5723.98</td>\n",
       "      <td>2366723.97</td>\n",
       "      <td>481.02</td>\n",
       "    </tr>\n",
       "    <tr>\n",
       "      <th>min</th>\n",
       "      <td>2136.00</td>\n",
       "      <td>237507.00</td>\n",
       "      <td>105215781.00</td>\n",
       "      <td>17785.00</td>\n",
       "    </tr>\n",
       "    <tr>\n",
       "      <th>25%</th>\n",
       "      <td>2280.00</td>\n",
       "      <td>252557.50</td>\n",
       "      <td>111208748.00</td>\n",
       "      <td>19066.25</td>\n",
       "    </tr>\n",
       "    <tr>\n",
       "      <th>50%</th>\n",
       "      <td>2323.00</td>\n",
       "      <td>256181.00</td>\n",
       "      <td>112768820.00</td>\n",
       "      <td>19399.00</td>\n",
       "    </tr>\n",
       "    <tr>\n",
       "      <th>75%</th>\n",
       "      <td>2370.25</td>\n",
       "      <td>260208.25</td>\n",
       "      <td>114437284.00</td>\n",
       "      <td>19708.25</td>\n",
       "    </tr>\n",
       "    <tr>\n",
       "      <th>max</th>\n",
       "      <td>2518.00</td>\n",
       "      <td>275460.00</td>\n",
       "      <td>120421076.00</td>\n",
       "      <td>20816.00</td>\n",
       "    </tr>\n",
       "  </tbody>\n",
       "</table>\n",
       "</div>"
      ],
      "text/plain": [
       "       gender       age       salary  family_members\n",
       "count 1000.00   1000.00      1000.00         1000.00\n",
       "mean  2324.20 256190.46 112818950.66        19398.95\n",
       "std     65.04   5723.98   2366723.97          481.02\n",
       "min   2136.00 237507.00 105215781.00        17785.00\n",
       "25%   2280.00 252557.50 111208748.00        19066.25\n",
       "50%   2323.00 256181.00 112768820.00        19399.00\n",
       "75%   2370.25 260208.25 114437284.00        19708.25\n",
       "max   2518.00 275460.00 120421076.00        20816.00"
      ]
     },
     "execution_count": 241,
     "metadata": {},
     "output_type": "execute_result"
    }
   ],
   "source": [
    "# Secure Data\n",
    "pd.DataFrame(secured_data).describe() # < write your code here >"
   ]
  },
  {
   "attachments": {},
   "cell_type": "markdown",
   "id": "d121d1e5",
   "metadata": {},
   "source": [
    "#### write your conlusion here\n",
    "It's not possible to guess the ages or income after the transformationç"
   ]
  },
  {
   "cell_type": "markdown",
   "id": "ba51f2eb",
   "metadata": {},
   "source": [
    "## 3) Can you recover the original data from $X'$ if you know $P$? Try to check that with calculations by moving $P$ from the right side of the formula above to the left one. The rules of matrix multiplication are helpful here."
   ]
  },
  {
   "cell_type": "code",
   "execution_count": 248,
   "id": "3f6168f0",
   "metadata": {},
   "outputs": [],
   "source": [
    "renewed_data = P.dot(X2.T) # < write your code here >"
   ]
  },
  {
   "cell_type": "code",
   "execution_count": null,
   "id": "95cea4ea",
   "metadata": {},
   "outputs": [],
   "source": [
    "# Printing all three cases for a few customers"
   ]
  },
  {
   "cell_type": "code",
   "execution_count": 249,
   "id": "f9e9fada",
   "metadata": {},
   "outputs": [
    {
     "data": {
      "text/html": [
       "<div>\n",
       "<style scoped>\n",
       "    .dataframe tbody tr th:only-of-type {\n",
       "        vertical-align: middle;\n",
       "    }\n",
       "\n",
       "    .dataframe tbody tr th {\n",
       "        vertical-align: top;\n",
       "    }\n",
       "\n",
       "    .dataframe thead th {\n",
       "        text-align: right;\n",
       "    }\n",
       "</style>\n",
       "<table border=\"1\" class=\"dataframe\">\n",
       "  <thead>\n",
       "    <tr style=\"text-align: right;\">\n",
       "      <th></th>\n",
       "      <th>gender</th>\n",
       "      <th>age</th>\n",
       "      <th>salary</th>\n",
       "      <th>family_members</th>\n",
       "    </tr>\n",
       "  </thead>\n",
       "  <tbody>\n",
       "    <tr>\n",
       "      <th>990</th>\n",
       "      <td>0</td>\n",
       "      <td>76</td>\n",
       "      <td>27607</td>\n",
       "      <td>1</td>\n",
       "    </tr>\n",
       "    <tr>\n",
       "      <th>991</th>\n",
       "      <td>0</td>\n",
       "      <td>29</td>\n",
       "      <td>25293</td>\n",
       "      <td>3</td>\n",
       "    </tr>\n",
       "    <tr>\n",
       "      <th>992</th>\n",
       "      <td>0</td>\n",
       "      <td>89</td>\n",
       "      <td>29030</td>\n",
       "      <td>0</td>\n",
       "    </tr>\n",
       "    <tr>\n",
       "      <th>993</th>\n",
       "      <td>1</td>\n",
       "      <td>73</td>\n",
       "      <td>24670</td>\n",
       "      <td>2</td>\n",
       "    </tr>\n",
       "    <tr>\n",
       "      <th>994</th>\n",
       "      <td>1</td>\n",
       "      <td>66</td>\n",
       "      <td>22208</td>\n",
       "      <td>3</td>\n",
       "    </tr>\n",
       "    <tr>\n",
       "      <th>995</th>\n",
       "      <td>0</td>\n",
       "      <td>77</td>\n",
       "      <td>29192</td>\n",
       "      <td>0</td>\n",
       "    </tr>\n",
       "    <tr>\n",
       "      <th>996</th>\n",
       "      <td>1</td>\n",
       "      <td>69</td>\n",
       "      <td>19250</td>\n",
       "      <td>9</td>\n",
       "    </tr>\n",
       "    <tr>\n",
       "      <th>997</th>\n",
       "      <td>0</td>\n",
       "      <td>18</td>\n",
       "      <td>32442</td>\n",
       "      <td>3</td>\n",
       "    </tr>\n",
       "    <tr>\n",
       "      <th>998</th>\n",
       "      <td>1</td>\n",
       "      <td>53</td>\n",
       "      <td>23767</td>\n",
       "      <td>9</td>\n",
       "    </tr>\n",
       "    <tr>\n",
       "      <th>999</th>\n",
       "      <td>0</td>\n",
       "      <td>40</td>\n",
       "      <td>29950</td>\n",
       "      <td>1</td>\n",
       "    </tr>\n",
       "  </tbody>\n",
       "</table>\n",
       "</div>"
      ],
      "text/plain": [
       "     gender  age  salary  family_members\n",
       "990       0   76   27607               1\n",
       "991       0   29   25293               3\n",
       "992       0   89   29030               0\n",
       "993       1   73   24670               2\n",
       "994       1   66   22208               3\n",
       "995       0   77   29192               0\n",
       "996       1   69   19250               9\n",
       "997       0   18   32442               3\n",
       "998       1   53   23767               9\n",
       "999       0   40   29950               1"
      ]
     },
     "execution_count": 249,
     "metadata": {},
     "output_type": "execute_result"
    }
   ],
   "source": [
    "# Original Data\n",
    "personal_data.tail(10)"
   ]
  },
  {
   "cell_type": "code",
   "execution_count": 250,
   "id": "18ebc61a",
   "metadata": {},
   "outputs": [
    {
     "data": {
      "text/html": [
       "<div>\n",
       "<style scoped>\n",
       "    .dataframe tbody tr th:only-of-type {\n",
       "        vertical-align: middle;\n",
       "    }\n",
       "\n",
       "    .dataframe tbody tr th {\n",
       "        vertical-align: top;\n",
       "    }\n",
       "\n",
       "    .dataframe thead th {\n",
       "        text-align: right;\n",
       "    }\n",
       "</style>\n",
       "<table border=\"1\" class=\"dataframe\">\n",
       "  <thead>\n",
       "    <tr style=\"text-align: right;\">\n",
       "      <th></th>\n",
       "      <th>gender</th>\n",
       "      <th>age</th>\n",
       "      <th>salary</th>\n",
       "      <th>family_members</th>\n",
       "    </tr>\n",
       "  </thead>\n",
       "  <tbody>\n",
       "    <tr>\n",
       "      <th>990</th>\n",
       "      <td>2295</td>\n",
       "      <td>258802</td>\n",
       "      <td>112804195</td>\n",
       "      <td>19165</td>\n",
       "    </tr>\n",
       "    <tr>\n",
       "      <th>991</th>\n",
       "      <td>2454</td>\n",
       "      <td>274817</td>\n",
       "      <td>119950158</td>\n",
       "      <td>20419</td>\n",
       "    </tr>\n",
       "    <tr>\n",
       "      <th>992</th>\n",
       "      <td>2358</td>\n",
       "      <td>261950</td>\n",
       "      <td>115522809</td>\n",
       "      <td>20037</td>\n",
       "    </tr>\n",
       "    <tr>\n",
       "      <th>993</th>\n",
       "      <td>2291</td>\n",
       "      <td>252758</td>\n",
       "      <td>111630722</td>\n",
       "      <td>19336</td>\n",
       "    </tr>\n",
       "    <tr>\n",
       "      <th>994</th>\n",
       "      <td>2375</td>\n",
       "      <td>254960</td>\n",
       "      <td>112785318</td>\n",
       "      <td>19345</td>\n",
       "    </tr>\n",
       "    <tr>\n",
       "      <th>995</th>\n",
       "      <td>2321</td>\n",
       "      <td>257453</td>\n",
       "      <td>114875040</td>\n",
       "      <td>19452</td>\n",
       "    </tr>\n",
       "    <tr>\n",
       "      <th>996</th>\n",
       "      <td>2378</td>\n",
       "      <td>263583</td>\n",
       "      <td>114330750</td>\n",
       "      <td>18901</td>\n",
       "    </tr>\n",
       "    <tr>\n",
       "      <th>997</th>\n",
       "      <td>2294</td>\n",
       "      <td>251888</td>\n",
       "      <td>113439285</td>\n",
       "      <td>19524</td>\n",
       "    </tr>\n",
       "    <tr>\n",
       "      <th>998</th>\n",
       "      <td>2264</td>\n",
       "      <td>249010</td>\n",
       "      <td>109099349</td>\n",
       "      <td>18735</td>\n",
       "    </tr>\n",
       "    <tr>\n",
       "      <th>999</th>\n",
       "      <td>2459</td>\n",
       "      <td>265254</td>\n",
       "      <td>117349382</td>\n",
       "      <td>20277</td>\n",
       "    </tr>\n",
       "  </tbody>\n",
       "</table>\n",
       "</div>"
      ],
      "text/plain": [
       "     gender     age     salary  family_members\n",
       "990    2295  258802  112804195           19165\n",
       "991    2454  274817  119950158           20419\n",
       "992    2358  261950  115522809           20037\n",
       "993    2291  252758  111630722           19336\n",
       "994    2375  254960  112785318           19345\n",
       "995    2321  257453  114875040           19452\n",
       "996    2378  263583  114330750           18901\n",
       "997    2294  251888  113439285           19524\n",
       "998    2264  249010  109099349           18735\n",
       "999    2459  265254  117349382           20277"
      ]
     },
     "execution_count": 250,
     "metadata": {},
     "output_type": "execute_result"
    }
   ],
   "source": [
    "# Secure Data\n",
    "pd.DataFrame(secured_data).tail(10)  # < write your code here >"
   ]
  },
  {
   "cell_type": "code",
   "execution_count": 251,
   "id": "4e3cbc0f",
   "metadata": {},
   "outputs": [
    {
     "data": {
      "text/html": [
       "<div>\n",
       "<style scoped>\n",
       "    .dataframe tbody tr th:only-of-type {\n",
       "        vertical-align: middle;\n",
       "    }\n",
       "\n",
       "    .dataframe tbody tr th {\n",
       "        vertical-align: top;\n",
       "    }\n",
       "\n",
       "    .dataframe thead th {\n",
       "        text-align: right;\n",
       "    }\n",
       "</style>\n",
       "<table border=\"1\" class=\"dataframe\">\n",
       "  <thead>\n",
       "    <tr style=\"text-align: right;\">\n",
       "      <th></th>\n",
       "      <th>0</th>\n",
       "      <th>1</th>\n",
       "      <th>2</th>\n",
       "      <th>3</th>\n",
       "    </tr>\n",
       "  </thead>\n",
       "  <tbody>\n",
       "    <tr>\n",
       "      <th>990</th>\n",
       "      <td>10580366</td>\n",
       "      <td>1166899973</td>\n",
       "      <td>513640726928</td>\n",
       "      <td>88343576</td>\n",
       "    </tr>\n",
       "    <tr>\n",
       "      <th>991</th>\n",
       "      <td>10438704</td>\n",
       "      <td>1150826672</td>\n",
       "      <td>506936677352</td>\n",
       "      <td>87187188</td>\n",
       "    </tr>\n",
       "    <tr>\n",
       "      <th>992</th>\n",
       "      <td>10158104</td>\n",
       "      <td>1120640106</td>\n",
       "      <td>493566479113</td>\n",
       "      <td>84819284</td>\n",
       "    </tr>\n",
       "    <tr>\n",
       "      <th>993</th>\n",
       "      <td>10377120</td>\n",
       "      <td>1144266405</td>\n",
       "      <td>503700716505</td>\n",
       "      <td>86555473</td>\n",
       "    </tr>\n",
       "    <tr>\n",
       "      <th>994</th>\n",
       "      <td>10503246</td>\n",
       "      <td>1158001133</td>\n",
       "      <td>509912316630</td>\n",
       "      <td>87652229</td>\n",
       "    </tr>\n",
       "    <tr>\n",
       "      <th>995</th>\n",
       "      <td>10760699</td>\n",
       "      <td>1186686483</td>\n",
       "      <td>522508013143</td>\n",
       "      <td>89805356</td>\n",
       "    </tr>\n",
       "    <tr>\n",
       "      <th>996</th>\n",
       "      <td>10312442</td>\n",
       "      <td>1135509071</td>\n",
       "      <td>499925860483</td>\n",
       "      <td>85974732</td>\n",
       "    </tr>\n",
       "    <tr>\n",
       "      <th>997</th>\n",
       "      <td>10183051</td>\n",
       "      <td>1122471869</td>\n",
       "      <td>494458712565</td>\n",
       "      <td>84980375</td>\n",
       "    </tr>\n",
       "    <tr>\n",
       "      <th>998</th>\n",
       "      <td>10416625</td>\n",
       "      <td>1147908114</td>\n",
       "      <td>505531906724</td>\n",
       "      <td>86938505</td>\n",
       "    </tr>\n",
       "    <tr>\n",
       "      <th>999</th>\n",
       "      <td>10919292</td>\n",
       "      <td>1204359866</td>\n",
       "      <td>530408873412</td>\n",
       "      <td>91145772</td>\n",
       "    </tr>\n",
       "  </tbody>\n",
       "</table>\n",
       "</div>"
      ],
      "text/plain": [
       "            0           1             2         3\n",
       "990  10580366  1166899973  513640726928  88343576\n",
       "991  10438704  1150826672  506936677352  87187188\n",
       "992  10158104  1120640106  493566479113  84819284\n",
       "993  10377120  1144266405  503700716505  86555473\n",
       "994  10503246  1158001133  509912316630  87652229\n",
       "995  10760699  1186686483  522508013143  89805356\n",
       "996  10312442  1135509071  499925860483  85974732\n",
       "997  10183051  1122471869  494458712565  84980375\n",
       "998  10416625  1147908114  505531906724  86938505\n",
       "999  10919292  1204359866  530408873412  91145772"
      ]
     },
     "execution_count": 251,
     "metadata": {},
     "output_type": "execute_result"
    }
   ],
   "source": [
    "# Recovered Data\n",
    "pd.set_option('display.float_format', '{:.2f}'.format)\n",
    "pd.DataFrame(renewed_data).astype('int').tail(10) # "
   ]
  },
  {
   "attachments": {},
   "cell_type": "markdown",
   "id": "68365690",
   "metadata": {},
   "source": [
    "#### It's possible to recover data from secured data using dot method in reverse."
   ]
  },
  {
   "cell_type": "markdown",
   "id": "93339dd4",
   "metadata": {},
   "source": [
    "---"
   ]
  },
  {
   "cell_type": "markdown",
   "id": "01c5dc45",
   "metadata": {},
   "source": [
    "# USEFUL INFORMATIONS"
   ]
  },
  {
   "cell_type": "markdown",
   "id": "9cd2c885",
   "metadata": {},
   "source": [
    "##### Matrices and Matrix Operations"
   ]
  },
  {
   "cell_type": "markdown",
   "id": "2bcc9af1",
   "metadata": {},
   "source": [
    "- **A matrix** is a rectangular numeric table or two-dimensional array consisting of m rows and n columns.\n",
    "- **A transpose of the matrix** is a matrix operation when its rows become columns with the same numbers.- **Dummy code** is a simple code that doesn't mean anything.\n",
    "- **An identity matrix** is a square matrix with ones on the main diagonal and zeros elsewhere.\n",
    "- **An inverse matrix** for a square matrix A is a matrix A with a superscript -1 whose product with A is equal to the identity matrix.\n",
    "- **Invertible matrices** are matrices that have an inverse.\n",
    "- **Non-invertible** are matrices that don't have an inverse."
   ]
  },
  {
   "cell_type": "markdown",
   "id": "0bd1b364",
   "metadata": {},
   "source": [
    "# Properties of Matrices"
   ]
  },
  {
   "cell_type": "markdown",
   "id": "36b51f47",
   "metadata": {},
   "source": [
    "Matrices have many properties in Linear Algebra. A few of them are listed here which can help with the analytical proof in this project."
   ]
  },
  {
   "cell_type": "markdown",
   "id": "10f0d02f",
   "metadata": {},
   "source": [
    "<table>\n",
    "<tr>\n",
    "<td>Distributivity</td><td>$A(B+C)=AB+AC$</td>\n",
    "</tr>\n",
    "<tr>\n",
    "<td>Non-commutativity</td><td>$AB \\neq BA$</td>\n",
    "</tr>\n",
    "<tr>\n",
    "<td>Associative property of multiplication</td><td>$(AB)C = A(BC)$</td>\n",
    "</tr>\n",
    "<tr>\n",
    "<td>Multiplicative identity property</td><td>$IA = AI = A$</td>\n",
    "</tr>\n",
    "<tr>\n",
    "<td></td><td>$A^{-1}A = AA^{-1} = I$\n",
    "</td>\n",
    "</tr>    \n",
    "<tr>\n",
    "<td></td><td>$(AB)^{-1} = B^{-1}A^{-1}$</td>\n",
    "</tr>    \n",
    "<tr>\n",
    "<td>Reversivity of the transpose of a product of matrices,</td><td>$(AB)^T = B^TA^T$</td>\n",
    "</tr>    \n",
    "</table>"
   ]
  },
  {
   "cell_type": "markdown",
   "id": "d6d9e37a",
   "metadata": {},
   "source": [
    "---"
   ]
  }
 ],
 "metadata": {
  "kernelspec": {
   "display_name": "Python 3 (ipykernel)",
   "language": "python",
   "name": "python3"
  },
  "language_info": {
   "codemirror_mode": {
    "name": "ipython",
    "version": 3
   },
   "file_extension": ".py",
   "mimetype": "text/x-python",
   "name": "python",
   "nbconvert_exporter": "python",
   "pygments_lexer": "ipython3",
   "version": "3.7.7"
  }
 },
 "nbformat": 4,
 "nbformat_minor": 5
}
