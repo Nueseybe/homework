{
 "cells": [
  {
   "cell_type": "markdown",
   "id": "977e547b",
   "metadata": {},
   "source": [
    "# NumPy Homework"
   ]
  },
  {
   "cell_type": "markdown",
   "id": "3c85fee1",
   "metadata": {},
   "source": [
    "# A"
   ]
  },
  {
   "cell_type": "markdown",
   "id": "0a843feb",
   "metadata": {},
   "source": [
    "## 1) import numpy library with his usual alias!"
   ]
  },
  {
   "cell_type": "code",
   "execution_count": 40,
   "id": "bb73d452",
   "metadata": {},
   "outputs": [],
   "source": [
    "import numpy as np\n",
    "import pandas as pd\n",
    "import matplotlib.pyplot as plt\n",
    "from IPython.display import display"
   ]
  },
  {
   "cell_type": "code",
   "execution_count": 41,
   "id": "fb9a299c",
   "metadata": {},
   "outputs": [
    {
     "name": "stdout",
     "output_type": "stream",
     "text": [
      "   random_numbers\n",
      "0               8\n",
      "1               5\n",
      "2              19\n"
     ]
    }
   ],
   "source": [
    "import numpy as np\n",
    "import pandas as pd\n",
    " \n",
    "data = np.random.randint(5, 35, size=3)\n",
    "df = pd.DataFrame(data, columns=['random_numbers'])\n",
    " \n",
    "# displaying random integers in data frame\n",
    "print(df)"
   ]
  },
  {
   "cell_type": "markdown",
   "id": "249dc882",
   "metadata": {},
   "source": [
    "## 2) Create a random matrix, which has 2 columns and 20 rows. With this we will then create a pandas DataFrame!"
   ]
  },
  {
   "cell_type": "code",
   "execution_count": 42,
   "id": "48a57318",
   "metadata": {},
   "outputs": [
    {
     "name": "stdout",
     "output_type": "stream",
     "text": [
      "[[37 48]\n",
      " [35 34]\n",
      " [77 40]\n",
      " [58 34]\n",
      " [15 50]\n",
      " [81 77]\n",
      " [45 46]\n",
      " [27  5]\n",
      " [87 28]\n",
      " [50 42]\n",
      " [64 11]\n",
      " [51 10]\n",
      " [93 72]\n",
      " [94 44]\n",
      " [75 77]\n",
      " [62 73]\n",
      " [67 21]\n",
      " [12 74]\n",
      " [99 57]\n",
      " [89  2]]\n",
      "\n"
     ]
    },
    {
     "data": {
      "text/html": [
       "<div>\n",
       "<style scoped>\n",
       "    .dataframe tbody tr th:only-of-type {\n",
       "        vertical-align: middle;\n",
       "    }\n",
       "\n",
       "    .dataframe tbody tr th {\n",
       "        vertical-align: top;\n",
       "    }\n",
       "\n",
       "    .dataframe thead th {\n",
       "        text-align: right;\n",
       "    }\n",
       "</style>\n",
       "<table border=\"1\" class=\"dataframe\">\n",
       "  <thead>\n",
       "    <tr style=\"text-align: right;\">\n",
       "      <th></th>\n",
       "      <th>Price</th>\n",
       "      <th>Quality</th>\n",
       "    </tr>\n",
       "  </thead>\n",
       "  <tbody>\n",
       "    <tr>\n",
       "      <th>0</th>\n",
       "      <td>37</td>\n",
       "      <td>48</td>\n",
       "    </tr>\n",
       "    <tr>\n",
       "      <th>1</th>\n",
       "      <td>35</td>\n",
       "      <td>34</td>\n",
       "    </tr>\n",
       "    <tr>\n",
       "      <th>2</th>\n",
       "      <td>77</td>\n",
       "      <td>40</td>\n",
       "    </tr>\n",
       "    <tr>\n",
       "      <th>3</th>\n",
       "      <td>58</td>\n",
       "      <td>34</td>\n",
       "    </tr>\n",
       "    <tr>\n",
       "      <th>4</th>\n",
       "      <td>15</td>\n",
       "      <td>50</td>\n",
       "    </tr>\n",
       "    <tr>\n",
       "      <th>5</th>\n",
       "      <td>81</td>\n",
       "      <td>77</td>\n",
       "    </tr>\n",
       "    <tr>\n",
       "      <th>6</th>\n",
       "      <td>45</td>\n",
       "      <td>46</td>\n",
       "    </tr>\n",
       "    <tr>\n",
       "      <th>7</th>\n",
       "      <td>27</td>\n",
       "      <td>5</td>\n",
       "    </tr>\n",
       "    <tr>\n",
       "      <th>8</th>\n",
       "      <td>87</td>\n",
       "      <td>28</td>\n",
       "    </tr>\n",
       "    <tr>\n",
       "      <th>9</th>\n",
       "      <td>50</td>\n",
       "      <td>42</td>\n",
       "    </tr>\n",
       "    <tr>\n",
       "      <th>10</th>\n",
       "      <td>64</td>\n",
       "      <td>11</td>\n",
       "    </tr>\n",
       "    <tr>\n",
       "      <th>11</th>\n",
       "      <td>51</td>\n",
       "      <td>10</td>\n",
       "    </tr>\n",
       "    <tr>\n",
       "      <th>12</th>\n",
       "      <td>93</td>\n",
       "      <td>72</td>\n",
       "    </tr>\n",
       "    <tr>\n",
       "      <th>13</th>\n",
       "      <td>94</td>\n",
       "      <td>44</td>\n",
       "    </tr>\n",
       "    <tr>\n",
       "      <th>14</th>\n",
       "      <td>75</td>\n",
       "      <td>77</td>\n",
       "    </tr>\n",
       "    <tr>\n",
       "      <th>15</th>\n",
       "      <td>62</td>\n",
       "      <td>73</td>\n",
       "    </tr>\n",
       "    <tr>\n",
       "      <th>16</th>\n",
       "      <td>67</td>\n",
       "      <td>21</td>\n",
       "    </tr>\n",
       "    <tr>\n",
       "      <th>17</th>\n",
       "      <td>12</td>\n",
       "      <td>74</td>\n",
       "    </tr>\n",
       "    <tr>\n",
       "      <th>18</th>\n",
       "      <td>99</td>\n",
       "      <td>57</td>\n",
       "    </tr>\n",
       "    <tr>\n",
       "      <th>19</th>\n",
       "      <td>89</td>\n",
       "      <td>2</td>\n",
       "    </tr>\n",
       "  </tbody>\n",
       "</table>\n",
       "</div>"
      ],
      "text/plain": [
       "    Price  Quality\n",
       "0      37       48\n",
       "1      35       34\n",
       "2      77       40\n",
       "3      58       34\n",
       "4      15       50\n",
       "5      81       77\n",
       "6      45       46\n",
       "7      27        5\n",
       "8      87       28\n",
       "9      50       42\n",
       "10     64       11\n",
       "11     51       10\n",
       "12     93       72\n",
       "13     94       44\n",
       "14     75       77\n",
       "15     62       73\n",
       "16     67       21\n",
       "17     12       74\n",
       "18     99       57\n",
       "19     89        2"
      ]
     },
     "metadata": {},
     "output_type": "display_data"
    }
   ],
   "source": [
    "ratings_values = np.random.randint(0,100, size = (20,2))\n",
    "ratings = pd.DataFrame(ratings_values, columns=['Price', 'Quality'])\n",
    "print(ratings_values)\n",
    "print()\n",
    "display(ratings)"
   ]
  },
  {
   "cell_type": "markdown",
   "id": "30418e69",
   "metadata": {},
   "source": [
    "## 3) Create two vectors from the previous DataFrame. We will use the same values from the previous DataFrame which we already have been created. The first one contains the evaluations which show the customer satisfaction for the prices, and the second one contains for the quality. How big how good! We will then print the vectors.\n",
    "\n",
    "##### Hint: pd.DataFrame['column_name'] gives us a Series from a DataFrame. We can use it with the same functions as DataFrames."
   ]
  },
  {
   "cell_type": "code",
   "execution_count": 60,
   "id": "e6788ed8",
   "metadata": {},
   "outputs": [
    {
     "name": "stdout",
     "output_type": "stream",
     "text": [
      "Price:  [37 35 77 58 15 81 45 27 87 50 64 51 93 94 75 62 67 12 99 89]\n",
      "Quality:  [48 34 40 34 50 77 46  5 28 42 11 10 72 44 77 73 21 74 57  2]\n"
     ]
    }
   ],
   "source": [
    "\n",
    "#price = ratings.loc[:, 'Price']\n",
    "#quality = ratings.loc[:, 'Quality']\n",
    "price =  ratings['Price'].values\n",
    "quality =ratings['Quality'].values\n",
    "print('Price: ', price)\n",
    "print('Quality: ', quality)\n",
    "\n",
    "\n",
    "\n"
   ]
  },
  {
   "cell_type": "markdown",
   "id": "549889fe",
   "metadata": {},
   "source": [
    "## 4) Find the total numbers of visitors."
   ]
  },
  {
   "cell_type": "code",
   "execution_count": 44,
   "id": "4c453a33",
   "metadata": {},
   "outputs": [
    {
     "ename": "SyntaxError",
     "evalue": "invalid syntax (2937793994.py, line 1)",
     "output_type": "error",
     "traceback": [
      "\u001b[0;36m  File \u001b[0;32m\"/var/folders/p9/h3499drs75vbtyjhty_qq29c0000gn/T/ipykernel_62419/2937793994.py\"\u001b[0;36m, line \u001b[0;32m1\u001b[0m\n\u001b[0;31m    visitors_count = # < write your code here >\u001b[0m\n\u001b[0m                                               ^\u001b[0m\n\u001b[0;31mSyntaxError\u001b[0m\u001b[0;31m:\u001b[0m invalid syntax\n"
     ]
    }
   ],
   "source": [
    "visitors_count = # < write your code here >\n",
    "\n",
    "print('Number of visitors:', visitors_count) \n"
   ]
  },
  {
   "cell_type": "markdown",
   "id": "ba39a7bf",
   "metadata": {},
   "source": [
    "## 5) Find and print the average ratings for each column using numpy functions (we will find the mean and median values)"
   ]
  },
  {
   "cell_type": "code",
   "execution_count": 61,
   "id": "6e62b45d",
   "metadata": {},
   "outputs": [
    {
     "name": "stdout",
     "output_type": "stream",
     "text": [
      "The mean of the price ratings:  60.9\n",
      "The median of the price ratings 63.0\n",
      "The mean of the quality ratings:  42.25\n",
      "The median of the quality ratings 43.0\n"
     ]
    }
   ],
   "source": [
    "print('The mean of the price ratings: ', np.mean(price)) # < write your code here >\n",
    "print('The median of the price ratings', np.median(price)) # < write your code here >\n",
    "\n",
    "print('The mean of the quality ratings: ', np.mean(quality)) # < write your code here >\n",
    "print('The median of the quality ratings', np.median(quality)) # < write your code here >"
   ]
  },
  {
   "attachments": {},
   "cell_type": "markdown",
   "id": "1ff9799a",
   "metadata": {},
   "source": [
    "## 6) Create a new vector which is the average of the ratings of two columns, price and quality. We will name it as mean_ratings. It will show the average rating for each customer. Round elements of the array to the nearest integer."
   ]
  },
  {
   "cell_type": "code",
   "execution_count": 62,
   "id": "92fddb95",
   "metadata": {},
   "outputs": [
    {
     "ename": "IndexError",
     "evalue": "too many indices for array: array is 1-dimensional, but 2 were indexed",
     "output_type": "error",
     "traceback": [
      "\u001b[0;31m---------------------------------------------------------------------------\u001b[0m",
      "\u001b[0;31mIndexError\u001b[0m                                Traceback (most recent call last)",
      "\u001b[0;32m/var/folders/p9/h3499drs75vbtyjhty_qq29c0000gn/T/ipykernel_62419/548034994.py\u001b[0m in \u001b[0;36m<module>\u001b[0;34m\u001b[0m\n\u001b[0;32m----> 1\u001b[0;31m \u001b[0mprice_ratings\u001b[0m \u001b[0;34m=\u001b[0m \u001b[0mprice\u001b[0m\u001b[0;34m[\u001b[0m\u001b[0;34m:\u001b[0m\u001b[0;34m,\u001b[0m\u001b[0;36m0\u001b[0m\u001b[0;34m]\u001b[0m\u001b[0;34m\u001b[0m\u001b[0;34m\u001b[0m\u001b[0m\n\u001b[0m\u001b[1;32m      2\u001b[0m \u001b[0mquality_ratings\u001b[0m \u001b[0;34m=\u001b[0m \u001b[0mquality\u001b[0m\u001b[0;34m[\u001b[0m\u001b[0;34m:\u001b[0m\u001b[0;34m,\u001b[0m\u001b[0;36m1\u001b[0m\u001b[0;34m]\u001b[0m\u001b[0;34m\u001b[0m\u001b[0;34m\u001b[0m\u001b[0m\n\u001b[1;32m      3\u001b[0m \u001b[0mmean_ratings\u001b[0m \u001b[0;34m=\u001b[0m \u001b[0mnp\u001b[0m\u001b[0;34m.\u001b[0m\u001b[0mround\u001b[0m\u001b[0;34m(\u001b[0m\u001b[0mprice_ratings\u001b[0m \u001b[0;34m+\u001b[0m \u001b[0mquality_ratings\u001b[0m \u001b[0;34m/\u001b[0m \u001b[0;36m2\u001b[0m\u001b[0;34m)\u001b[0m\u001b[0;34m\u001b[0m\u001b[0;34m\u001b[0m\u001b[0m\n\u001b[1;32m      4\u001b[0m \u001b[0mprint\u001b[0m\u001b[0;34m(\u001b[0m\u001b[0mmean_ratings\u001b[0m\u001b[0;34m)\u001b[0m\u001b[0;34m\u001b[0m\u001b[0;34m\u001b[0m\u001b[0m\n",
      "\u001b[0;31mIndexError\u001b[0m: too many indices for array: array is 1-dimensional, but 2 were indexed"
     ]
    }
   ],
   "source": [
    "price_ratings = price[:,0]\n",
    "quality_ratings = quality[:,1]\n",
    "mean_ratings = np.round(price_ratings + quality_ratings / 2)\n",
    "print(mean_ratings) "
   ]
  },
  {
   "attachments": {},
   "cell_type": "markdown",
   "id": "ed221fa4",
   "metadata": {},
   "source": [
    "## 7) Create ratings_values matrix again with the all three vectors. Average ratings, which has just been calculated in the previous exercise, should be the third column of the new matrix. All values in the matrix should be integer! New matrix should have 20 rows and 3 columns!"
   ]
  },
  {
   "cell_type": "code",
   "execution_count": null,
   "id": "074a8fae",
   "metadata": {},
   "outputs": [],
   "source": [
    "new_ratings_values = # < write your code here >\n",
    "print(new_ratings_values)\n",
    "print(type(new_ratings_values))\n",
    "print(new_ratings_values.shape)"
   ]
  },
  {
   "cell_type": "code",
   "execution_count": null,
   "id": "cb275581",
   "metadata": {},
   "outputs": [],
   "source": [
    "new_ratings = pd.DataFrame(new_ratings_values, columns=['Price', 'Quality', 'Average'])\n",
    "display(new_ratings)"
   ]
  },
  {
   "cell_type": "markdown",
   "id": "0a77d801",
   "metadata": {},
   "source": [
    "# B"
   ]
  },
  {
   "cell_type": "markdown",
   "id": "34c6abac",
   "metadata": {},
   "source": [
    "## 1) Create *Mean Absolute Error (MAE)* function\n",
    "\n",
    "\\begin{equation}\n",
    "MAE=\\frac{1}{n}\\sum_{i=1}^n|target_i - predictions_i|\n",
    "\\end{equation}"
   ]
  },
  {
   "cell_type": "code",
   "execution_count": 46,
   "id": "44680fb4",
   "metadata": {},
   "outputs": [
    {
     "name": "stdout",
     "output_type": "stream",
     "text": [
      "[0.32 0.74 0.39 0.66 0.19 0.92 0.57 0.99 0.37 0.61]\n",
      "[0.06 0.86 0.97 0.03 0.82 0.17 0.56 0.66 0.96 0.5 ]\n",
      "**********************\n",
      "0.22438999999999995\n"
     ]
    }
   ],
   "source": [
    "\n",
    "\n",
    "# Generate random target and predictions arrays\n",
    "t = np.random.rand(10)\n",
    "p = np.random.rand(10)\n",
    "target = np.round(t,2)\n",
    "predictions = np.round(p,2)\n",
    "\n",
    "\n",
    "print(target)\n",
    "print(predictions)\n",
    "print(\"**********************\")\n",
    "def mae(target, predictions):\n",
    "    n = target.size\n",
    "    return ((target - predictions) ** 2).sum() / n\n",
    "\n",
    "print(mae(target, predictions))\n",
    "\n",
    "\n",
    "  "
   ]
  },
  {
   "cell_type": "markdown",
   "id": "a9503f14",
   "metadata": {},
   "source": [
    "## 2) Create two arrays each of them has $100$ observations. We will use them for *target* and *predictions* labelling. The target array should consist only $0$ or $1$ values which are random created, while predictions only integer $1$. The target array should have a *binomial distribution* which gives $1$ with $60$% probability."
   ]
  },
  {
   "cell_type": "code",
   "execution_count": 47,
   "id": "e1f48173",
   "metadata": {},
   "outputs": [
    {
     "name": "stdout",
     "output_type": "stream",
     "text": [
      "[1 0 1 1 1 0 1 0 0 1 0 0 1 1 0 1 1 1 0 1 0 1 0 1 1 1 0 0 1 1 0 1 1 0 0 0 1\n",
      " 1 1 0 0 1 1 0 0 0 1 1 1 1 1 1 1 0 1 1 1 0 1 0 1 0 1 1 0 1 0 1 0 1 1 0 1 0\n",
      " 1 0 0 1 1 0 0 0 1 0 1 1 1 1 1 1 1 0 1 1 1 0 0 0 0 0]\n",
      "\n",
      "[1 1 1 1 1 1 1 1 1 1 1 1 1 1 1 1 1 1 1 1 1 1 1 1 1 1 1 1 1 1 1 1 1 1 1 1 1\n",
      " 1 1 1 1 1 1 1 1 1 1 1 1 1 1 1 1 1 1 1 1 1 1 1 1 1 1 1 1 1 1 1 1 1 1 1 1 1\n",
      " 1 1 1 1 1 1 1 1 1 1 1 1 1 1 1 1 1 1 1 1 1 1 1 1 1 1]\n"
     ]
    }
   ],
   "source": [
    "\n",
    "target = np.random.binomial(n=1 , p=0.6,  size = 100) # type: ignore\n",
    "#predictions = np.random.randint(1,100,100)\n",
    "\n",
    "predictions = np.ones(100, dtype=int)\n",
    "\n",
    "print(target)\n",
    "print()\n",
    "print(predictions)"
   ]
  },
  {
   "cell_type": "markdown",
   "id": "08a52b61",
   "metadata": {},
   "source": [
    "## 3) Find the *MAE* with your mae function"
   ]
  },
  {
   "cell_type": "code",
   "execution_count": 48,
   "id": "296125c1",
   "metadata": {},
   "outputs": [
    {
     "name": "stdout",
     "output_type": "stream",
     "text": [
      "0.42\n"
     ]
    }
   ],
   "source": [
    "def mse1(target, predictions):\n",
    "    n = target.size\n",
    "    return ((target - predictions) ** 2).sum() / n\n",
    "\n",
    "print(mse1(target, predictions))"
   ]
  },
  {
   "cell_type": "code",
   "execution_count": 49,
   "id": "7ed87f1b",
   "metadata": {},
   "outputs": [
    {
     "name": "stdout",
     "output_type": "stream",
     "text": [
      "0.42\n"
     ]
    }
   ],
   "source": [
    "n= target.size\n",
    "mean_absolute_error = ((target - predictions) ** 2).sum() / n\n",
    "print(mean_absolute_error)"
   ]
  },
  {
   "cell_type": "markdown",
   "id": "83589d76",
   "metadata": {},
   "source": [
    "## 4)  Run the code in this step. Observe the printed outputs. Try to run the codes a few times from step 2. What do you think about the results? Give your thoughts shortly with 3 - 5 sentences about why two outputs are the same. What is your conclusion?"
   ]
  },
  {
   "cell_type": "code",
   "execution_count": 50,
   "id": "8116dd9a",
   "metadata": {},
   "outputs": [
    {
     "name": "stdout",
     "output_type": "stream",
     "text": [
      "0.42000000000000004\n",
      "0.42\n"
     ]
    }
   ],
   "source": [
    "print(1-np.mean(target))\n",
    "\n",
    "print(mean_absolute_error)"
   ]
  },
  {
   "cell_type": "markdown",
   "id": "b8c6a06b",
   "metadata": {},
   "source": [
    " ### < write your conclusion here >"
   ]
  },
  {
   "cell_type": "markdown",
   "id": "223feb67",
   "metadata": {},
   "source": [
    "## 5) We have always chosen $1$ in our predictions, but the actual values at the target have changed each time. How likely is it that we got it right each time, and what determines this?"
   ]
  },
  {
   "cell_type": "markdown",
   "id": "c905b8d7",
   "metadata": {},
   "source": [
    " ### < write your answer here >"
   ]
  },
  {
   "cell_type": "markdown",
   "id": "3207c6b9",
   "metadata": {},
   "source": [
    "# C"
   ]
  },
  {
   "cell_type": "markdown",
   "id": "209ef743",
   "metadata": {},
   "source": [
    "## 1) Create a Pythagorean function using *np.dot()* to calculate vector length\n",
    "\n",
    "$$v = [x, y] ==> len_v = \\sqrt{x^2+y^2}$$"
   ]
  },
  {
   "cell_type": "code",
   "execution_count": 64,
   "id": "fdb7e6eb",
   "metadata": {},
   "outputs": [],
   "source": [
    "def pythagorean_length(vektör):\n",
    "    return np.sqrt(np.dot(vektör, vektör))\n"
   ]
  },
  {
   "cell_type": "markdown",
   "id": "66c9d923",
   "metadata": {},
   "source": [
    "## 2) Calculate the length of the given vector using your *pythagorean_length* function and check your result comparing with the given"
   ]
  },
  {
   "cell_type": "code",
   "execution_count": 65,
   "id": "91f1490e",
   "metadata": {},
   "outputs": [
    {
     "name": "stdout",
     "output_type": "stream",
     "text": [
      "5.0\n",
      "5.0\n"
     ]
    }
   ],
   "source": [
    "a = np.array([3, 4])\n",
    "\n",
    "print(pythagorean_length(a)) # < write your code here >\n",
    "\n",
    "print(((a[0] ** 2) + (a[1] ** 2)) ** 0.5)"
   ]
  },
  {
   "cell_type": "markdown",
   "id": "83e04ecb",
   "metadata": {},
   "source": [
    "## 3) Find the shortest distance (Euclidean distance) using *np.dot()* between the given two vectors and compare the results to check"
   ]
  },
  {
   "cell_type": "code",
   "execution_count": 66,
   "id": "894a6dbf",
   "metadata": {},
   "outputs": [
    {
     "name": "stdout",
     "output_type": "stream",
     "text": [
      "The distance between a and b is 5.0\n",
      "The distance between a and b should be 5.0\n"
     ]
    }
   ],
   "source": [
    "a = np.array([5, 6])\n",
    "b = np.array([1, 3])\n",
    "#euclidean_distance = np.linalg.norm(a - b)\n",
    "\n",
    "c = euclidean_distance = np.linalg.norm(a - b)\n",
    "print('The distance between a and b is', c)\n",
    "\n",
    "from scipy.spatial import distance\n",
    "print('The distance between a and b should be', distance.euclidean(a, b))"
   ]
  },
  {
   "cell_type": "markdown",
   "id": "7cc6aed5",
   "metadata": {},
   "source": [
    "# D - Obfuscating Data"
   ]
  },
  {
   "cell_type": "markdown",
   "id": "d1067272",
   "metadata": {},
   "source": [
    "It is best to obfuscate data by multiplying the numerical features (they can be seen as the matrix $X$) by an invertible matrix $P$. \n",
    "\n",
    "$$\n",
    "X' = X \\times P\n",
    "$$\n",
    "\n",
    "Try to do that and check how the features' values will look like after the transformation. By the way, the invertible property is important here so make sure that $P$ is indeed invertible."
   ]
  },
  {
   "cell_type": "code",
   "execution_count": 74,
   "id": "167c61ea",
   "metadata": {},
   "outputs": [
    {
     "data": {
      "text/html": [
       "<div>\n",
       "<style scoped>\n",
       "    .dataframe tbody tr th:only-of-type {\n",
       "        vertical-align: middle;\n",
       "    }\n",
       "\n",
       "    .dataframe tbody tr th {\n",
       "        vertical-align: top;\n",
       "    }\n",
       "\n",
       "    .dataframe thead th {\n",
       "        text-align: right;\n",
       "    }\n",
       "</style>\n",
       "<table border=\"1\" class=\"dataframe\">\n",
       "  <thead>\n",
       "    <tr style=\"text-align: right;\">\n",
       "      <th></th>\n",
       "      <th>gender</th>\n",
       "      <th>age</th>\n",
       "      <th>salary</th>\n",
       "      <th>family_members</th>\n",
       "    </tr>\n",
       "  </thead>\n",
       "  <tbody>\n",
       "    <tr>\n",
       "      <th>990</th>\n",
       "      <td>0</td>\n",
       "      <td>71</td>\n",
       "      <td>29260</td>\n",
       "      <td>4</td>\n",
       "    </tr>\n",
       "    <tr>\n",
       "      <th>991</th>\n",
       "      <td>0</td>\n",
       "      <td>81</td>\n",
       "      <td>24932</td>\n",
       "      <td>8</td>\n",
       "    </tr>\n",
       "    <tr>\n",
       "      <th>992</th>\n",
       "      <td>1</td>\n",
       "      <td>37</td>\n",
       "      <td>25355</td>\n",
       "      <td>4</td>\n",
       "    </tr>\n",
       "    <tr>\n",
       "      <th>993</th>\n",
       "      <td>0</td>\n",
       "      <td>95</td>\n",
       "      <td>18761</td>\n",
       "      <td>0</td>\n",
       "    </tr>\n",
       "    <tr>\n",
       "      <th>994</th>\n",
       "      <td>1</td>\n",
       "      <td>89</td>\n",
       "      <td>32028</td>\n",
       "      <td>1</td>\n",
       "    </tr>\n",
       "    <tr>\n",
       "      <th>995</th>\n",
       "      <td>0</td>\n",
       "      <td>18</td>\n",
       "      <td>27336</td>\n",
       "      <td>4</td>\n",
       "    </tr>\n",
       "    <tr>\n",
       "      <th>996</th>\n",
       "      <td>1</td>\n",
       "      <td>69</td>\n",
       "      <td>21862</td>\n",
       "      <td>8</td>\n",
       "    </tr>\n",
       "    <tr>\n",
       "      <th>997</th>\n",
       "      <td>0</td>\n",
       "      <td>21</td>\n",
       "      <td>25333</td>\n",
       "      <td>6</td>\n",
       "    </tr>\n",
       "    <tr>\n",
       "      <th>998</th>\n",
       "      <td>1</td>\n",
       "      <td>19</td>\n",
       "      <td>24182</td>\n",
       "      <td>4</td>\n",
       "    </tr>\n",
       "    <tr>\n",
       "      <th>999</th>\n",
       "      <td>1</td>\n",
       "      <td>43</td>\n",
       "      <td>31864</td>\n",
       "      <td>9</td>\n",
       "    </tr>\n",
       "  </tbody>\n",
       "</table>\n",
       "</div>"
      ],
      "text/plain": [
       "     gender  age  salary  family_members\n",
       "990       0   71   29260               4\n",
       "991       0   81   24932               8\n",
       "992       1   37   25355               4\n",
       "993       0   95   18761               0\n",
       "994       1   89   32028               1\n",
       "995       0   18   27336               4\n",
       "996       1   69   21862               8\n",
       "997       0   21   25333               6\n",
       "998       1   19   24182               4\n",
       "999       1   43   31864               9"
      ]
     },
     "metadata": {},
     "output_type": "display_data"
    }
   ],
   "source": [
    "# pd.DataFrame\n",
    "columns = ['gender', 'age', 'salary', 'family_members']\n",
    "data = np.array([np.random.choice([0, 1], size=1000), \n",
    "                 np.random.randint(18, 100, 1000), \n",
    "                 np.random.normal(25000, 5000, 1000).astype(int), \n",
    "                 np.random.randint(0, 10, 1000)\n",
    "                ])\n",
    "\n",
    "personal_data = pd.DataFrame(data.T, columns=columns)\n",
    "display(personal_data.tail(10))"
   ]
  },
  {
   "cell_type": "code",
   "execution_count": 72,
   "id": "3cdf802c",
   "metadata": {},
   "outputs": [],
   "source": [
    "X = personal_data.values"
   ]
  },
  {
   "cell_type": "code",
   "execution_count": null,
   "id": "b599e985",
   "metadata": {},
   "outputs": [],
   "source": [
    "P = np.linalg.inv(X)\n",
    "\n",
    "print(P)\n",
    "\n",
    "# < write your code here >"
   ]
  },
  {
   "cell_type": "markdown",
   "id": "f85a36c3",
   "metadata": {},
   "source": [
    "**(Hint:** https://numpy.org/doc/stable/reference/random/generator.html **)**"
   ]
  },
  {
   "cell_type": "code",
   "execution_count": null,
   "id": "d176fe5d",
   "metadata": {},
   "outputs": [],
   "source": [
    "# < write your code here >"
   ]
  },
  {
   "cell_type": "code",
   "execution_count": null,
   "id": "b8ce9d90",
   "metadata": {},
   "outputs": [],
   "source": [
    "# < write your code here >"
   ]
  },
  {
   "cell_type": "markdown",
   "id": "0458e01b",
   "metadata": {},
   "source": [
    "#### Can you guess the customers' ages or income after the transformation?"
   ]
  },
  {
   "cell_type": "code",
   "execution_count": null,
   "id": "5f3b9975",
   "metadata": {},
   "outputs": [],
   "source": [
    "# Secure Data\n",
    "pd.DataFrame(<............>).describe() # < write your code here >"
   ]
  },
  {
   "cell_type": "markdown",
   "id": "d121d1e5",
   "metadata": {},
   "source": [
    "#### write your conlusion here\n",
    "..."
   ]
  },
  {
   "cell_type": "markdown",
   "id": "ba51f2eb",
   "metadata": {},
   "source": [
    "#### Can you recover the original data from $X'$ if you know $P$? Try to check that with calculations by moving $P$ from the right side of the formula above to the left one. The rules of matrix multiplication are really helpful here."
   ]
  },
  {
   "cell_type": "code",
   "execution_count": null,
   "id": "3f6168f0",
   "metadata": {},
   "outputs": [],
   "source": [
    "# < write your code here >"
   ]
  },
  {
   "cell_type": "code",
   "execution_count": null,
   "id": "95cea4ea",
   "metadata": {},
   "outputs": [],
   "source": [
    "# Printing all three cases for a few customers"
   ]
  },
  {
   "cell_type": "code",
   "execution_count": null,
   "id": "f9e9fada",
   "metadata": {},
   "outputs": [],
   "source": [
    "# Original Data\n",
    "personal_data.tail(10)"
   ]
  },
  {
   "cell_type": "code",
   "execution_count": null,
   "id": "18ebc61a",
   "metadata": {},
   "outputs": [],
   "source": [
    "# Secure Data\n",
    "pd.DataFrame(<............>).tail(10)  # < write your code here >"
   ]
  },
  {
   "cell_type": "code",
   "execution_count": null,
   "id": "4e3cbc0f",
   "metadata": {},
   "outputs": [],
   "source": [
    "# Recovered Data\n",
    "pd.set_option('display.float_format', '{:.2f}'.format)\n",
    "pd.DataFrame(<............>).astype('int').tail(10) # < write your code here >"
   ]
  },
  {
   "cell_type": "markdown",
   "id": "68365690",
   "metadata": {},
   "source": [
    "#### write your conlusion here\n",
    "..."
   ]
  },
  {
   "cell_type": "markdown",
   "id": "93339dd4",
   "metadata": {},
   "source": [
    "---"
   ]
  },
  {
   "cell_type": "markdown",
   "id": "01c5dc45",
   "metadata": {},
   "source": [
    "# USEFUL INFORMATIONS"
   ]
  },
  {
   "cell_type": "markdown",
   "id": "9cd2c885",
   "metadata": {},
   "source": [
    "##### Matrices and Matrix Operations"
   ]
  },
  {
   "cell_type": "markdown",
   "id": "2bcc9af1",
   "metadata": {},
   "source": [
    "- **A matrix** is a rectangular numeric table or two-dimensional array consisting of m rows and n columns.\n",
    "- **A transpose of the matrix** is a matrix operation when its rows become columns with the same numbers.- **Dummy code** is a simple code that doesn't mean anything.\n",
    "- **An identity matrix** is a square matrix with ones on the main diagonal and zeros elsewhere.\n",
    "- **An inverse matrix** for a square matrix A is a matrix A with a superscript -1 whose product with A is equal to the identity matrix.\n",
    "- **Invertible matrices** are matrices that have an inverse.\n",
    "- **Non-invertible** are matrices that don't have an inverse."
   ]
  },
  {
   "cell_type": "markdown",
   "id": "0bd1b364",
   "metadata": {},
   "source": [
    "# Properties of Matrices"
   ]
  },
  {
   "cell_type": "markdown",
   "id": "36b51f47",
   "metadata": {},
   "source": [
    "Matrices have many properties in Linear Algebra. A few of them are listed here which can help with the analytical proof in this project."
   ]
  },
  {
   "cell_type": "markdown",
   "id": "10f0d02f",
   "metadata": {},
   "source": [
    "<table>\n",
    "<tr>\n",
    "<td>Distributivity</td><td>$A(B+C)=AB+AC$</td>\n",
    "</tr>\n",
    "<tr>\n",
    "<td>Non-commutativity</td><td>$AB \\neq BA$</td>\n",
    "</tr>\n",
    "<tr>\n",
    "<td>Associative property of multiplication</td><td>$(AB)C = A(BC)$</td>\n",
    "</tr>\n",
    "<tr>\n",
    "<td>Multiplicative identity property</td><td>$IA = AI = A$</td>\n",
    "</tr>\n",
    "<tr>\n",
    "<td></td><td>$A^{-1}A = AA^{-1} = I$\n",
    "</td>\n",
    "</tr>    \n",
    "<tr>\n",
    "<td></td><td>$(AB)^{-1} = B^{-1}A^{-1}$</td>\n",
    "</tr>    \n",
    "<tr>\n",
    "<td>Reversivity of the transpose of a product of matrices,</td><td>$(AB)^T = B^TA^T$</td>\n",
    "</tr>    \n",
    "</table>"
   ]
  },
  {
   "cell_type": "markdown",
   "id": "d6d9e37a",
   "metadata": {},
   "source": [
    "---"
   ]
  }
 ],
 "metadata": {
  "kernelspec": {
   "display_name": "Python 3 (ipykernel)",
   "language": "python",
   "name": "python3"
  },
  "language_info": {
   "codemirror_mode": {
    "name": "ipython",
    "version": 3
   },
   "file_extension": ".py",
   "mimetype": "text/x-python",
   "name": "python",
   "nbconvert_exporter": "python",
   "pygments_lexer": "ipython3",
   "version": "3.7.7"
  }
 },
 "nbformat": 4,
 "nbformat_minor": 5
}
