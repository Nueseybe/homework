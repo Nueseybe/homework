{
 "cells": [
  {
   "cell_type": "markdown",
   "id": "977e547b",
   "metadata": {},
   "source": [
    "# NumPy Homework"
   ]
  },
  {
   "cell_type": "markdown",
   "id": "3c85fee1",
   "metadata": {},
   "source": [
    "# A"
   ]
  },
  {
   "cell_type": "markdown",
   "id": "0a843feb",
   "metadata": {},
   "source": [
    "## 1) import numpy library with his usual alias!"
   ]
  },
  {
   "cell_type": "code",
   "execution_count": 2,
   "id": "bb73d452",
   "metadata": {},
   "outputs": [],
   "source": [
    "import numpy as np\n",
    "import pandas as pd\n",
    "import matplotlib.pyplot as plt\n",
    "from IPython.display import display"
   ]
  },
  {
   "cell_type": "markdown",
   "id": "249dc882",
   "metadata": {},
   "source": [
    "## 2) Create a random matrix, which has 2 columns and 20 rows. With this we will then create a pandas DataFrame!"
   ]
  },
  {
   "cell_type": "code",
   "execution_count": 2,
   "id": "48a57318",
   "metadata": {},
   "outputs": [
    {
     "name": "stdout",
     "output_type": "stream",
     "text": [
      "[[ 2 10]\n",
      " [ 3 10]\n",
      " [ 5  1]\n",
      " [ 1  3]\n",
      " [ 2  9]\n",
      " [ 2  1]\n",
      " [ 1  9]\n",
      " [ 2  3]\n",
      " [ 3  1]\n",
      " [ 5  2]\n",
      " [10  5]\n",
      " [ 7  4]\n",
      " [ 7  1]\n",
      " [ 9  7]\n",
      " [ 3  9]\n",
      " [ 3  9]\n",
      " [ 8 10]\n",
      " [ 9 10]\n",
      " [ 3  7]\n",
      " [ 6 10]]\n",
      "\n"
     ]
    },
    {
     "data": {
      "text/html": [
       "<div>\n",
       "<style scoped>\n",
       "    .dataframe tbody tr th:only-of-type {\n",
       "        vertical-align: middle;\n",
       "    }\n",
       "\n",
       "    .dataframe tbody tr th {\n",
       "        vertical-align: top;\n",
       "    }\n",
       "\n",
       "    .dataframe thead th {\n",
       "        text-align: right;\n",
       "    }\n",
       "</style>\n",
       "<table border=\"1\" class=\"dataframe\">\n",
       "  <thead>\n",
       "    <tr style=\"text-align: right;\">\n",
       "      <th></th>\n",
       "      <th>Price</th>\n",
       "      <th>Quality</th>\n",
       "    </tr>\n",
       "  </thead>\n",
       "  <tbody>\n",
       "    <tr>\n",
       "      <th>0</th>\n",
       "      <td>2</td>\n",
       "      <td>10</td>\n",
       "    </tr>\n",
       "    <tr>\n",
       "      <th>1</th>\n",
       "      <td>3</td>\n",
       "      <td>10</td>\n",
       "    </tr>\n",
       "    <tr>\n",
       "      <th>2</th>\n",
       "      <td>5</td>\n",
       "      <td>1</td>\n",
       "    </tr>\n",
       "    <tr>\n",
       "      <th>3</th>\n",
       "      <td>1</td>\n",
       "      <td>3</td>\n",
       "    </tr>\n",
       "    <tr>\n",
       "      <th>4</th>\n",
       "      <td>2</td>\n",
       "      <td>9</td>\n",
       "    </tr>\n",
       "    <tr>\n",
       "      <th>5</th>\n",
       "      <td>2</td>\n",
       "      <td>1</td>\n",
       "    </tr>\n",
       "    <tr>\n",
       "      <th>6</th>\n",
       "      <td>1</td>\n",
       "      <td>9</td>\n",
       "    </tr>\n",
       "    <tr>\n",
       "      <th>7</th>\n",
       "      <td>2</td>\n",
       "      <td>3</td>\n",
       "    </tr>\n",
       "    <tr>\n",
       "      <th>8</th>\n",
       "      <td>3</td>\n",
       "      <td>1</td>\n",
       "    </tr>\n",
       "    <tr>\n",
       "      <th>9</th>\n",
       "      <td>5</td>\n",
       "      <td>2</td>\n",
       "    </tr>\n",
       "    <tr>\n",
       "      <th>10</th>\n",
       "      <td>10</td>\n",
       "      <td>5</td>\n",
       "    </tr>\n",
       "    <tr>\n",
       "      <th>11</th>\n",
       "      <td>7</td>\n",
       "      <td>4</td>\n",
       "    </tr>\n",
       "    <tr>\n",
       "      <th>12</th>\n",
       "      <td>7</td>\n",
       "      <td>1</td>\n",
       "    </tr>\n",
       "    <tr>\n",
       "      <th>13</th>\n",
       "      <td>9</td>\n",
       "      <td>7</td>\n",
       "    </tr>\n",
       "    <tr>\n",
       "      <th>14</th>\n",
       "      <td>3</td>\n",
       "      <td>9</td>\n",
       "    </tr>\n",
       "    <tr>\n",
       "      <th>15</th>\n",
       "      <td>3</td>\n",
       "      <td>9</td>\n",
       "    </tr>\n",
       "    <tr>\n",
       "      <th>16</th>\n",
       "      <td>8</td>\n",
       "      <td>10</td>\n",
       "    </tr>\n",
       "    <tr>\n",
       "      <th>17</th>\n",
       "      <td>9</td>\n",
       "      <td>10</td>\n",
       "    </tr>\n",
       "    <tr>\n",
       "      <th>18</th>\n",
       "      <td>3</td>\n",
       "      <td>7</td>\n",
       "    </tr>\n",
       "    <tr>\n",
       "      <th>19</th>\n",
       "      <td>6</td>\n",
       "      <td>10</td>\n",
       "    </tr>\n",
       "  </tbody>\n",
       "</table>\n",
       "</div>"
      ],
      "text/plain": [
       "    Price  Quality\n",
       "0       2       10\n",
       "1       3       10\n",
       "2       5        1\n",
       "3       1        3\n",
       "4       2        9\n",
       "5       2        1\n",
       "6       1        9\n",
       "7       2        3\n",
       "8       3        1\n",
       "9       5        2\n",
       "10     10        5\n",
       "11      7        4\n",
       "12      7        1\n",
       "13      9        7\n",
       "14      3        9\n",
       "15      3        9\n",
       "16      8       10\n",
       "17      9       10\n",
       "18      3        7\n",
       "19      6       10"
      ]
     },
     "metadata": {},
     "output_type": "display_data"
    }
   ],
   "source": [
    "ratings_values = np.random.randint(low=1, high=11, size=(20, 2))\n",
    "ratings = pd.DataFrame(ratings_values, columns=['Price', 'Quality'])\n",
    "print(ratings_values)\n",
    "print()\n",
    "display(ratings)"
   ]
  },
  {
   "attachments": {},
   "cell_type": "markdown",
   "id": "30418e69",
   "metadata": {},
   "source": [
    "## 3) Create two vectors from the previous DataFrame. We will use the same values from the previous DataFrame which we already have been created. The first one contains the evaluations which show the customer satisfaction for the prices, and the second one contains for the quality. How big how good! We will then print the vectors.\n",
    "\n",
    "##### Hint: pd.DataFrame['column_name'] gives us a Series from a DataFrame. We can use it with the same functions as DataFrames."
   ]
  },
  {
   "cell_type": "code",
   "execution_count": 3,
   "id": "e6788ed8",
   "metadata": {},
   "outputs": [
    {
     "name": "stdout",
     "output_type": "stream",
     "text": [
      "Price:  0      2\n",
      "1      3\n",
      "2      5\n",
      "3      1\n",
      "4      2\n",
      "5      2\n",
      "6      1\n",
      "7      2\n",
      "8      3\n",
      "9      5\n",
      "10    10\n",
      "11     7\n",
      "12     7\n",
      "13     9\n",
      "14     3\n",
      "15     3\n",
      "16     8\n",
      "17     9\n",
      "18     3\n",
      "19     6\n",
      "Name: Price, dtype: int32\n",
      "Quality:  0     10\n",
      "1     10\n",
      "2      1\n",
      "3      3\n",
      "4      9\n",
      "5      1\n",
      "6      9\n",
      "7      3\n",
      "8      1\n",
      "9      2\n",
      "10     5\n",
      "11     4\n",
      "12     1\n",
      "13     7\n",
      "14     9\n",
      "15     9\n",
      "16    10\n",
      "17    10\n",
      "18     7\n",
      "19    10\n",
      "Name: Quality, dtype: int32\n"
     ]
    }
   ],
   "source": [
    "price = ratings.loc[:, 'Price']\n",
    "quality = ratings.loc[:, 'Quality']\n",
    "\n",
    "\n",
    "print('Price: ', price)\n",
    "print('Quality: ', quality)"
   ]
  },
  {
   "cell_type": "markdown",
   "id": "549889fe",
   "metadata": {},
   "source": [
    "## 4) Find the total numbers of visitors."
   ]
  },
  {
   "cell_type": "code",
   "execution_count": 4,
   "id": "4c453a33",
   "metadata": {},
   "outputs": [
    {
     "name": "stdout",
     "output_type": "stream",
     "text": [
      "Number of visitors: 20\n"
     ]
    }
   ],
   "source": [
    "visitors_count = ratings.shape[0]\n",
    "\n",
    "print('Number of visitors:', visitors_count)"
   ]
  },
  {
   "cell_type": "markdown",
   "id": "ba39a7bf",
   "metadata": {},
   "source": [
    "## 5) Find and print the average ratings for each column using numpy functions (we will find the mean and median values)"
   ]
  },
  {
   "cell_type": "code",
   "execution_count": 6,
   "id": "6e62b45d",
   "metadata": {},
   "outputs": [
    {
     "name": "stdout",
     "output_type": "stream",
     "text": [
      "The mean of the price ratings:  4.55\n",
      "The median of the price ratings 3.0\n",
      "The mean of the quality ratings:  6.05\n",
      "The median of the quality ratings 7.0\n"
     ]
    }
   ],
   "source": [
    "print('The mean of the price ratings: ',ratings['Price'].mean())\n",
    "print('The median of the price ratings',  ratings['Price'].median())\n",
    "\n",
    "print('The mean of the quality ratings: ',  ratings['Quality'].mean())\n",
    "print('The median of the quality ratings', ratings['Quality'].median())"
   ]
  },
  {
   "cell_type": "markdown",
   "id": "1ff9799a",
   "metadata": {},
   "source": [
    "## 6) Create a new vector which is the average of the ratings of two columns, price and quality. We will name it as mean_ratings. It will show the average rating for each customer. Round elements of the array to the nearest integer."
   ]
  },
  {
   "cell_type": "code",
   "execution_count": 16,
   "id": "92fddb95",
   "metadata": {},
   "outputs": [
    {
     "name": "stdout",
     "output_type": "stream",
     "text": [
      "0     6.0\n",
      "1     6.5\n",
      "2     3.0\n",
      "3     2.0\n",
      "4     5.5\n",
      "5     1.5\n",
      "6     5.0\n",
      "7     2.5\n",
      "8     2.0\n",
      "9     3.5\n",
      "10    7.5\n",
      "11    5.5\n",
      "12    4.0\n",
      "13    8.0\n",
      "14    6.0\n",
      "15    6.0\n",
      "16    9.0\n",
      "17    9.5\n",
      "18    5.0\n",
      "19    8.0\n",
      "dtype: float64\n"
     ]
    }
   ],
   "source": [
    "mean_ratings = (ratings['Price'] + ratings['Quality']) / 2\n",
    "ratings['mean_ratings'] = mean_ratings.round().astype(int)\n",
    "print(mean_ratings)"
   ]
  },
  {
   "cell_type": "markdown",
   "id": "ed221fa4",
   "metadata": {},
   "source": [
    "## 7) Create ratings_values matrix again with the all three vectors. Average ratings, which has just been calculated in the previous exercise, should be the third column of the new matrix. All values in the matrix should be integer! New matrix should have 20 rows and 3 columns!"
   ]
  },
  {
   "cell_type": "code",
   "execution_count": 17,
   "id": "074a8fae",
   "metadata": {},
   "outputs": [
    {
     "name": "stdout",
     "output_type": "stream",
     "text": [
      "[[ 2 10  6]\n",
      " [ 3 10  6]\n",
      " [ 5  1  3]\n",
      " [ 1  3  2]\n",
      " [ 2  9  6]\n",
      " [ 2  1  2]\n",
      " [ 1  9  5]\n",
      " [ 2  3  2]\n",
      " [ 3  1  2]\n",
      " [ 5  2  4]\n",
      " [10  5  8]\n",
      " [ 7  4  6]\n",
      " [ 7  1  4]\n",
      " [ 9  7  8]\n",
      " [ 3  9  6]\n",
      " [ 3  9  6]\n",
      " [ 8 10  9]\n",
      " [ 9 10 10]\n",
      " [ 3  7  5]\n",
      " [ 6 10  8]]\n",
      "<class 'numpy.ndarray'>\n",
      "(20, 3)\n"
     ]
    }
   ],
   "source": [
    "new_ratings_values = np.column_stack((ratings['Price'], ratings['Quality'], ratings['mean_ratings']))\n",
    "new_ratings_values = new_ratings_values.astype(int)\n",
    "print(new_ratings_values)\n",
    "print(type(new_ratings_values))\n",
    "print(new_ratings_values.shape)"
   ]
  },
  {
   "cell_type": "code",
   "execution_count": 18,
   "id": "cb275581",
   "metadata": {},
   "outputs": [
    {
     "data": {
      "text/html": [
       "<div>\n",
       "<style scoped>\n",
       "    .dataframe tbody tr th:only-of-type {\n",
       "        vertical-align: middle;\n",
       "    }\n",
       "\n",
       "    .dataframe tbody tr th {\n",
       "        vertical-align: top;\n",
       "    }\n",
       "\n",
       "    .dataframe thead th {\n",
       "        text-align: right;\n",
       "    }\n",
       "</style>\n",
       "<table border=\"1\" class=\"dataframe\">\n",
       "  <thead>\n",
       "    <tr style=\"text-align: right;\">\n",
       "      <th></th>\n",
       "      <th>Price</th>\n",
       "      <th>Quality</th>\n",
       "      <th>Average</th>\n",
       "    </tr>\n",
       "  </thead>\n",
       "  <tbody>\n",
       "    <tr>\n",
       "      <th>0</th>\n",
       "      <td>2</td>\n",
       "      <td>10</td>\n",
       "      <td>6</td>\n",
       "    </tr>\n",
       "    <tr>\n",
       "      <th>1</th>\n",
       "      <td>3</td>\n",
       "      <td>10</td>\n",
       "      <td>6</td>\n",
       "    </tr>\n",
       "    <tr>\n",
       "      <th>2</th>\n",
       "      <td>5</td>\n",
       "      <td>1</td>\n",
       "      <td>3</td>\n",
       "    </tr>\n",
       "    <tr>\n",
       "      <th>3</th>\n",
       "      <td>1</td>\n",
       "      <td>3</td>\n",
       "      <td>2</td>\n",
       "    </tr>\n",
       "    <tr>\n",
       "      <th>4</th>\n",
       "      <td>2</td>\n",
       "      <td>9</td>\n",
       "      <td>6</td>\n",
       "    </tr>\n",
       "    <tr>\n",
       "      <th>5</th>\n",
       "      <td>2</td>\n",
       "      <td>1</td>\n",
       "      <td>2</td>\n",
       "    </tr>\n",
       "    <tr>\n",
       "      <th>6</th>\n",
       "      <td>1</td>\n",
       "      <td>9</td>\n",
       "      <td>5</td>\n",
       "    </tr>\n",
       "    <tr>\n",
       "      <th>7</th>\n",
       "      <td>2</td>\n",
       "      <td>3</td>\n",
       "      <td>2</td>\n",
       "    </tr>\n",
       "    <tr>\n",
       "      <th>8</th>\n",
       "      <td>3</td>\n",
       "      <td>1</td>\n",
       "      <td>2</td>\n",
       "    </tr>\n",
       "    <tr>\n",
       "      <th>9</th>\n",
       "      <td>5</td>\n",
       "      <td>2</td>\n",
       "      <td>4</td>\n",
       "    </tr>\n",
       "    <tr>\n",
       "      <th>10</th>\n",
       "      <td>10</td>\n",
       "      <td>5</td>\n",
       "      <td>8</td>\n",
       "    </tr>\n",
       "    <tr>\n",
       "      <th>11</th>\n",
       "      <td>7</td>\n",
       "      <td>4</td>\n",
       "      <td>6</td>\n",
       "    </tr>\n",
       "    <tr>\n",
       "      <th>12</th>\n",
       "      <td>7</td>\n",
       "      <td>1</td>\n",
       "      <td>4</td>\n",
       "    </tr>\n",
       "    <tr>\n",
       "      <th>13</th>\n",
       "      <td>9</td>\n",
       "      <td>7</td>\n",
       "      <td>8</td>\n",
       "    </tr>\n",
       "    <tr>\n",
       "      <th>14</th>\n",
       "      <td>3</td>\n",
       "      <td>9</td>\n",
       "      <td>6</td>\n",
       "    </tr>\n",
       "    <tr>\n",
       "      <th>15</th>\n",
       "      <td>3</td>\n",
       "      <td>9</td>\n",
       "      <td>6</td>\n",
       "    </tr>\n",
       "    <tr>\n",
       "      <th>16</th>\n",
       "      <td>8</td>\n",
       "      <td>10</td>\n",
       "      <td>9</td>\n",
       "    </tr>\n",
       "    <tr>\n",
       "      <th>17</th>\n",
       "      <td>9</td>\n",
       "      <td>10</td>\n",
       "      <td>10</td>\n",
       "    </tr>\n",
       "    <tr>\n",
       "      <th>18</th>\n",
       "      <td>3</td>\n",
       "      <td>7</td>\n",
       "      <td>5</td>\n",
       "    </tr>\n",
       "    <tr>\n",
       "      <th>19</th>\n",
       "      <td>6</td>\n",
       "      <td>10</td>\n",
       "      <td>8</td>\n",
       "    </tr>\n",
       "  </tbody>\n",
       "</table>\n",
       "</div>"
      ],
      "text/plain": [
       "    Price  Quality  Average\n",
       "0       2       10        6\n",
       "1       3       10        6\n",
       "2       5        1        3\n",
       "3       1        3        2\n",
       "4       2        9        6\n",
       "5       2        1        2\n",
       "6       1        9        5\n",
       "7       2        3        2\n",
       "8       3        1        2\n",
       "9       5        2        4\n",
       "10     10        5        8\n",
       "11      7        4        6\n",
       "12      7        1        4\n",
       "13      9        7        8\n",
       "14      3        9        6\n",
       "15      3        9        6\n",
       "16      8       10        9\n",
       "17      9       10       10\n",
       "18      3        7        5\n",
       "19      6       10        8"
      ]
     },
     "metadata": {},
     "output_type": "display_data"
    }
   ],
   "source": [
    "new_ratings = pd.DataFrame(new_ratings_values, columns=['Price', 'Quality', 'Average'])\n",
    "display(new_ratings)"
   ]
  },
  {
   "cell_type": "markdown",
   "id": "0a77d801",
   "metadata": {},
   "source": [
    "# B"
   ]
  },
  {
   "cell_type": "markdown",
   "id": "34c6abac",
   "metadata": {},
   "source": [
    "## 1) Create *Mean Absolute Error (MAE)* function\n",
    "\n",
    "\\begin{equation}\n",
    "MAE=\\frac{1}{n}\\sum_{i=1}^n|target_i - predictions_i|\n",
    "\\end{equation}"
   ]
  },
  {
   "cell_type": "code",
   "execution_count": 1,
   "id": "44680fb4",
   "metadata": {},
   "outputs": [],
   "source": [
    "def mae(target, predictions):\n",
    "    return  np.mean(np.abs(predictions - target))"
   ]
  },
  {
   "cell_type": "markdown",
   "id": "a9503f14",
   "metadata": {},
   "source": [
    "## 2) Create two arrays each of them has $100$ observations. We will use them for *target* and *predictions* labelling. The target array should consist only $0$ or $1$ values which are random created, while predictions only integer $1$. The target array should have a *binomial distribution* which gives $1$ with $60$% probability."
   ]
  },
  {
   "cell_type": "code",
   "execution_count": 4,
   "id": "e1f48173",
   "metadata": {},
   "outputs": [
    {
     "name": "stdout",
     "output_type": "stream",
     "text": [
      "[1 1 1 1 1 0 1 0 1 0 1 0 0 0 1 1 1 0 0 1 0 0 1 0 1 0 1 0 1 1 1 1 1 1 1 1 0\n",
      " 1 0 1 0 0 1 1 1 1 1 1 1 1 1 1 0 1 1 0 0 1 1 0 1 0 0 1 1 1 1 1 0 1 1 0 1 1\n",
      " 1 0 1 1 1 0 1 1 0 0 1 1 1 1 1 1 0 0 0 0 0 0 1 1 0 1]\n",
      "\n",
      "[1 1 1 1 1 1 1 1 1 1 1 1 1 1 1 1 1 1 1 1 1 1 1 1 1 1 1 1 1 1 1 1 1 1 1 1 1\n",
      " 1 1 1 1 1 1 1 1 1 1 1 1 1 1 1 1 1 1 1 1 1 1 1 1 1 1 1 1 1 1 1 1 1 1 1 1 1\n",
      " 1 1 1 1 1 1 1 1 1 1 1 1 1 1 1 1 1 1 1 1 1 1 1 1 1 1]\n"
     ]
    }
   ],
   "source": [
    "target =  np.random.binomial(n=1, p=0.6, size=100)  #n:number of trials in the binomial distribution p:probability of success\n",
    "predictions = np.ones(100, dtype=int)\n",
    "\n",
    "print(target)\n",
    "print()\n",
    "print(predictions)"
   ]
  },
  {
   "cell_type": "markdown",
   "id": "08a52b61",
   "metadata": {},
   "source": [
    "## 3) Find the *MAE* with your mae function"
   ]
  },
  {
   "cell_type": "code",
   "execution_count": 5,
   "id": "7ed87f1b",
   "metadata": {},
   "outputs": [],
   "source": [
    "mean_absolute_error =  mae(target, predictions)"
   ]
  },
  {
   "cell_type": "markdown",
   "id": "83589d76",
   "metadata": {},
   "source": [
    "## 4)  Run the code in this step. Observe the printed outputs. Try to run the codes a few times from step 2. What do you think about the results? Give your thoughts shortly with 3 - 5 sentences about why two outputs are the same. What is your conclusion?"
   ]
  },
  {
   "cell_type": "code",
   "execution_count": 8,
   "id": "8116dd9a",
   "metadata": {},
   "outputs": [
    {
     "name": "stdout",
     "output_type": "stream",
     "text": [
      "0.36\n",
      "0.36\n"
     ]
    }
   ],
   "source": [
    "print(1-np.mean(target))\n",
    "\n",
    "print(mean_absolute_error)"
   ]
  },
  {
   "attachments": {},
   "cell_type": "markdown",
   "id": "b8c6a06b",
   "metadata": {},
   "source": [
    "print(1-np.mean(target)) kodu ile hedef dizideki 1'lerin yüzdesini hesaplayarak ortalama hatayı tahmin ediyoruz. Eğer hedef dizideki 1'lerin yüzdesi 60 ise, bu yaklaşık olarak \n",
    "0.4 ortalama hataya karşılık geliyor.\n",
    "\n",
    "print(mean_absolute_error) kodu ile mae() fonksiyonu tarafından hesaplanan MAE değerini yazdırıyoruz. \n",
    "Eğer target dizisindeki 1'lerin yüzdesi yaklaşık olarak %60 ise( yani ortalama hata yaklaşık olarak 0.4 ise) o zaman 1-np.mean(target) ifadesinin sonucu da yaklaşık olarak 0.4 olacaktır."
   ]
  },
  {
   "cell_type": "markdown",
   "id": "223feb67",
   "metadata": {},
   "source": [
    "## 5) We have always chosen $1$ in our predictions, but the actual values at the target have changed each time. How likely is it that we got it right each time, and what determines this?"
   ]
  },
  {
   "attachments": {},
   "cell_type": "markdown",
   "id": "c905b8d7",
   "metadata": {},
   "source": [
    "Tahminlerimizde hep 1'i seçtiğimiz için tahminlerimiz her zaman doğru değildir ve hedefteki gerçek değerler her seferinde değiştiği için doğru yapma ihtimalimiz değişir. Gerçek değerlerin dağılımı binom dağılımına göre belirlendiği için, 0 veya 1 değeri alabilirler. Burada p=0.6 olduğu için hedef değerlerin %60'ının 1 olması beklenir. \n",
    "\n",
    " Her seferinde doğru tahmin yapma olasılığı o gözlem için gerçek değerin tahminimizle aynı olma olasılığıdır.Bu olasılık hedef değerinin tahmin değerine bölünmesiyle hesaplanabilir. Tahmin değeri her zaman 1 olduğundan, doğru tahmin yapma olasılığı, hedef değerinin 1 olduğu durumlarda 1, hedef değerinin 0 olduğu durumlarda 0'dır."
   ]
  },
  {
   "cell_type": "markdown",
   "id": "3207c6b9",
   "metadata": {},
   "source": [
    "# C"
   ]
  },
  {
   "cell_type": "markdown",
   "id": "209ef743",
   "metadata": {},
   "source": [
    "## 1) Create a Pythagorean function using *np.dot()* to calculate vector length\n",
    "\n",
    "$$v = [x, y] ==> len_v = \\sqrt{x^2+y^2}$$"
   ]
  },
  {
   "cell_type": "code",
   "execution_count": 19,
   "id": "fdb7e6eb",
   "metadata": {},
   "outputs": [],
   "source": [
    "def pythagorean_length(vector):\n",
    "    return  np.sqrt(np.dot(vector, vector))"
   ]
  },
  {
   "cell_type": "markdown",
   "id": "66c9d923",
   "metadata": {},
   "source": [
    "## 2) Calculate the length of the given vector using your *pythagorean_length* function and check your result comparing with the given"
   ]
  },
  {
   "cell_type": "code",
   "execution_count": 22,
   "id": "91f1490e",
   "metadata": {},
   "outputs": [
    {
     "name": "stdout",
     "output_type": "stream",
     "text": [
      "5.0\n",
      "<................................>\n",
      "5.0\n"
     ]
    }
   ],
   "source": [
    "a = np.array([3, 4])\n",
    "\n",
    "print(pythagorean_length(a)) \n",
    "\n",
    "print(\"<................................>\") \n",
    "\n",
    "print(((a[0] ** 2) + (a[1] ** 2)) ** 0.5)"
   ]
  },
  {
   "cell_type": "markdown",
   "id": "83e04ecb",
   "metadata": {},
   "source": [
    "## 3) Find the shortest distance (Euclidean distance) using *np.dot()* between the given two vectors and compare the results to check"
   ]
  },
  {
   "cell_type": "code",
   "execution_count": 24,
   "id": "894a6dbf",
   "metadata": {},
   "outputs": [
    {
     "name": "stdout",
     "output_type": "stream",
     "text": [
      "The distance between a and b is 5.0\n",
      "The distance between a and b should be 5.0\n"
     ]
    }
   ],
   "source": [
    "a = np.array([5, 6])\n",
    "b = np.array([1, 3])\n",
    "\n",
    "c = np.sqrt((b[0] - a[0])**2 + (b[1] - a[1])**2)\n",
    "print('The distance between a and b is', c)\n",
    "\n",
    "from scipy.spatial import distance\n",
    "print('The distance between a and b should be', distance.euclidean(a, b))"
   ]
  },
  {
   "cell_type": "markdown",
   "id": "7cc6aed5",
   "metadata": {},
   "source": [
    "# D - Obfuscating Data"
   ]
  },
  {
   "cell_type": "markdown",
   "id": "d1067272",
   "metadata": {},
   "source": [
    "It is best to obfuscate data by multiplying the numerical features (they can be seen as the matrix $X$) by an invertible matrix $P$. \n",
    "\n",
    "$$\n",
    "X' = X \\times P\n",
    "$$\n",
    "\n",
    "Try to do that and check how the features' values will look like after the transformation. By the way, the invertible property is important here so make sure that $P$ is indeed invertible."
   ]
  },
  {
   "cell_type": "markdown",
   "id": "cc7b01de",
   "metadata": {},
   "source": [
    "## 1) Protect customers' personal data. It is necessary to develop a data transformation algorithm that makes it difficult to recover personal information in case the data falls into the wrong hands. This is called data masking or data obfuscation. However, the data must be protected in such a way that the quality of the machine learning models does not suffer. You don't need to choose the best model, just prove that the algorithm works correctly."
   ]
  },
  {
   "cell_type": "code",
   "execution_count": 3,
   "id": "167c61ea",
   "metadata": {},
   "outputs": [
    {
     "data": {
      "text/html": [
       "<div>\n",
       "<style scoped>\n",
       "    .dataframe tbody tr th:only-of-type {\n",
       "        vertical-align: middle;\n",
       "    }\n",
       "\n",
       "    .dataframe tbody tr th {\n",
       "        vertical-align: top;\n",
       "    }\n",
       "\n",
       "    .dataframe thead th {\n",
       "        text-align: right;\n",
       "    }\n",
       "</style>\n",
       "<table border=\"1\" class=\"dataframe\">\n",
       "  <thead>\n",
       "    <tr style=\"text-align: right;\">\n",
       "      <th></th>\n",
       "      <th>gender</th>\n",
       "      <th>age</th>\n",
       "      <th>salary</th>\n",
       "      <th>family_members</th>\n",
       "    </tr>\n",
       "  </thead>\n",
       "  <tbody>\n",
       "    <tr>\n",
       "      <th>990</th>\n",
       "      <td>1</td>\n",
       "      <td>95</td>\n",
       "      <td>32589</td>\n",
       "      <td>5</td>\n",
       "    </tr>\n",
       "    <tr>\n",
       "      <th>991</th>\n",
       "      <td>0</td>\n",
       "      <td>20</td>\n",
       "      <td>28659</td>\n",
       "      <td>3</td>\n",
       "    </tr>\n",
       "    <tr>\n",
       "      <th>992</th>\n",
       "      <td>0</td>\n",
       "      <td>77</td>\n",
       "      <td>20579</td>\n",
       "      <td>9</td>\n",
       "    </tr>\n",
       "    <tr>\n",
       "      <th>993</th>\n",
       "      <td>0</td>\n",
       "      <td>89</td>\n",
       "      <td>34087</td>\n",
       "      <td>8</td>\n",
       "    </tr>\n",
       "    <tr>\n",
       "      <th>994</th>\n",
       "      <td>0</td>\n",
       "      <td>61</td>\n",
       "      <td>27118</td>\n",
       "      <td>7</td>\n",
       "    </tr>\n",
       "    <tr>\n",
       "      <th>995</th>\n",
       "      <td>0</td>\n",
       "      <td>66</td>\n",
       "      <td>29957</td>\n",
       "      <td>1</td>\n",
       "    </tr>\n",
       "    <tr>\n",
       "      <th>996</th>\n",
       "      <td>1</td>\n",
       "      <td>65</td>\n",
       "      <td>14948</td>\n",
       "      <td>2</td>\n",
       "    </tr>\n",
       "    <tr>\n",
       "      <th>997</th>\n",
       "      <td>0</td>\n",
       "      <td>35</td>\n",
       "      <td>29914</td>\n",
       "      <td>2</td>\n",
       "    </tr>\n",
       "    <tr>\n",
       "      <th>998</th>\n",
       "      <td>0</td>\n",
       "      <td>32</td>\n",
       "      <td>18632</td>\n",
       "      <td>3</td>\n",
       "    </tr>\n",
       "    <tr>\n",
       "      <th>999</th>\n",
       "      <td>1</td>\n",
       "      <td>97</td>\n",
       "      <td>23480</td>\n",
       "      <td>2</td>\n",
       "    </tr>\n",
       "  </tbody>\n",
       "</table>\n",
       "</div>"
      ],
      "text/plain": [
       "     gender  age  salary  family_members\n",
       "990       1   95   32589               5\n",
       "991       0   20   28659               3\n",
       "992       0   77   20579               9\n",
       "993       0   89   34087               8\n",
       "994       0   61   27118               7\n",
       "995       0   66   29957               1\n",
       "996       1   65   14948               2\n",
       "997       0   35   29914               2\n",
       "998       0   32   18632               3\n",
       "999       1   97   23480               2"
      ]
     },
     "metadata": {},
     "output_type": "display_data"
    }
   ],
   "source": [
    "# pd.DataFrame\n",
    "columns = ['gender', 'age', 'salary', 'family_members']\n",
    "data = np.array([np.random.choice([0, 1], size=1000), \n",
    "                 np.random.randint(18, 100, 1000), \n",
    "                 np.random.normal(25000, 5000, 1000).astype(int), \n",
    "                 np.random.randint(0, 10, 1000)\n",
    "                ])\n",
    "\n",
    "personal_data = pd.DataFrame(data.T, columns=columns)\n",
    "display(personal_data.tail(10))"
   ]
  },
  {
   "cell_type": "code",
   "execution_count": 4,
   "id": "3cdf802c",
   "metadata": {},
   "outputs": [],
   "source": [
    "personal_data_np = personal_data.values"
   ]
  },
  {
   "cell_type": "code",
   "execution_count": 6,
   "id": "b599e985",
   "metadata": {},
   "outputs": [],
   "source": [
    "key_matrix = np.random.randint(0, 10, size=personal_data_np.shape)\n",
    "\n",
    "masked_data = np.multiply(personal_data_np, key_matrix).reshape(personal_data.shape)"
   ]
  },
  {
   "cell_type": "markdown",
   "id": "f85a36c3",
   "metadata": {},
   "source": [
    "**(Hint:** https://numpy.org/doc/stable/reference/random/generator.html **)**"
   ]
  },
  {
   "cell_type": "code",
   "execution_count": 10,
   "id": "d176fe5d",
   "metadata": {},
   "outputs": [],
   "source": [
    "np.random.seed(123)"
   ]
  },
  {
   "cell_type": "code",
   "execution_count": 11,
   "id": "b8ce9d90",
   "metadata": {},
   "outputs": [],
   "source": [
    "key_matrix = np.random.randint(0, 10, size=personal_data_np.shape)"
   ]
  },
  {
   "cell_type": "markdown",
   "id": "0458e01b",
   "metadata": {},
   "source": [
    "## 2) Can you guess the customers' ages or income after the transformation?"
   ]
  },
  {
   "cell_type": "code",
   "execution_count": 9,
   "id": "5f3b9975",
   "metadata": {},
   "outputs": [
    {
     "data": {
      "text/html": [
       "<div>\n",
       "<style scoped>\n",
       "    .dataframe tbody tr th:only-of-type {\n",
       "        vertical-align: middle;\n",
       "    }\n",
       "\n",
       "    .dataframe tbody tr th {\n",
       "        vertical-align: top;\n",
       "    }\n",
       "\n",
       "    .dataframe thead th {\n",
       "        text-align: right;\n",
       "    }\n",
       "</style>\n",
       "<table border=\"1\" class=\"dataframe\">\n",
       "  <thead>\n",
       "    <tr style=\"text-align: right;\">\n",
       "      <th></th>\n",
       "      <th>A</th>\n",
       "      <th>B</th>\n",
       "      <th>C</th>\n",
       "      <th>D</th>\n",
       "    </tr>\n",
       "  </thead>\n",
       "  <tbody>\n",
       "    <tr>\n",
       "      <th>count</th>\n",
       "      <td>100.000000</td>\n",
       "      <td>100.000000</td>\n",
       "      <td>100.000000</td>\n",
       "      <td>100.000000</td>\n",
       "    </tr>\n",
       "    <tr>\n",
       "      <th>mean</th>\n",
       "      <td>-0.137359</td>\n",
       "      <td>0.053622</td>\n",
       "      <td>-0.082379</td>\n",
       "      <td>0.053738</td>\n",
       "    </tr>\n",
       "    <tr>\n",
       "      <th>std</th>\n",
       "      <td>0.951260</td>\n",
       "      <td>0.918561</td>\n",
       "      <td>0.978261</td>\n",
       "      <td>0.938981</td>\n",
       "    </tr>\n",
       "    <tr>\n",
       "      <th>min</th>\n",
       "      <td>-2.611896</td>\n",
       "      <td>-2.087513</td>\n",
       "      <td>-2.165749</td>\n",
       "      <td>-2.153992</td>\n",
       "    </tr>\n",
       "    <tr>\n",
       "      <th>25%</th>\n",
       "      <td>-0.806069</td>\n",
       "      <td>-0.548429</td>\n",
       "      <td>-0.877538</td>\n",
       "      <td>-0.508790</td>\n",
       "    </tr>\n",
       "    <tr>\n",
       "      <th>50%</th>\n",
       "      <td>-0.285612</td>\n",
       "      <td>0.087107</td>\n",
       "      <td>-0.086414</td>\n",
       "      <td>0.069392</td>\n",
       "    </tr>\n",
       "    <tr>\n",
       "      <th>75%</th>\n",
       "      <td>0.489081</td>\n",
       "      <td>0.703086</td>\n",
       "      <td>0.571616</td>\n",
       "      <td>0.585560</td>\n",
       "    </tr>\n",
       "    <tr>\n",
       "      <th>max</th>\n",
       "      <td>2.243356</td>\n",
       "      <td>2.334780</td>\n",
       "      <td>2.405084</td>\n",
       "      <td>2.131664</td>\n",
       "    </tr>\n",
       "  </tbody>\n",
       "</table>\n",
       "</div>"
      ],
      "text/plain": [
       "                A           B           C           D\n",
       "count  100.000000  100.000000  100.000000  100.000000\n",
       "mean    -0.137359    0.053622   -0.082379    0.053738\n",
       "std      0.951260    0.918561    0.978261    0.938981\n",
       "min     -2.611896   -2.087513   -2.165749   -2.153992\n",
       "25%     -0.806069   -0.548429   -0.877538   -0.508790\n",
       "50%     -0.285612    0.087107   -0.086414    0.069392\n",
       "75%      0.489081    0.703086    0.571616    0.585560\n",
       "max      2.243356    2.334780    2.405084    2.131664"
      ]
     },
     "execution_count": 9,
     "metadata": {},
     "output_type": "execute_result"
    }
   ],
   "source": [
    "# Secure Data\n",
    "pd.DataFrame(np.random.randn(100, 4), columns=list('ABCD')).describe() # < write your code here >"
   ]
  },
  {
   "attachments": {},
   "cell_type": "markdown",
   "id": "d121d1e5",
   "metadata": {},
   "source": [
    "bu verilerin müşterilerin yaşları veya gelirleri gibi gerçek dünya verileriyle bir ilgisi yok, bu nedenle gerçek verileri tahmin etmek mümkün değildir."
   ]
  },
  {
   "cell_type": "markdown",
   "id": "ba51f2eb",
   "metadata": {},
   "source": [
    "## 3) Can you recover the original data from $X'$ if you know $P$? Try to check that with calculations by moving $P$ from the right side of the formula above to the left one. The rules of matrix multiplication are helpful here."
   ]
  },
  {
   "cell_type": "code",
   "execution_count": null,
   "id": "3f6168f0",
   "metadata": {},
   "outputs": [],
   "source": [
    "# < write your code here >"
   ]
  },
  {
   "cell_type": "code",
   "execution_count": null,
   "id": "95cea4ea",
   "metadata": {},
   "outputs": [],
   "source": [
    "# Printing all three cases for a few customers"
   ]
  },
  {
   "cell_type": "code",
   "execution_count": 12,
   "id": "f9e9fada",
   "metadata": {},
   "outputs": [
    {
     "data": {
      "text/html": [
       "<div>\n",
       "<style scoped>\n",
       "    .dataframe tbody tr th:only-of-type {\n",
       "        vertical-align: middle;\n",
       "    }\n",
       "\n",
       "    .dataframe tbody tr th {\n",
       "        vertical-align: top;\n",
       "    }\n",
       "\n",
       "    .dataframe thead th {\n",
       "        text-align: right;\n",
       "    }\n",
       "</style>\n",
       "<table border=\"1\" class=\"dataframe\">\n",
       "  <thead>\n",
       "    <tr style=\"text-align: right;\">\n",
       "      <th></th>\n",
       "      <th>gender</th>\n",
       "      <th>age</th>\n",
       "      <th>salary</th>\n",
       "      <th>family_members</th>\n",
       "    </tr>\n",
       "  </thead>\n",
       "  <tbody>\n",
       "    <tr>\n",
       "      <th>990</th>\n",
       "      <td>1</td>\n",
       "      <td>95</td>\n",
       "      <td>32589</td>\n",
       "      <td>5</td>\n",
       "    </tr>\n",
       "    <tr>\n",
       "      <th>991</th>\n",
       "      <td>0</td>\n",
       "      <td>20</td>\n",
       "      <td>28659</td>\n",
       "      <td>3</td>\n",
       "    </tr>\n",
       "    <tr>\n",
       "      <th>992</th>\n",
       "      <td>0</td>\n",
       "      <td>77</td>\n",
       "      <td>20579</td>\n",
       "      <td>9</td>\n",
       "    </tr>\n",
       "    <tr>\n",
       "      <th>993</th>\n",
       "      <td>0</td>\n",
       "      <td>89</td>\n",
       "      <td>34087</td>\n",
       "      <td>8</td>\n",
       "    </tr>\n",
       "    <tr>\n",
       "      <th>994</th>\n",
       "      <td>0</td>\n",
       "      <td>61</td>\n",
       "      <td>27118</td>\n",
       "      <td>7</td>\n",
       "    </tr>\n",
       "    <tr>\n",
       "      <th>995</th>\n",
       "      <td>0</td>\n",
       "      <td>66</td>\n",
       "      <td>29957</td>\n",
       "      <td>1</td>\n",
       "    </tr>\n",
       "    <tr>\n",
       "      <th>996</th>\n",
       "      <td>1</td>\n",
       "      <td>65</td>\n",
       "      <td>14948</td>\n",
       "      <td>2</td>\n",
       "    </tr>\n",
       "    <tr>\n",
       "      <th>997</th>\n",
       "      <td>0</td>\n",
       "      <td>35</td>\n",
       "      <td>29914</td>\n",
       "      <td>2</td>\n",
       "    </tr>\n",
       "    <tr>\n",
       "      <th>998</th>\n",
       "      <td>0</td>\n",
       "      <td>32</td>\n",
       "      <td>18632</td>\n",
       "      <td>3</td>\n",
       "    </tr>\n",
       "    <tr>\n",
       "      <th>999</th>\n",
       "      <td>1</td>\n",
       "      <td>97</td>\n",
       "      <td>23480</td>\n",
       "      <td>2</td>\n",
       "    </tr>\n",
       "  </tbody>\n",
       "</table>\n",
       "</div>"
      ],
      "text/plain": [
       "     gender  age  salary  family_members\n",
       "990       1   95   32589               5\n",
       "991       0   20   28659               3\n",
       "992       0   77   20579               9\n",
       "993       0   89   34087               8\n",
       "994       0   61   27118               7\n",
       "995       0   66   29957               1\n",
       "996       1   65   14948               2\n",
       "997       0   35   29914               2\n",
       "998       0   32   18632               3\n",
       "999       1   97   23480               2"
      ]
     },
     "execution_count": 12,
     "metadata": {},
     "output_type": "execute_result"
    }
   ],
   "source": [
    "# Original Data\n",
    "personal_data.tail(10)"
   ]
  },
  {
   "cell_type": "code",
   "execution_count": null,
   "id": "18ebc61a",
   "metadata": {},
   "outputs": [],
   "source": [
    "# Secure Data\n",
    "pd.DataFrame(\"<............>\").tail(10)  # < write your code here >"
   ]
  },
  {
   "cell_type": "code",
   "execution_count": null,
   "id": "4e3cbc0f",
   "metadata": {},
   "outputs": [],
   "source": [
    "# Recovered Data\n",
    "pd.set_option('display.float_format', '{:.2f}'.format)\n",
    "pd.DataFrame(<............>).astype('int').tail(10) # < write your code here >"
   ]
  },
  {
   "cell_type": "markdown",
   "id": "68365690",
   "metadata": {},
   "source": [
    "#### write your conlusion here\n",
    "..."
   ]
  },
  {
   "cell_type": "markdown",
   "id": "93339dd4",
   "metadata": {},
   "source": [
    "---"
   ]
  },
  {
   "cell_type": "markdown",
   "id": "01c5dc45",
   "metadata": {},
   "source": [
    "# USEFUL INFORMATIONS"
   ]
  },
  {
   "cell_type": "markdown",
   "id": "9cd2c885",
   "metadata": {},
   "source": [
    "##### Matrices and Matrix Operations"
   ]
  },
  {
   "cell_type": "markdown",
   "id": "2bcc9af1",
   "metadata": {},
   "source": [
    "- **A matrix** is a rectangular numeric table or two-dimensional array consisting of m rows and n columns.\n",
    "- **A transpose of the matrix** is a matrix operation when its rows become columns with the same numbers.- **Dummy code** is a simple code that doesn't mean anything.\n",
    "- **An identity matrix** is a square matrix with ones on the main diagonal and zeros elsewhere.\n",
    "- **An inverse matrix** for a square matrix A is a matrix A with a superscript -1 whose product with A is equal to the identity matrix.\n",
    "- **Invertible matrices** are matrices that have an inverse.\n",
    "- **Non-invertible** are matrices that don't have an inverse."
   ]
  },
  {
   "cell_type": "markdown",
   "id": "0bd1b364",
   "metadata": {},
   "source": [
    "# Properties of Matrices"
   ]
  },
  {
   "attachments": {},
   "cell_type": "markdown",
   "id": "36b51f47",
   "metadata": {},
   "source": [
    "Matrices have many properties in Linear Algebra."
   ]
  },
  {
   "cell_type": "markdown",
   "id": "10f0d02f",
   "metadata": {},
   "source": [
    "<table>\n",
    "<tr>\n",
    "<td>Distributivity</td><td>$A(B+C)=AB+AC$</td>\n",
    "</tr>\n",
    "<tr>\n",
    "<td>Non-commutativity</td><td>$AB \\neq BA$</td>\n",
    "</tr>\n",
    "<tr>\n",
    "<td>Associative property of multiplication</td><td>$(AB)C = A(BC)$</td>\n",
    "</tr>\n",
    "<tr>\n",
    "<td>Multiplicative identity property</td><td>$IA = AI = A$</td>\n",
    "</tr>\n",
    "<tr>\n",
    "<td></td><td>$A^{-1}A = AA^{-1} = I$\n",
    "</td>\n",
    "</tr>    \n",
    "<tr>\n",
    "<td></td><td>$(AB)^{-1} = B^{-1}A^{-1}$</td>\n",
    "</tr>    \n",
    "<tr>\n",
    "<td>Reversivity of the transpose of a product of matrices,</td><td>$(AB)^T = B^TA^T$</td>\n",
    "</tr>    \n",
    "</table>"
   ]
  },
  {
   "cell_type": "markdown",
   "id": "d6d9e37a",
   "metadata": {},
   "source": [
    "---"
   ]
  }
 ],
 "metadata": {
  "kernelspec": {
   "display_name": "Python 3 (ipykernel)",
   "language": "python",
   "name": "python3"
  },
  "language_info": {
   "codemirror_mode": {
    "name": "ipython",
    "version": 3
   },
   "file_extension": ".py",
   "mimetype": "text/x-python",
   "name": "python",
   "nbconvert_exporter": "python",
   "pygments_lexer": "ipython3",
   "version": "3.11.1"
  }
 },
 "nbformat": 4,
 "nbformat_minor": 5
}
