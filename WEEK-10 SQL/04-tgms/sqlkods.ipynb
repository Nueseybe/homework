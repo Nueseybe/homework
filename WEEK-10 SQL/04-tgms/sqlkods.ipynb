{
 "cells": [
  {
   "cell_type": "code",
   "execution_count": null,
   "metadata": {},
   "outputs": [],
   "source": [
    "#creating a table with SQL\n",
    "\n",
    "# create table rental\n",
    "# (\n",
    "# rental_id integer primary key not null,\n",
    "# \trental_date date not null,\n",
    "# \tcustomer_id  integer  not null,\n",
    "# \treturn_date date not null,\n",
    "# \tstaff_id integer not null\n",
    "# )\n",
    "# create table staff\n",
    "# (\n",
    "# staff_id numeric primary key not null,\n",
    "# \tfirst_name varchar(20) not null,\n",
    "#     last_name  varchar(15) not null,\n",
    "# \temail  integer     not null,\n",
    "# \tuser_name  integer not null\n",
    "# )\n",
    "# create table payment \n",
    "# (\n",
    "# payment_id  numeric primary key not null,\n",
    "# \tcustomer_id  integer not null,\n",
    "# \tstaff_id  integer not null,\n",
    "# \tamount numeric  not null,\n",
    "# \tpayment_date date \n",
    "# )\n",
    "#insert Into \n",
    "#insert into payment (payment_id, customer_id, staff_id,amount) values (1201, 101, 3,8.150)\n",
    "#insert into rental (rental_id, customer_id,  staff_id) values (5, 105,  35)\n",
    "#insert into staff (staff_id, first_name, last_name, user_name) values (1, 'Kevin', 'Adam', 'Kevin149')\n",
    "#data update\n",
    "###customer_id update code in paymant table \n",
    "#UPDATE payment SET customer_id =100 WHERE customer_id = 102\n",
    "\n",
    "#### first_name update code in staff table\n",
    "#UPDATE staff SET first_name = 'John WHERE staff_id=3\n",
    "\n",
    "###### staff_id  update code in rental table\n",
    "# UPDATE rental SET  staff_id=50   WHERE customer_id = 103\n",
    "\n",
    "## delete data\n",
    "\n",
    "#DELETE  FROM rental WHERE rental_id =5 \n",
    "#DELETE FROM staff  WHERE first_name = 'Kevin'\n",
    "#DELETE FROM  payment WHERE customer_id = 104\n",
    "\n",
    "## drop table\n",
    "#DROP TABLE payment\n",
    "#Qestion 19 / 20\n",
    "##copying data from one table by creating another table\n",
    "\n",
    "#SELECT staff_id, user_name  INSERT INTO backup_staff FROM staff\n",
    "\n",
    "#SELECT film_id , lenght ,title INSERT INTO backup_film FROM film\n",
    "#Qestion 21 / 22 / 23 \n",
    "#Qestion 24 done\n",
    "\n",
    "#TRUNCATE TABLE backup_film\n",
    "#TRUNCATE TABLE backup_staff\n",
    "#TRUNCATE TABLE staff\n",
    "#Qestion 25\n",
    "#DROP TABLE rental\n",
    "#DROP TABLE customer"
   ]
  }
 ],
 "metadata": {
  "kernelspec": {
   "display_name": "Python 3.11.0 64-bit",
   "language": "python",
   "name": "python3"
  },
  "language_info": {
   "name": "python",
   "version": "3.11.0"
  },
  "orig_nbformat": 4,
  "vscode": {
   "interpreter": {
    "hash": "1a1af0ee75eeea9e2e1ee996c87e7a2b11a0bebd85af04bb136d915cefc0abce"
   }
  }
 },
 "nbformat": 4,
 "nbformat_minor": 2
}
