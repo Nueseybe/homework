{
 "cells": [
  {
   "cell_type": "code",
   "execution_count": null,
   "metadata": {},
   "outputs": [],
   "source": [
    "#Qestions from 32 to 41\n",
    "#Qestion 32------> done\n",
    "#Question 36\n",
    "#SELECT SUM(active) From customer\n",
    "# Qestion 37\n",
    "\n",
    "#'C' harfiyle baslayan filmler nelerdir?\n",
    "#SELECT * FROM film WHERE title LIKE 'C%'\n",
    "# Question 38\n",
    "# 4$ den az odeme yapan musterilerin e-posta edresleri nedir?\n",
    "##SELECT email, amount  FROM customer  INNER JOIN payment  ON customer.customer_id = payment.customer_id;\n",
    "#SELECT email, amount  FROM customer , payment  WHERE  customer.customer_id = payment.customer_id;\n",
    "#Qestion 40\n",
    "#En az kiralanan 5 film? \n",
    "#SELECT rental_rate FROM film WHERE rental_rate = 0.99 LIMIT 5\n",
    "#Question 41\n",
    "#41- 2006 yilinda yayinlanan ingilizce filmler hangileridir?\n",
    "#SELECT * FROM film WHERE release_year = 2006 AND language_id = 1\n",
    "\n"
   ]
  }
 ],
 "metadata": {
  "kernelspec": {
   "display_name": "Python 3.11.0 64-bit",
   "language": "python",
   "name": "python3"
  },
  "language_info": {
   "name": "python",
   "version": "3.11.0"
  },
  "orig_nbformat": 4,
  "vscode": {
   "interpreter": {
    "hash": "1a1af0ee75eeea9e2e1ee996c87e7a2b11a0bebd85af04bb136d915cefc0abce"
   }
  }
 },
 "nbformat": 4,
 "nbformat_minor": 2
}
