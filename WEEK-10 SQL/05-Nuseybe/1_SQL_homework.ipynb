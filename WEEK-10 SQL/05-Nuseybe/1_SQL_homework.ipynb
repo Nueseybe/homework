{
 "cells": [
  {
   "attachments": {},
   "cell_type": "markdown",
   "metadata": {},
   "source": [
    "2. K ile Database oluşturma\n",
    "\n",
    "CREATE DATABASE class4          \n",
    "    WITH        \n",
    "    OWNER = postgres            \n",
    "    ENCODING = 'UTF8'           \n",
    "    CONNECTION LIMIT = -1;          \n"
   ]
  },
  {
   "attachments": {},
   "cell_type": "markdown",
   "metadata": {},
   "source": [
    "3. En az 5 tablo arasındaki ilişki          \n",
    "                \n",
    "customer table - address table          \n",
    "foreign key : address id                                                                                 \n",
    "address_id is primary key of the address table\n",
    "\n",
    "film table - film_actor table               \n",
    "foreign key : film_id                   \n",
    "film_id is primary key of the film table            \n",
    "\n",
    "film_actor table- actor table               \n",
    "fk : actor_id               \n",
    "actor id is pk of the actor table\n",
    "\n",
    "\n",
    "film table - language table                 \n",
    "fk: language_id             \n",
    "language_id is pk of the language table                 \n",
    " \n",
    " \n",
    "city table -country table               \n",
    "fk : country_id                 \n",
    "country_id is pk of the country table               "
   ]
  },
  {
   "attachments": {},
   "cell_type": "markdown",
   "metadata": {},
   "source": [
    "5. Creating 3 tables with K\n",
    "\n",
    "CREATE TABLE language (\t\t\t\t\t\t\t\t\t\t\t\t\t\t\t\n",
    "\tlanguage_id INTEGER PRIMARY KEY NOT NULL,\t\t\t\t\t\t\t\t\t\t\t\t\n",
    "\tname varchar(15) NOT NULL,\t\t\t\t\t\t\t\t\t\t\t\n",
    "\tlast_update TIMESTAMP NOT NULL\t\t\t\t\t\t\t\t\t\t\t\n",
    "\t);\t\t\t\t\t\t\t\t\t\t\n",
    "\t\n",
    "\n",
    "CREATE TABLE store (\t\t\t\t\n",
    "\tstore_id INTEGER PRIMARY KEY NOT NULL,\t\t\t\t\t\n",
    "\tmanager_staff_id INTEGER NOT NULL,\t\t\t\t\t\n",
    "\taddresss_id INTEGER NOT NULL,\t\t\n",
    "\tlast_update TIMESTAMP NOT NULL\t\t\t\n",
    "\t);              \t\t\t\t\n",
    "\n",
    "CREATE TABLE film_actor(\t\t\t\t\n",
    "\tactor_id SERIAL PRIMARY KEY NOT NULL,\t\t\t\t\t\n",
    "\tfilm_id INTEGER NOT NULL,\t\t\t\t\t\n",
    "\tlast_update TIMESTAMP NOT NULL\t\t\t\t\t\t\n",
    "    );\t"
   ]
  },
  {
   "attachments": {},
   "cell_type": "markdown",
   "metadata": {},
   "source": [
    "6. Creating 3 tables with C                         \n"
   ]
  },
  {
   "cell_type": "code",
   "execution_count": 2,
   "metadata": {},
   "outputs": [],
   "source": [
    "import psycopg2                                                     \n",
    "conn=psycopg2.connect(\"dbname=class4 user=postgres password=788105\")\n",
    "cur=conn.cursor()\n",
    "command=\"\"\"CREATE TABLE FILM_CATEGORY(\n",
    "    film_id INTEGER PRIMARY KEY,\n",
    "    category_id INTEGER,\n",
    "    last_update TIMESTAMP\n",
    ");\"\"\"\n",
    "cur.execute(command)\n",
    "cur.close()\n",
    "conn.commit()\n",
    "conn.close()"
   ]
  },
  {
   "cell_type": "code",
   "execution_count": 3,
   "metadata": {},
   "outputs": [],
   "source": [
    "import psycopg2                                                     \n",
    "conn=psycopg2.connect(\"dbname=class4 user=postgres password=788105\")\n",
    "cur=conn.cursor()\n",
    "command=\"\"\"CREATE TABLE COUNTRY(\n",
    "    country_id INTEGER PRIMARY KEY,\n",
    "    country VARCHAR(25),\n",
    "    last_update TIMESTAMP\n",
    ");\"\"\"\n",
    "cur.execute(command)\n",
    "cur.close()\n",
    "conn.commit()\n",
    "conn.close()"
   ]
  },
  {
   "cell_type": "code",
   "execution_count": 5,
   "metadata": {},
   "outputs": [],
   "source": [
    "import psycopg2                                                     \n",
    "conn=psycopg2.connect(\"dbname=class4 user=postgres password=788105\")\n",
    "cur=conn.cursor()\n",
    "command=\"\"\"CREATE TABLE INVENTORY(\n",
    "    inventory_id INTEGER PRIMARY KEY,\n",
    "    film_id INTEGER,\n",
    "    store_id INTEGER,\n",
    "    last_update TIMESTAMP\n",
    ");\"\"\"\n",
    "cur.execute(command)\n",
    "cur.close()\n",
    "conn.commit()\n",
    "conn.close()"
   ]
  },
  {
   "attachments": {},
   "cell_type": "markdown",
   "metadata": {},
   "source": [
    "8. Entering 5 values to the 3 tables with K "
   ]
  },
  {
   "attachments": {},
   "cell_type": "markdown",
   "metadata": {},
   "source": [
    "INSERT INTO city (city_id,city,country_id,last_update) VALUES (1,'Adana', 97, '2006-02-15')                     \n",
    "INSERT INTO city (city_id,city,country_id,last_update) VALUES (2,'Bakü', 48, '2006-02-15')                  \n",
    "INSERT INTO city (city_id,city,country_id,last_update) VALUES (3,'Balıkesir', 97, '2006-02-15')             \n",
    "INSERT INTO city (city_id,city,country_id,last_update) VALUES (4,'Denizli', 97, '2006-02-15')               \n",
    "INSERT INTO city (city_id,city,country_id,last_update) VALUES (5,'Basel', 91, '2006-02-15')             \n",
    "\n",
    "\n",
    "\n",
    "INSERT INTO actor (actor_id,first_name,last_name,last_update) VALUES (6, 'Bob', 'Fawcett', '2023-02-14 17:20:00')                   \n",
    "INSERT INTO actor (actor_id,first_name,last_name,last_update) VALUES (7, 'Parker', 'Goldberg','2023-02-14 17:20:00')                    \n",
    "INSERT INTO actor (actor_id,first_name,last_name,last_update) VALUES (8, 'Natalie', 'Hopkins', '2023-02-14 17:20:00')                   \n",
    "INSERT INTO actor (actor_id,first_name,last_name,last_update) VALUES (9, 'Julia', 'Barrymore','2023-02-14 17:20:00')                \n",
    "INSERT INTO actor (actor_id,first_name,last_name,last_update) VALUES (10, 'Cameron', 'Wray', '2023-02-14 17:20:00')             \n",
    "\n",
    "\n",
    "\n",
    "\n",
    "INSERT INTO category (category_id,name, last_update) VALUES (6, 'Drama', '17.12.1997 07:37:16.00 PST')                  \n",
    "INSERT INTO category (category_id,name, last_update) VALUES (7, 'Family', '17.12.1997 07:37:16.00 PST')                 \n",
    "INSERT INTO category (category_id,name, last_update) VALUES (8, 'Documentary', '17.12.1997 07:37:16.00 PST')                    \n",
    "INSERT INTO category (category_id,name, last_update) VALUES (9, 'Games', '17.12.1997 07:37:16.00 PST')                  \n",
    "INSERT INTO category (category_id,name, last_update) VALUES (10, 'Foreign', '17.12.1997 07:37:16.00 PST')               "
   ]
  },
  {
   "attachments": {},
   "cell_type": "markdown",
   "metadata": {},
   "source": [
    "9. Entering 5 values to 3 tables with C"
   ]
  },
  {
   "cell_type": "code",
   "execution_count": 7,
   "metadata": {},
   "outputs": [
    {
     "name": "stdout",
     "output_type": "stream",
     "text": [
      "22:58:34\n"
     ]
    }
   ],
   "source": [
    "import psycopg2\n",
    "from datetime import date, datetime\n",
    "\n",
    "conn=psycopg2.connect(\"dbname=class4 user=postgres password=788105\")\n",
    "cur=conn.cursor()\n",
    "\n",
    "country_list=['Afghanistan','Algeria','Angola','Argentine','Armenia']\n",
    "datetime_obj=datetime.now()\n",
    "t=datetime_obj.strftime('%H:%M:%S')\n",
    "\n",
    "\n",
    "\n",
    "for i in range(5):\n",
    "   cur.execute('INSERT INTO country VALUES (%s,%s,%s)', (i,country_list[i],datetime_obj))\n",
    "    \n",
    "cur.close()\n",
    "conn.commit()\n",
    "conn.close()"
   ]
  },
  {
   "cell_type": "code",
   "execution_count": 9,
   "metadata": {},
   "outputs": [
    {
     "name": "stdout",
     "output_type": "stream",
     "text": [
      "23:04:27\n"
     ]
    }
   ],
   "source": [
    "import psycopg2\n",
    "from datetime import date, datetime\n",
    "\n",
    "conn=psycopg2.connect(\"dbname=class4 user=postgres password=788105\")\n",
    "cur=conn.cursor()\n",
    "\n",
    "language_list=['English','German','French','Japanese','Turkish']\n",
    "datetime_obj=datetime.now()\n",
    "t=datetime_obj.strftime('%H:%M:%S')\n",
    "\n",
    "\n",
    "for i in range(5):\n",
    "   cur.execute('INSERT INTO language VALUES (%s,%s,%s)', (i,language_list[i],datetime_obj))\n",
    "    \n",
    "cur.close()\n",
    "conn.commit()\n",
    "conn.close()"
   ]
  },
  {
   "cell_type": "code",
   "execution_count": 14,
   "metadata": {},
   "outputs": [],
   "source": [
    "import psycopg2\n",
    "\n",
    "conn=psycopg2.connect(\"dbname=class4 user=postgres password=788105\")\n",
    "cur=conn.cursor()\n",
    "\n",
    "for i in range(5):\n",
    "   cur.execute(\"INSERT INTO inventory VALUES (%s,%s,%s,%s)\",(i+1,i+1,i+1,datetime_obj))\n",
    "cur.close()\n",
    "conn.commit()\n",
    "conn.close()"
   ]
  },
  {
   "attachments": {},
   "cell_type": "markdown",
   "metadata": {},
   "source": [
    "11. Changing 1 value in 3 tables with K"
   ]
  },
  {
   "attachments": {},
   "cell_type": "markdown",
   "metadata": {},
   "source": [
    "UPDATE actor SET first_name='Ariel' WHERE actor_id='3';                     \n",
    "UPDATE film_actor SET film_id='3' WHERE actor_id='1';                   \n",
    "UPDATE city SET city='Baku' WHERE city_id='2';"
   ]
  },
  {
   "attachments": {},
   "cell_type": "markdown",
   "metadata": {},
   "source": [
    "12. Changing 1 value in 3 tables with C"
   ]
  },
  {
   "cell_type": "code",
   "execution_count": 16,
   "metadata": {},
   "outputs": [],
   "source": [
    "import psycopg2\n",
    "\n",
    "conn=psycopg2.connect(\"dbname=class4 user=postgres password=788105\")\n",
    "cur=conn.cursor()\n",
    "cur.execute('UPDATE store SET addresss_id=7 WHERE store_id=4')   #1\n",
    "cur.execute('UPDATE language SET name=\\'Mandarin\\' WHERE language_id=3')   #2\n",
    "cur.execute(\"UPDATE film_category SET category_id= 12 WHERE film_id=5\")    #3\n",
    "\n",
    "cur.close()\n",
    "conn.commit()\n",
    "conn.close()\n"
   ]
  },
  {
   "attachments": {},
   "cell_type": "markdown",
   "metadata": {},
   "source": [
    "14. Deleting last value in 3 tables with K"
   ]
  },
  {
   "attachments": {},
   "cell_type": "markdown",
   "metadata": {},
   "source": [
    "DELETE FROM store WHERE store_id=5 ;                    \n",
    "DELETE FROM inventory WHERE inventory_id=5 OR film_id=5 ;                   \n",
    "DELETE FROM actor WHERE actor_id=10;            "
   ]
  },
  {
   "attachments": {},
   "cell_type": "markdown",
   "metadata": {},
   "source": [
    "15. Deleting last value in 3 tables with C"
   ]
  },
  {
   "cell_type": "code",
   "execution_count": 18,
   "metadata": {},
   "outputs": [],
   "source": [
    "import psycopg2\n",
    "conn=psycopg2.connect(\"dbname=class4 user=postgres password=788105\")\n",
    "cur=conn.cursor()\n",
    "cur.execute('DELETE FROM category WHERE category_id=10')\n",
    "cur.execute('DELETE FROM film_actor WHERE actor_id=5 ')\n",
    "cur.execute('DELETE FROM country WHERE country_id=4')\n",
    "\n",
    "cur.close()\n",
    "conn.commit()\n",
    "conn.close()"
   ]
  },
  {
   "attachments": {},
   "cell_type": "markdown",
   "metadata": {},
   "source": [
    "17. Deleting a table with K"
   ]
  },
  {
   "attachments": {},
   "cell_type": "markdown",
   "metadata": {},
   "source": [
    "DROP TABLE film_actor"
   ]
  },
  {
   "attachments": {},
   "cell_type": "markdown",
   "metadata": {},
   "source": [
    "18. Deleting a table with C"
   ]
  },
  {
   "cell_type": "code",
   "execution_count": 19,
   "metadata": {},
   "outputs": [],
   "source": [
    "import psycopg2\n",
    "conn=psycopg2.connect(\"dbname=class4 user=postgres password=788105\")\n",
    "cur=conn.cursor()\n",
    "cur.execute('DROP TABLE film_category')\n",
    "\n",
    "cur.close()\n",
    "conn.commit()\n",
    "conn.close()"
   ]
  },
  {
   "attachments": {},
   "cell_type": "markdown",
   "metadata": {},
   "source": [
    "19. Creating a new table from another table's column wih K"
   ]
  },
  {
   "attachments": {},
   "cell_type": "markdown",
   "metadata": {},
   "source": [
    "CREATE table category_ AS SELECT city_id,city FROM city                 \n",
    "\n"
   ]
  },
  {
   "attachments": {},
   "cell_type": "markdown",
   "metadata": {},
   "source": [
    "20. Creating a new table from another table's column with C"
   ]
  },
  {
   "cell_type": "code",
   "execution_count": 22,
   "metadata": {},
   "outputs": [],
   "source": [
    "import psycopg2\n",
    "conn=psycopg2.connect(\"dbname=class4 user=postgres password=788105\")\n",
    "cur=conn.cursor()\n",
    "command=\"\"\"\n",
    "CREATE TABLE adress_ AS SELECT city_id,city FROM city\"\"\"\n",
    "cur.execute(command)\n",
    "\n",
    "cur.close()\n",
    "conn.commit()\n",
    "conn.close()"
   ]
  },
  {
   "attachments": {},
   "cell_type": "markdown",
   "metadata": {},
   "source": [
    "22. Making Truncate a table with K"
   ]
  },
  {
   "attachments": {},
   "cell_type": "markdown",
   "metadata": {},
   "source": [
    "TRUNCATE TABLE adress_;"
   ]
  },
  {
   "attachments": {},
   "cell_type": "markdown",
   "metadata": {},
   "source": [
    "23. Making Truncate a table with C"
   ]
  },
  {
   "cell_type": "code",
   "execution_count": 23,
   "metadata": {},
   "outputs": [],
   "source": [
    "import psycopg2\n",
    "conn=psycopg2.connect(\"dbname=class4 user=postgres password=788105\")\n",
    "cur=conn.cursor()\n",
    "command=\"\"\"TRUNCATE TABLE store;\"\"\"\n",
    "cur.execute(command)\n",
    "\n",
    "cur.close()\n",
    "conn.commit()\n",
    "conn.close()"
   ]
  },
  {
   "attachments": {},
   "cell_type": "markdown",
   "metadata": {},
   "source": [
    "25. Deleting 2 tables with K"
   ]
  },
  {
   "attachments": {},
   "cell_type": "markdown",
   "metadata": {},
   "source": [
    "DROP TABLE category;            \n",
    "DROP TABLE category_;"
   ]
  },
  {
   "attachments": {},
   "cell_type": "markdown",
   "metadata": {},
   "source": [
    "26. Deleting 2 tables with C\n"
   ]
  },
  {
   "cell_type": "code",
   "execution_count": 25,
   "metadata": {},
   "outputs": [],
   "source": [
    "import psycopg2\n",
    "conn=psycopg2.connect(\"dbname=class4 user=postgres password=788105\")\n",
    "cur=conn.cursor()\n",
    "command=\"\"\"DROP TABLE country;\n",
    "           DROP TABLE inventory;\"\"\"\n",
    "cur.execute(command)\n",
    "\n",
    "cur.close()\n",
    "conn.commit()\n",
    "conn.close()"
   ]
  },
  {
   "attachments": {},
   "cell_type": "markdown",
   "metadata": {},
   "source": [
    "28. Deleting last table in the server with K"
   ]
  },
  {
   "attachments": {},
   "cell_type": "markdown",
   "metadata": {},
   "source": [
    "DROP TABLE language;"
   ]
  },
  {
   "attachments": {},
   "cell_type": "markdown",
   "metadata": {},
   "source": [
    "30. Deleting table which is importing from computer"
   ]
  },
  {
   "cell_type": "code",
   "execution_count": 26,
   "metadata": {},
   "outputs": [],
   "source": [
    "import psycopg2\n",
    "conn=psycopg2.connect(\"dbname=class4 user=postgres password=788105\")\n",
    "cur=conn.cursor()\n",
    "command=\"\"\"DROP TABLE language;\"\"\"\n",
    "cur.execute(command)\n",
    "\n",
    "cur.close()\n",
    "conn.commit()\n",
    "conn.close()"
   ]
  },
  {
   "attachments": {},
   "cell_type": "markdown",
   "metadata": {},
   "source": [
    "32."
   ]
  },
  {
   "attachments": {},
   "cell_type": "markdown",
   "metadata": {},
   "source": [
    "1.table: address            \n",
    "pk : address_id                 \n",
    "fk : city_id                    \n",
    "\n",
    "2.table: customer               \n",
    "pk : customer_id                \n",
    "fk : address_id                \n",
    "\n",
    "3.table: film           \n",
    "pk : film_id            \n",
    "fk : language_id \n",
    "\n",
    "4.table: city           \n",
    "pk : city_id            \n",
    "fk : country_id                     \n",
    "\n",
    "5.table: film_actor          \n",
    "pk : actor_id                     \n",
    "fk : film_id\n"
   ]
  },
  {
   "attachments": {},
   "cell_type": "markdown",
   "metadata": {},
   "source": [
    "33. What is the average duration of action movies?"
   ]
  },
  {
   "attachments": {},
   "cell_type": "markdown",
   "metadata": {},
   "source": [
    "SELECT AVG(length) FROM film WHERE film_id IN ( SELECT film_id FROM film_category WHERE category_id=1);                         \n",
    "\n",
    "111.6093750000000000"
   ]
  },
  {
   "attachments": {},
   "cell_type": "markdown",
   "metadata": {},
   "source": [
    "34. Which store has the most staff?"
   ]
  },
  {
   "attachments": {},
   "cell_type": "markdown",
   "metadata": {},
   "source": [
    "SELECT COUNT(*),manager_staff_id FROM store GROUP BY manager_staff_id ORDER BY COUNT(*) DESC LIMIT 1                    \n",
    "\n",
    "count:1     manager_staff_id : 1"
   ]
  },
  {
   "attachments": {},
   "cell_type": "markdown",
   "metadata": {},
   "source": [
    "35. What is the rating of the films of the actor named 'Gene Willis'?"
   ]
  },
  {
   "attachments": {},
   "cell_type": "markdown",
   "metadata": {},
   "source": [
    "SELECT rating FROM film\n",
    "WHERE film_id IN (SELECT film_id FROM film_actor WHERE actor_id=(\n",
    "SELECT actor_id FROM actor WHERE first_name || ' ' ||last_name = 'Gene Willis'))                            \n",
    "\"R\"\n",
    "\"PG-13\"\n",
    "\"R\"\n",
    "\"R\"\n",
    "\"G\"\n",
    "\"NC-17\"\n",
    "\"PG\"\n",
    "\"NC-17\"\n",
    "\"NC-17\"\n",
    "\"PG-13\"\n",
    "\"G\"\n",
    "\"R\"\n",
    "\"R\"\n",
    "\"PG-13\"\n",
    "\"PG\"\n",
    "\"PG-13\"\n",
    "\"G\"\n",
    "\"PG\"\n",
    "\"NC-17\"\n",
    "\"PG\"\n",
    "\"R\"\n",
    "\"G\"\n",
    "\"PG\""
   ]
  },
  {
   "attachments": {},
   "cell_type": "markdown",
   "metadata": {},
   "source": [
    "36. What is the number of active customers?"
   ]
  },
  {
   "attachments": {},
   "cell_type": "markdown",
   "metadata": {},
   "source": [
    "SELECT COUNT(*) FROM customer \n",
    "WHERE active =1;\n",
    "\n",
    "584"
   ]
  },
  {
   "attachments": {},
   "cell_type": "markdown",
   "metadata": {},
   "source": [
    "37. What movies start with the letter 'C'?"
   ]
  },
  {
   "attachments": {},
   "cell_type": "markdown",
   "metadata": {},
   "source": [
    "SELECT title FROM film\n",
    "WHERE title like 'C%';\n",
    "\n",
    "\"Chamber Italian\"\n",
    "\"Casualties Encino\"\n",
    "\"Cabin Flash\"\n",
    "\"Caddyshack Jedi\"\n",
    "\"Calendar Gunfight\"\n",
    "\"California Birds\"\n",
    "\"Camelot Vacation\"\n",
    "\"Campus Remember\"\n",
    "\"Candidate Perdition\"\n",
    "\"Candles Grapes\"\n",
    "\"Canyon Stock\"\n",
    "\"Caper Motions\"\n",
    "\"Caribbean Liberty\"\n",
    "\"Carol Texas\"\n",
    "\"Carrie Bunch\"\n",
    "\"Casablanca Super\"\n",
    "\"Casper Dragonfly\"\n",
    "\"Cassidy Wyoming\"\n",
    "\"Cat Coneheads\"\n",
    "\"Catch Amistad\"\n",
    "\"Cause Date\"\n",
    "\"Celebrity Horn\"\n",
    "\"Center Dinosaur\"\n",
    "\"Chainsaw Uptown\"\n",
    "\"Champion Flatliners\"\n",
    "\"Chance Resurrection\"\n",
    "\"Clash Freddy\"\n",
    "\"Chaplin License\"\n",
    "\"Charade Duffel\"\n",
    "\"Chariots Conspiracy\"\n",
    "\"Chasing Fight\"\n",
    "\"Cheaper Clyde\"\n",
    "\"Chicago North\"\n",
    "\"Chicken Hellfighters\"\n",
    "\"Chill Luck\"\n",
    "\"Chinatown Gladiator\"\n",
    "\"Chisum Behavior\"\n",
    "\"Chitty Lock\"\n",
    "\"Chocolat Harry\"\n",
    "\"Chocolate Duck\"\n",
    "\"Christmas Moonshine\"\n",
    "\"Cider Desire\"\n",
    "\"Cincinatti Whisperer\"\n",
    "\"Circus Youth\"\n",
    "\"Citizen Shrek\"\n",
    "\"Cleopatra Devil\"\n",
    "\"Clerks Angels\"\n",
    "\"Clockwork Paradise\"\n",
    "\"Clones Pinocchio\"\n",
    "\"Closer Bang\"\n",
    "\"Club Graffiti\"\n",
    "\"Clue Grail\"\n",
    "\"Clueless Bucket\"\n",
    "\"Clyde Theory\"\n",
    "\"Coast Rainbow\"\n",
    "\"Core Suit\"\n",
    "\"Coldblooded Darling\"\n",
    "\"Color Philadelphia\"\n",
    "\"Coma Head\"\n",
    "\"Comancheros Enemy\"\n",
    "\"Comforts Rush\"\n",
    "\"Command Darling\"\n",
    "\"Commandments Express\"\n",
    "\"Coneheads Smoochy\"\n",
    "\"Confessions Maguire\"\n",
    "\"Confidential Interview\"\n",
    "\"Confused Candles\"\n",
    "\"Congeniality Quest\"\n",
    "\"Connecticut Tramp\"\n",
    "\"Connection Microcosmos\"\n",
    "\"Conquerer Nuts\"\n",
    "\"Conspiracy Spirit\"\n",
    "\"Contact Anonymous\"\n",
    "\"Control Anthem\"\n",
    "\"Conversation Downhill\"\n",
    "\"Cowboy Doom\"\n",
    "\"Craft Outfield\"\n",
    "\"Cranes Reservoir\"\n",
    "\"Crazy Home\"\n",
    "\"Creatures Shakespeare\"\n",
    "\"Creepers Kane\"\n",
    "\"Crooked Frogmen\"\n",
    "\"Crossing Divorce\"\n",
    "\"Crossroads Casualties\"\n",
    "\"Crow Grease\"\n",
    "\"Crowds Telemark\"\n",
    "\"Cruelty Unforgiven\"\n",
    "\"Crusade Honey\"\n",
    "\"Crystal Breaking\"\n",
    "\"Cupboard Sinners\"\n",
    "\"Curtain Videotape\"\n",
    "\"Cyclone Family\""
   ]
  },
  {
   "attachments": {},
   "cell_type": "markdown",
   "metadata": {},
   "source": [
    "38. What are the email addresses of customers paying less than $4?"
   ]
  },
  {
   "cell_type": "markdown",
   "metadata": {},
   "source": []
  },
  {
   "attachments": {},
   "cell_type": "markdown",
   "metadata": {},
   "source": [
    "39. Show the table of staff and customers residing in Moscow? (just name/surname columns)"
   ]
  },
  {
   "attachments": {},
   "cell_type": "markdown",
   "metadata": {},
   "source": [
    "for customer:       \n",
    "\n",
    "SELECT first_name, last_name FROM customer \n",
    "WHERE address_id =(SELECT address_id FROM address WHERE city_id =(SELECT city_id FROM city WHERE city= 'Moscow'));          \n",
    "\n",
    "\"Catherine\"\t\"Campbell\"\n",
    "\n",
    "\n",
    "for staff:                  \n",
    "SELECT first_name, last_name FROM staff \n",
    "WHERE address_id =(SELECT address_id FROM address WHERE city_id =(SELECT city_id FROM city WHERE city= 'Moscow'));\n",
    "\n",
    "null"
   ]
  },
  {
   "attachments": {},
   "cell_type": "markdown",
   "metadata": {},
   "source": [
    "40. What are the 5 least rented movies?"
   ]
  },
  {
   "attachments": {},
   "cell_type": "markdown",
   "metadata": {},
   "source": [
    "SELECT COUNT(*),film_id, title FROM film\n",
    "GROUP BY film_id\n",
    "ORDER BY COUNT(*) ASC LIMIT 5;                  \n",
    "\n",
    "1\t273\t\"Effect Gladiator\"\n",
    "1\t51\t\"Balloon Homeward\"\n",
    "1\t951\t\"Voyage Legally\"\n",
    "1\t839\t\"Stallion Sundance\"\n",
    "1\t652\t\"Pajama Jawbreaker\""
   ]
  },
  {
   "attachments": {},
   "cell_type": "markdown",
   "metadata": {},
   "source": [
    "41. What are the English movies released in 2006?"
   ]
  },
  {
   "attachments": {},
   "cell_type": "markdown",
   "metadata": {},
   "source": [
    "SELECT * FROM film WHERE release_year=2006 and\n",
    "language_id=(SELECT language_id FROM language WHERE name='English');\n",
    "\n",
    "\n",
    "\"I found 1000 films\""
   ]
  },
  {
   "cell_type": "markdown",
   "metadata": {},
   "source": []
  }
 ],
 "metadata": {
  "kernelspec": {
   "display_name": "Python 3",
   "language": "python",
   "name": "python3"
  },
  "language_info": {
   "codemirror_mode": {
    "name": "ipython",
    "version": 3
   },
   "file_extension": ".py",
   "mimetype": "text/x-python",
   "name": "python",
   "nbconvert_exporter": "python",
   "pygments_lexer": "ipython3",
   "version": "3.9.13"
  },
  "orig_nbformat": 4,
  "vscode": {
   "interpreter": {
    "hash": "f395e5ebb12becc72a5efa99838fa258e1dad686200bbff2555f18dc3d47411e"
   }
  }
 },
 "nbformat": 4,
 "nbformat_minor": 2
}
