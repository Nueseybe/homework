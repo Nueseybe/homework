{
 "cells": [
  {
   "cell_type": "code",
   "execution_count": 2,
   "metadata": {},
   "outputs": [],
   "source": [
    "import psycopg2"
   ]
  },
  {
   "cell_type": "code",
   "execution_count": 1,
   "metadata": {},
   "outputs": [],
   "source": [
    "# (M:Manuel olarak, K:SQL komutlarıyla, C:Python kodlariyla)\n",
    "# Asagidaki sorudan K ve C ile cozulmesini tasdikimizin cozumlerini (komüt kodlarini) ustte test veya altta cozumu sekilde bir dosyaya yapistirip gondermenizi istiyoruz.\n",
    "# 1- 'pycoders' isimli bir server kurun. (M)\n",
    "#Kuruldu"
   ]
  },
  {
   "cell_type": "code",
   "execution_count": null,
   "metadata": {},
   "outputs": [],
   "source": [
    "# 2- 'class4' veritabanı olusturun (M). Veritabanı silindi (M). Ayni veri tabanı yine olusturun (K)\n",
    "#Oluşturuldu. Silindi\n",
    "CREATE DATABASE class4;"
   ]
  },
  {
   "cell_type": "code",
   "execution_count": 2,
   "metadata": {},
   "outputs": [],
   "source": [
    "# 3- https://www.postgresqltutorial.com/postgresql-sample-database/ gidiş ve ER modelini kullanarak.\n",
    "# Tablolar arasindaki en az 5 iliskiyi yazin.(Hangi tablodaki arasinda ne tur bir iliski var)\n",
    "''' \n",
    "One to one\n",
    "film_actor -> film , film_actor -> actor\n",
    "One to many\n",
    "country->city , city->adress\n",
    "many to one\n",
    "language -> film\n",
    "\n",
    "'''"
   ]
  },
  {
   "cell_type": "code",
   "execution_count": null,
   "metadata": {},
   "outputs": [],
   "source": [
    "# 4- ER modeldeki tablolardan 3 tanesini M ile olusturun.\n",
    "#Oluşturuldu."
   ]
  },
  {
   "cell_type": "code",
   "execution_count": null,
   "metadata": {},
   "outputs": [],
   "source": [
    "# 5- ER modeldeki tablolardan 3 tanesini K ile olusturun.\n",
    "CREATE TABLE category (\n",
    " category_id INT PRIMARY KEY,\n",
    " name VARCHAR(50),\n",
    " last_update VARCHAR(50)\n",
    " );\n",
    "\n",
    "CREATE TABLE film_category (\n",
    " film_id INT PRIMARY KEY,\n",
    " category_id INT,\n",
    " last_update timestamp without time zone\n",
    " );\n",
    "\n",
    "CREATE TABLE address (\n",
    " address_id INT PRIMARY KEY,\n",
    " address character varying (50),\n",
    " address2 character varying (50),\n",
    " district character varying (20),\n",
    " city_id smallint,\n",
    " postal_code character varying (10),\n",
    " phone character varying (20),\n",
    " last_update timestamp without time zone\n",
    " );\n"
   ]
  },
  {
   "cell_type": "code",
   "execution_count": 4,
   "metadata": {},
   "outputs": [],
   "source": [
    "# 6- ER modeldeki tablolardan 3 tanesini C ile olusturun.\n",
    "conn = psycopg2.connect(\"dbname=class4 user= postgres password=123\")\n",
    "cur = conn.cursor()\n",
    "command = '''create table payment\n",
    "(\n",
    "    payment_id integer primary key,\n",
    "    customer_id smallint,\n",
    "    staff_id smallint,\n",
    "    rental_id integer,\n",
    "    amount numeric(5,2),\n",
    "    payment_date timestamp without time zone\n",
    ")'''\n",
    "cur.execute(command)\n",
    "cur.close() \n",
    "conn.commit() \n",
    "conn.close() "
   ]
  },
  {
   "cell_type": "code",
   "execution_count": 10,
   "metadata": {},
   "outputs": [],
   "source": [
    "conn = psycopg2.connect(\"dbname=class4 user= postgres password=123\")\n",
    "cur = conn.cursor()\n",
    "command = '''create table film\n",
    "(\n",
    "    film_id integer primary key,\n",
    "    title character varying(255),\n",
    "    description text,\n",
    "    release_year integer,\n",
    "    language_id smallint,\n",
    "    rental_duration smallint,\n",
    "    rental_rate numeric(4,2),\n",
    "    length smallint,\n",
    "    replacement_cost numeric(5,2),\n",
    "    rating varchar(2),\n",
    "    last_update timestamp without time zone,\n",
    "    special_features text[],\n",
    "    fulltext tsvector    \n",
    ")'''\n",
    "cur.execute(command)\n",
    "cur.close() \n",
    "conn.commit() \n",
    "conn.close() \n"
   ]
  },
  {
   "cell_type": "code",
   "execution_count": 11,
   "metadata": {},
   "outputs": [],
   "source": [
    "conn = psycopg2.connect(\"dbname=class4 user= postgres password=123\")\n",
    "cur = conn.cursor()\n",
    "command = '''create table city\n",
    "(\n",
    "    city_id integer primary key,\n",
    "    city character varying(50),\n",
    "    country_id smallint,\n",
    "    last_update timestamp without time zone      \n",
    ")'''\n",
    "cur.execute(command)\n",
    "cur.close() \n",
    "conn.commit() \n",
    "conn.close() "
   ]
  },
  {
   "cell_type": "code",
   "execution_count": null,
   "metadata": {},
   "outputs": [],
   "source": [
    "# 7- Olusturdugunuz 3 tabloya M ile 5 veri girişi yapin.\n",
    "#Yapıldı (address-film-customer)"
   ]
  },
  {
   "cell_type": "code",
   "execution_count": null,
   "metadata": {},
   "outputs": [],
   "source": [
    "# 8- Olusturdugunuz 3 tabloya K ile 5 veri girişi yapin.\n",
    "#payment-rental-inventory\n",
    "# 3 Tabloya ayrı ayrı 5 veri girişi yaptım, sadece 1 örneği buraya yazdım.\n",
    "INSERT INTO payment (payment_id, customer_id, staff_id,rental_id, amount,payment_date)\n",
    "VALUES (17503,341,2,1520,7.99,'2007-02-15 22:25');\n",
    "\n",
    "INSERT INTO rental (rental_id, rental_date, inventory_id, customer_id,return_date, staff_id,last_update)\n",
    "VALUES (1,'2005-05-24 22:53:30', 367, 130,'2005-05-26 22:04:30',1,'2006-02-15 21:30:53');\n",
    "\n",
    "INSERT INTO inventory (inventory_id, film_id, store_id,last_update)\n",
    "VALUES (1,3,2,'2006-02-15 21:30:53');\n"
   ]
  },
  {
   "cell_type": "code",
   "execution_count": 18,
   "metadata": {},
   "outputs": [],
   "source": [
    "# 9- Olusturdugunuz 3 tabloya C ile 5 veri girişi yapin.\n",
    "# 3 Tabloya ayrı ayrı 5 veri girişi yaptım, sadece 1 örneği buraya yazdım.\n",
    "conn = psycopg2.connect(\"dbname=class4 user= postgres password=123\")\n",
    "cur = conn.cursor()\n",
    "cur.execute('INSERT INTO film_category VALUES(%s, %s, %s)',(5,11,\"2006-02-15 10:07:09\"))\n",
    "cur.close() \n",
    "conn.commit() \n",
    "conn.close()\n"
   ]
  },
  {
   "cell_type": "code",
   "execution_count": 29,
   "metadata": {},
   "outputs": [],
   "source": [
    "conn = psycopg2.connect(\"dbname=class4 user= postgres password=123\")\n",
    "cur = conn.cursor()\n",
    "cur.execute('INSERT INTO city VALUES(%s, %s, %s,%s)',(5,'Ede',67,\"2006-02-15 10:07:09\"))\n",
    "cur.close() \n",
    "conn.commit() \n",
    "conn.close()"
   ]
  },
  {
   "cell_type": "code",
   "execution_count": 34,
   "metadata": {},
   "outputs": [],
   "source": [
    "conn = psycopg2.connect(\"dbname=class4 user= postgres password=123\")\n",
    "cur = conn.cursor()\n",
    "cur.execute('INSERT INTO category VALUES(%s, %s, %s)',(5,'Family',\"2006-02-15 10:07:09\"))\n",
    "cur.close() \n",
    "conn.commit() \n",
    "conn.close()"
   ]
  },
  {
   "cell_type": "code",
   "execution_count": null,
   "metadata": {},
   "outputs": [],
   "source": [
    "# 10- 3 tablodaki birer veriyi M ile degistirin.\n",
    "#address-category-city tablolarında değiştirdim."
   ]
  },
  {
   "cell_type": "code",
   "execution_count": null,
   "metadata": {},
   "outputs": [],
   "source": [
    "# 11- 3 tablodaki birer veriyi K ile degistirin.\n",
    "UPDATE customer\n",
    "SET first_name = 'Adem'\n",
    "WHERE customer_id = 1;\n",
    "\n",
    "UPDATE film\n",
    "SET title = 'Legendary'\n",
    "WHERE film_id = 3;\n",
    "\n",
    "UPDATE film_category\n",
    "SET category_id = 11\n",
    "WHERE film_id = 3;"
   ]
  },
  {
   "cell_type": "code",
   "execution_count": 36,
   "metadata": {},
   "outputs": [],
   "source": [
    "# 12- 3 tablodaki birer veriyi C ile degistirin.\n",
    "conn = psycopg2.connect(\"dbname=class4 user= postgres password=123\")\n",
    "cur = conn.cursor()\n",
    "cur.execute('UPDATE urun SET store_id=%s WHERE inventory_id=%s',(2,1))\n",
    "cur.close() \n",
    "conn.commit() \n",
    "conn.close()"
   ]
  },
  {
   "cell_type": "code",
   "execution_count": null,
   "metadata": {},
   "outputs": [],
   "source": [
    "# 13- 3 tablonun son satirini M ile silin.\n",
    "#payment-film_category-film tablolarının son satırı silindi."
   ]
  },
  {
   "cell_type": "code",
   "execution_count": null,
   "metadata": {},
   "outputs": [],
   "source": [
    "# 14- 3 tablonun son satirini K ile silin.\n",
    "\n",
    "DELETE FROM payment WHERE payment_id=(SELECT MAX(payment_id) FROM payment)\n",
    "\n",
    "DELETE FROM customer WHERE customer_id=(SELECT MAX(customer_id) FROM customer)\n",
    "\n",
    "DELETE FROM category WHERE category_id=(SELECT MAX(category_id) FROM category)\n"
   ]
  },
  {
   "cell_type": "code",
   "execution_count": 41,
   "metadata": {},
   "outputs": [],
   "source": [
    "# 15- 3 tablonun son satirini C ile silin.\n",
    "conn = psycopg2.connect(\"dbname=class4 user= postgres password=123\")\n",
    "cur = conn.cursor()\n",
    "cur.execute(\"DELETE FROM address WHERE address_id=(SELECT MAX(address_id) FROM address)\")\n",
    "cur.close() \n",
    "conn.commit() \n",
    "conn.close()"
   ]
  },
  {
   "cell_type": "code",
   "execution_count": 42,
   "metadata": {},
   "outputs": [],
   "source": [
    "conn = psycopg2.connect(\"dbname=class4 user= postgres password=123\")\n",
    "cur = conn.cursor()\n",
    "cur.execute(\"DELETE FROM rental WHERE inventory_id=(SELECT MAX(inventory_id) FROM rental)\")\n",
    "cur.close() \n",
    "conn.commit() \n",
    "conn.close()"
   ]
  },
  {
   "cell_type": "code",
   "execution_count": 43,
   "metadata": {},
   "outputs": [],
   "source": [
    "conn = psycopg2.connect(\"dbname=class4 user= postgres password=123\")\n",
    "cur = conn.cursor()\n",
    "cur.execute(\"DELETE FROM city WHERE city_id=(SELECT MAX(city_id) FROM city)\")\n",
    "cur.close() \n",
    "conn.commit() \n",
    "conn.close()"
   ]
  },
  {
   "cell_type": "code",
   "execution_count": null,
   "metadata": {},
   "outputs": [],
   "source": [
    "# 16- 1 tabloyu M ile silin.\n",
    "#film tablosu silindi"
   ]
  },
  {
   "cell_type": "code",
   "execution_count": null,
   "metadata": {},
   "outputs": [],
   "source": [
    "# 17- 1 tabloyu K ile silin.\n",
    "DROP TABLE IF EXISTS rental;"
   ]
  },
  {
   "cell_type": "code",
   "execution_count": 44,
   "metadata": {},
   "outputs": [],
   "source": [
    "# 18- 1 tabloyu C ile silin.\n",
    "conn = psycopg2.connect(\"dbname=class4 user= postgres password=123\")\n",
    "cur = conn.cursor()\n",
    "cur.execute(\"DROP table if exists payment\")\n",
    "cur.close() \n",
    "conn.commit() \n",
    "conn.close()"
   ]
  },
  {
   "cell_type": "code",
   "execution_count": null,
   "metadata": {},
   "outputs": [],
   "source": [
    "# 19- Kalan tablolardan 1 tanesinin 2 veya 3 sutununu K ile baska bir tablo olarak olusturun.\n",
    "CREATE TABLE new_table AS\n",
    "SELECT * FROM my_table\n",
    "LIMIT 2;"
   ]
  },
  {
   "cell_type": "code",
   "execution_count": 46,
   "metadata": {},
   "outputs": [],
   "source": [
    "# 20- Kalan tablolardan 1 tanesinin 2 veya 3 sutununu C ile baska bir tablo olarak olusturun.\n",
    "conn = psycopg2.connect(\"dbname=class4 user= postgres password=123\")\n",
    "cur = conn.cursor()\n",
    "cur.execute(\"CREATE TABLE new_adress AS SELECT * FROM address LIMIT 2;\")\n",
    "cur.close() \n",
    "conn.commit() \n",
    "conn.close()"
   ]
  },
  {
   "cell_type": "code",
   "execution_count": null,
   "metadata": {},
   "outputs": [],
   "source": [
    "# 21- Tablolardan 1 tanesini truncate edin.\n",
    "#new_adress truncate edildi."
   ]
  },
  {
   "cell_type": "code",
   "execution_count": null,
   "metadata": {},
   "outputs": [],
   "source": [
    "# 22- Tablolardan 1 tanesini K truncate edin.\n",
    "TRUNCATE TABLE new_customer;"
   ]
  },
  {
   "cell_type": "code",
   "execution_count": 47,
   "metadata": {},
   "outputs": [],
   "source": [
    "# 23- Tablolardan 1 tanesini  C truncate edin.\n",
    "conn = psycopg2.connect(\"dbname=class4 user= postgres password=123\")\n",
    "cur = conn.cursor()\n",
    "cur.execute(\"TRUNCATE TABLE inventory;\")\n",
    "cur.close() \n",
    "conn.commit() \n",
    "conn.close()"
   ]
  },
  {
   "cell_type": "code",
   "execution_count": null,
   "metadata": {},
   "outputs": [],
   "source": [
    "# 24- truncate edilmis tablolari M ile silin.\n",
    "#new_adress-new_customer-inventory tabloları silindi"
   ]
  },
  {
   "cell_type": "code",
   "execution_count": null,
   "metadata": {},
   "outputs": [],
   "source": [
    "# 25- 2 tabloyu K ile silin.\n",
    "DROP TABLE film_category;\n",
    "DROP TABLE customer;"
   ]
  },
  {
   "cell_type": "code",
   "execution_count": 48,
   "metadata": {},
   "outputs": [],
   "source": [
    "# 26- 2 tabloyu C ile silin.\n",
    "conn = psycopg2.connect(\"dbname=class4 user= postgres password=123\")\n",
    "cur = conn.cursor()\n",
    "cur.execute(\"DROP TABLE city;\")\n",
    "cur.close() \n",
    "conn.commit() \n",
    "conn.close()"
   ]
  },
  {
   "cell_type": "code",
   "execution_count": 49,
   "metadata": {},
   "outputs": [],
   "source": [
    "conn = psycopg2.connect(\"dbname=class4 user= postgres password=123\")\n",
    "cur = conn.cursor()\n",
    "cur.execute(\"DROP TABLE category;\")\n",
    "cur.close() \n",
    "conn.commit() \n",
    "conn.close()"
   ]
  },
  {
   "cell_type": "code",
   "execution_count": null,
   "metadata": {},
   "outputs": [],
   "source": [
    "# 27- Elimizde veri olan 1 tablo kalmis olmasi lazim. Tabloyu csv olarak bilgisayarınıza yukleyin.\n",
    "#the upload was done from the export tab"
   ]
  },
  {
   "cell_type": "code",
   "execution_count": null,
   "metadata": {},
   "outputs": [],
   "source": [
    "# 28- Postgresql dizinindeki son tabloyu da K ile silin.\n",
    "#last table deleted"
   ]
  },
  {
   "cell_type": "code",
   "execution_count": null,
   "metadata": {},
   "outputs": [],
   "source": [
    "# 29- Bilgisayarınızdaki csv yi arayuze import edin.\n",
    "#data imported"
   ]
  },
  {
   "cell_type": "code",
   "execution_count": 4,
   "metadata": {},
   "outputs": [],
   "source": [
    "# 30- import ettiğiniz bu tabloyu C ile silin.\n",
    "conn = psycopg2.connect(\"dbname=class4 user= postgres password=123\")\n",
    "cur = conn.cursor()\n",
    "cur.execute(\"DROP table address\")\n",
    "cur.close() \n",
    "conn.commit() \n",
    "conn.close()"
   ]
  },
  {
   "cell_type": "code",
   "execution_count": null,
   "metadata": {},
   "outputs": [],
   "source": [
    "# 31- https://www.postgresqltutorial.com/postgresql-sample-database/ linkindeki ornek DB yi bilgisayariniza indirin ve arayuze yukleyin.\n",
    "#data loaded\n"
   ]
  },
  {
   "cell_type": "code",
   "execution_count": null,
   "metadata": {},
   "outputs": [],
   "source": [
    "# 32- DB nizde 15 adet tablo olmasi lazim. Her tabloyu teker teker goruntuleyin ve kolon isimlerine bakarak, 5 tablodaki hangi kolonun PK ve FK olduğunu yazin.\n",
    "inventory table -> inventory_id = PK , film_id = FK \n",
    "address table -> address_id = PK , city_id = FK\n",
    "payment table -> payment_id = PK, customer_id = FK\n",
    "rental_table -> rental_id = PK, inventory_id = FK\n",
    "film table -> film_id = PK, language_id = FK\n"
   ]
  },
  {
   "cell_type": "code",
   "execution_count": null,
   "metadata": {},
   "outputs": [],
   "source": [
    "# (Asagi'deki sorularıin sayfasınıini ve bu cedakibi bulurken kullandiginiz kodlari yazin)\n",
    "# 33- Aksiyon filmlerinin ortalama suresi ne kadardır?\n",
    "SELECT AVG(length) FROM film WHERE film_id IN (SELECT film_id FROM film_category WHERE category_id=1 )  "
   ]
  },
  {
   "cell_type": "code",
   "execution_count": null,
   "metadata": {},
   "outputs": [],
   "source": [
    "# 34- En cok staff olan store hangisidir?\n"
   ]
  },
  {
   "cell_type": "code",
   "execution_count": null,
   "metadata": {},
   "outputs": [],
   "source": [
    "# 35- 'Gene Willis' adli aktörün filmlerinin reytingi nedir?\n",
    "SELECT rating FROM film WHERE film_id IN (SELECT film_id FROM film_actor WHERE actor_id =(SELECT actor_id FROM actor WHERE first_name ='Gene' AND last_name ='Willis'))"
   ]
  },
  {
   "cell_type": "code",
   "execution_count": null,
   "metadata": {},
   "outputs": [],
   "source": [
    "# 36- Aktif customer sayisi nedir?\n",
    "SELECT COUNT(*) FROM customer WHERE active = 1"
   ]
  },
  {
   "cell_type": "code",
   "execution_count": null,
   "metadata": {},
   "outputs": [],
   "source": [
    "# 37-'C' harfiyle baslayan filmler nelerdir?\n",
    "SELECT title FROM film WHERE title LIKE 'C%'"
   ]
  },
  {
   "cell_type": "code",
   "execution_count": null,
   "metadata": {},
   "outputs": [],
   "source": [
    "# 38- 4$ den az odeme yapan musterilerin e-posta edresleri nedir?\n",
    "SELECT email FROM customer WHERE customer_id IN (SELECT customer_id FROM payment WHERE amount < 4)"
   ]
  },
  {
   "cell_type": "code",
   "execution_count": null,
   "metadata": {},
   "outputs": [],
   "source": [
    "# 39- Moskova'da ikamet eden staff ve customer tablosu? (sadece isim/soyisim sütünları olsun)\n",
    "SELECT first_name, last_name FROM staff WHERE address_id IN (SELECT city_id FROM city WHERE city= 'Moscow')\n",
    "UNION \n",
    "SELECT first_name, last_name FROM customer WHERE address_id IN (SELECT city_id FROM city WHERE city= 'Moscow')"
   ]
  },
  {
   "cell_type": "code",
   "execution_count": null,
   "metadata": {},
   "outputs": [],
   "source": [
    "# 40- En az kiralanan 5 film?\n",
    "SELECT title FROM film ORDER BY rental_rate ASC LIMIT 5;"
   ]
  },
  {
   "cell_type": "code",
   "execution_count": null,
   "metadata": {},
   "outputs": [],
   "source": [
    "# 41- 2006 yilinda yayinlanan ingilizce filmler hangileridir?\n",
    "SELECT title FROM film WHERE release_year=2006 AND language_id IN (SELECT language_id FROM language WHERE name='English' )"
   ]
  }
 ],
 "metadata": {
  "kernelspec": {
   "display_name": "Python 3",
   "language": "python",
   "name": "python3"
  },
  "language_info": {
   "codemirror_mode": {
    "name": "ipython",
    "version": 3
   },
   "file_extension": ".py",
   "mimetype": "text/x-python",
   "name": "python",
   "nbconvert_exporter": "python",
   "pygments_lexer": "ipython3",
   "version": "3.10.8"
  },
  "orig_nbformat": 4,
  "vscode": {
   "interpreter": {
    "hash": "5e529fa9649f9a46707db6e0792965dbc5181c5093cd958735f9ba693f25bd20"
   }
  }
 },
 "nbformat": 4,
 "nbformat_minor": 2
}
