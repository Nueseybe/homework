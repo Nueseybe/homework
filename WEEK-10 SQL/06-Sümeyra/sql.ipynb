{
 "cells": [
  {
   "cell_type": "code",
   "execution_count": null,
   "metadata": {},
   "outputs": [],
   "source": [
    "import psycopg2"
   ]
  },
  {
   "cell_type": "markdown",
   "metadata": {},
   "source": [
    "2- 'class4' veritabanı olusturun (M). Veritabanı silindi (M). Ayni veri tabanı yine olusturun (K)"
   ]
  },
  {
   "cell_type": "code",
   "execution_count": null,
   "metadata": {},
   "outputs": [],
   "source": [
    "'''create database class4;'''"
   ]
  },
  {
   "cell_type": "markdown",
   "metadata": {},
   "source": [
    "3- https://www.postgresqltutorial.com/postgresql-sample-database/ gidiş ve ER modelini kullanarak. Tablolar arasindaki en az 5 iliskiyi yazin.(Hangi tablodaki arasinda ne tur bir iliski var)"
   ]
  },
  {
   "cell_type": "code",
   "execution_count": null,
   "metadata": {},
   "outputs": [],
   "source": [
    "'''category-film_category:one to many\n",
    "language-film:one to many\n",
    "flm_category-film:many to many\n",
    "address-city:many to many\n",
    "customer-address:many to many'''"
   ]
  },
  {
   "cell_type": "markdown",
   "metadata": {},
   "source": [
    "5- ER modeldeki tablolardan 3 tanesini K ile olusturun."
   ]
  },
  {
   "cell_type": "code",
   "execution_count": null,
   "metadata": {},
   "outputs": [],
   "source": [
    "'''create table category\n",
    "(\n",
    "    category_id integer primary key,\n",
    "    name  varchar(15),\n",
    "    last_update date\n",
    ")'''"
   ]
  },
  {
   "cell_type": "code",
   "execution_count": null,
   "metadata": {},
   "outputs": [],
   "source": [
    "'''create table film_category\n",
    "(\n",
    "    category_id integer primary key,\n",
    "    film_id integer,\n",
    "    last_update date\n",
    ")'''"
   ]
  },
  {
   "cell_type": "code",
   "execution_count": null,
   "metadata": {},
   "outputs": [],
   "source": [
    "'''create table language\n",
    "(\n",
    "    language_id integer primary key,\n",
    "    name  varchar(15),\n",
    "    last_update date\n",
    ")'''"
   ]
  },
  {
   "cell_type": "markdown",
   "metadata": {},
   "source": [
    "6- ER modeldeki tablolardan 3 tanesini C ile olusturun."
   ]
  },
  {
   "cell_type": "code",
   "execution_count": null,
   "metadata": {},
   "outputs": [],
   "source": [
    "conn = psycopg2.connect(\"dbname=dbfilm user=postgres password=bolusumeyra\")\n",
    "cur = conn.cursor()\n",
    "command = '''create table payment\n",
    "(\n",
    "    payment_id integer primary key,\n",
    "    customer_id integer,\n",
    "    staff_id integer,\n",
    "    rental_id integer,\n",
    "    amount integer,\n",
    "   payment_date date\n",
    ")'''\n",
    "cur.execute(command)\n",
    "cur.close()\n",
    "conn.commit()\n",
    "conn.close()"
   ]
  },
  {
   "cell_type": "code",
   "execution_count": null,
   "metadata": {},
   "outputs": [],
   "source": [
    "conn = psycopg2.connect(\"dbname=dbfilm user=postgres password=bolusumeyra\")\n",
    "cur = conn.cursor()\n",
    "command = '''create table rental\n",
    "(\n",
    "    rental_id integer primary key,\n",
    "    rental_date date,\n",
    "    inventory_id integer,\n",
    "    customer_id integer,\n",
    "    return_date date,\n",
    "    staff_id integer, \n",
    "    last_update date\n",
    ")'''\n",
    "cur.execute(command)\n",
    "cur.close()\n",
    "conn.commit()\n",
    "conn.close()"
   ]
  },
  {
   "cell_type": "code",
   "execution_count": null,
   "metadata": {},
   "outputs": [],
   "source": [
    "conn = psycopg2.connect(\"dbname=dbfilm user=postgres password=bolusumeyra\")\n",
    "cur = conn.cursor()\n",
    "command = '''create table inventory\n",
    "(\n",
    "    inventory_id integer primary key,\n",
    "    film_id integer,\n",
    "    store_id integer, \n",
    "    last_update date\n",
    ")'''\n",
    "cur.execute(command)\n",
    "cur.close()\n",
    "conn.commit()\n",
    "conn.close()"
   ]
  },
  {
   "cell_type": "markdown",
   "metadata": {},
   "source": [
    "8- Olusturdugunuz 3 tabloya K ile 5 veri girişi yapin."
   ]
  },
  {
   "cell_type": "code",
   "execution_count": null,
   "metadata": {},
   "outputs": [],
   "source": [
    "'''insert into category (category_id,name,last_update) values (1,\"drama\",\"2023.02.14\")\n",
    "insert into category (category_id,name,last_update) values (2,\"action\",\"2023.02.14\")\n",
    "insert into category (category_id,name,last_update) values (3,\"science fiction\",\"2023.02.14\")\n",
    "insert into category (category_id,name,last_update) values (4,\"history\",\"2023.02.14\")\n",
    "insert into category (category_id,name,last_update) values (5,\"musical\",\"2023.02.14\")'''"
   ]
  },
  {
   "cell_type": "code",
   "execution_count": null,
   "metadata": {},
   "outputs": [],
   "source": [
    "'''insert into language ( language_id,name,last_update) values (07,\"spanish\",\"2023.02.14\")\n",
    "insert into language ( language_id,name,last_update) values (04,\"english\",\"2023.02.14\")\n",
    "insert into language ( language_id,name,last_update) values (03,\"dutch\",\"2023.02.14\")\n",
    "insert into language ( language_id,name,last_update) values (02,\"french\",\"2023.02.14\")\n",
    "insert into language ( language_id,name,last_update) values (05,\"arabic\",\"2023.02.14\")'''"
   ]
  },
  {
   "cell_type": "markdown",
   "metadata": {},
   "source": [
    "9- Olusturdugunuz 3 tabloya C ile 5 veri girişi yapin."
   ]
  },
  {
   "cell_type": "code",
   "execution_count": null,
   "metadata": {},
   "outputs": [],
   "source": [
    "conn = psycopg2.connect(\"dbname=dbfilm user=postgres password=bolusumeyra\")\n",
    "cur = conn.cursor()\n",
    "cur.execute('INSERT INTO language VALUES(%s,%s,%s)',(1,\"spanish\",\"2023.02.14\"))\n",
    "cur.close()\n",
    "conn.commit()\n",
    "conn.close()"
   ]
  },
  {
   "cell_type": "code",
   "execution_count": null,
   "metadata": {},
   "outputs": [],
   "source": [
    "conn = psycopg2.connect(\"dbname=dbfilm user=postgres password=bolusumeyra\")\n",
    "cur = conn.cursor()\n",
    "cur.execute('INSERT INTO language VALUES(%s,%s,%s)',(3,\"french\",\"2023.02.14\"))\n",
    "cur.close()\n",
    "conn.commit()\n",
    "conn.close()"
   ]
  },
  {
   "cell_type": "code",
   "execution_count": null,
   "metadata": {},
   "outputs": [],
   "source": [
    "conn = psycopg2.connect(\"dbname=dbfilm user=postgres password=bolusumeyra\")\n",
    "cur = conn.cursor()\n",
    "cur.execute('INSERT INTO language VALUES(%s,%s,%s)',(5,\"english\",\"2023.02.14\"))\n",
    "cur.close()\n",
    "conn.commit()\n",
    "conn.close()"
   ]
  },
  {
   "cell_type": "code",
   "execution_count": null,
   "metadata": {},
   "outputs": [],
   "source": [
    "conn = psycopg2.connect(\"dbname=dbfilm user=postgres password=bolusumeyra\")\n",
    "cur = conn.cursor()\n",
    "cur.execute('INSERT INTO language VALUES(%s,%s,%s)',(4,\"english\",\"2023.02.14\"))\n",
    "cur.close()\n",
    "conn.commit()\n",
    "conn.close()"
   ]
  },
  {
   "cell_type": "code",
   "execution_count": null,
   "metadata": {},
   "outputs": [],
   "source": [
    "conn = psycopg2.connect(\"dbname=dbfilm user=postgres password=bolusumeyra\")\n",
    "cur = conn.cursor()\n",
    "cur.execute('INSERT INTO language VALUES(%s,%s,%s)',(7,\"spanish\",\"2023.02.14\"))\n",
    "cur.close()\n",
    "conn.commit()\n",
    "conn.close()"
   ]
  },
  {
   "cell_type": "code",
   "execution_count": null,
   "metadata": {},
   "outputs": [],
   "source": [
    "conn = psycopg2.connect(\"dbname=dbfilm user=postgres password=bolusumeyra\")\n",
    "cur = conn.cursor()\n",
    "cur.execute('INSERT INTO payment VALUES(%s,%s,%s,%s,%s,%s)',(12,34,65,76,32,\"2023.02.14\"))\n",
    "cur.close()\n",
    "conn.commit()\n",
    "conn.close()"
   ]
  },
  {
   "cell_type": "code",
   "execution_count": null,
   "metadata": {},
   "outputs": [],
   "source": [
    "conn = psycopg2.connect(\"dbname=dbfilm user=postgres password=bolusumeyra\")\n",
    "cur = conn.cursor()\n",
    "cur.execute('INSERT INTO payment VALUES(%s,%s,%s,%s,%s,%s)',(72,64,55,36,32,\"2023.02.14\"))\n",
    "cur.close()\n",
    "conn.commit()\n",
    "conn.close()"
   ]
  },
  {
   "cell_type": "code",
   "execution_count": null,
   "metadata": {},
   "outputs": [],
   "source": [
    "conn = psycopg2.connect(\"dbname=dbfilm user=postgres password=bolusumeyra\")\n",
    "cur = conn.cursor()\n",
    "cur.execute('INSERT INTO payment VALUES(%s,%s,%s,%s,%s,%s)',(15,33,45,73,31,\"2023.02.14\"))\n",
    "cur.close()\n",
    "conn.commit()\n",
    "conn.close()"
   ]
  },
  {
   "cell_type": "code",
   "execution_count": null,
   "metadata": {},
   "outputs": [],
   "source": [
    "conn = psycopg2.connect(\"dbname=dbfilm user=postgres password=bolusumeyra\")\n",
    "cur = conn.cursor()\n",
    "cur.execute('INSERT INTO payment VALUES(%s,%s,%s,%s,%s,%s)',(23,76,54,32,21,\"2023.02.14\"))\n",
    "cur.close()\n",
    "conn.commit()\n",
    "conn.close()"
   ]
  },
  {
   "cell_type": "code",
   "execution_count": null,
   "metadata": {},
   "outputs": [],
   "source": [
    "conn = psycopg2.connect(\"dbname=dbfilm user=postgres password=bolusumeyra\")\n",
    "cur = conn.cursor()\n",
    "cur.execute('INSERT INTO payment VALUES(%s,%s,%s,%s,%s,%s)',(90,45,67,87,98,\"2023.02.14\"))\n",
    "cur.close()\n",
    "conn.commit()\n",
    "conn.close()"
   ]
  },
  {
   "cell_type": "code",
   "execution_count": null,
   "metadata": {},
   "outputs": [],
   "source": [
    "conn = psycopg2.connect(\"dbname=dbfilm user=postgres password=bolusumeyra\")\n",
    "cur = conn.cursor()\n",
    "cur.execute('INSERT INTO rental VALUES(%s,%s,%s,%s,%s,%s,%s)',(12,\"2020.12.21\",65,76,\"2022.06.15\",23,\"2023.02.14\"))\n",
    "cur.close()\n",
    "conn.commit()\n",
    "conn.close()"
   ]
  },
  {
   "cell_type": "code",
   "execution_count": null,
   "metadata": {},
   "outputs": [],
   "source": [
    "conn = psycopg2.connect(\"dbname=dbfilm user=postgres password=bolusumeyra\")\n",
    "cur = conn.cursor()\n",
    "cur.execute('INSERT INTO rental VALUES(%s,%s,%s,%s,%s,%s,%s)',(65,\"2020.11.23\",64,87,\"2022.05.15\",24,\"2023.02.14\"))\n",
    "cur.close()\n",
    "conn.commit()\n",
    "conn.close()"
   ]
  },
  {
   "cell_type": "code",
   "execution_count": null,
   "metadata": {},
   "outputs": [],
   "source": [
    "conn = psycopg2.connect(\"dbname=dbfilm user=postgres password=bolusumeyra\")\n",
    "cur = conn.cursor()\n",
    "cur.execute('INSERT INTO rental VALUES(%s,%s,%s,%s,%s,%s,%s)',(67,\"2020.07.23\",14,37,\"2022.05.15\",44,\"2023.02.14\"))\n",
    "cur.close()\n",
    "conn.commit()\n",
    "conn.close()"
   ]
  },
  {
   "cell_type": "code",
   "execution_count": null,
   "metadata": {},
   "outputs": [],
   "source": [
    "conn = psycopg2.connect(\"dbname=dbfilm user=postgres password=bolusumeyra\")\n",
    "cur = conn.cursor()\n",
    "cur.execute('INSERT INTO rental VALUES(%s,%s,%s,%s,%s,%s,%s)',(24,\"2020.11.13\",32,47,\"2022.05.15\",34,\"2023.02.14\"))\n",
    "cur.close()\n",
    "conn.commit()\n",
    "conn.close()"
   ]
  },
  {
   "cell_type": "code",
   "execution_count": null,
   "metadata": {},
   "outputs": [],
   "source": [
    "conn = psycopg2.connect(\"dbname=dbfilm user=postgres password=bolusumeyra\")\n",
    "cur = conn.cursor()\n",
    "cur.execute('INSERT INTO rental VALUES(%s,%s,%s,%s,%s,%s,%s)',(61,\"2020.01.23\",68,97,\"2022.09.15\",24,\"2023.02.14\"))\n",
    "cur.close()\n",
    "conn.commit()\n",
    "conn.close()"
   ]
  },
  {
   "cell_type": "markdown",
   "metadata": {},
   "source": [
    "11- 3 tablodaki birer veriyi K ile degistirin."
   ]
  },
  {
   "cell_type": "code",
   "execution_count": null,
   "metadata": {},
   "outputs": [],
   "source": [
    "'''UPDATE language SET name='turkish' WHERE name='spanish';\n",
    "UPDATE category SET category_id='7' WHERE category_id='1';\n",
    "UPDATE city SET city='Baku' WHERE city_id='2';'''"
   ]
  },
  {
   "cell_type": "markdown",
   "metadata": {},
   "source": [
    "12- 3 tablodaki birer veriyi C ile degistirin."
   ]
  },
  {
   "cell_type": "code",
   "execution_count": null,
   "metadata": {},
   "outputs": [],
   "source": [
    "conn = psycopg2.connect(\"dbname=dbfilm user=postgres password=bolusumeyra\")\n",
    "cur = conn.cursor()\n",
    "cur.execute('UPDATE  language SET language_id=%s WHERE name=%s',(2,\"french\"))\n",
    "cur.close()\n",
    "conn.commit()\n",
    "conn.close()"
   ]
  },
  {
   "cell_type": "code",
   "execution_count": null,
   "metadata": {},
   "outputs": [],
   "source": [
    "conn = psycopg2.connect(\"dbname=dbfilm user=postgres password=bolusumeyra\")\n",
    "cur = conn.cursor()\n",
    "cur.execute('UPDATE payment SET payment_id=%s WHERE staff_id=%s',(22,54))\n",
    "cur.close()\n",
    "conn.commit()\n",
    "conn.close()"
   ]
  },
  {
   "cell_type": "code",
   "execution_count": null,
   "metadata": {},
   "outputs": [],
   "source": [
    "conn = psycopg2.connect(\"dbname=dbfilm user=postgres password=bolusumeyra\")\n",
    "cur = conn.cursor()\n",
    "cur.execute('UPDATE  rental SET rental_date=%s  WHERE inventory_id=%s',(\"2020.06.14\",68))\n",
    "cur.close()\n",
    "conn.commit()\n",
    "conn.close()"
   ]
  },
  {
   "cell_type": "markdown",
   "metadata": {},
   "source": [
    "14- 3 tablonun son satirini K ile silin."
   ]
  },
  {
   "cell_type": "code",
   "execution_count": null,
   "metadata": {},
   "outputs": [],
   "source": [
    "'''DELETE FROM store WHERE store_id=5 ;\n",
    "DELETE FROM inventory WHERE inventory_id=5 OR film_id=5 ;\n",
    "DELETE FROM actor WHERE actor_id=10;'''"
   ]
  },
  {
   "cell_type": "markdown",
   "metadata": {},
   "source": [
    "15- 3 tablonun son satirini C ile silin."
   ]
  },
  {
   "cell_type": "code",
   "execution_count": null,
   "metadata": {},
   "outputs": [],
   "source": [
    "conn = psycopg2.connect(\"dbname=dbfilm user=postgres password=bolusumeyra\")\n",
    "cur = conn.cursor()\n",
    "cur.execute(\"DELETE FROM language WHERE language_id = %s\",(7,))\n",
    "cur.close()\n",
    "conn.commit()\n",
    "conn.close()"
   ]
  },
  {
   "cell_type": "code",
   "execution_count": null,
   "metadata": {},
   "outputs": [],
   "source": [
    "conn = psycopg2.connect(\"dbname=dbfilm user=postgres password=bolusumeyra\")\n",
    "cur = conn.cursor()\n",
    "cur.execute(\"DELETE FROM payment WHERE payment_id = %s\",(90,))\n",
    "cur.close()\n",
    "conn.commit()\n",
    "conn.close()"
   ]
  },
  {
   "cell_type": "code",
   "execution_count": null,
   "metadata": {},
   "outputs": [],
   "source": [
    "\n",
    "conn = psycopg2.connect(\"dbname=dbfilm user=postgres password=bolusumeyra\")\n",
    "cur = conn.cursor()\n",
    "cur.execute(\"DELETE FROM rental WHERE rental_id = %s\",(72,))\n",
    "cur.close()\n",
    "conn.commit()\n",
    "conn.close()"
   ]
  },
  {
   "cell_type": "markdown",
   "metadata": {},
   "source": [
    "17- 1 tabloyu K ile silin."
   ]
  },
  {
   "cell_type": "code",
   "execution_count": null,
   "metadata": {},
   "outputs": [],
   "source": [
    "'''DROP table film'''"
   ]
  },
  {
   "cell_type": "markdown",
   "metadata": {},
   "source": [
    "18- 1 tabloyu C ile silin."
   ]
  },
  {
   "cell_type": "code",
   "execution_count": null,
   "metadata": {},
   "outputs": [],
   "source": [
    "conn = psycopg2.connect(\"dbname=dbfilm user=postgres password=bolusumeyra\")\n",
    "cur = conn.cursor()\n",
    "cur.execute(\"DROP table language\")\n",
    "cur.close()\n",
    "conn.commit()\n",
    "conn.close()"
   ]
  },
  {
   "cell_type": "markdown",
   "metadata": {},
   "source": [
    "20- Kalan tablolardan 1 tanesinin 2 veya 3 sutununu C ile baska bir tablo olarak olusturun."
   ]
  },
  {
   "cell_type": "code",
   "execution_count": null,
   "metadata": {},
   "outputs": [],
   "source": [
    "conn = psycopg2.connect(\"dbname=dbfilm user=postgres password=bolusumeyra\")\n",
    "cur = conn.cursor()\n",
    "cur.execute(\"CREATE table pay_test as select payment_id,customer_id,amount\")\n",
    "cur.close()\n",
    "conn.commit()\n",
    "conn.close() "
   ]
  },
  {
   "cell_type": "markdown",
   "metadata": {},
   "source": [
    "23- Tablolardan 1 tanesini truncate edin."
   ]
  },
  {
   "cell_type": "code",
   "execution_count": null,
   "metadata": {},
   "outputs": [],
   "source": [
    "conn = psycopg2.connect(\"dbname=dbfilm user=postgres password=bolusumeyra\")\n",
    "cur = conn.cursor()\n",
    "cur.execute(\"TRUNCATE table city\")\n",
    "cur.close()\n",
    "conn.commit()\n",
    "conn.close() "
   ]
  },
  {
   "cell_type": "markdown",
   "metadata": {},
   "source": [
    "26- 2 tabloyu C ile silin"
   ]
  },
  {
   "cell_type": "code",
   "execution_count": null,
   "metadata": {},
   "outputs": [],
   "source": [
    "conn = psycopg2.connect(\"dbname=dbfilm user=postgres password=bolusumeyra\")\n",
    "cur = conn.cursor()\n",
    "cur.execute(\"DROP table rental\")\n",
    "cur.close()\n",
    "conn.commit()\n",
    "conn.close() "
   ]
  },
  {
   "cell_type": "code",
   "execution_count": null,
   "metadata": {},
   "outputs": [],
   "source": [
    "conn = psycopg2.connect(\"dbname=dbfilm user=postgres password=bolusumeyra\")\n",
    "cur = conn.cursor()\n",
    "cur.execute(\"DROP table staff\")\n",
    "cur.close()\n",
    "conn.commit()\n",
    "conn.close() "
   ]
  },
  {
   "cell_type": "markdown",
   "metadata": {},
   "source": [
    "32- DB nizde 15 adet tablo olmasi lazim. Her tabloyu teker teker goruntuleyin ve kolon isimlerine bakarak, 5 tablodaki hangi kolonun PK ve FK olduğunu yazin."
   ]
  },
  {
   "cell_type": "code",
   "execution_count": null,
   "metadata": {},
   "outputs": [],
   "source": [
    "'''actor-actor_id:PK\n",
    "address -city_id:FK\n",
    "city-country_id:FK\n",
    "country-country_id:PK\n",
    "category-category_id:PK'''"
   ]
  },
  {
   "cell_type": "markdown",
   "metadata": {},
   "source": [
    "33-Aksiyon filmlerinin ortalama suresi ne kadardır?"
   ]
  },
  {
   "cell_type": "code",
   "execution_count": null,
   "metadata": {},
   "outputs": [],
   "source": [
    "'''select avg(length) from film where film_id in(select film_id from film_category where category_id=1)'''"
   ]
  },
  {
   "cell_type": "markdown",
   "metadata": {},
   "source": [
    "34- En cok staff olan store hangisidir?"
   ]
  },
  {
   "cell_type": "code",
   "execution_count": null,
   "metadata": {},
   "outputs": [],
   "source": [
    "'''select count(*) from store where store_id in (select store_id from staff)'''"
   ]
  },
  {
   "cell_type": "markdown",
   "metadata": {},
   "source": [
    "35- 'Gene Willis' adli aktörün filmlerinin reytingi nedir?"
   ]
  },
  {
   "cell_type": "code",
   "execution_count": null,
   "metadata": {},
   "outputs": [],
   "source": [
    "'''\n",
    "select rating from film where film_id in (select film_id from film_actor where actor_id=(select actor_id from actor where first_name='Gene' and last_name='Willis'))'''"
   ]
  },
  {
   "cell_type": "markdown",
   "metadata": {},
   "source": [
    "36- Aktif customer sayisi nedir?"
   ]
  },
  {
   "cell_type": "code",
   "execution_count": null,
   "metadata": {},
   "outputs": [],
   "source": [
    "'''select count(activebool) from customer where activebool=True'''"
   ]
  },
  {
   "cell_type": "markdown",
   "metadata": {},
   "source": [
    "37-'C' harfiyle baslayan filmler nelerdir?"
   ]
  },
  {
   "cell_type": "code",
   "execution_count": null,
   "metadata": {},
   "outputs": [],
   "source": [
    "'''select title from film where title like 'C%' '''"
   ]
  },
  {
   "cell_type": "markdown",
   "metadata": {},
   "source": [
    "38- 4$ den az odeme yapan musterilerin e-posta edresleri nedir?"
   ]
  },
  {
   "cell_type": "code",
   "execution_count": null,
   "metadata": {},
   "outputs": [],
   "source": [
    "'''select email from customer where customer_id in(select customer_id from payment where amount<4)'''"
   ]
  },
  {
   "cell_type": "markdown",
   "metadata": {},
   "source": [
    "39- Moskova'da ikamet eden staff ve customer tablosu? (sadece isim/soyisim sütünları olsun)"
   ]
  },
  {
   "cell_type": "code",
   "execution_count": null,
   "metadata": {},
   "outputs": [],
   "source": [
    "'''select first_name,last_name from customer where address_id in (select address_id from address where city_id=343)'''"
   ]
  },
  {
   "cell_type": "markdown",
   "metadata": {},
   "source": [
    "40- En az kiralanan 5 film?"
   ]
  },
  {
   "cell_type": "code",
   "execution_count": null,
   "metadata": {},
   "outputs": [],
   "source": [
    "'''select title from film where film_id in (select film_id from inventory where inventory_id in (select inventory_id from rental)group by film_id order by sum(inventory_id)limit 5 )'''"
   ]
  },
  {
   "cell_type": "markdown",
   "metadata": {},
   "source": [
    "41- 2006 yilinda yayinlanan ingilizce filmler hangileridir?"
   ]
  },
  {
   "cell_type": "code",
   "execution_count": null,
   "metadata": {},
   "outputs": [],
   "source": [
    "'''select title from film where release_year='2006' and language_id=1'''"
   ]
  }
 ],
 "metadata": {
  "kernelspec": {
   "display_name": "Python 3",
   "language": "python",
   "name": "python3"
  },
  "language_info": {
   "name": "python",
   "version": "3.11.1"
  },
  "orig_nbformat": 4,
  "vscode": {
   "interpreter": {
    "hash": "5e686c98bd9d6d47f21741a33149373b1ef94506ecea48cbd2928647c607c0e5"
   }
  }
 },
 "nbformat": 4,
 "nbformat_minor": 2
}
