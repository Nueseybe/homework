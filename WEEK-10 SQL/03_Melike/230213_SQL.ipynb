{
 "cells": [
  {
   "cell_type": "code",
   "execution_count": null,
   "metadata": {},
   "outputs": [],
   "source": [
    "import psycopg2"
   ]
  },
  {
   "attachments": {},
   "cell_type": "markdown",
   "metadata": {},
   "source": [
    "(M:Manuel olarak, K:SQL komutlarıyla, C:Python kodlariyla)\n",
    "\n",
    "Asagidaki sorudan K ve C ile cozulmesini tasdikimizin cozumlerini (komüt kodlarini) ustte test veya altta cozumu sekilde bir dosyaya yapistirip gondermenizi istiyoruz.\n",
    "\n",
    "1- 'pycoders' isimli bir server kurun. (M)\n",
    "\n",
    "2- 'class4' veritabanı olusturun (M). Veritabanı silindi (M). Ayni veri tabanı yine olusturun (K)\n",
    "\n",
    "3- https://www.postgresqltutorial.com/postgresql-sample-database/ gidiş ve ER modelini kullanarak. Tablolar arasindaki en az 5 iliskiyi yazin.(Hangi tablodaki arasinda ne tur bir iliski var)\n",
    "\n",
    "4- ER modeldeki tablolardan 3 tanesini M ile olusturun.\n",
    "\n",
    "5- ER modeldeki tablolardan 3 tanesini K ile olusturun.\n",
    "\n",
    "6- ER modeldeki tablolardan 3 tanesini C ile olusturun.\n",
    "\n",
    "(4-5-6. sorulari cozerken toblolar arasındaki iliskileri gozardi edebilirsiniz.)\n",
    "\n",
    "7- Olusturdugunuz 3 tabloya M ile 5 veri girişi yapin.\n",
    "\n",
    "8- Olusturdugunuz 3 tabloya K ile 5 veri girişi yapin.\n",
    "\n",
    "9- Olusturdugunuz 3 tabloya C ile 5 veri girişi yapin.\n",
    "\n",
    "10- 3 tablodaki birer veriyi M ile degistirin.\n",
    "\n",
    "11- 3 tablodaki birer veriyi K ile degistirin.\n",
    "\n",
    "12- 3 tablodaki birer veriyi C ile degistirin.\n",
    "\n",
    "13- 3 tablonun son satirini M ile silin.\n",
    "\n",
    "14- 3 tablonun son satirini K ile silin.\n",
    "\n",
    "15- 3 tablonun son satirini C ile silin.\n",
    "\n",
    "16- 1 tabloyu M ile silin.\n",
    "\n",
    "17- 1 tabloyu K ile silin.\n",
    "\n",
    "18- 1 tabloyu C ile silin.\n",
    "\n",
    "19- Kalan tablolardan 1 tanesinin 2 veya 3 sutununu K ile baska bir tablo olarak olusturun.\n",
    "\n",
    "20- Kalan tablolardan 1 tanesinin 2 veya 3 sutununu C ile baska bir tablo olarak olusturun.\n",
    "\n",
    "21- Tablolardan 1 tanesini truncate edin.\n",
    "\n",
    "22- Tablolardan 1 tanesini truncate edin.\n",
    "\n",
    "23- Tablolardan 1 tanesini truncate edin.\n",
    "\n",
    "24- truncate edilmis tablolari M ile silin.\n",
    "\n",
    "25- 2 tabloyu K ile silin.\n",
    "\n",
    "26- 2 tabloyu C ile silin.\n",
    "\n",
    "27- Elimizde veri olan 1 tablo kalmis olmasi lazim. Tabloyu csv olarak bilgisayarınıza yukleyin.\n",
    "\n",
    "28- Postgresql dizinindeki son tabloyu da K ile silin.\n",
    "\n",
    "29- Bilgisayarınızdaki csv yi arayuze import edin.\n",
    "\n",
    "30- import ettiğiniz bu tabloyu C ile silin.\n",
    "\n",
    "31- https://www.postgresqltutorial.com/postgresql-sample-database/ linkindeki ornek DB yi bilgisayariniza indirin ve arayuze yukleyin.\n",
    "\n",
    "32- DB nizde 15 adet tablo olmasi lazim. Her tabloyu teker teker goruntuleyin ve kolon isimlerine bakarak, 5 tablodaki hangi kolonun PK ve FK olduğunu yazin.\n",
    "\n",
    "(Asagi'deki sorularıin sayfasınıini ve bu cedakibi bulurken kullandiginiz kodlari yazin)\n",
    "\n",
    "33- Aksiyon filmlerinin ortalama suresi ne kadardır?\n",
    "\n",
    "34- En cok staff olan store hangisidir?\n",
    "\n",
    "35- 'Gene Willis' adli aktörün filmlerinin reytingi nedir?\n",
    "\n",
    "36- Aktif customer sayisi nedir?\n",
    "\n",
    "37-'C' harfiyle baslayan filmler nelerdir?\n",
    "\n",
    "38- 4$ den az odeme yapan musterilerin e-posta edresleri nedir?\n",
    "\n",
    "39- Moskova'da ikamet eden staff ve customer tablosu? (sadece isim/soyisim sütünları olsun)\n",
    "\n",
    "40- En az kiralanan 5 film?\n",
    "\n",
    "41- 2006 yilinda yayinlanan ingilizce filmler hangileridir?"
   ]
  },
  {
   "attachments": {},
   "cell_type": "markdown",
   "metadata": {},
   "source": [
    "*1- 'pycoders' isimli bir server kurun. (M)*\n",
    "\n",
    "Derste de yaşadığımız sorun gibi yeni bir servers kurmak için elle port girmem gerekiyor ve girdiğim portlarda localhost'a connection reddedildi diyor ve  şifresini görmüyor. Bu yüzden tüm işlemleri programı kurarken oluşturduğum server ile yaptım."
   ]
  },
  {
   "attachments": {},
   "cell_type": "markdown",
   "metadata": {},
   "source": [
    "*2- 'class4' veritabanı olusturun (M). Veritabanı silindi (M). Ayni veri tabanı yine olusturun (K)*\n",
    "\n",
    "(M) işlemler tamamlandı. \n",
    "(K) aşağıda;"
   ]
  },
  {
   "cell_type": "code",
   "execution_count": null,
   "metadata": {},
   "outputs": [],
   "source": [
    "\"\"\"\n",
    "CREATE DATABASE pycoders\n",
    "    WITH\n",
    "    OWNER = postgres\n",
    "    ENCODING = 'UTF8'\n",
    "    LC_COLLATE = 'C'\n",
    "    LC_CTYPE = 'C'\n",
    "    TABLESPACE = pg_default\n",
    "    CONNECTION LIMIT = -1\n",
    "    IS_TEMPLATE = False;\n",
    "\"\"\""
   ]
  },
  {
   "attachments": {},
   "cell_type": "markdown",
   "metadata": {},
   "source": [
    "*3- https://www.postgresqltutorial.com/postgresql-sample-database/ gidiş ve ER modelini kullanarak. Tablolar arasindaki en az 5 iliskiyi yazin.(Hangi tablodaki arasinda ne tur bir iliski var)*\n",
    "\n",
    "- film --> inventory; One to Many\n",
    "- staff --> store; One to One\n",
    "- language --> film; One to Many\n",
    "- film --> actor; One to One\n",
    "- customer --> address; Many to One"
   ]
  },
  {
   "attachments": {},
   "cell_type": "markdown",
   "metadata": {},
   "source": [
    "*4- ER modeldeki tablolardan 3 tanesini M ile olusturun.* Tamamlandı."
   ]
  },
  {
   "attachments": {},
   "cell_type": "markdown",
   "metadata": {},
   "source": [
    "*5- ER modeldeki tablolardan 3 tanesini K ile olusturun.*"
   ]
  },
  {
   "cell_type": "code",
   "execution_count": null,
   "metadata": {},
   "outputs": [],
   "source": [
    "\"\"\"\n",
    "CREATE TABLE inventory (\n",
    "\tinventory_id int PRIMARY KEY,\n",
    "\tfilm_id int,\n",
    "\tlast_update varchar(10)\n",
    ");\n",
    "\n",
    "CREATE TABLE rental (\n",
    "\trental_id INT PRIMARY KEY,\n",
    "\trental_date DATE NOT NULL,\n",
    "\tinventory_id INT,\n",
    "\tcustomer_id INT,\n",
    "\treturn_date DATE,\n",
    "\tstaff_id INT,\n",
    "\tlast_update DATE\n",
    ");\n",
    "\n",
    "CREATE TABLE payment (\n",
    "\tpayment_id INT PRIMARY KEY,\n",
    "\tcustomer_id INT NOT NULL,\n",
    "\tstaff_id INT,\n",
    "\trental_id INT,\n",
    "\tamount INT,\n",
    "\tpayment_date DATE\n",
    ");\n",
    "\"\"\""
   ]
  },
  {
   "attachments": {},
   "cell_type": "markdown",
   "metadata": {},
   "source": [
    "*6- ER modeldeki tablolardan 3 tanesini C ile olusturun.*"
   ]
  },
  {
   "cell_type": "code",
   "execution_count": 1,
   "metadata": {},
   "outputs": [],
   "source": [
    "import psycopg2"
   ]
  },
  {
   "cell_type": "code",
   "execution_count": 5,
   "metadata": {},
   "outputs": [],
   "source": [
    "conn = psycopg2.connect(\"dbname=pycoders user= postgres password=1234\")\n",
    "cur = conn.cursor()\n",
    "command = '''create table actor\n",
    "(\n",
    "    actor_id integer primary key,\n",
    "    first_name varchar(20),\n",
    "    last_name varchar(20),\n",
    "    last_update date\n",
    ")'''\n",
    "cur.execute(command)\n",
    "cur.close()\n",
    "conn.commit()\n",
    "conn.close()"
   ]
  },
  {
   "cell_type": "code",
   "execution_count": 6,
   "metadata": {},
   "outputs": [],
   "source": [
    "conn = psycopg2.connect(\"dbname=pycoders user= postgres password=1234\")\n",
    "cur = conn.cursor()\n",
    "command = '''create table language\n",
    "(\n",
    "    language_id integer primary key,\n",
    "    name varchar(20) NOT NULL,\n",
    "    last_update date\n",
    ")'''\n",
    "cur.execute(command)\n",
    "cur.close()\n",
    "conn.commit()\n",
    "conn.close()"
   ]
  },
  {
   "cell_type": "code",
   "execution_count": 8,
   "metadata": {},
   "outputs": [],
   "source": [
    "conn = psycopg2.connect(\"dbname=pycoders user= postgres password=1234\")\n",
    "cur = conn.cursor()\n",
    "command = '''create table film_actor\n",
    "(\n",
    "    actor_id integer primary key,\n",
    "    film_id integer not null,\n",
    "    last_update date\n",
    ")'''\n",
    "cur.execute(command)\n",
    "cur.close()\n",
    "conn.commit()\n",
    "conn.close()"
   ]
  },
  {
   "attachments": {},
   "cell_type": "markdown",
   "metadata": {},
   "source": [
    "*7- Olusturdugunuz 3 tabloya M ile 5 veri girişi yapin.* Tamamlandı"
   ]
  },
  {
   "attachments": {},
   "cell_type": "markdown",
   "metadata": {},
   "source": [
    "*8- Olusturdugunuz 3 tabloya K ile 5 veri girişi yapin.*"
   ]
  },
  {
   "cell_type": "code",
   "execution_count": null,
   "metadata": {},
   "outputs": [],
   "source": [
    "\"\"\"\n",
    "INSERT INTO film_actor (actor_id, film_id) VALUES (2, 1);\n",
    "INSERT INTO film_actor (actor_id, film_id) VALUES (3, 1);\n",
    "INSERT INTO film_actor (actor_id, film_id) VALUES (4, 1);\n",
    "INSERT INTO film_actor (actor_id, film_id) VALUES (5, 1);\n",
    "INSERT INTO film_actor (actor_id, film_id) VALUES (6, 1);\n",
    "INSERT INTO film_category (film_id, category_id) VALUES (2, 1);\n",
    "INSERT INTO film_category (film_id, category_id) VALUES (3, 1);\n",
    "INSERT INTO film_category (film_id, category_id) VALUES (4, 1);\n",
    "INSERT INTO film_category (film_id, category_id) VALUES (5, 1);\n",
    "INSERT INTO film_category (film_id, category_id) VALUES (6, 1);\n",
    "INSERT INTO inventory (inventory_id, film_id, last_update) VALUES (2, 1, 2023);\n",
    "INSERT INTO inventory (inventory_id, film_id, last_update) VALUES (3, 3, 2023);\n",
    "INSERT INTO inventory (inventory_id, film_id, last_update) VALUES (4, 1, 2020);\n",
    "INSERT INTO inventory (inventory_id, film_id, last_update) VALUES (5, 2, 2023);\n",
    "INSERT INTO inventory (inventory_id, film_id, last_update) VALUES (6, 1, 2022);\n",
    "\"\"\""
   ]
  },
  {
   "attachments": {},
   "cell_type": "markdown",
   "metadata": {},
   "source": [
    "*9- Olusturdugunuz 3 tabloya C ile 5 veri girişi yapin.*"
   ]
  },
  {
   "cell_type": "code",
   "execution_count": 23,
   "metadata": {},
   "outputs": [],
   "source": [
    "conn = psycopg2.connect(\"dbname=pycoders user= postgres password=1234\")\n",
    "cur = conn.cursor()\n",
    "cur.execute('INSERT INTO language VALUES(%s,%s)',(1, \"French\"))\n",
    "cur.execute('INSERT INTO language VALUES(%s,%s)',(3, \"German\"))\n",
    "cur.execute('INSERT INTO language VALUES(%s,%s)',(4, \"Dutch\"))\n",
    "cur.execute('INSERT INTO language VALUES(%s,%s)',(2, \"French\"))\n",
    "cur.close()\n",
    "conn.commit()\n",
    "conn.close()"
   ]
  },
  {
   "cell_type": "code",
   "execution_count": 25,
   "metadata": {},
   "outputs": [],
   "source": [
    "conn = psycopg2.connect(\"dbname=pycoders user= postgres password=1234\")\n",
    "cur = conn.cursor()\n",
    "cur.execute('INSERT INTO payment VALUES(%s,%s,%s,%s,%s)',(1,1,1,1,25))\n",
    "cur.execute('INSERT INTO payment VALUES(%s,%s,%s,%s,%s)',(2,1,1,1,50))\n",
    "cur.execute('INSERT INTO payment VALUES(%s,%s,%s,%s,%s)',(3,1,1,1,10))\n",
    "cur.execute('INSERT INTO payment VALUES(%s,%s,%s,%s,%s)',(4,1,2,1,10))\n",
    "cur.execute('INSERT INTO payment VALUES(%s,%s,%s,%s,%s)',(5,3,1,1,25))\n",
    "cur.close()\n",
    "conn.commit()\n",
    "conn.close()"
   ]
  },
  {
   "cell_type": "code",
   "execution_count": 27,
   "metadata": {},
   "outputs": [],
   "source": [
    "conn = psycopg2.connect(\"dbname=pycoders user= postgres password=1234\")\n",
    "cur = conn.cursor()\n",
    "cur.execute('INSERT INTO rental VALUES(%s,%s,%s,%s)',(1,\"2023-2-2\",1,1))\n",
    "cur.execute('INSERT INTO rental VALUES(%s,%s,%s,%s)',(2,\"2023-2-2\",1,1))\n",
    "cur.execute('INSERT INTO rental VALUES(%s,%s,%s,%s)',(3,\"2022-3-12\",4,1))\n",
    "cur.execute('INSERT INTO rental VALUES(%s,%s,%s,%s)',(4,\"2021-9-1\",1,1))\n",
    "cur.execute('INSERT INTO rental VALUES(%s,%s,%s,%s)',(5,\"2020-7-2\",6,1))\n",
    "cur.close()\n",
    "conn.commit()\n",
    "conn.close()"
   ]
  },
  {
   "attachments": {},
   "cell_type": "markdown",
   "metadata": {},
   "source": [
    "*10- 3 tablodaki birer veriyi M ile degistirin.* Tamamlandı"
   ]
  },
  {
   "attachments": {},
   "cell_type": "markdown",
   "metadata": {},
   "source": [
    "*11- 3 tablodaki birer veriyi K ile degistirin.*"
   ]
  },
  {
   "cell_type": "code",
   "execution_count": null,
   "metadata": {},
   "outputs": [],
   "source": [
    "\"\"\"\n",
    "UPDATE rental\n",
    "SET customer_id = 4\n",
    "WHERE rental_id = 1;\n",
    "\n",
    "UPDATE payment\n",
    "SET customer_id = 2\n",
    "WHERE payment_id = 1;\n",
    "\n",
    "UPDATE language\n",
    "SET name='English';\n",
    "\"\"\""
   ]
  },
  {
   "attachments": {},
   "cell_type": "markdown",
   "metadata": {},
   "source": [
    "*12- 3 tablodaki birer veriyi C ile degistirin.*"
   ]
  },
  {
   "cell_type": "code",
   "execution_count": 16,
   "metadata": {},
   "outputs": [],
   "source": [
    "conn = psycopg2.connect(\"dbname=pycoders user= postgres password=1234\")\n",
    "cur = conn.cursor()\n",
    "cur.execute('UPDATE inventory SET last_update = %s WHERE film_id = %s', (2024,1))\n",
    "cur.close()\n",
    "conn.commit()\n",
    "conn.close()"
   ]
  },
  {
   "cell_type": "code",
   "execution_count": 20,
   "metadata": {},
   "outputs": [],
   "source": [
    "conn = psycopg2.connect(\"dbname=pycoders user= postgres password=1234\")\n",
    "cur = conn.cursor()\n",
    "cur.execute('UPDATE film_actor SET actor_id = %s WHERE film_id = %s', (6,1))\n",
    "cur.close()\n",
    "conn.commit()\n",
    "conn.close()"
   ]
  },
  {
   "cell_type": "code",
   "execution_count": 19,
   "metadata": {},
   "outputs": [],
   "source": [
    "conn = psycopg2.connect(\"dbname=pycoders user= postgres password=1234\")\n",
    "cur = conn.cursor()\n",
    "cur.execute('UPDATE film_category SET category_id = %s WHERE film_id = %s', (7,2))\n",
    "cur.close()\n",
    "conn.commit()\n",
    "conn.close()"
   ]
  },
  {
   "attachments": {},
   "cell_type": "markdown",
   "metadata": {},
   "source": [
    "*13- 3 tablonun son satirini M ile silin.* Tamamlandı"
   ]
  },
  {
   "attachments": {},
   "cell_type": "markdown",
   "metadata": {},
   "source": [
    "*14- 3 tablonun son satirini K ile silin.*"
   ]
  },
  {
   "cell_type": "code",
   "execution_count": null,
   "metadata": {},
   "outputs": [],
   "source": [
    "\"\"\"\n",
    "DELETE FROM rental WHERE rental_id IN \n",
    "(\n",
    "    SELECT rental_id FROM rental\n",
    "    ORDER BY rental_id\n",
    "    DESC LIMIT 1)\n",
    "\n",
    "DELETE FROM payment WHERE payment_id IN \n",
    "(\n",
    "    SELECT payment_id FROM payment\n",
    "    ORDER BY payment_id\n",
    "    DESC LIMIT 1)\n",
    "\n",
    "DELETE FROM language WHERE language_id IN \n",
    "(\n",
    "    SELECT language_id FROM language\n",
    "    ORDER BY language_id\n",
    "    DESC LIMIT 1)\n",
    "\"\"\""
   ]
  },
  {
   "attachments": {},
   "cell_type": "markdown",
   "metadata": {},
   "source": [
    "*15- 3 tablonun son satirini C ile silin.*"
   ]
  },
  {
   "cell_type": "code",
   "execution_count": 33,
   "metadata": {},
   "outputs": [],
   "source": [
    "conn = psycopg2.connect(\"dbname=pycoders user= postgres password=1234\")\n",
    "cur = conn.cursor()\n",
    "cur.execute(\"DELETE FROM film_actor WHERE actor_id = %s\",(4,))\n",
    "cur.execute(\"DELETE FROM film_category WHERE category_id = %s\",(6,))\n",
    "cur.execute(\"DELETE FROM inventory WHERE inventory_id = %s\",(6,))\n",
    "cur.close()\n",
    "conn.commit()\n",
    "conn.close()"
   ]
  },
  {
   "attachments": {},
   "cell_type": "markdown",
   "metadata": {},
   "source": [
    "*16- 1 tabloyu M ile silin.* Tamamlandı."
   ]
  },
  {
   "attachments": {},
   "cell_type": "markdown",
   "metadata": {},
   "source": [
    "*17- 1 tabloyu K ile silin.*"
   ]
  },
  {
   "cell_type": "code",
   "execution_count": null,
   "metadata": {},
   "outputs": [],
   "source": [
    "\"\"\"\n",
    "DROP TABLE actor;\n",
    "\"\"\""
   ]
  },
  {
   "attachments": {},
   "cell_type": "markdown",
   "metadata": {},
   "source": [
    "*18- 1 tabloyu C ile silin.*"
   ]
  },
  {
   "cell_type": "code",
   "execution_count": null,
   "metadata": {},
   "outputs": [],
   "source": [
    "try:\n",
    "    conn = psycopg2.connect(\"dbname=pycoders user= postgres password=1234\")\n",
    "    cur = conn.cursor()\n",
    "    cur.execute(\"DROP table category\")\n",
    "    cur.close()\n",
    "    conn.commit()\n",
    "    conn.close()\n",
    "except:\n",
    "    print(\"error\")\n",
    "finally:\n",
    "    conn.close()"
   ]
  },
  {
   "attachments": {},
   "cell_type": "markdown",
   "metadata": {},
   "source": [
    "*19- Kalan tablolardan 1 tanesinin 2 veya 3 sutununu K ile baska bir tablo olarak olusturun.*"
   ]
  },
  {
   "cell_type": "code",
   "execution_count": null,
   "metadata": {},
   "outputs": [],
   "source": [
    "\"\"\"  \n",
    "CREATE TABLE movies\n",
    "AS SELECT film_id, title,release_year\n",
    "FROM film;\n",
    "\"\"\""
   ]
  },
  {
   "attachments": {},
   "cell_type": "markdown",
   "metadata": {},
   "source": [
    "*20- Kalan tablolardan 1 tanesinin 2 veya 3 sutununu C ile baska bir tablo olarak olusturun.*"
   ]
  },
  {
   "cell_type": "code",
   "execution_count": null,
   "metadata": {},
   "outputs": [],
   "source": [
    "conn = psycopg2.connect(\"dbname=pycoders user= postgres password=1234\")\n",
    "cur = conn.cursor()\n",
    "cur.execute('CREATE TABLE new_rental AS SELECT rental_id, rental_date,inventory_id FROM rental')\n",
    "cur.close()\n",
    "conn.commit()\n",
    "conn.close()"
   ]
  },
  {
   "attachments": {},
   "cell_type": "markdown",
   "metadata": {},
   "source": [
    "*21- Tablolardan 1 tanesini truncate edin.* (M) Tamamlandı."
   ]
  },
  {
   "attachments": {},
   "cell_type": "markdown",
   "metadata": {},
   "source": [
    "*22- Tablolardan 1 tanesini truncate edin.* (K)"
   ]
  },
  {
   "cell_type": "code",
   "execution_count": null,
   "metadata": {},
   "outputs": [],
   "source": [
    "\"\"\"\n",
    "TRUNCATE TABLE language\n",
    "\"\"\""
   ]
  },
  {
   "attachments": {},
   "cell_type": "markdown",
   "metadata": {},
   "source": [
    "*23- Tablolardan 1 tanesini truncate edin.* (C)"
   ]
  },
  {
   "cell_type": "code",
   "execution_count": 36,
   "metadata": {},
   "outputs": [],
   "source": [
    "conn = psycopg2.connect(\"dbname=pycoders user= postgres password=1234\")\n",
    "cur = conn.cursor()\n",
    "cur.execute('TRUNCATE TABLE payment')\n",
    "cur.close()\n",
    "conn.commit()\n",
    "conn.close()"
   ]
  },
  {
   "attachments": {},
   "cell_type": "markdown",
   "metadata": {},
   "source": [
    "*24- truncate edilmis tablolari M ile silin.* Tamamlandı"
   ]
  },
  {
   "attachments": {},
   "cell_type": "markdown",
   "metadata": {},
   "source": [
    "*25- 2 tabloyu K ile silin.*"
   ]
  },
  {
   "cell_type": "code",
   "execution_count": null,
   "metadata": {},
   "outputs": [],
   "source": [
    "\"\"\"\n",
    "DROP TABLE new_rental;\n",
    "DROP TABLE new_inventory;\n",
    "\"\"\""
   ]
  },
  {
   "attachments": {},
   "cell_type": "markdown",
   "metadata": {},
   "source": [
    "*26- 2 tabloyu C ile silin.*"
   ]
  },
  {
   "cell_type": "code",
   "execution_count": 37,
   "metadata": {},
   "outputs": [],
   "source": [
    "conn = psycopg2.connect(\"dbname=pycoders user= postgres password=1234\")\n",
    "cur = conn.cursor()\n",
    "cur.execute('DROP TABLE rental')\n",
    "cur.execute('DROP TABLE film_category')\n",
    "cur.close()\n",
    "conn.commit()\n",
    "conn.close()"
   ]
  },
  {
   "attachments": {},
   "cell_type": "markdown",
   "metadata": {},
   "source": [
    "*27- Elimizde veri olan 1 tablo kalmis olmasi lazim. Tabloyu csv olarak bilgisayarınıza yukleyin.* Tamamlandı."
   ]
  },
  {
   "attachments": {},
   "cell_type": "markdown",
   "metadata": {},
   "source": [
    "*28- Postgresql dizinindeki son tabloyu da K ile silin.*"
   ]
  },
  {
   "cell_type": "code",
   "execution_count": null,
   "metadata": {},
   "outputs": [],
   "source": [
    "\"\"\"\n",
    "DROP TABLE inventory;\n",
    "\"\"\"\n"
   ]
  },
  {
   "attachments": {},
   "cell_type": "markdown",
   "metadata": {},
   "source": [
    "*29- Bilgisayarınızdaki csv yi arayuze import edin.* Sürekli hata alıyorum, bir türlü çözemedim"
   ]
  },
  {
   "attachments": {},
   "cell_type": "markdown",
   "metadata": {},
   "source": [
    "*30- import ettiğiniz bu tabloyu C ile silin.*"
   ]
  },
  {
   "cell_type": "code",
   "execution_count": null,
   "metadata": {},
   "outputs": [],
   "source": [
    "conn = psycopg2.connect(\"dbname=pycoders user= postgres password=1234\")\n",
    "cur = conn.cursor()\n",
    "cur.execute('DROP TABLE inventory')\n",
    "cur.close()\n",
    "conn.commit()\n",
    "conn.close()"
   ]
  },
  {
   "attachments": {},
   "cell_type": "markdown",
   "metadata": {},
   "source": [
    "*31- https://www.postgresqltutorial.com/postgresql-sample-database/ linkindeki ornek DB yi bilgisayariniza indirin ve arayuze yukleyin.* Tamamlandı."
   ]
  },
  {
   "attachments": {},
   "cell_type": "markdown",
   "metadata": {},
   "source": [
    "*32- DB nizde 15 adet tablo olmasi lazim. Her tabloyu teker teker goruntuleyin ve kolon isimlerine bakarak, 5 tablodaki hangi kolonun PK ve FK olduğunu yazin.*"
   ]
  },
  {
   "cell_type": "code",
   "execution_count": null,
   "metadata": {},
   "outputs": [],
   "source": [
    "\"\"\"\n",
    "film --> film_id (PK) - language_id (FK)\n",
    "category --> category_id (PK)\n",
    "film_actor --> actor_id, film_id (PK) - actor_id, film_id (FK)                  # aynı anda PK ve FK olabilir mi?\n",
    "address --> address_id (PK) - city_if (FK)\n",
    "payment --> payment_id (PK) - customer_id, rental_id, staff_id (FK)\n",
    "\"\"\""
   ]
  },
  {
   "cell_type": "code",
   "execution_count": null,
   "metadata": {},
   "outputs": [],
   "source": [
    "# 33- Aksiyon filmlerinin ortalama suresi ne kadardır?\n",
    "# Sayfalar: film ve film_category\n",
    "\n",
    "\"\"\"\n",
    "SELECT AVG(length) FROM film WHERE film_id IN ( SELECT film_id FROM film_category WHERE category_id=1 );\n",
    "\"\"\""
   ]
  },
  {
   "cell_type": "code",
   "execution_count": null,
   "metadata": {},
   "outputs": [],
   "source": [
    "# 34- En cok staff olan store hangisidir?\n",
    "# Sayfalar: staff\n",
    "\n",
    "\"\"\"  \n",
    "SELECT COUNT(staff_id) FROM staff GROUP BY store_id ORDER BY count LIMIT 1;\n",
    "\"\"\"\n"
   ]
  },
  {
   "cell_type": "code",
   "execution_count": null,
   "metadata": {},
   "outputs": [],
   "source": [
    "# 35- 'Gene Willis' adli aktörün filmlerinin reytingi nedir?\n",
    "# Sayfalar: film, film_actor ve actor\n",
    "\n",
    "\"\"\"\n",
    "SELECT rating FROM film WHERE film_id IN \n",
    "( \n",
    "    SELECT film_id FROM film_actor \n",
    "    WHERE actor_id = (SELECT actor_id FROM actor WHERE first_name ='Gene' and last_name ='Willis') \n",
    ")\n",
    "\"\"\""
   ]
  },
  {
   "cell_type": "code",
   "execution_count": null,
   "metadata": {},
   "outputs": [],
   "source": [
    "# 36- Aktif customer sayisi nedir?\n",
    "# 584\n",
    "\n",
    "\"\"\"\n",
    "SELECT COUNT(*) FROM customer WHERE active = 1;\n",
    "\"\"\""
   ]
  },
  {
   "cell_type": "code",
   "execution_count": null,
   "metadata": {},
   "outputs": [],
   "source": [
    "# 37-'C' harfiyle baslayan filmler nelerdir?\n",
    "\n",
    "\"\"\"  \n",
    "SELECT title FROM film WHERE title LIKE 'C%';\n",
    "\"\"\""
   ]
  },
  {
   "cell_type": "code",
   "execution_count": null,
   "metadata": {},
   "outputs": [],
   "source": [
    "# 4$ den az odeme yapan musterilerin e-posta edresleri nedir?\n",
    "# Sayfalar: customer ve payment\n",
    "\n",
    "\"\"\"\n",
    "SELECT email FROM customer WHERE customer_id IN (SELECT customer_id FROM payment WHERE amount<4 );\n",
    "\"\"\""
   ]
  },
  {
   "cell_type": "code",
   "execution_count": null,
   "metadata": {},
   "outputs": [],
   "source": [
    "# 39- Moskova'da ikamet eden staff ve customer tablosu? (sadece isim/soyisim sütünları olsun)\n",
    "# Sayfalar: customer, staff, address, city\n",
    "\n",
    "\"\"\"\n",
    "SELECT first_name,last_name FROM customer WHERE address_id IN (SELECT address_id FROM address WHERE city_id=(SELECT city_id FROM city WHERE city='Moscow'));\n",
    "SELECT first_name,last_name FROM staff WHERE address_id IN (SELECT address_id FROM address WHERE city_id=(SELECT city_id FROM city WHERE city='Moscow'));\n",
    "\"\"\""
   ]
  },
  {
   "cell_type": "code",
   "execution_count": null,
   "metadata": {},
   "outputs": [],
   "source": [
    "# 40- En az kiralanan 5 film?\n",
    "# Sayfalar: inventıry, film\n",
    "\n",
    "\"\"\"\n",
    "CREATE TABLE new_table\n",
    "AS SELECT film_id,COUNT(inventory_id) FROM inventory GROUP BY film_id ORDER BY COUNT LIMIT 5;\n",
    "\n",
    "SELECT title FROM film WHERE film_id IN (SELECT film_id FROM new_table)\n",
    "\"\"\""
   ]
  },
  {
   "cell_type": "code",
   "execution_count": null,
   "metadata": {},
   "outputs": [],
   "source": [
    "# 41- 2006 yilinda yayinlanan ingilizce filmler hangileridir?\n",
    "# Sayfalar: film, language\n",
    "\n",
    "\"\"\"\n",
    "SELECT title FROM film WHERE release_year=2006 and language_id=(SELECT language_id FROM language WHERE name='English');\n",
    "\"\"\""
   ]
  }
 ],
 "metadata": {
  "kernelspec": {
   "display_name": "Python 3",
   "language": "python",
   "name": "python3"
  },
  "language_info": {
   "codemirror_mode": {
    "name": "ipython",
    "version": 3
   },
   "file_extension": ".py",
   "mimetype": "text/x-python",
   "name": "python",
   "nbconvert_exporter": "python",
   "pygments_lexer": "ipython3",
   "version": "3.11.0"
  },
  "orig_nbformat": 4,
  "vscode": {
   "interpreter": {
    "hash": "1a1af0ee75eeea9e2e1ee996c87e7a2b11a0bebd85af04bb136d915cefc0abce"
   }
  }
 },
 "nbformat": 4,
 "nbformat_minor": 2
}
