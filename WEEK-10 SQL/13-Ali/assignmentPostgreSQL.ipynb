{
 "cells": [
  {
   "attachments": {},
   "cell_type": "markdown",
   "metadata": {},
   "source": [
    "(M:Manuel olarak, K:SQL komutlarıyla, C:Python kodlariyla)\n",
    "\n",
    "Asagidaki sorudan K ve C ile cozulmesini tasdikimizin cozumlerini (komüt kodlarini) ustte test veya altta cozumu sekilde bir dosyaya yapistirip gondermenizi istiyoruz."
   ]
  },
  {
   "attachments": {},
   "cell_type": "markdown",
   "metadata": {},
   "source": [
    "1- 'pycoders' isimli bir server kurun. (M)      "
   ]
  },
  {
   "attachments": {},
   "cell_type": "markdown",
   "metadata": {},
   "source": [
    "2- 'class4' veritabanı olusturun (M). Veritabanı silindi (M). \n",
    "Ayni veri tabanı yine olusturun (K)  :  CREATE DATABASE class4;\n",
    "(kod alanına ulaşım databases'in altında sağ klick ve Query Tools)\n",
    "\n"
   ]
  },
  {
   "attachments": {},
   "cell_type": "markdown",
   "metadata": {},
   "source": [
    "3- https://www.postgresqltutorial.com/postgresql-sample-database/ gidiş ve ER modelini kullanarak.\n",
    "Tablolar arasindaki en az 5 iliskiyi yazin.(Hangi tablodaki arasinda ne tur bir iliski var)\n",
    "''' \n",
    "One to one\n",
    "many to many\n",
    "One to many\n",
    "country->city , city->adress\n",
    "many to one\n",
    "language -> film\n",
    "\n",
    "'''"
   ]
  },
  {
   "attachments": {},
   "cell_type": "markdown",
   "metadata": {},
   "source": [
    "4- ER modeldeki tablolardan 3 tanesini M ile olusturun.\n",
    "actor, country ve payment oluşturuldu."
   ]
  },
  {
   "attachments": {},
   "cell_type": "markdown",
   "metadata": {},
   "source": [
    "5- ER modeldeki tablolardan 3 tanesini K ile olusturun.\n",
    "CREATE TABLE category (\n",
    " category_id INT PRIMARY KEY,\n",
    " name VARCHAR(50),\n",
    " last_update VARCHAR(50)\n",
    " );\n",
    "\n",
    "CREATE TABLE film_category (\n",
    " film_id INT PRIMARY KEY,\n",
    " category_id INT,\n",
    " last_update timestamp without time zone\n",
    " );\n",
    "\n",
    " CREATE TABLE address (\n",
    " address_id INT PRIMARY KEY,\n",
    " address character varying (50),\n",
    " address2 character varying (50),\n",
    " district character varying (20),\n",
    " city_id smallint,\n",
    " postal_code character varying (10),\n",
    " phone character varying (20),\n",
    " last_update timestamp without time zone\n",
    " );"
   ]
  },
  {
   "attachments": {},
   "cell_type": "markdown",
   "metadata": {},
   "source": [
    "6- ER modeldeki tablolardan 3 tanesini C ile olusturun\n",
    "(python ile hata alındı düzeldiğinde eklenecek)"
   ]
  },
  {
   "attachments": {},
   "cell_type": "markdown",
   "metadata": {},
   "source": [
    "7- Olusturdugunuz 3 tabloya M ile 5 veri girişi yapin.\n",
    "Yapıldı (address-country-category)"
   ]
  },
  {
   "attachments": {},
   "cell_type": "markdown",
   "metadata": {},
   "source": [
    "8- Olusturdugunuz 3 tabloya K ile 5 veri girişi yapin.\n",
    "#payment-rental-inventory\n",
    "\n",
    "INSERT INTO payment (payment_id, customer_id, staff_id,rental_id, amount,payment_date)\n",
    "VALUES (17503,341,2,1520,7.99,'2007-02-15 22:25');\n",
    "\n",
    "INSERT INTO film_catgory (film_id, catagory_id, last_update)\n",
    "VALUES (1,2,'16:03:2009');\n",
    "\n",
    "INSERT INTO actor (actor_id, first_name, last_name,last_update)\n",
    "VALUES (1,\"robert\", \"de niro\" 21:01:2015');"
   ]
  },
  {
   "attachments": {},
   "cell_type": "markdown",
   "metadata": {},
   "source": [
    "9"
   ]
  },
  {
   "attachments": {},
   "cell_type": "markdown",
   "metadata": {},
   "source": [
    "10- 3 tablodaki birer veriyi M ile degistirin.\n",
    "değiştirme yapıldı"
   ]
  },
  {
   "attachments": {},
   "cell_type": "markdown",
   "metadata": {},
   "source": [
    "11- 3 tablodaki birer veriyi K ile degistirin.\n",
    "\n",
    "\n",
    "\n",
    "\n",
    "UPDATE category SET name = 'cc' WHERE category_id=2   \n"
   ]
  },
  {
   "attachments": {},
   "cell_type": "markdown",
   "metadata": {},
   "source": [
    "12"
   ]
  },
  {
   "attachments": {},
   "cell_type": "markdown",
   "metadata": {},
   "source": [
    "13- 3 tablonun son satirini M ile silin.\n",
    "\n",
    "yapıldı"
   ]
  },
  {
   "attachments": {},
   "cell_type": "markdown",
   "metadata": {},
   "source": [
    "14- 3 tablonun son satirini K ile silin.\n",
    "\n",
    "DELETE FROM category\n",
    "WHERE category_id = 5\n"
   ]
  },
  {
   "attachments": {},
   "cell_type": "markdown",
   "metadata": {},
   "source": [
    "15"
   ]
  },
  {
   "cell_type": "markdown",
   "metadata": {},
   "source": []
  },
  {
   "attachments": {},
   "cell_type": "markdown",
   "metadata": {},
   "source": [
    "16- 1 tabloyu M ile silin. yapıldı"
   ]
  },
  {
   "attachments": {},
   "cell_type": "markdown",
   "metadata": {},
   "source": [
    "17- 1 tabloyu K ile silin.\n",
    "\n",
    "DROP TABLE country"
   ]
  },
  {
   "attachments": {},
   "cell_type": "markdown",
   "metadata": {},
   "source": [
    "18"
   ]
  },
  {
   "attachments": {},
   "cell_type": "markdown",
   "metadata": {},
   "source": [
    "19- Kalan tablolardan 1 tanesinin 2 veya 3 sutununu K ile baska bir tablo olarak \n",
    "olusturun.\n",
    "\n",
    "CREATE TABLE actor_1 AS \n",
    "SELECT actor_id,first_name,last_name FROM actor"
   ]
  },
  {
   "attachments": {},
   "cell_type": "markdown",
   "metadata": {},
   "source": [
    "20"
   ]
  }
 ],
 "metadata": {
  "language_info": {
   "name": "python"
  },
  "orig_nbformat": 4
 },
 "nbformat": 4,
 "nbformat_minor": 2
}
