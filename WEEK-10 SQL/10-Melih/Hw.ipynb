{
 "cells": [
  {
   "cell_type": "code",
   "execution_count": null,
   "metadata": {},
   "outputs": [],
   "source": [
    "\"\"\" \n",
    "\n",
    "Developer : Melih Orhan Yilmaz\n",
    "Date      : 14.02.2023\n",
    "\n",
    "Application : Database\n",
    "\n",
    "\"\"\""
   ]
  },
  {
   "attachments": {},
   "cell_type": "markdown",
   "metadata": {},
   "source": [
    "1- 'pycoders' isimli bir server kurun. (M) TAMAM\n",
    "\n",
    "2- 'class4' veritabanı olusturun (M). Veritabanı silindi (M). Ayni veri tabanı yine olusturun (K)"
   ]
  },
  {
   "cell_type": "code",
   "execution_count": null,
   "metadata": {},
   "outputs": [],
   "source": [
    "\"\"\"\n",
    "CREATE DATABASE class4\n",
    "\"\"\""
   ]
  },
  {
   "attachments": {},
   "cell_type": "markdown",
   "metadata": {},
   "source": [
    "3- https://www.postgresqltutorial.com/postgresql-sample-database/ gidiş ve ER modelini kullanarak. Tablolar arasindaki en az 5 iliskiyi yazin.(Hangi tablodaki arasinda ne tur bir iliski var)"
   ]
  },
  {
   "cell_type": "code",
   "execution_count": null,
   "metadata": {},
   "outputs": [],
   "source": [
    "\"\"\"\n",
    "city-country: one to one\n",
    "language-film: one to one\n",
    "staff-store: one to many\n",
    "rantal-film: many to many\n",
    "staf-rental: many to many\n",
    "\n",
    "\"\"\""
   ]
  },
  {
   "attachments": {},
   "cell_type": "markdown",
   "metadata": {},
   "source": [
    "4- ER modeldeki tablolardan 3 tanesini M ile olusturun. TAMAM\n",
    "\n",
    "5- ER modeldeki tablolardan 3 tanesini K ile olusturun."
   ]
  },
  {
   "cell_type": "code",
   "execution_count": null,
   "metadata": {},
   "outputs": [],
   "source": [
    "\"\"\"\n",
    "CREATE TABLE film_category(\n",
    "    film_id INTEGER primary key,\n",
    "    category_id  INTEGER,\n",
    "    last_update TIMESTAMP WITHOUT TIME ZONE\n",
    ");\n",
    "\n",
    "CREATE TABLE category(\n",
    "    category_id  INTEGER primary key,\n",
    "\tname varchar,\n",
    "    last_update TIMESTAMP WITHOUT TIME ZONE\n",
    ");\n",
    "\n",
    "CREATE TABLE language(\n",
    "    language_id  INTEGER primary key,\n",
    "\tname varchar,\n",
    "    last_update TIMESTAMP WITHOUT TIME ZONE\n",
    ");\n",
    "\"\"\""
   ]
  },
  {
   "cell_type": "markdown",
   "metadata": {},
   "source": [
    "6- ER modeldeki tablolardan 3 tanesini C ile olusturun."
   ]
  },
  {
   "cell_type": "code",
   "execution_count": 16,
   "metadata": {},
   "outputs": [],
   "source": [
    "import psycopg2"
   ]
  },
  {
   "cell_type": "code",
   "execution_count": 37,
   "metadata": {},
   "outputs": [],
   "source": [
    "conn = psycopg2.connect(\"dbname=class4 user = postgres password=mlhylmz99\")\n",
    "cur = conn.cursor() \n",
    "command = '''create table film_actor\n",
    "(   \n",
    "    actor_id integer primary key,\n",
    "    film_id integer\n",
    ") '''\n",
    "\n",
    "command = '''create table actor\n",
    "(\n",
    "    actor_id integer primary key,\n",
    "    first_name varchar(20),\n",
    "    last_name varchar(20)\n",
    ") '''\n",
    "\n",
    "command = '''create table inventory\n",
    "(\n",
    "    inventory_id integer primary key,\n",
    "    film_id integer\n",
    ") '''\n",
    "cur.execute(command)\n",
    "cur.close()\n",
    "conn.commit()\n",
    "conn.close()"
   ]
  },
  {
   "attachments": {},
   "cell_type": "markdown",
   "metadata": {},
   "source": [
    "7- Olusturdugunuz 3 tabloya M ile 5 veri girişi yapin. TAMAM\n",
    "\n",
    "8- Olusturdugunuz 3 tabloya K ile 5 veri girişi yapin."
   ]
  },
  {
   "cell_type": "code",
   "execution_count": null,
   "metadata": {},
   "outputs": [],
   "source": [
    "\"\"\"\n",
    "INSERT INTO category\n",
    "VALUES \n",
    "(001, 'Cartoon', DATE '11-11-2000'),\n",
    "(002, 'Horror', DATE '10-10-2000'),\n",
    "(003, 'Comedy', DATE '10-10-2005'),\n",
    "(004, 'Dram', DATE '10-10-2010'),\n",
    "(005, 'Action', DATE '10-10-2015')\n",
    "\n",
    "INSERT INTO film_category\n",
    "VALUES \n",
    "(1, 001, DATE '11-11-2000'),\n",
    "(2, 002, DATE '10-10-2000'),\n",
    "(3, 003, DATE '10-10-2005'),\n",
    "(4, 004, DATE '10-10-2010'),\n",
    "(5, 005, DATE '10-10-2015')\n",
    "\n",
    "INSERT INTO language\n",
    "VALUES \n",
    "(11, 'English', DATE '05-05-2020'),\n",
    "(21, 'French', DATE '06-06-2020'),\n",
    "(31, 'Spanish', DATE '07-07-2020'),\n",
    "(41, 'Turkish', DATE '08-08-2020'),\n",
    "(51, 'Chinese', DATE '09-09-2020')\n",
    "\"\"\""
   ]
  },
  {
   "attachments": {},
   "cell_type": "markdown",
   "metadata": {},
   "source": [
    "9- Olusturdugunuz 3 tabloya C ile 5 veri girişi yapin."
   ]
  },
  {
   "cell_type": "code",
   "execution_count": 34,
   "metadata": {},
   "outputs": [],
   "source": [
    "conn = psycopg2.connect(\"dbname=class4 user= postgres password=mlhylmz99\")\n",
    "cur = conn.cursor()\n",
    "cur.execute(\"\"\"\n",
    "    INSERT INTO actor (actor_id, first_name, last_name)\n",
    "    VALUES\n",
    "    (1001, 'Brad', 'Pitt'),\n",
    "    (1002, 'Amber', 'Heard'),\n",
    "    (1003, 'Jennifer', 'Lawrence'),\n",
    "    (1004, 'Kıvanc', 'Tatlıtug'),\n",
    "    (1005, 'Serenay', 'Sarıkaya')\n",
    "\"\"\")\n",
    "cur.close()\n",
    "conn.commit()\n",
    "conn.close()"
   ]
  },
  {
   "cell_type": "code",
   "execution_count": 35,
   "metadata": {},
   "outputs": [],
   "source": [
    "conn = psycopg2.connect(\"dbname=class4 user= postgres password=mlhylmz99\")\n",
    "cur = conn.cursor()\n",
    "cur.execute(\"\"\"\n",
    "    INSERT INTO film_actor (actor_id, film_id)\n",
    "    VALUES\n",
    "    (1001, 1),\n",
    "    (1002, 2),\n",
    "    (1003, 3),\n",
    "    (1004, 4),\n",
    "    (1005, 5)\n",
    "\"\"\")\n",
    "cur.close()\n",
    "conn.commit()\n",
    "conn.close()"
   ]
  },
  {
   "cell_type": "code",
   "execution_count": 38,
   "metadata": {},
   "outputs": [],
   "source": [
    "conn = psycopg2.connect(\"dbname=class4 user= postgres password=mlhylmz99\")\n",
    "cur = conn.cursor()\n",
    "cur.execute(\"\"\"\n",
    "    INSERT INTO inventory (inventory_id, film_id)\n",
    "    VALUES\n",
    "    (111, 1),\n",
    "    (222, 2),\n",
    "    (333, 3),\n",
    "    (444, 4),\n",
    "    (555, 5)\n",
    "\"\"\")\n",
    "cur.close()\n",
    "conn.commit()\n",
    "conn.close()"
   ]
  },
  {
   "attachments": {},
   "cell_type": "markdown",
   "metadata": {},
   "source": [
    "10- 3 tablodaki birer veriyi M ile degistirin. TAMAM\n",
    "\n",
    "11- 3 tablodaki birer veriyi K ile degistirin."
   ]
  },
  {
   "cell_type": "code",
   "execution_count": null,
   "metadata": {},
   "outputs": [],
   "source": [
    "\"\"\"\n",
    "UPDATE category\n",
    "SET name = 'Documentary'\n",
    "WHERE category_id = 1\n",
    "\n",
    "UPDATE film_category\n",
    "SET category_id = 333\n",
    "WHERE film_id = 3\n",
    "\n",
    "UPDATE language\n",
    "SET name = 'Flemish'\n",
    "WHERE language_id = 51\n",
    "\"\"\""
   ]
  },
  {
   "attachments": {},
   "cell_type": "markdown",
   "metadata": {},
   "source": [
    "12- 3 tablodaki birer veriyi C ile degistirin."
   ]
  },
  {
   "cell_type": "code",
   "execution_count": 39,
   "metadata": {},
   "outputs": [],
   "source": [
    "conn = psycopg2.connect(\"dbname=class4 user= postgres password=mlhylmz99\")\n",
    "cur = conn.cursor()\n",
    "cur.execute('UPDATE film_actor SET actor_id = %s WHERE film_id = %s', (2003,3))\n",
    "cur.close()\n",
    "conn.commit()\n",
    "conn.close()"
   ]
  },
  {
   "cell_type": "code",
   "execution_count": 40,
   "metadata": {},
   "outputs": [],
   "source": [
    "conn = psycopg2.connect(\"dbname=class4 user= postgres password=mlhylmz99\")\n",
    "cur = conn.cursor()\n",
    "cur.execute('UPDATE actor SET first_name = %s WHERE last_name = %s', (\"Angelina\",\"Pitt\"))\n",
    "cur.close()\n",
    "conn.commit()\n",
    "conn.close()"
   ]
  },
  {
   "cell_type": "code",
   "execution_count": 41,
   "metadata": {},
   "outputs": [],
   "source": [
    "conn = psycopg2.connect(\"dbname=class4 user= postgres password=mlhylmz99\")\n",
    "cur = conn.cursor()\n",
    "cur.execute('UPDATE inventory SET inventory_id = %s WHERE film_id = %s', (1111,1))\n",
    "cur.close()\n",
    "conn.commit()\n",
    "conn.close()"
   ]
  },
  {
   "attachments": {},
   "cell_type": "markdown",
   "metadata": {},
   "source": [
    "13- 3 tablonun son satirini M ile silin. TAMAM\n",
    "\n",
    "14- 3 tablonun son satirini K ile silin."
   ]
  },
  {
   "cell_type": "code",
   "execution_count": null,
   "metadata": {},
   "outputs": [],
   "source": [
    "\"\"\"\n",
    "DELETE FROM category WHERE category_id=5 ;\n",
    "DELETE FROM film_category WHERE film_id=5 ;\n",
    "DELETE FROM language WHERE language_id=51 ;\n",
    "\"\"\""
   ]
  },
  {
   "attachments": {},
   "cell_type": "markdown",
   "metadata": {},
   "source": [
    "15- 3 tablonun son satirini C ile silin."
   ]
  },
  {
   "cell_type": "code",
   "execution_count": 42,
   "metadata": {},
   "outputs": [],
   "source": [
    "import psycopg2\n",
    "conn=psycopg2.connect(\"dbname=class4 user=postgres password=mlhylmz99\")\n",
    "cur=conn.cursor()\n",
    "cur.execute('DELETE FROM actor WHERE actor_id=1005')\n",
    "cur.execute('DELETE FROM film_actor WHERE actor_id=2003')\n",
    "cur.execute('DELETE FROM inventory WHERE inventory_id=1111')\n",
    "\n",
    "cur.close()\n",
    "conn.commit()\n",
    "conn.close()"
   ]
  },
  {
   "attachments": {},
   "cell_type": "markdown",
   "metadata": {},
   "source": [
    "16- 1 tabloyu M ile silin. TAMAM\n",
    "\n",
    "17- 1 tabloyu K ile silin."
   ]
  },
  {
   "cell_type": "code",
   "execution_count": null,
   "metadata": {},
   "outputs": [],
   "source": [
    "\"\"\"\n",
    "DROP TABLE film_actor\n",
    "\"\"\""
   ]
  },
  {
   "attachments": {},
   "cell_type": "markdown",
   "metadata": {},
   "source": [
    "18- 1 tabloyu C ile silin."
   ]
  },
  {
   "cell_type": "code",
   "execution_count": 43,
   "metadata": {},
   "outputs": [],
   "source": [
    "import psycopg2\n",
    "conn=psycopg2.connect(\"dbname=class4 user=postgres password=mlhylmz99\")\n",
    "cur=conn.cursor()\n",
    "cur.execute('DROP TABLE category')\n",
    "cur.close()\n",
    "conn.commit()\n",
    "conn.close()"
   ]
  },
  {
   "attachments": {},
   "cell_type": "markdown",
   "metadata": {},
   "source": [
    "19- Kalan tablolardan 1 tanesinin 2 veya 3 sutununu K ile baska bir tablo olarak olusturun. TAMAM"
   ]
  },
  {
   "cell_type": "code",
   "execution_count": null,
   "metadata": {},
   "outputs": [],
   "source": [
    "\"\"\"\n",
    "CREATE TABLE film_ids AS SELECT film_id,category_id FROM film_category\n",
    "\"\"\""
   ]
  },
  {
   "attachments": {},
   "cell_type": "markdown",
   "metadata": {},
   "source": [
    "20- Kalan tablolardan 1 tanesinin 2 veya 3 sutununu C ile baska bir tablo olarak olusturun."
   ]
  },
  {
   "cell_type": "code",
   "execution_count": 44,
   "metadata": {},
   "outputs": [],
   "source": [
    "import psycopg2\n",
    "conn=psycopg2.connect(\"dbname=class4 user=postgres password=mlhylmz99\")\n",
    "cur=conn.cursor()\n",
    "command=\"\"\"CREATE TABLE actors_list AS SELECT first_name,last_name FROM actor\"\"\"\n",
    "cur.execute(command)\n",
    "cur.close()\n",
    "conn.commit()\n",
    "conn.close()"
   ]
  },
  {
   "attachments": {},
   "cell_type": "markdown",
   "metadata": {},
   "source": [
    "21- Tablolardan 1 tanesini truncate edin. TAMAM\n",
    "\n",
    "22- Tablolardan 1 tanesini truncate edin."
   ]
  },
  {
   "cell_type": "code",
   "execution_count": null,
   "metadata": {},
   "outputs": [],
   "source": [
    "\"\"\"\n",
    "TRUNCATE TABLE inventory\n",
    "\"\"\""
   ]
  },
  {
   "attachments": {},
   "cell_type": "markdown",
   "metadata": {},
   "source": [
    "23- Tablolardan 1 tanesini truncate edin."
   ]
  },
  {
   "cell_type": "code",
   "execution_count": 45,
   "metadata": {},
   "outputs": [],
   "source": [
    "import psycopg2\n",
    "conn=psycopg2.connect(\"dbname=class4 user=postgres password=mlhylmz99\")\n",
    "cur=conn.cursor()\n",
    "command=\"\"\"TRUNCATE TABLE payment\"\"\"\n",
    "cur.execute(command)\n",
    "cur.close()\n",
    "conn.commit()\n",
    "conn.close()"
   ]
  },
  {
   "attachments": {},
   "cell_type": "markdown",
   "metadata": {},
   "source": [
    "24- Truncate edilmis tablolari M ile silin. TAMAM\n",
    "\n",
    "25- 2 tabloyu K ile silin."
   ]
  },
  {
   "cell_type": "code",
   "execution_count": null,
   "metadata": {},
   "outputs": [],
   "source": [
    "\"\"\"\n",
    "DROP TABLE film_ids\n",
    "DROP TABLE film_category\n",
    "\"\"\""
   ]
  },
  {
   "attachments": {},
   "cell_type": "markdown",
   "metadata": {},
   "source": [
    "26- 2 tabloyu C ile silin."
   ]
  },
  {
   "cell_type": "code",
   "execution_count": 48,
   "metadata": {},
   "outputs": [],
   "source": [
    "import psycopg2\n",
    "conn=psycopg2.connect(\"dbname=class4 user=postgres password=mlhylmz99\")\n",
    "cur=conn.cursor()\n",
    "command=\"\"\"\n",
    "        DROP TABLE actors_list;\n",
    "        DROP TABLE film\n",
    "       \"\"\"\n",
    "cur.execute(command)\n",
    "cur.close()\n",
    "conn.commit()\n",
    "conn.close()"
   ]
  },
  {
   "attachments": {},
   "cell_type": "markdown",
   "metadata": {},
   "source": [
    "27- Elimizde veri olan 1 tablo kalmis olmasi lazim. Tabloyu csv olarak bilgisayarınıza yukleyin. TAMAM\n",
    "\n",
    "28- Postgresql dizinindeki son tabloyu da K ile silin."
   ]
  },
  {
   "cell_type": "code",
   "execution_count": null,
   "metadata": {},
   "outputs": [],
   "source": [
    "\"\"\"\n",
    "DROP TABLE actor\n",
    "\"\"\""
   ]
  },
  {
   "attachments": {},
   "cell_type": "markdown",
   "metadata": {},
   "source": [
    "29- Bilgisayarınızdaki csv yi arayuze import edin. TAMAM\n",
    "\n",
    "30- import ettiğiniz bu tabloyu C ile silin."
   ]
  },
  {
   "cell_type": "code",
   "execution_count": null,
   "metadata": {},
   "outputs": [],
   "source": [
    "import psycopg2\n",
    "conn=psycopg2.connect(\"dbname=class4 user=postgres password=mlhylmz99\")\n",
    "cur=conn.cursor()\n",
    "command=\"\"\"DROP TABLE actor\"\"\"\n",
    "cur.execute(command)\n",
    "cur.close()\n",
    "conn.commit()\n",
    "conn.close()"
   ]
  },
  {
   "attachments": {},
   "cell_type": "markdown",
   "metadata": {},
   "source": [
    "31- https://www.postgresqltutorial.com/postgresql-sample-database/ linkindeki ornek DB yi bilgisayariniza indirin ve arayuze yukleyin. TAMAM\n",
    "\n",
    "32- DB nizde 15 adet tablo olmasi lazim. Her tabloyu teker teker goruntuleyin ve kolon isimlerine bakarak, 5 tablodaki hangi kolonun PK ve FK olduğunu yazin."
   ]
  },
  {
   "attachments": {},
   "cell_type": "markdown",
   "metadata": {},
   "source": [
    "1) film_category\n",
    "film_id = pk\n",
    "category_id = fk\n",
    "\n",
    "2) city\n",
    "city_id = pk\n",
    "country_id = fk\n",
    "\n",
    "3) address\n",
    "address_id = pk\n",
    "city_id = fk\n",
    "\n",
    "4) customer\n",
    "customer_id = pk\n",
    "address_id = fk\n",
    "\n",
    "5)rental\n",
    "rental_id = pk\n",
    "staff_id = fk\n",
    "\n"
   ]
  },
  {
   "attachments": {},
   "cell_type": "markdown",
   "metadata": {},
   "source": [
    "33- Aksiyon filmlerinin ortalama suresi ne kadardır?"
   ]
  },
  {
   "attachments": {},
   "cell_type": "markdown",
   "metadata": {},
   "source": [
    "SELECT AVG(length) FROM film WHERE film_id IN ( SELECT film_id FROM film_category WHERE category_id=1)\n",
    "111.6093750000000000"
   ]
  },
  {
   "attachments": {},
   "cell_type": "markdown",
   "metadata": {},
   "source": [
    "34- En cok staff olan store hangisidir?"
   ]
  },
  {
   "attachments": {},
   "cell_type": "markdown",
   "metadata": {},
   "source": [
    "SELECT store_id, COUNT(store_id) FROM customer GROUP BY store_id ORDER BY COUNT(store_id) DESC LIMIT 1"
   ]
  },
  {
   "attachments": {},
   "cell_type": "markdown",
   "metadata": {},
   "source": [
    "35- 'Gene Willis' adli aktörün filmlerinin reytingi nedir?"
   ]
  },
  {
   "attachments": {},
   "cell_type": "markdown",
   "metadata": {},
   "source": [
    "SELECT rating FROM film WHERE film_id IN (SELECT film_id FROM film_actor WHERE actor_id=( SELECT actor_id FROM actor WHERE first_name = 'Gene' AND last_name = 'Willis'))\n",
    "\"R\"\n",
    "\"PG-13\"\n",
    "\"R\"\n",
    "\"R\"\n",
    "\"G\"\n",
    "\"NC-17\"\n",
    "\"PG\"\n",
    "\"NC-17\"\n",
    "\"NC-17\"\n",
    "\"PG-13\"\n",
    "\"G\"\n",
    "\"R\"\n",
    "\"R\"\n",
    "\"PG-13\"\n",
    "\"PG\"\n",
    "\"PG-13\"\n",
    "\"G\"\n",
    "\"PG\"\n",
    "\"NC-17\"\n",
    "\"PG\"\n",
    "\"R\"\n",
    "\"G\"\n",
    "\"PG\""
   ]
  },
  {
   "attachments": {},
   "cell_type": "markdown",
   "metadata": {},
   "source": [
    "36- Aktif customer sayisi nedir?"
   ]
  },
  {
   "attachments": {},
   "cell_type": "markdown",
   "metadata": {},
   "source": [
    "SELECT COUNT(*) FROM customer WHERE active =1\n",
    "584"
   ]
  },
  {
   "attachments": {},
   "cell_type": "markdown",
   "metadata": {},
   "source": [
    "37-'C' harfiyle baslayan filmler nelerdir?"
   ]
  },
  {
   "attachments": {},
   "cell_type": "markdown",
   "metadata": {},
   "source": [
    "SELECT title FROM film WHERE title like 'C%'\n",
    "\"Chamber Italian\"\n",
    "\"Casualties Encino\"\n",
    "\"Cabin Flash\"\n",
    "\"Caddyshack Jedi\"\n",
    "\"Calendar Gunfight\"\n",
    "\"California Birds\"\n",
    "\"Camelot Vacation\"\n",
    "\"Campus Remember\"\n",
    "\"Candidate Perdition\"\n",
    "\"Candles Grapes\"\n",
    "\"Canyon Stock\"\n",
    "\"Caper Motions\"\n",
    "\"Caribbean Liberty\"\n",
    "\"Carol Texas\"\n",
    "\"Carrie Bunch\"\n",
    "\"Casablanca Super\"\n",
    "\"Casper Dragonfly\"\n",
    "\"Cassidy Wyoming\"\n",
    "\"Cat Coneheads\"\n",
    "\"Catch Amistad\"\n",
    "\"Cause Date\"\n",
    "\"Celebrity Horn\"\n",
    "\"Center Dinosaur\"\n",
    "\"Chainsaw Uptown\"\n",
    "\"Champion Flatliners\"\n",
    "\"Chance Resurrection\"\n",
    "\"Clash Freddy\"\n",
    "\"Chaplin License\"\n",
    "\"Charade Duffel\"\n",
    "\"Chariots Conspiracy\"\n",
    "\"Chasing Fight\"\n",
    "\"Cheaper Clyde\"\n",
    "\"Chicago North\"\n",
    "\"Chicken Hellfighters\"\n",
    "\"Chill Luck\"\n",
    "\"Chinatown Gladiator\"\n",
    "\"Chisum Behavior\"\n",
    "\"Chitty Lock\"\n",
    "\"Chocolat Harry\"\n",
    "\"Chocolate Duck\"\n",
    "\"Christmas Moonshine\"\n",
    "\"Cider Desire\"\n",
    "\"Cincinatti Whisperer\"\n",
    "\"Circus Youth\"\n",
    "\"Citizen Shrek\"\n",
    "\"Cleopatra Devil\"\n",
    "\"Clerks Angels\"\n",
    "\"Clockwork Paradise\"\n",
    "\"Clones Pinocchio\"\n",
    "\"Closer Bang\"\n",
    "\"Club Graffiti\"\n",
    "\"Clue Grail\"\n",
    "\"Clueless Bucket\"\n",
    "\"Clyde Theory\"\n",
    "\"Coast Rainbow\"\n",
    "\"Core Suit\"\n",
    "\"Coldblooded Darling\"\n",
    "\"Color Philadelphia\"\n",
    "\"Coma Head\"\n",
    "\"Comancheros Enemy\"\n",
    "\"Comforts Rush\"\n",
    "\"Command Darling\"\n",
    "\"Commandments Express\"\n",
    "\"Coneheads Smoochy\"\n",
    "\"Confessions Maguire\"\n",
    "\"Confidential Interview\"\n",
    "\"Confused Candles\"\n",
    "\"Congeniality Quest\"\n",
    "\"Connecticut Tramp\"\n",
    "\"Connection Microcosmos\"\n",
    "\"Conquerer Nuts\"\n",
    "\"Conspiracy Spirit\"\n",
    "\"Contact Anonymous\"\n",
    "\"Control Anthem\"\n",
    "\"Conversation Downhill\"\n",
    "\"Cowboy Doom\"\n",
    "\"Craft Outfield\"\n",
    "\"Cranes Reservoir\"\n",
    "\"Crazy Home\"\n",
    "\"Creatures Shakespeare\"\n",
    "\"Creepers Kane\"\n",
    "\"Crooked Frogmen\"\n",
    "\"Crossing Divorce\"\n",
    "\"Crossroads Casualties\"\n",
    "\"Crow Grease\"\n",
    "\"Crowds Telemark\"\n",
    "\"Cruelty Unforgiven\"\n",
    "\"Crusade Honey\"\n",
    "\"Crystal Breaking\"\n",
    "\"Cupboard Sinners\"\n",
    "\"Curtain Videotape\"\n",
    "\"Cyclone Family\""
   ]
  },
  {
   "attachments": {},
   "cell_type": "markdown",
   "metadata": {},
   "source": [
    "38- 4$ den az odeme yapan musterilerin e-posta edresleri nedir?"
   ]
  },
  {
   "attachments": {},
   "cell_type": "markdown",
   "metadata": {},
   "source": [
    "SELECT email FROM customer WHERE customer_id IN(SELECT customer_id FROM payment WHERE amount<4)"
   ]
  },
  {
   "attachments": {},
   "cell_type": "markdown",
   "metadata": {},
   "source": [
    "39- Moskova'da ikamet eden staff ve customer tablosu? (sadece isim/soyisim sütünları olsun)"
   ]
  },
  {
   "attachments": {},
   "cell_type": "markdown",
   "metadata": {},
   "source": [
    "SELECT first_name, last_name FROM customer WHERE address_id IN (SELECT address_id FROM address WHERE city_id IN (SELECT city_id FROM city WHERE city= 'Moscow'))\n",
    "\n",
    "Catherine Campbell"
   ]
  },
  {
   "attachments": {},
   "cell_type": "markdown",
   "metadata": {},
   "source": [
    "40- En az kiralanan 5 film?"
   ]
  },
  {
   "attachments": {},
   "cell_type": "markdown",
   "metadata": {},
   "source": [
    "SELECT TITLE FROM film WHERE film_id IN (SELECT film_id FROM inventory GROUP BY film_id ORDER BY COUNT(*) LIMIT 5)\n",
    "\n",
    "\"Elf Murder\"\n",
    "\"Tarzan Videotape\"\n",
    "\"Luck Opus\"\n",
    "\"Stallion Sundance\"\n",
    "\"Clue Grail\""
   ]
  },
  {
   "attachments": {},
   "cell_type": "markdown",
   "metadata": {},
   "source": [
    "41- 2006 yilinda yayinlanan ingilizce filmler hangileridir?"
   ]
  },
  {
   "attachments": {},
   "cell_type": "markdown",
   "metadata": {},
   "source": [
    "SELECT * FROM film WHERE release_year=2006 and language_id IN (SELECT language_id FROM language WHERE name='English');\n",
    "\n",
    "1000"
   ]
  }
 ],
 "metadata": {
  "kernelspec": {
   "display_name": "Python 3",
   "language": "python",
   "name": "python3"
  },
  "language_info": {
   "name": "python",
   "version": "3.7.7"
  },
  "orig_nbformat": 4,
  "vscode": {
   "interpreter": {
    "hash": "356734b0b4e05b3af569ed06eb258f6ef66038e7268c6bdbb97ecd1a1c609e88"
   }
  }
 },
 "nbformat": 4,
 "nbformat_minor": 2
}
