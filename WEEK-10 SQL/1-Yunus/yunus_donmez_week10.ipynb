{
 "cells": [
  {
   "attachments": {},
   "cell_type": "markdown",
   "metadata": {},
   "source": [
    "\n",
    "1- 'pycoders' isimli bir server kurun. (M)\n",
    "\n",
    "2- 'class4' veritabanı olusturun (M). Veritabanı silindi (M). Ayni veri tabanı yine olusturun (K)\n",
    "\n",
    "3- https://www.postgresqltutorial.com/postgresql-sample-database/ gidiş ve ER modelini kullanarak. Tablolar arasindaki en az 5 iliskiyi yazin.(Hangi tablodaki arasinda ne tur bir iliski var)\n",
    "\n",
    "4- ER modeldeki tablolardan 3 tanesini M ile olusturun.\n",
    "\n",
    "5- ER modeldeki tablolardan 3 tanesini K ile olusturun.\n",
    "\n",
    "6- ER modeldeki tablolardan 3 tanesini C ile olusturun.\n",
    "\n",
    "(4-5-6. sorulari cozerken toblolar arasındaki iliskileri gozardi edebilirsiniz.)\n",
    "\n",
    "7- Olusturdugunuz 3 tabloya M ile 5 veri girişi yapin.\n",
    "\n",
    "8- Olusturdugunuz 3 tabloya K ile 5 veri girişi yapin.\n",
    "\n",
    "9- Olusturdugunuz 3 tabloya C ile 5 veri girişi yapin.\n",
    "\n",
    "10- 3 tablodaki birer veriyi M ile degistirin.\n",
    "\n",
    "11- 3 tablodaki birer veriyi K ile degistirin.\n",
    "\n",
    "12- 3 tablodaki birer veriyi C ile degistirin.\n",
    "\n",
    "13- 3 tablonun son satirini M ile silin.\n",
    "\n",
    "14- 3 tablonun son satirini K ile silin.\n",
    "\n",
    "15- 3 tablonun son satirini C ile silin.\n",
    "\n",
    "16- 1 tabloyu M ile silin.\n",
    "\n",
    "17- 1 tabloyu K ile silin.\n",
    "\n",
    "18- 1 tabloyu C ile silin.\n",
    "\n",
    "19- Kalan tablolardan 1 tanesinin 2 veya 3 sutununu K ile baska bir tablo olarak olusturun.\n",
    "\n",
    "20- Kalan tablolardan 1 tanesinin 2 veya 3 sutununu C ile baska bir tablo olarak olusturun.\n",
    "\n",
    "21- Tablolardan 1 tanesini truncate edin.\n",
    "\n",
    "22- Tablolardan 1 tanesini truncate edin.\n",
    "\n",
    "23- Tablolardan 1 tanesini truncate edin.\n",
    "\n",
    "24- truncate edilmis tablolari M ile silin.\n",
    "\n",
    "25- 2 tabloyu K ile silin.\n",
    "\n",
    "26- 2 tabloyu C ile silin.\n",
    "\n",
    "27- Elimizde veri olan 1 tablo kalmis olmasi lazim. Tabloyu csv olarak bilgisayarınıza yukleyin.\n",
    "\n",
    "28- Postgresql dizinindeki son tabloyu da K ile silin.\n",
    "\n",
    "29- Bilgisayarınızdaki csv yi arayuze import edin.\n",
    "\n",
    "30- import ettiğiniz bu tabloyu C ile silin.\n",
    "\n",
    "31- https://www.postgresqltutorial.com/postgresql-sample-database/ linkindeki ornek DB yi bilgisayariniza indirin ve arayuze yukleyin.\n",
    "\n",
    "32- DB nizde 15 adet tablo olmasi lazim. Her tabloyu teker teker goruntuleyin ve kolon isimlerine bakarak, 5 tablodaki hangi kolonun PK ve FK olduğunu yazin.\n",
    "\n",
    "(Asagi'deki sorularıin sayfasınıini ve bu cedakibi bulurken kullandiginiz kodlari yazin)\n",
    "\n",
    "33- Aksiyon filmlerinin ortalama suresi ne kadardır?\n",
    "\n",
    "34- En cok staff olan store hangisidir?\n",
    "\n",
    "35- 'Gene Willis' adli aktörün filmlerinin reytingi nedir?\n",
    "\n",
    "36- Aktif customer sayisi nedir?\n",
    "\n",
    "37-'C' harfiyle baslayan filmler nelerdir?\n",
    "\n",
    "38- 4$ den az odeme yapan musterilerin e-posta edresleri nedir?\n",
    "\n",
    "39- Moskova'da ikamet eden staff ve customer tablosu? (sadece isim/soyisim sütünları olsun)\n",
    "\n",
    "40- En az kiralanan 5 film?\n",
    "\n",
    "41- 2006 yilinda yayinlanan ingilizce filmler hangileridir?\n"
   ]
  },
  {
   "attachments": {},
   "cell_type": "markdown",
   "metadata": {},
   "source": [
    "2- 'class4' veritabanı olusturun (M). Veritabanı silindi (M). Ayni veri tabanı yine olusturun (K)\n",
    "\n",
    "CREATE DATABASE class4\n",
    "    WITH\n",
    "    OWNER = postgres\n",
    "    ENCODING = 'UTF8'\n",
    "    LC_COLLATE = 'English_Netherlands.1252'\n",
    "    LC_CTYPE = 'English_Netherlands.1252'\n",
    "    TABLESPACE = pg_default\n",
    "    CONNECTION LIMIT = -1\n",
    "    IS_TEMPLATE = False;"
   ]
  },
  {
   "attachments": {},
   "cell_type": "markdown",
   "metadata": {},
   "source": [
    "3- https://www.postgresqltutorial.com/postgresql-sample-database/ gidiş ve ER modelini kullanarak. Tablolar arasindaki en az 5 iliskiyi yazin.(Hangi tablodaki arasinda ne tur bir iliski var)\n",
    "\n",
    "1-Catagory - Film_category  zero to one\n",
    "2- FIlm - Inventory  one mandatory to many optional\n",
    "3 - Customer - adress many to one \n",
    "4 -rental - staf  many to mandatory one\n",
    "5 -adress to city  many to one\n"
   ]
  },
  {
   "attachments": {},
   "cell_type": "markdown",
   "metadata": {},
   "source": [
    "5- ER modeldeki tablolardan 3 tanesini K ile olusturun.\n",
    "\n",
    "CREATE TABLE actor\n",
    "(\n",
    "    actor_id integer NOT NULL primary key,\n",
    "    first_name varchar(20),\n",
    "    last_name varchar(20) ,\n",
    "    last_update time without time zone,\n",
    ");\n",
    "\n",
    "create table Films(\n",
    "\tfilm_id integer primary key,\n",
    "\tfilm_name varchar(20),\n",
    "\tlast_update time\n",
    ");\n",
    "CREATE table inventory\n",
    "(\n",
    "    inventory_id integer primary key,\n",
    "    film_id varchar(20),\n",
    "    store_id integer,\n",
    "    last_update time\n",
    ");\n",
    "CREATE table category\n",
    "(\n",
    "    catogort_id integer primary key,\n",
    "    name varchar(20),\n",
    "    last_update time\n",
    ")\n",
    "CREATE table film_category\n",
    "(\n",
    "    film_id varchar(20) primary key,\n",
    "    category_id integer,\n",
    "    last_update time\n",
    ")\n",
    "\n"
   ]
  },
  {
   "attachments": {},
   "cell_type": "markdown",
   "metadata": {},
   "source": [
    "6- ER modeldeki tablolardan 3 tanesini C ile olusturun."
   ]
  },
  {
   "cell_type": "code",
   "execution_count": 4,
   "metadata": {},
   "outputs": [],
   "source": [
    "import psycopg2\n",
    "conn = psycopg2.connect(\"dbname = class4 user = postgres password = 123\")\n",
    "cur = conn.cursor()\n",
    "command = '''CREATE table category\n",
    "(\n",
    "    catogort_id integer primary key,\n",
    "    name varchar(20),\n",
    "    last_update time\n",
    ")'''\n",
    "\n",
    "cur.execute(command)\n",
    "cur.close()\n",
    "conn.commit()\n",
    "conn.close()"
   ]
  },
  {
   "cell_type": "code",
   "execution_count": 5,
   "metadata": {},
   "outputs": [],
   "source": [
    "conn = psycopg2.connect(\"dbname = class4 user = postgres password = 123\")\n",
    "cur = conn.cursor()\n",
    "command = '''CREATE table inventory\n",
    "(\n",
    "    inventory_id integer primary key,\n",
    "    film_id varchar(20),\n",
    "    store_id integer,\n",
    "    last_update time\n",
    ")'''\n",
    "\n",
    "cur.execute(command)\n",
    "cur.close()\n",
    "conn.commit()\n",
    "conn.close()"
   ]
  },
  {
   "cell_type": "code",
   "execution_count": 7,
   "metadata": {},
   "outputs": [],
   "source": [
    "conn = psycopg2.connect(\"dbname = class4 user = postgres password = 123\")\n",
    "cur = conn.cursor()\n",
    "command = '''CREATE table film_category\n",
    "(\n",
    "    film_id varchar(20) primary key,\n",
    "    category_id integer,\n",
    "    last_update time\n",
    ")'''\n",
    "\n",
    "cur.execute(command)\n",
    "cur.close()\n",
    "conn.commit()\n",
    "conn.close()"
   ]
  },
  {
   "attachments": {},
   "cell_type": "markdown",
   "metadata": {},
   "source": [
    "8- Olusturdugunuz 3 tabloya K ile 5 veri girişi yapin\n",
    "\n",
    "insert into  actor (actor_id , first_name , last_name , last_update)  values (6 , 'ahmet' , 'tas', 'now' );\n",
    "insert into  actor (actor_id , first_name , last_name , last_update)  values (7 , 'mehmet' , 'tas', 'now' );\n",
    "insert into  actor (actor_id , first_name , last_name , last_update)  values (8 , 'ayse' , 'tas', 'now' );\n",
    "insert into  actor (actor_id , first_name , last_name , last_update)  values (9 , 'fatma' , 'tas', 'now' );\n",
    "insert into  actor (actor_id , first_name , last_name , last_update)  values (10 , 'osman' , 'tas', 'now' );"
   ]
  },
  {
   "attachments": {},
   "cell_type": "markdown",
   "metadata": {},
   "source": [
    "9- Olusturdugunuz 3 tabloya C ile 5 veri girişi yapin."
   ]
  },
  {
   "cell_type": "code",
   "execution_count": 21,
   "metadata": {},
   "outputs": [],
   "source": [
    "\n",
    "conn = psycopg2.connect(\"dbname = class4 user = postgres password = 123\")\n",
    "cur = conn.cursor()\n",
    "\n",
    "\n",
    "cur.execute('''insert into actor values(%s,%s,%s,%s)''', (11,\"selim\" , \"yaman\" , 'now'))\n",
    "cur.execute('''insert into actor values(%s,%s,%s,%s)''', (13,\"cuma\" , \"mubarek\" , 'now'))\n",
    "cur.execute('''insert into actor values(%s,%s,%s,%s)''', (12,\"Anna\" , \"chorus\" , 'now'))\n",
    "cur.execute('''insert into actor values(%s,%s,%s,%s)''', (14,\"kevin\" , \"joe\" , 'now'))\n",
    "cur.execute('''insert into actor values(%s,%s,%s,%s)''', (15,\"Angelina\" , \"coli\" , 'now'))\n",
    "cur.close()\n",
    "conn.commit()\n",
    "conn.close()"
   ]
  },
  {
   "attachments": {},
   "cell_type": "markdown",
   "metadata": {},
   "source": [
    "11- 3 tablodaki birer veriyi K ile degistirin.\n",
    "\n",
    "update actor set actor_name = 'Furkan'  where actor_id = 5\n",
    "update actor set actor_surname = 'Yıgıt'  where actor_id = 5\n",
    "update actor set last_update = 'now'  where actor_id = 5"
   ]
  },
  {
   "attachments": {},
   "cell_type": "markdown",
   "metadata": {},
   "source": [
    "12- 3 tablodaki birer veriyi C ile degistirin."
   ]
  },
  {
   "cell_type": "code",
   "execution_count": null,
   "metadata": {},
   "outputs": [],
   "source": [
    "conn = psycopg2.connect(\"dbname = class4 user = postgres password = 123\")\n",
    "cur = conn.cursor()\n",
    "\n",
    "cur.execute('''update actor set actor_isim = %s where id = %s''' ,('Furkan',2))\n",
    "cur.execute('''update actor set actor_isim = %s where id = %s''' ,('osman',3))\n",
    "cur.execute('''update actor set actor_isim = %s where id = %s''' ,('kemal',4))\n",
    "cur.close()\n",
    "conn.commit()\n",
    "conn.close()"
   ]
  },
  {
   "attachments": {},
   "cell_type": "markdown",
   "metadata": {},
   "source": [
    "14- 3 tablonun son satirini K ile silin.\n",
    "'delete from actor where actor_id = (select max(actor_id) from actor)'\n",
    "'delete from films where actor_id = (select max(films_id) from films)'\n",
    "'delete from country where country_id = (select max(country_id) from country)'\n"
   ]
  },
  {
   "attachments": {},
   "cell_type": "markdown",
   "metadata": {},
   "source": [
    "15- 3 tablonun son satirini C ile silin."
   ]
  },
  {
   "cell_type": "code",
   "execution_count": 17,
   "metadata": {},
   "outputs": [],
   "source": [
    "conn = psycopg2.connect(\"dbname = class4 user = postgres password = 123\")\n",
    "cur = conn.cursor()\n",
    "\n",
    "cur.execute('delete from actor where actor_id = (select max(actor_id) from actor)')\n",
    "cur.execute('delete from films where actor_id = (select max(films_id) from films)')\n",
    "cur.execute('delete from country where country_id = (select max(country_id) from country)')\n",
    "\n",
    "cur.close()\n",
    "conn.commit()\n",
    "conn.close()"
   ]
  },
  {
   "attachments": {},
   "cell_type": "markdown",
   "metadata": {},
   "source": [
    "17- 1 tabloyu K ile silin.\n",
    "'drop table film_category'\n"
   ]
  },
  {
   "attachments": {},
   "cell_type": "markdown",
   "metadata": {},
   "source": [
    "18-Deleting a table using python"
   ]
  },
  {
   "cell_type": "code",
   "execution_count": 20,
   "metadata": {},
   "outputs": [],
   "source": [
    "conn = psycopg2.connect(\"dbname = class4 user = postgres password = 123\")\n",
    "cur = conn.cursor()\n",
    "\n",
    "cur.execute('drop table film_category')\n",
    "\n",
    "cur.close()\n",
    "conn.commit()\n",
    "conn.close()"
   ]
  },
  {
   "attachments": {},
   "cell_type": "markdown",
   "metadata": {},
   "source": [
    "19- Kalan tablolardan 1 tanesinin 2 veya 3 sutununu K ile baska bir tablo olarak olusturun.\n",
    "\n",
    "CREATE TABLE Actrist AS SELECT   * FROM actor WHERE actor_id = 1 or actor_id =2 ;\n"
   ]
  },
  {
   "attachments": {},
   "cell_type": "markdown",
   "metadata": {},
   "source": [
    "20- Kalan tablolardan 1 tanesinin 2 veya 3 sutununu C ile baska bir tablo olarak olusturun."
   ]
  },
  {
   "cell_type": "code",
   "execution_count": null,
   "metadata": {},
   "outputs": [],
   "source": [
    "conn = psycopg2.connect(\"dbname = class4 user = postgres password = 123\")\n",
    "cur = conn.cursor()\n",
    "\n",
    "cur.execute('CREATE TABLE Actrist AS SELECT   * FROM actor WHERE actor_id = 1 or actor_id =2')\n",
    "\n",
    "cur.close()\n",
    "conn.commit()\n",
    "conn.close()"
   ]
  },
  {
   "attachments": {},
   "cell_type": "markdown",
   "metadata": {},
   "source": [
    "22- Tablolardan 1 tanesini truncate edin\n",
    "\n",
    "TRUNCATE TABLE actors ;\n",
    "\n"
   ]
  },
  {
   "attachments": {},
   "cell_type": "markdown",
   "metadata": {},
   "source": [
    "23-Tablolardan 1 tanesini truncate edin."
   ]
  },
  {
   "cell_type": "code",
   "execution_count": null,
   "metadata": {},
   "outputs": [],
   "source": [
    "conn = psycopg2.connect(\"dbname = class4 user = postgres password = 123\")\n",
    "cur = conn.cursor()\n",
    "\n",
    "cur.execute('TRUNCATE TABLE actors')\n",
    "\n",
    "cur.close()\n",
    "conn.commit()\n",
    "conn.close()"
   ]
  },
  {
   "attachments": {},
   "cell_type": "markdown",
   "metadata": {},
   "source": [
    "2 tabloyu K ile silin.\n",
    "'drop table film_category'\n",
    "\n"
   ]
  },
  {
   "attachments": {},
   "cell_type": "markdown",
   "metadata": {},
   "source": [
    "26- 2 tabloyu C ile silin"
   ]
  },
  {
   "cell_type": "code",
   "execution_count": null,
   "metadata": {},
   "outputs": [],
   "source": [
    "conn = psycopg2.connect(\"dbname = class4 user = postgres password = 123\")\n",
    "cur = conn.cursor()\n",
    "\n",
    "cur.execute('drop table film_category')\n",
    "\n",
    "cur.close()\n",
    "conn.commit()\n",
    "conn.close()"
   ]
  },
  {
   "attachments": {},
   "cell_type": "markdown",
   "metadata": {},
   "source": [
    "27- Elimizde veri olan 1 tablo kalmis olmasi lazim. Tabloyu csv olarak bilgisayarınıza yukleyin.\n",
    "\n",
    "COPY actor TO 'C:\\temp\\actor_db.csv' DELIMITER ',' CSV HEADER;\n"
   ]
  },
  {
   "attachments": {},
   "cell_type": "markdown",
   "metadata": {},
   "source": [
    "29- Bilgisayarınızdaki csv yi arayuze import edin.\n"
   ]
  },
  {
   "cell_type": "code",
   "execution_count": null,
   "metadata": {},
   "outputs": [],
   "source": [
    "with open(r\"C:\\Temp\\actor_db.csv\",'r') as f:\n",
    "    for i in f:\n",
    "        print(i)"
   ]
  },
  {
   "attachments": {},
   "cell_type": "markdown",
   "metadata": {},
   "source": [
    "32- DB nizde 15 adet tablo olmasi lazim. Her tabloyu teker teker goruntuleyin ve kolon isimlerine bakarak, 5 tablodaki hangi kolonun PK ve FK olduğunu yazin.\n",
    "\n",
    "film --> film_id (PK) - language_id (FK)\n",
    "category --> category_id (PK)\n",
    "film_actor --> actor_id, film_id (PK) - actor_id, film_id (FK)                \n",
    "address --> address_id (PK) - city_if (FK)\n",
    "payment --> payment_id (PK) - customer_id, rental_id, staff_id (FK)"
   ]
  },
  {
   "attachments": {},
   "cell_type": "markdown",
   "metadata": {},
   "source": [
    "33- Aksiyon filmlerinin ortalama suresi ne kadardır?\n",
    "- Film_category and film\n",
    "\n",
    "SELECT AVG(length) FROM film WHERE film_id IN ( SELECT film_id FROM film_category WHERE category_id=1 );\n",
    "\n",
    "111.60937"
   ]
  },
  {
   "attachments": {},
   "cell_type": "markdown",
   "metadata": {},
   "source": [
    "34- En cok staff olan store hangisidir?\n",
    "-staff and store\n",
    "\n",
    "    SELECT COUNT(staff_id) FROM staff GROUP BY store_id ORDER BY count LIMIT 1;"
   ]
  },
  {
   "attachments": {},
   "cell_type": "markdown",
   "metadata": {},
   "source": [
    "35- 'Gene Willis' adli aktörün filmlerinin reytingi nedir?\n",
    "-film_actor , film ve actor\n",
    "\n",
    "SELECT rating FROM film WHERE film_id IN \n",
    "( \n",
    "    SELECT film_id FROM film_actor \n",
    "    WHERE actor_id = (SELECT actor_id FROM actor WHERE first_name ='Gene' and last_name ='Willis') \n",
    ")"
   ]
  },
  {
   "attachments": {},
   "cell_type": "markdown",
   "metadata": {},
   "source": [
    "36- Aktif customer sayisi nedir?\n",
    "\n",
    "SELECT COUNT(*) FROM customer WHERE active = 1;"
   ]
  },
  {
   "attachments": {},
   "cell_type": "markdown",
   "metadata": {},
   "source": [
    "37-'C' harfiyle baslayan filmler nelerdir?\n",
    "\n",
    "SELECT title FROM film WHERE title LIKE 'C%';\n"
   ]
  },
  {
   "attachments": {},
   "cell_type": "markdown",
   "metadata": {},
   "source": [
    "4$ den az odeme yapan musterilerin e-posta edresleri nedir?\n",
    "\n",
    "SELECT email FROM customer WHERE customer_id IN (SELECT customer_id FROM payment WHERE amount<4 );"
   ]
  },
  {
   "attachments": {},
   "cell_type": "markdown",
   "metadata": {},
   "source": [
    "39- Moskova'da ikamet eden staff ve customer tablosu? (sadece isim/soyisim sütünları olsun)\n",
    "\n",
    "SELECT first_name,last_name FROM customer WHERE address_id IN (SELECT address_id FROM address WHERE city_id=(SELECT city_id FROM city WHERE city='Moscow'));\n",
    "SELECT first_name,last_name FROM staff WHERE address_id IN (SELECT address_id FROM address WHERE city_id=(SELECT city_id FROM city WHERE city='Moscow'));"
   ]
  },
  {
   "attachments": {},
   "cell_type": "markdown",
   "metadata": {},
   "source": [
    "40- En az kiralanan 5 film?\n",
    "\n",
    "CREATE TABLE new_table\n",
    "AS SELECT film_id,COUNT(inventory_id) FROM inventory GROUP BY film_id ORDER BY COUNT LIMIT 5;\n",
    "\n",
    "SELECT title FROM film WHERE film_id IN (SELECT film_id FROM new_table)"
   ]
  },
  {
   "attachments": {},
   "cell_type": "markdown",
   "metadata": {},
   "source": [
    "41- 2006 yilinda yayinlanan ingilizce filmler hangileridir?\n",
    "\n",
    "SELECT title FROM film WHERE release_year=2006 and language_id=(SELECT language_id FROM language WHERE name='English');\n"
   ]
  }
 ],
 "metadata": {
  "kernelspec": {
   "display_name": "Python 3",
   "language": "python",
   "name": "python3"
  },
  "language_info": {
   "name": "python",
   "version": "3.9.6"
  },
  "orig_nbformat": 4,
  "vscode": {
   "interpreter": {
    "hash": "57442ad19dda7e409fd353bc1ab91cdddb5041f1d2bc16045f968bf64de0f930"
   }
  }
 },
 "nbformat": 4,
 "nbformat_minor": 2
}
