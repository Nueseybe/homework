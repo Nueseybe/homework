{
 "cells": [
  {
   "cell_type": "code",
   "execution_count": null,
   "metadata": {},
   "outputs": [],
   "source": [
    "'''CREATE DATABASE class4'''#2. assignment"
   ]
  },
  {
   "cell_type": "code",
   "execution_count": null,
   "metadata": {},
   "outputs": [],
   "source": [
    "'''Address and customer tables have one to many relationship'''\n",
    "'''Actor and film_actor tables have one to many relationship'''\n",
    "'''Inventory and rental tables have one yo many relationship'''\n",
    "'''Category and film_category tables have one to many relationship'''\n",
    "'''Staff and payment tables have one to many relationship'''#3. assignment"
   ]
  },
  {
   "cell_type": "code",
   "execution_count": null,
   "metadata": {},
   "outputs": [],
   "source": [
    "'''CREATE TABLE IF NOT EXISTS public.category\n",
    "(\n",
    "\tcategory_id integer,\n",
    "\tname character varying(25),\n",
    "\tlast_update timestamp without time zone,\n",
    "\tPRIMARY KEY(category_id)\n",
    ");\n",
    "CREATE TABLE IF NOT EXISTS public.film_category\n",
    "(\n",
    "\tfilm_id smallint,\n",
    "\tcategory_id smallint,\n",
    "\tlast_update timestamp without time zone,\n",
    "\tPRIMARY KEY(film_id, category_id)\n",
    ");\n",
    "CREATE TABLE IF NOT EXISTS public.inventory\n",
    "(\n",
    "\tinventory_id integer PRIMARY KEY,\n",
    "\tfilm_id smallint,\n",
    "\tstore_id smallint,\n",
    "\tlast_update timestamp without time zone\n",
    ")'''#5. assignment"
   ]
  },
  {
   "cell_type": "code",
   "execution_count": 2,
   "metadata": {},
   "outputs": [],
   "source": [
    "import psycopg2"
   ]
  },
  {
   "cell_type": "code",
   "execution_count": 5,
   "metadata": {},
   "outputs": [],
   "source": [
    "conn = psycopg2.connect(\"dbname=class4 user = postgres password=yJzDXB4m22*\")#6. assignment\n",
    "cur = conn.cursor()\n",
    "command = \"\"\"CREATE TABLE payment\n",
    "(\n",
    "    payment_id integer PRIMARY KEY,\n",
    "    customer_id smallint,\n",
    "    staff_id smallint,\n",
    "    rental_id integer,\n",
    "    amount numeric(5,2),\n",
    "    payment_date timestamp without time zone\n",
    ");\n",
    "CREATE TABLE rental\n",
    "(\n",
    "    rental_id integer PRIMARY KEY,\n",
    "    rental_date timestamp without time zone,\n",
    "    inventory_id integer,\n",
    "    customer_id smallint,\n",
    "    return_date timestamp without time zone,\n",
    "    staff_id smallint,\n",
    "    last_update timestamp without time zone\n",
    ");\n",
    "CREATE TABLE store\n",
    "(\n",
    "    store_id integer PRIMARY KEY,\n",
    "    manager_staff_id smallint,\n",
    "    address_id smallint,\n",
    "    last_update timestamp without time zone\n",
    ")\n",
    "\"\"\"\n",
    "cur.execute(command)\n",
    "cur.close()\n",
    "conn.commit()\n",
    "conn.close()"
   ]
  },
  {
   "cell_type": "code",
   "execution_count": null,
   "metadata": {},
   "outputs": [],
   "source": [
    "'''INSERT INTO category (category_id, Name, last_update) VALUES (1, 'Action', '2023-02-17 20:46:00');\n",
    "INSERT INTO city (city_id, city, country_id,last_update) VALUES (1, 'A Corua (La Corua)', 87, '2023-02-17 20:46:00');\n",
    "INSERT INTO country (country_id, country, last_update) VALUES (1, 'Afghanistan', '2023-02-17 20:46:00');\n",
    "INSERT INTO category (category_id, Name, last_update) VALUES (2, 'Animation', '2023-02-17 20:46:00');\n",
    "INSERT INTO city (city_id, city, country_id,last_update) VALUES (2, 'Abha', 82, '2023-02-17 20:46:00')'''#8. assignment"
   ]
  },
  {
   "cell_type": "code",
   "execution_count": 3,
   "metadata": {},
   "outputs": [],
   "source": [
    "conn = psycopg2.connect(\"dbname=class4 user=postgres password=yJzDXB4m22*\")#9. assignment\n",
    "cur = conn.cursor()\n",
    "command = \"\"\"INSERT INTO film_category (film_id, category_id, last_update) VALUES (1, 6, '2023-02-17 21:02:00');\n",
    "INSERT INTO inventory (inventory_id, film_id, store_id, last_update) VALUES (1, 1, 1, '2023-02-17 21:02:00');\n",
    "INSERT INTO store (store_id, manager_staff_id, address_id, last_update) VALUES (1, 1, 1, '2023-02-17 21:02:00');\n",
    "INSERT INTO film_category (film_id, category_id, last_update) VALUES (2, 11, '2023-02-17 21:02:00');\n",
    "INSERT INTO inventory (inventory_id, film_id, store_id, last_update) VALUES (2, 1, 1, '2023-02-17 21:02:00')\"\"\"\n",
    "cur.execute(command)\n",
    "cur.close()\n",
    "conn.commit()\n",
    "conn.close()\n",
    "\n",
    "#It could be done like this as well.\n",
    "# conn = psycopg2.connect(\"dbname=class4 user=postgres password=yJzDXB4m22*\")\n",
    "# cur = conn.cursor()\n",
    "# command = (\"INSERT INTO film_category VALUES (%s, %s, %s)\",(1, 6, '2023-02-17 21:02:00'))\n",
    "# cur.execute(command)\n",
    "# cur.close()\n",
    "# conn.commit()\n",
    "# conn.close()"
   ]
  },
  {
   "cell_type": "code",
   "execution_count": null,
   "metadata": {},
   "outputs": [],
   "source": [
    "'''SELECT * FROM film_category;\n",
    "UPDATE film_category SET last_update = '2023-02-17 21:26:00' WHERE film_id = 1;\n",
    "SELECT * FROM inventory;\n",
    "UPDATE inventory SET film_id = 2 WHERE inventory_id = 1;\n",
    "SELECT * FROM store;\n",
    "UPDATE store SET manager_staff_id = 2 WHERE store_id = 1;'''#11. assignment"
   ]
  },
  {
   "cell_type": "code",
   "execution_count": 4,
   "metadata": {},
   "outputs": [],
   "source": [
    "conn = psycopg2.connect(\"dbname=class4 user=postgres password=yJzDXB4m22*\")#12. assignment\n",
    "cur = conn.cursor()\n",
    "cur.execute(\"UPDATE category SET name = %s WHERE category_id=%s\",(\"Sci-fi\",1))\n",
    "cur.close()\n",
    "conn.commit()\n",
    "conn.close()"
   ]
  },
  {
   "cell_type": "code",
   "execution_count": 5,
   "metadata": {},
   "outputs": [],
   "source": [
    "conn = psycopg2.connect(\"dbname=class4 user=postgres password=yJzDXB4m22*\")#12. assignment\n",
    "cur = conn.cursor()\n",
    "cur.execute(\"UPDATE city SET city = %s WHERE city_id=%s\",(\"Istanbul\",1))\n",
    "cur.close()\n",
    "conn.commit()\n",
    "conn.close()"
   ]
  },
  {
   "cell_type": "code",
   "execution_count": 7,
   "metadata": {},
   "outputs": [],
   "source": [
    "conn = psycopg2.connect(\"dbname=class4 user=postgres password=yJzDXB4m22*\")#12. assignment\n",
    "cur = conn.cursor()\n",
    "cur.execute(\"UPDATE country SET country = %s WHERE country_id=%s\",(\"Turkey\",1))\n",
    "cur.close()\n",
    "conn.commit()\n",
    "conn.close()"
   ]
  },
  {
   "cell_type": "code",
   "execution_count": null,
   "metadata": {},
   "outputs": [],
   "source": [
    "'''DELETE FROM film_category WHERE film_id IN(SELECT MAX(film_id) FROM film_category)\n",
    "DELETE FROM inventory WHERE inventory_id IN(SELECT MAX(inventory_id) FROM inventory);\n",
    "DELETE FROM store WHERE store_id IN(SELECT MAX(store_id) FROM store)'''#14. assignment"
   ]
  },
  {
   "cell_type": "code",
   "execution_count": 8,
   "metadata": {},
   "outputs": [],
   "source": [
    "conn = psycopg2.connect(\"dbname=class4 user=postgres password=yJzDXB4m22*\")#15. assignment\n",
    "cur = conn.cursor()\n",
    "cur.execute(\"DELETE FROM category WHERE category_id IN(SELECT MAX(category_id) FROM category)\")\n",
    "cur.close()\n",
    "conn.commit()\n",
    "conn.close()"
   ]
  },
  {
   "cell_type": "code",
   "execution_count": 9,
   "metadata": {},
   "outputs": [],
   "source": [
    "conn = psycopg2.connect(\"dbname=class4 user=postgres password=yJzDXB4m22*\")#15. assignment\n",
    "cur = conn.cursor()\n",
    "cur.execute(\"DELETE FROM city WHERE city_id IN(SELECT MAX(city_id) FROM city)\")\n",
    "cur.close()\n",
    "conn.commit()\n",
    "conn.close()"
   ]
  },
  {
   "cell_type": "code",
   "execution_count": 10,
   "metadata": {},
   "outputs": [],
   "source": [
    "conn = psycopg2.connect(\"dbname=class4 user=postgres password=yJzDXB4m22*\")#15. assignment\n",
    "cur = conn.cursor()\n",
    "cur.execute(\"DELETE FROM country WHERE country_id IN(SELECT MAX(country_id) FROM country)\")\n",
    "cur.close()\n",
    "conn.commit()\n",
    "conn.close()"
   ]
  },
  {
   "cell_type": "code",
   "execution_count": null,
   "metadata": {},
   "outputs": [],
   "source": [
    "'''DROP TABLE rental'''#17. assignment"
   ]
  },
  {
   "cell_type": "code",
   "execution_count": 11,
   "metadata": {},
   "outputs": [],
   "source": [
    "conn = psycopg2.connect(\"dbname=class4 user=postgres password=yJzDXB4m22*\")#18. assignment\n",
    "cur = conn.cursor()\n",
    "cur.execute(\"DROP table address\")\n",
    "cur.close()\n",
    "conn.commit()\n",
    "conn.close()"
   ]
  },
  {
   "cell_type": "code",
   "execution_count": null,
   "metadata": {},
   "outputs": [],
   "source": [
    "'''CREATE TABLE category_copy AS\n",
    "  SELECT category_id,name FROM category'''#19. assignment"
   ]
  },
  {
   "cell_type": "code",
   "execution_count": 12,
   "metadata": {},
   "outputs": [],
   "source": [
    "conn = psycopg2.connect(\"dbname=class4 user=postgres password=yJzDXB4m22*\")#20. assignment\n",
    "cur = conn.cursor()\n",
    "cur.execute(\"CREATE TABLE city_copy AS SELECT city_id,city,country_id FROM city\")\n",
    "cur.close()\n",
    "conn.commit()\n",
    "conn.close()"
   ]
  },
  {
   "cell_type": "code",
   "execution_count": null,
   "metadata": {},
   "outputs": [],
   "source": [
    "'''DROP TABLE category;\n",
    "DROP TABLE country;'''#25. assignment"
   ]
  },
  {
   "cell_type": "code",
   "execution_count": 13,
   "metadata": {},
   "outputs": [],
   "source": [
    "conn = psycopg2.connect(\"dbname=class4 user=postgres password=yJzDXB4m22*\")#26. assignment\n",
    "cur = conn.cursor()\n",
    "command = \"\"\"DROP TABLE inventory;\n",
    "DROP TABLE store\"\"\"\n",
    "cur.execute(command)\n",
    "cur.close()\n",
    "conn.commit()\n",
    "conn.close()"
   ]
  },
  {
   "cell_type": "code",
   "execution_count": null,
   "metadata": {},
   "outputs": [],
   "source": [
    "\"\"\"DROP TABLE city\"\"\"#28. assignment"
   ]
  },
  {
   "cell_type": "code",
   "execution_count": null,
   "metadata": {},
   "outputs": [],
   "source": [
    "\"\"\"CREATE TABLE city\n",
    "(\n",
    "    city_id integer PRIMARY KEY,\n",
    "    city character varying(50),\n",
    "    country_id smallint,\n",
    "    last_update timestamp without time zone\n",
    ");\"\"\"#29. assignment with import/export method in pgAdmin 4, csv file imported."
   ]
  },
  {
   "cell_type": "code",
   "execution_count": 3,
   "metadata": {},
   "outputs": [],
   "source": [
    "conn = psycopg2.connect(\"dbname=class4 user=postgres password=yJzDXB4m22*\")\n",
    "cur = conn.cursor()\n",
    "cur.execute(\"DROP TABLE city\")\n",
    "cur.close()\n",
    "conn.commit()\n",
    "conn.close()#30. assignment"
   ]
  },
  {
   "cell_type": "code",
   "execution_count": null,
   "metadata": {},
   "outputs": [],
   "source": [
    "\"\"\"city table: PK = city_id FK = country_id\n",
    "address table: PK = address_id FK = city_id\n",
    "customer table: PK = customer_id FK = address_id\n",
    "staff table: PK = staff_id FK = address_id\n",
    "store table: PK = store_id FK = manager_staff_id, address_id\"\"\"#32. assignment"
   ]
  },
  {
   "cell_type": "code",
   "execution_count": null,
   "metadata": {},
   "outputs": [],
   "source": [
    "\"\"\"SELECT AVG(length) FROM film WHERE film_id IN (SELECT film_id FROM film_category WHERE category_id = 1)\"\"\" #33."
   ]
  },
  {
   "cell_type": "code",
   "execution_count": null,
   "metadata": {},
   "outputs": [],
   "source": [
    "\"\"\"SELECT COUNT (staff_id) FROM staff GROUP BY store_id ORDER BY COUNT LIMIT 1 \"\"\"#34"
   ]
  },
  {
   "cell_type": "code",
   "execution_count": null,
   "metadata": {},
   "outputs": [],
   "source": [
    "\"\"\"SELECT rating FROM film WHERE film_id IN (SELECT film_id FROM film_actor WHERE actor_id IN (SELECT actor_id FROM actor WHERE first_name = 'Gene' and last_name = 'Willis'))\n",
    "\"\"\"#35"
   ]
  },
  {
   "cell_type": "code",
   "execution_count": null,
   "metadata": {},
   "outputs": [],
   "source": [
    "\"\"\"SELECT COUNT (customer_id) FROM customer WHERE active = 1\"\"\"#36"
   ]
  },
  {
   "cell_type": "code",
   "execution_count": null,
   "metadata": {},
   "outputs": [],
   "source": [
    "\"\"\"SELECT title FROM film WHERE title LIKE 'C%'\"\"\"#37"
   ]
  },
  {
   "cell_type": "code",
   "execution_count": null,
   "metadata": {},
   "outputs": [],
   "source": [
    "\"\"\"SELECT email FROM customer WHERE customer_id IN(SELECT customer_id FROM payment WHERE amount < 4)\"\"\"#38"
   ]
  },
  {
   "cell_type": "code",
   "execution_count": null,
   "metadata": {},
   "outputs": [],
   "source": [
    "\"\"\"SELECT first_name, last_name FROM customer WHERE address_id IN(SELECT address_id FROM address WHERE city_id IN (SELECT city_id FROM city WHERE city = 'Moscow'));\n",
    "SELECT first_name,last_name FROM staff WHERE address_id IN (SELECT address_id FROM address WHERE city_id IN (SELECT city_id FROM city WHERE city = 'Moscow'))\"\"\"#39"
   ]
  },
  {
   "cell_type": "code",
   "execution_count": null,
   "metadata": {},
   "outputs": [],
   "source": [
    "\"\"\"SELECT film.title, COUNT(*) AS rental_count\n",
    "FROM rental\n",
    "INNER JOIN inventory ON rental.inventory_id = inventory.inventory_id\n",
    "INNER JOIN film ON inventory.film_id = film.film_id\n",
    "GROUP BY film.film_id\n",
    "ORDER BY rental_count\n",
    "LIMIT 5;\"\"\"#40"
   ]
  },
  {
   "cell_type": "code",
   "execution_count": null,
   "metadata": {},
   "outputs": [],
   "source": [
    "\"\"\"SELECT title FROM film WHERE release_year = 2006 AND language_id IN (SELECT language_id FROM language WHERE name = 'English')\"\"\"#41"
   ]
  }
 ],
 "metadata": {
  "kernelspec": {
   "display_name": "Python 3",
   "language": "python",
   "name": "python3"
  },
  "language_info": {
   "codemirror_mode": {
    "name": "ipython",
    "version": 3
   },
   "file_extension": ".py",
   "mimetype": "text/x-python",
   "name": "python",
   "nbconvert_exporter": "python",
   "pygments_lexer": "ipython3",
   "version": "3.9.13"
  },
  "orig_nbformat": 4,
  "vscode": {
   "interpreter": {
    "hash": "cb9456339134bb4ab635cfd279ec2a8d53707afc73deb101d3cbef93593f11a5"
   }
  }
 },
 "nbformat": 4,
 "nbformat_minor": 2
}
