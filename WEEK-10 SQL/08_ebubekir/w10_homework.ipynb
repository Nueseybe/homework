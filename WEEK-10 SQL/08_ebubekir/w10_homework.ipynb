{
 "cells": [
  {
   "cell_type": "code",
   "execution_count": null,
   "metadata": {},
   "outputs": [],
   "source": [
    "'''\n",
    "1- 'pycoders' isimli bir server kurun. (M)\n",
    "servers uzerinde saga tikla create ya da register-server \n",
    "name girilir  'pycoders'\n",
    "connection--host bolumune localhost ya da ip gir\n",
    "password olustur -save\n",
    "\n",
    "2-pycoders server icindeki database e sag tikla \n",
    "create-database\n",
    "database kismina isim gir'class4'  ve save \n",
    "\n",
    "silmek icin :var olan database sag tik -delete/drop tikla \n",
    "\n",
    "sql komutlariyla olusturmak icin \n",
    "\n",
    "\n",
    "'''"
   ]
  },
  {
   "cell_type": "code",
   "execution_count": null,
   "metadata": {},
   "outputs": [],
   "source": [
    "'''\n",
    "3- https://www.postgresqltutorial.com/postgresql-sample-database/ \n",
    "gidiş ve ER modelini kullanarak. Tablolar arasindaki en az 5 iliskiyi yazin.\n",
    "(Hangi tablodaki arasinda ne tur bir iliski var)\n",
    "\n",
    "1.language ile film           one to zero or many\n",
    "2.film_actor file film        zero or one  to  one \n",
    "3.staff ile stor              one  to  zero or one\n",
    "4.film ile film_category      one  to  zero or one\n",
    "5. country ile city           one to zero or many '''"
   ]
  },
  {
   "cell_type": "code",
   "execution_count": null,
   "metadata": {},
   "outputs": [],
   "source": [
    "#4- ER modeldeki tablolardan 3 tanesini M ile olusturun.  olusturuldu"
   ]
  },
  {
   "cell_type": "code",
   "execution_count": null,
   "metadata": {},
   "outputs": [],
   "source": [
    "#5- ER modeldeki tablolardan 3 tanesini K ile olusturun.\n",
    "'''\n",
    "\n",
    "CREATE TABLE actor(\n",
    "actor_id PRIMARY KEY,\n",
    "first_name varchar(20),\n",
    "last_name varchare(20),\n",
    "last_update date     \n",
    ")\n",
    "\n",
    "CREATE TABLE film_actor(\n",
    "actor_id integer PRIMARY KEY,\n",
    "film_id integer ,\n",
    "last_update date    \n",
    ")\n",
    "\n",
    "CREATE TABLE store(\n",
    "store_id integer PRIMARY KEY,\n",
    "manager_staff_id intefer,\n",
    "address_id.isinstancelast_update date    \n",
    ")\n",
    "\n",
    "'''"
   ]
  },
  {
   "cell_type": "code",
   "execution_count": 2,
   "metadata": {},
   "outputs": [],
   "source": [
    "#6- ER modeldeki tablolardan 3 tanesini C ile olusturun.\n",
    "import psycopg2\n",
    "conn = psycopg2.connect(\"dbname=class4 user = postgres password=2811\")\n",
    "cur = conn.cursor() \n",
    "command = '''create table customer\n",
    "(\n",
    "    id integer primary key,\n",
    "    store_id integer,\n",
    "    first_name varchar(20) NOT NULL,\n",
    "    last_name varchar(20) NOT NULL,\n",
    "    email varchar(20) NOT NULL,\n",
    "    adres_id integer,\n",
    "    activebool integer,\n",
    "    create_date date,\n",
    "    last_update date,\n",
    "    active integer\n",
    ") '''\n",
    "cur.execute(command)\n",
    "cur.close()\n",
    "conn.commit()\n",
    "conn.close()"
   ]
  },
  {
   "cell_type": "code",
   "execution_count": 4,
   "metadata": {},
   "outputs": [],
   "source": [
    "import psycopg2\n",
    "conn = psycopg2.connect(\"dbname=class4 user = postgres password=2811\")\n",
    "cur = conn.cursor() \n",
    "command = '''create table adress_id\n",
    "(\n",
    "    adress_id integer primary key,\n",
    "    address varchar(20) NOT NULL,\n",
    "    address2 varchar(20) NOT NULL,\n",
    "    district varchar(20),\n",
    "    city_id integer,\n",
    "    postal_code integer NOT NULL,\n",
    "    phone integer,\n",
    "    last_update date\n",
    "    \n",
    ") '''\n",
    "cur.execute(command)\n",
    "cur.close()\n",
    "conn.commit()\n",
    "conn.close()"
   ]
  },
  {
   "cell_type": "code",
   "execution_count": 6,
   "metadata": {},
   "outputs": [],
   "source": [
    "import psycopg2\n",
    "conn = psycopg2.connect(\"dbname=class4 user = postgres password=2811\")\n",
    "cur = conn.cursor() \n",
    "command = '''create table city\n",
    "(\n",
    "    \n",
    "    city_id integer primary key,\n",
    "    city varchar(20),\n",
    "    country_id integer,\n",
    " \n",
    "    last_update date\n",
    "    \n",
    ") '''\n",
    "cur.execute(command)\n",
    "cur.close()\n",
    "conn.commit()\n",
    "conn.close()"
   ]
  },
  {
   "cell_type": "code",
   "execution_count": null,
   "metadata": {},
   "outputs": [],
   "source": [
    "#7- Olusturdugunuz 3 tabloya M ile 5 veri girişi yapin.  girildi"
   ]
  },
  {
   "cell_type": "code",
   "execution_count": null,
   "metadata": {},
   "outputs": [],
   "source": [
    "#8- Olusturdugunuz 3 tabloya K ile 5 veri girişi yapin.\n",
    "\n",
    "#INSERT INTO actor (actor_id,first_name,last_name,last_update) values (25,robin,williams,4.4.2020)\n",
    "#INSERT INTO film_actor (actor_id,film_id,last_update) Values (14,254,20.11.1999)\n",
    "#INSERT INTO store(store_id,manager_staff_id,address_id,last_update) Values(1,25,564,12.10.2023)"
   ]
  },
  {
   "cell_type": "code",
   "execution_count": 14,
   "metadata": {},
   "outputs": [],
   "source": [
    "#9- Olusturdugunuz 3 tabloya C ile 5 veri girişi yapin.\n",
    "# insert\n",
    "conn = psycopg2.connect(\"dbname=class4 user= postgres password=2811\")\n",
    "cur = conn.cursor()\n",
    "cur.execute('INSERT INTO city VALUES(%s,%s,%s,%s)', (34,'istanbul',4,'2.2.2002'))\n",
    "cur.execute('INSERT INTO city VALUES(%s,%s,%s,%s)',(6,'ankara',1,'3.3.2002'))\n",
    "cur.execute('INSERT INTO city VALUES(%s,%s,%s,%s)',(35,'izmir',5,'7.2.2007'))\n",
    "cur.execute('INSERT INTO city VALUES(%s,%s,%s,%s)',(61,'trabzon',6,'7.5.2012'))\n",
    "cur.execute('INSERT INTO city VALUES(%s,%s,%s,%s)',(55,'samsun',4,'2.2.2002'))\n",
    "cur.close()\n",
    "conn.commit()\n",
    "conn.close()\n",
    "\n",
    "#date string girilmeliymis!!!!"
   ]
  },
  {
   "cell_type": "code",
   "execution_count": 19,
   "metadata": {},
   "outputs": [],
   "source": [
    "'''\n",
    "10- 3 tablodaki birer veriyi M ile degistirin.\n",
    "# M degistir save ok\n",
    "\n",
    "11- 3 tablodaki birer veriyi K ile degistirin.\n",
    "\n",
    "12- 3 tablodaki birer veriyi C ile degistirin.\n",
    "'''\n",
    "conn = psycopg2.connect(\"dbname=class4 user= postgres password=2811\")\n",
    "\n",
    "cur = conn.cursor()\n",
    "cur.execute('UPDATE city SET city = %s WHERE city_id = %s', ('her_yer',61))  \n",
    "#trabzon ismini her_yer olarak degistirdi\n",
    "cur.close()\n",
    "conn.commit()\n",
    "conn.close()\n"
   ]
  },
  {
   "cell_type": "code",
   "execution_count": null,
   "metadata": {},
   "outputs": [],
   "source": [
    "'''\n",
    "13- 3 tablonun son satirini M ile silin.\n",
    "\n",
    "14- 3 tablonun son satirini K ile silin.\n",
    "\n",
    "15- 3 tablonun son satirini C ile silin.\n",
    "'''"
   ]
  },
  {
   "cell_type": "code",
   "execution_count": 20,
   "metadata": {},
   "outputs": [],
   "source": [
    "'''\n",
    "16- 1 tabloyu M ile silin.\n",
    "#saga tikla delete/drop\n",
    "\n",
    "17- 1 tabloyu K ile silin.\n",
    "#  DROP table inventory\n",
    "inventory tablosunu sildi\n",
    "\n",
    "18- 1 tabloyu C ile silin.\n",
    "'''\n",
    "# Drop\n",
    "try:\n",
    "    conn = psycopg2.connect(\"dbname=class4 user= postgres password=2811\")\n",
    "    cur = conn.cursor()\n",
    "    cur.execute(\"DROP table rental\")\n",
    "    cur.close()\n",
    "    conn.commit()\n",
    "    conn.close()\n",
    "except:\n",
    "    print(\"database hatası\")\n",
    "finally:\n",
    "    conn.close()\n"
   ]
  },
  {
   "cell_type": "code",
   "execution_count": null,
   "metadata": {},
   "outputs": [],
   "source": [
    "#19- Kalan tablolardan 1 tanesinin 2 veya 3 \n",
    "# sutununu K ile baska bir tablo olarak olusturun.\n",
    "\n",
    "#20- Kalan tablolardan 1 tanesinin 2 veya 3\n",
    "#sutununu C ile baska bir tablo olarak olusturun."
   ]
  },
  {
   "cell_type": "code",
   "execution_count": null,
   "metadata": {},
   "outputs": [],
   "source": [
    "'''\n",
    "21- Tablolardan 1 tanesini truncate edin.\n",
    "\n",
    "22- Tablolardan 1 tanesini truncate edin.\n",
    "\n",
    "23- Tablolardan 1 tanesini truncate edin.\n",
    "\n",
    "24- truncate edilmis tablolari M ile silin.\n",
    "'''"
   ]
  },
  {
   "cell_type": "code",
   "execution_count": null,
   "metadata": {},
   "outputs": [],
   "source": [
    "#25- 2 tabloyu K ile silin.\n",
    "DROP TABLE film_actor\n",
    "DROP TABLE actor\n",
    "DROP TABLE store\n",
    "#26- 2 tabloyu C ile silin.\n",
    "conn = psycopg2.connect(\"dbname=class4 user= postgres password=2811\")\n",
    "cur = conn.cursor()\n",
    "cur.execute(\"DROP TABLE store;\")\n",
    "cur.close() \n",
    "conn.commit() \n",
    "conn.close()"
   ]
  },
  {
   "cell_type": "code",
   "execution_count": null,
   "metadata": {},
   "outputs": [],
   "source": [
    "'''\n",
    "27- Elimizde veri olan 1 tablo kalmis olmasi lazim. Tabloyu csv olarak bilgisayarınıza yukleyin.\n",
    "\n",
    "28- Postgresql dizinindeki son tabloyu da K ile silin.\n",
    "\n",
    "29- Bilgisayarınızdaki csv yi arayuze import edin.\n",
    "\n",
    "30- import ettiğiniz bu tabloyu C ile silin.\n",
    "\n",
    "'''"
   ]
  },
  {
   "cell_type": "code",
   "execution_count": null,
   "metadata": {},
   "outputs": [],
   "source": [
    "'''\n",
    "31- https://www.postgresqltutorial.com/postgresql-sample-database/ linkindeki \n",
    "ornek DB yi bilgisayariniza indirin ve arayuze yukleyin.\n",
    "\n",
    "32- DB nizde 15 adet tablo olmasi lazim. Her tabloyu teker teker goruntuleyin ve\n",
    "kolon isimlerine bakarak, 5 tablodaki hangi kolonun PK ve FK olduğunu yazin.\n",
    "#actor tablosu   actor_id PK\n",
    "#address tablosu address_id  PK\n",
    "#category  tablosu category_id PK\n",
    "#city tablosu city_id  PK\n",
    "#customer tablosu customer_id PK\n",
    "#film_category film_id PK  category_id PK\n",
    "\n",
    "(Asagi'deki sorularıin sayfasınıini ve bu cedakibi bulurken kullandiginiz kodlari yazin)\n",
    "\n",
    "\n",
    "33- Aksiyon filmlerinin ortalama suresi ne kadardır?\n",
    "#\n",
    "\n",
    "34- En cok staff olan store hangisidir?\n",
    "#\n",
    "\n",
    "35- 'Gene Willis' adli aktörün filmlerinin reytingi nedir?\n",
    "#select actor_id,film_id from film_actor where actor_id=96  bu aktörun filmleri\n",
    "\n",
    "\n",
    "36- Aktif customer sayisi nedir?\n",
    "#select * from customer where active=1     aktif olanlari gosteriyor\n",
    "\n",
    "37-'C' harfiyle baslayan filmler nelerdir?\n",
    "# select *  from film where title like 'C%'\n",
    "\n",
    "38- 4$ den az odeme yapan musterilerin e-posta edresleri nedir?\n",
    "# select payment_id,amount from payment where amount<4   emailler olmadigi icin payment_id leri yazdirdim\n",
    "\n",
    "39- Moskova'da ikamet eden staff ve customer tablosu? (sadece isim/soyisim sütünları olsun)\n",
    "#select city_id from city where city='Moscow'\n",
    "\n",
    "\n",
    "40- En az kiralanan 5 film?\n",
    "#SELECT title FROM film ORDER BY rental_rate ASC LIMIT 5\n",
    "\n",
    "41- 2006 yilinda yayinlanan ingilizce filmler hangileridir?\n",
    "# select title from film where language_id=1 and release_year=2006\n",
    "'''"
   ]
  }
 ],
 "metadata": {
  "kernelspec": {
   "display_name": "Python 3",
   "language": "python",
   "name": "python3"
  },
  "language_info": {
   "codemirror_mode": {
    "name": "ipython",
    "version": 3
   },
   "file_extension": ".py",
   "mimetype": "text/x-python",
   "name": "python",
   "nbconvert_exporter": "python",
   "pygments_lexer": "ipython3",
   "version": "3.10.9"
  },
  "orig_nbformat": 4,
  "vscode": {
   "interpreter": {
    "hash": "7536d7b229462f4296d4c0dae49c3bd6cd3990c783d6b9d88ce3c31a78605890"
   }
  }
 },
 "nbformat": 4,
 "nbformat_minor": 2
}
