{
 "cells": [
  {
   "cell_type": "code",
   "execution_count": 2,
   "metadata": {},
   "outputs": [
    {
     "name": "stdout",
     "output_type": "stream",
     "text": [
      "49.0 USD is equal to 344.5386 TRY at the exchange rate of  7.0314 on 2021/02/14\n"
     ]
    }
   ],
   "source": [
    "import requests\n",
    "import json\n",
    "\n",
    "url = \" https://v6.exchangerate-api.com/v6/4f0b39e87c4e18164fc4564b/history/USD/2021/02/14\"\n",
    "\n",
    "\n",
    "# Send a GET request \n",
    "response = requests.get(url)\n",
    "\n",
    "# Check if the request was successful\n",
    "try:\n",
    "    # Parse the response JSON data\n",
    "    data = json.loads(response.text)\n",
    "    \n",
    "    # Get the exchange rate for the Turkish lira (TRY)\n",
    "    try_rate = data['conversion_rates']['TRY']\n",
    "    \n",
    "    # Print the result with the specified date\n",
    "    usd_amount=float(input(\"Enter the amount of USD to exchange:\"))\n",
    "    date='2021/02/14'\n",
    "    try_amount=usd_amount*try_rate\n",
    "    print(f\"{usd_amount} USD is equal to {try_amount} TRY at the exchange rate of  {try_rate} on {date}\")\n",
    "except:\n",
    "    # Print an error message if the request failed\n",
    "    print(f\"Error: {response.status_code}\")"
   ]
  },
  {
   "cell_type": "code",
   "execution_count": 8,
   "metadata": {},
   "outputs": [
    {
     "name": "stdout",
     "output_type": "stream",
     "text": [
      "100.0 USD is equal to 726.0699999999999 TRY at the exchange rate of  7.2607 on 2020/08/09\n"
     ]
    }
   ],
   "source": [
    "import requests\n",
    "import json\n",
    "\n",
    "# Set the API  URL and your API key\n",
    "url = \" https://v6.exchangerate-api.com/v6/4f0b39e87c4e18164fc4564b/history/USD/\"\n",
    "\n",
    " # Get the date as an input from users\n",
    "date=input('Enter a Date in yyyy/mm/dd Format:')\n",
    "\n",
    "url+=date\n",
    "# Send a GET request to the API \n",
    "response = requests.get(url)\n",
    "\n",
    "# Check if the request was successful\n",
    "\n",
    "try:\n",
    "    # Parse the response JSON data\n",
    "    data = json.loads(response.text)\n",
    "    \n",
    "    # Get the exchange rate for the Turkish lira (TRY)\n",
    "    try_rate = data['conversion_rates']['TRY']\n",
    "    \n",
    "   \n",
    "    usd_amount=float(input(\"Enter the amount of USD to exchange:\"))\n",
    " \n",
    "    try_amount=usd_amount*try_rate\n",
    "    print(f\"{usd_amount} USD is equal to {try_amount} TRY at the exchange rate of  {try_rate} on {date}\")\n",
    "except:\n",
    "    # Print an error message if the request failed\n",
    "    print(f\"Error: {response.status_code}\")"
   ]
  }
 ],
 "metadata": {
  "kernelspec": {
   "display_name": "Python 3",
   "language": "python",
   "name": "python3"
  },
  "language_info": {
   "codemirror_mode": {
    "name": "ipython",
    "version": 3
   },
   "file_extension": ".py",
   "mimetype": "text/x-python",
   "name": "python",
   "nbconvert_exporter": "python",
   "pygments_lexer": "ipython3",
   "version": "3.9.4"
  },
  "orig_nbformat": 4
 },
 "nbformat": 4,
 "nbformat_minor": 2
}
