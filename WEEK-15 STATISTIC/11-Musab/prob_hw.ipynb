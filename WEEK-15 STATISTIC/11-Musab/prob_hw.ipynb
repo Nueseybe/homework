{
 "cells": [
  {
   "cell_type": "code",
   "execution_count": 2,
   "metadata": {},
   "outputs": [],
   "source": [
    "import numpy as np\n",
    "import pandas as pd\n",
    "\n",
    "# Generate 100 products\n",
    "n = 100\n",
    "\n",
    "# Generate random prices\n",
    "prices = np.random.normal(50, 10, n)\n",
    "\n",
    "# Generate a random return probability\n",
    "return_prob = np.random.uniform(0, 1, n)\n",
    "\n",
    "# Determine if a product is returned or not\n",
    "# Note: we assume that products with a rating below 20% are returned, and simulate our data accordingly.\n",
    "returns = return_prob < 0.2\n",
    "\n",
    "# Create the DataFrame\n",
    "df = pd.DataFrame({'Price': prices, 'Product_Rating': return_prob, 'Return': returns})\n"
   ]
  },
  {
   "cell_type": "code",
   "execution_count": 3,
   "metadata": {},
   "outputs": [],
   "source": [
    "# Creating a categorical column\n",
    "df['Price_Category'] = pd.cut(df['Price'], bins=[0, 30, 50, 70, 100], labels=['(0, 30]', '(30, 50]', '(50, 70]', '(70, 100]'])"
   ]
  },
  {
   "cell_type": "code",
   "execution_count": null,
   "metadata": {},
   "outputs": [],
   "source": [
    "# Question:\n",
    "# For the dataframe we simulated in the previous section:\n",
    "\n",
    "# 1.If the price of a given product is in the range of 50-70, what is the probability of return for that product?\n",
    "\n",
    "# 2.If a product has a rating score greater than 0.5, what is the probability that its price is in the range of 30-50?\n",
    "\n",
    "# 3.If the price of a product is in the range of 50-70, and its rating score is greater than 0.5, what is the probability of return for that product?\n",
    "\n",
    "# 4.If the price of a product is greater than 70, what is the probability that its rating score is greater than 0.5?"
   ]
  },
  {
   "cell_type": "code",
   "execution_count": 4,
   "metadata": {},
   "outputs": [],
   "source": [
    "df['Price_Category'] =df['Price_Category'].astype('string')"
   ]
  },
  {
   "cell_type": "code",
   "execution_count": 5,
   "metadata": {},
   "outputs": [
    {
     "data": {
      "text/plain": [
       "7.0"
      ]
     },
     "execution_count": 5,
     "metadata": {},
     "output_type": "execute_result"
    }
   ],
   "source": [
    "#Answer-1\n",
    "#P(Return=True | Price_Category=(50, 70])\n",
    "len (df.query(\"Return == True and Price_Category=='(50, 70]'\"))* len(df)/100"
   ]
  },
  {
   "cell_type": "code",
   "execution_count": 6,
   "metadata": {},
   "outputs": [
    {
     "data": {
      "text/plain": [
       "34.0"
      ]
     },
     "execution_count": 6,
     "metadata": {},
     "output_type": "execute_result"
    }
   ],
   "source": [
    "#Answer-2\n",
    "len(df.query(\"Product_Rating > 0.5 and Price_Category == '(30, 50]'\"))*len(df)/100"
   ]
  },
  {
   "cell_type": "code",
   "execution_count": 7,
   "metadata": {},
   "outputs": [
    {
     "data": {
      "text/plain": [
       "0.0"
      ]
     },
     "execution_count": 7,
     "metadata": {},
     "output_type": "execute_result"
    }
   ],
   "source": [
    "#Answer-3\n",
    "len(df.query(\"Product_Rating > 0.5 and Price_Category=='(50, 70]' and Return == True\"))*len(df)/100"
   ]
  },
  {
   "cell_type": "code",
   "execution_count": 8,
   "metadata": {},
   "outputs": [
    {
     "data": {
      "text/plain": [
       "0.0"
      ]
     },
     "execution_count": 8,
     "metadata": {},
     "output_type": "execute_result"
    }
   ],
   "source": [
    "#Answer-4\n",
    "len(df.query(\"Product_Rating > 0.5 and Price_Category >'(70, 100]'\"))*len(df)/100"
   ]
  },
  {
   "cell_type": "code",
   "execution_count": null,
   "metadata": {},
   "outputs": [],
   "source": [
    "# QUESTION:\n",
    "\n",
    "# On a four-lane highway, cars are either fast or slow. Faster cars should be in the leftmost lane. \n",
    "# At any given time, 20% of the cars are in the leftmost lane. Overall, 40% of the cars on the highway are classified as fast. \n",
    "# Of all the cars in the leftmost lane, 90% are classified as fast. If a car is fast, what is the probability that it is in the leftmost lane?"
   ]
  },
  {
   "cell_type": "code",
   "execution_count": 9,
   "metadata": {},
   "outputs": [],
   "source": [
    "#Solution\n",
    "leftmostlane = 0.2\n",
    "fast = 0.4\n",
    "fast_leftmost = 0.9"
   ]
  },
  {
   "cell_type": "code",
   "execution_count": 10,
   "metadata": {},
   "outputs": [
    {
     "data": {
      "text/plain": [
       "0.45"
      ]
     },
     "execution_count": 10,
     "metadata": {},
     "output_type": "execute_result"
    }
   ],
   "source": [
    "fast_leftmost * leftmostlane / fast\n",
    "# P(leftmost | fast) = 0.9 * 0.2 / 0.4"
   ]
  }
 ],
 "metadata": {
  "kernelspec": {
   "display_name": "Python 3",
   "language": "python",
   "name": "python3"
  },
  "language_info": {
   "codemirror_mode": {
    "name": "ipython",
    "version": 3
   },
   "file_extension": ".py",
   "mimetype": "text/x-python",
   "name": "python",
   "nbconvert_exporter": "python",
   "pygments_lexer": "ipython3",
   "version": "3.9.13"
  },
  "orig_nbformat": 4
 },
 "nbformat": 4,
 "nbformat_minor": 2
}
