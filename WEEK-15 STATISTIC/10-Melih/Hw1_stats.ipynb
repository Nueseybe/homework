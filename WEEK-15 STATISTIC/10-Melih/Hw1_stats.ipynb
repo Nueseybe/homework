{
 "cells": [
  {
   "cell_type": "code",
   "execution_count": 1,
   "metadata": {},
   "outputs": [],
   "source": [
    "import numpy as np\n",
    "import pandas as pd\n",
    "import matplotlib.pyplot as plt\n",
    "# Create 100 products\n",
    "n = 100\n",
    "# Generate random prices\n",
    "prices = np.random.normal(50, 10, n)\n",
    "# Generate a random return probability\n",
    "return_prob = np.random.uniform(0, 1, n)\n",
    "# Determine if it is returned\n",
    "# NOTE: We have set a limit that the product evaluation Percentage below 20% is returned, and we simulate our data.\n",
    "returns = return_prob < 0.2\n",
    "# Create the data frame\n",
    "df = pd.DataFrame({'Price': prices,'Urun_Degerlendirme_Oran':return_prob ,'Return': returns})"
   ]
  },
  {
   "cell_type": "code",
   "execution_count": 2,
   "metadata": {},
   "outputs": [
    {
     "data": {
      "text/html": [
       "<div>\n",
       "<style scoped>\n",
       "    .dataframe tbody tr th:only-of-type {\n",
       "        vertical-align: middle;\n",
       "    }\n",
       "\n",
       "    .dataframe tbody tr th {\n",
       "        vertical-align: top;\n",
       "    }\n",
       "\n",
       "    .dataframe thead th {\n",
       "        text-align: right;\n",
       "    }\n",
       "</style>\n",
       "<table border=\"1\" class=\"dataframe\">\n",
       "  <thead>\n",
       "    <tr style=\"text-align: right;\">\n",
       "      <th></th>\n",
       "      <th>Price</th>\n",
       "      <th>Urun_Degerlendirme_Oran</th>\n",
       "      <th>Return</th>\n",
       "      <th>Price_Category</th>\n",
       "    </tr>\n",
       "  </thead>\n",
       "  <tbody>\n",
       "    <tr>\n",
       "      <th>0</th>\n",
       "      <td>57.963350</td>\n",
       "      <td>0.830504</td>\n",
       "      <td>False</td>\n",
       "      <td>(50, 70]</td>\n",
       "    </tr>\n",
       "    <tr>\n",
       "      <th>1</th>\n",
       "      <td>67.480841</td>\n",
       "      <td>0.104572</td>\n",
       "      <td>True</td>\n",
       "      <td>(50, 70]</td>\n",
       "    </tr>\n",
       "    <tr>\n",
       "      <th>2</th>\n",
       "      <td>38.239508</td>\n",
       "      <td>0.997564</td>\n",
       "      <td>False</td>\n",
       "      <td>(30, 50]</td>\n",
       "    </tr>\n",
       "    <tr>\n",
       "      <th>3</th>\n",
       "      <td>34.451654</td>\n",
       "      <td>0.732802</td>\n",
       "      <td>False</td>\n",
       "      <td>(30, 50]</td>\n",
       "    </tr>\n",
       "    <tr>\n",
       "      <th>4</th>\n",
       "      <td>44.925630</td>\n",
       "      <td>0.514433</td>\n",
       "      <td>False</td>\n",
       "      <td>(30, 50]</td>\n",
       "    </tr>\n",
       "  </tbody>\n",
       "</table>\n",
       "</div>"
      ],
      "text/plain": [
       "       Price  Urun_Degerlendirme_Oran  Return Price_Category\n",
       "0  57.963350                 0.830504   False       (50, 70]\n",
       "1  67.480841                 0.104572    True       (50, 70]\n",
       "2  38.239508                 0.997564   False       (30, 50]\n",
       "3  34.451654                 0.732802   False       (30, 50]\n",
       "4  44.925630                 0.514433   False       (30, 50]"
      ]
     },
     "execution_count": 2,
     "metadata": {},
     "output_type": "execute_result"
    }
   ],
   "source": [
    "df['Price_Category'] = pd.cut(df['Price'], bins=[0, 30, 50, 70, 100])\n",
    "df.head()"
   ]
  },
  {
   "attachments": {},
   "cell_type": "markdown",
   "metadata": {},
   "source": [
    "Regarding the dataframe above,\n",
    "\n",
    "1. If the price of a given product is in the range of 50-70, what is the probability of returning the product?\n",
    "\n",
    "2. If a product with a product rating ratio greater than 0.5 is purchased, what is the probability that its price will be in the 30-50 range?\n",
    "\n",
    "3. If the price of a product is in the 50-70 range, what is the probability of a return when the product evaluation rate is greater than 0.5?\n",
    "\n",
    "4. When the price of a product is more than 70, what is the probability that the product evaluation rate is greater than 0.5?"
   ]
  },
  {
   "cell_type": "code",
   "execution_count": 3,
   "metadata": {},
   "outputs": [],
   "source": [
    "df['Price_Category'] = df['Price_Category'].astype('string')"
   ]
  },
  {
   "cell_type": "code",
   "execution_count": 4,
   "metadata": {},
   "outputs": [
    {
     "data": {
      "text/plain": [
       "9.0"
      ]
     },
     "execution_count": 4,
     "metadata": {},
     "output_type": "execute_result"
    }
   ],
   "source": [
    "#Answer-1\n",
    "#P(Return=True | Price_Category=(50, 70])\n",
    "len (df.query(\"Return == True and Price_Category=='(50, 70]'\"))* len(df)/100"
   ]
  },
  {
   "cell_type": "code",
   "execution_count": 5,
   "metadata": {},
   "outputs": [
    {
     "data": {
      "text/plain": [
       "62.06896551724138"
      ]
     },
     "execution_count": 5,
     "metadata": {},
     "output_type": "execute_result"
    }
   ],
   "source": [
    "#Answer-2\n",
    "len(df.query(\"Price_Category=='(30, 50]' and Urun_Degerlendirme_Oran > 0.5\"))/len(df.query(\"Urun_Degerlendirme_Oran > 0.5\"))*100"
   ]
  },
  {
   "cell_type": "code",
   "execution_count": 6,
   "metadata": {},
   "outputs": [
    {
     "data": {
      "text/plain": [
       "0.0"
      ]
     },
     "execution_count": 6,
     "metadata": {},
     "output_type": "execute_result"
    }
   ],
   "source": [
    "#Answer-3\n",
    "len(df.query(\"Return == True and Price_Category=='(50, 70]' and Urun_Degerlendirme_Oran > 0.5\")) / len(df.query(\"Price_Category=='(50, 70]'\")) * 100"
   ]
  },
  {
   "cell_type": "code",
   "execution_count": 7,
   "metadata": {},
   "outputs": [
    {
     "data": {
      "text/plain": [
       "1.7241379310344827"
      ]
     },
     "execution_count": 7,
     "metadata": {},
     "output_type": "execute_result"
    }
   ],
   "source": [
    "#Answer-4\n",
    "len(df.query(\"Price_Category=='(70, 100]' and Urun_Degerlendirme_Oran > 0.5\"))/len(df.query(\"Urun_Degerlendirme_Oran > 0.5\"))*100"
   ]
  },
  {
   "attachments": {},
   "cell_type": "markdown",
   "metadata": {},
   "source": [
    "**QUESTION :**\n",
    "\n",
    "On a four-lane highway, cars either go fast or not. Faster cars should go in the far left lane. At any given time, 20% of the cars are in the leftmost lane. Overall, 40% of cars on the highway are classified as going fast. Of all cars, 90% of those in the leftmost lane are going fast. If a car is going fast, what is the probability that it is in the Leftmost Lane?"
   ]
  },
  {
   "attachments": {},
   "cell_type": "markdown",
   "metadata": {},
   "source": [
    "Formul :   P(A|B) = P(A)* P(B|A) / P(B)\n",
    "P(left | fast) = P(fast_cars | left_lane) * P(left_lane) / P(fast_cars)"
   ]
  },
  {
   "cell_type": "code",
   "execution_count": 8,
   "metadata": {},
   "outputs": [],
   "source": [
    "#Solution\n",
    "left_lane = 0.2\n",
    "fast_cars = 0.4\n",
    "fast_left = 0.9"
   ]
  },
  {
   "cell_type": "code",
   "execution_count": 9,
   "metadata": {},
   "outputs": [
    {
     "data": {
      "text/plain": [
       "0.45"
      ]
     },
     "execution_count": 9,
     "metadata": {},
     "output_type": "execute_result"
    }
   ],
   "source": [
    "fast_left * left_lane / fast_cars\n",
    "# P(left | fast) = 0.9 * 0.2 / 0.4"
   ]
  }
 ],
 "metadata": {
  "kernelspec": {
   "display_name": "Python 3",
   "language": "python",
   "name": "python3"
  },
  "language_info": {
   "codemirror_mode": {
    "name": "ipython",
    "version": 3
   },
   "file_extension": ".py",
   "mimetype": "text/x-python",
   "name": "python",
   "nbconvert_exporter": "python",
   "pygments_lexer": "ipython3",
   "version": "3.7.7"
  },
  "orig_nbformat": 4
 },
 "nbformat": 4,
 "nbformat_minor": 2
}
