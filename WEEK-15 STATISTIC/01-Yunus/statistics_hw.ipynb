{
 "cells": [
  {
   "cell_type": "code",
   "execution_count": 66,
   "metadata": {},
   "outputs": [],
   "source": [
    "import numpy as np\n",
    "import pandas as pd\n",
    "\n",
    "n= 100\n",
    "\n",
    "prices = np.random.normal(50,10,n)\n",
    "\n",
    "return_prob = np.random.uniform(0,1,n)\n",
    "\n",
    "returns = return_prob < 0.2\n",
    "\n",
    "df = pd.DataFrame({'Price':prices,'Product_Evulation_Ratio':return_prob,'Returns':returns})\n",
    "\n"
   ]
  },
  {
   "cell_type": "code",
   "execution_count": 68,
   "metadata": {},
   "outputs": [],
   "source": [
    "df['Price_Category'] = pd.cut(df['Price'], bins=[0, 30, 50, 70, 100])\n",
    "# df.tail()\n",
    "# df['Price_Category'].dtype\n",
    "df['Price_Category']=df['Price_Category'].astype('string')\n",
    "# df['Product_Evulation_Ratio']=df['Product_Evulation_Ratio'].astype('string')\n",
    "\n",
    "\n"
   ]
  },
  {
   "cell_type": "code",
   "execution_count": 43,
   "metadata": {},
   "outputs": [
    {
     "data": {
      "text/plain": [
       "0.1388888888888889"
      ]
     },
     "execution_count": 43,
     "metadata": {},
     "output_type": "execute_result"
    }
   ],
   "source": [
    "#1--If the price of a given product is in the range of 50-70, what is the probability of returning the product?\n",
    "\n",
    "# df.query('Price_Category == \"(50, 70]\"')[\"Returns\"].value_counts(normalize=True)[True]\n",
    "# df['Returns'].value_counts(normalize=True)\n",
    "df.query('Price <70 and Price >50')[\"Returns\"].value_counts(normalize=True)[True]\n",
    "\n",
    "# df.tail()"
   ]
  },
  {
   "cell_type": "code",
   "execution_count": 44,
   "metadata": {},
   "outputs": [
    {
     "data": {
      "text/plain": [
       "0.2033898305084746"
      ]
     },
     "execution_count": 44,
     "metadata": {},
     "output_type": "execute_result"
    }
   ],
   "source": [
    "df.query('Price <50 and Price >30')[\"Returns\"].value_counts(normalize=True)[True]\n"
   ]
  },
  {
   "cell_type": "code",
   "execution_count": 45,
   "metadata": {},
   "outputs": [
    {
     "data": {
      "text/plain": [
       "0.25"
      ]
     },
     "execution_count": 45,
     "metadata": {},
     "output_type": "execute_result"
    }
   ],
   "source": [
    "df.query('Price <30 and Price >0')[\"Returns\"].value_counts(normalize=True)[True]"
   ]
  },
  {
   "cell_type": "code",
   "execution_count": 48,
   "metadata": {},
   "outputs": [
    {
     "data": {
      "text/plain": [
       "0.5636363636363636"
      ]
     },
     "execution_count": 48,
     "metadata": {},
     "output_type": "execute_result"
    }
   ],
   "source": [
    "#2--If a product with a product rating ratio greater than 0.5 is purchased, what is the probability that its price will be in the 30-50 range?\n",
    "\n",
    "df.query('Product_Evulation_Ratio > 0.5')['Price_Category'].value_counts(normalize='(30, 50]')['(30, 50]']"
   ]
  },
  {
   "cell_type": "code",
   "execution_count": 75,
   "metadata": {},
   "outputs": [
    {
     "data": {
      "text/plain": [
       "0.0"
      ]
     },
     "execution_count": 75,
     "metadata": {},
     "output_type": "execute_result"
    }
   ],
   "source": [
    "#3--If the price of a product is in the 50-70 range, what is the probability of a return when the product evaluation rate is greater than 0.5?\n",
    "\n",
    "\n",
    "# len(df.query(\"Returns == True and Price_Category=='(50, 70]' and Product_Evulation_Ratio > 0.5\")) / len(df.query(\"Price_Category=='(50, 70]'\")) * 100\n",
    "# df.query(\"Price_Category=='(50, 70]' and Product_Evulation_Ratio > 0.5\")[\"Returns\"].value_counts(normalize=True)[True]\n",
    "# a.query('Product_Evulation_Ratio > 0.5')[\"Returns\"].value_counts(normalize=True)[True]\n",
    "\n",
    "len(df.query(\"Price_Category=='(50, 70]' and Product_Evulation_Ratio > 0.5 and Returns\")) / len(df.query(\"Price_Category=='(50, 70]' and Product_Evulation_Ratio > 0.5\"))\n"
   ]
  },
  {
   "cell_type": "code",
   "execution_count": 79,
   "metadata": {},
   "outputs": [
    {
     "data": {
      "text/plain": [
       "0.3333333333333333"
      ]
     },
     "execution_count": 79,
     "metadata": {},
     "output_type": "execute_result"
    }
   ],
   "source": [
    "#4--When the price of a product is more than 70, what is the probability that the product evaluation rate is greater than 0.5?\n",
    "\n",
    "# len(df.query(\"Price_Category=='(70, 100]' and Product_Evulation_Ratio > 0.5\"))/len(df.query(\"Product_Evulation_Ratio > 0.5\"))*100\n",
    "\n",
    "len(df.query(\"Price > 70 and Product_Evulation_Ratio > 0.5\")) / len(df.query(\"Price > 70\"))\n"
   ]
  },
  {
   "cell_type": "code",
   "execution_count": 81,
   "metadata": {},
   "outputs": [
    {
     "data": {
      "text/plain": [
       "0.45"
      ]
     },
     "execution_count": 81,
     "metadata": {},
     "output_type": "execute_result"
    }
   ],
   "source": [
    "'''\n",
    "5--\n",
    "\"On a four-lane highway, cars are either driving fast or slow. Faster cars should be on the leftmost lane. \n",
    "At any given time, 20% of the cars are in the leftmost lane. In general, 40% of the cars on the highway are\n",
    " classified as fast. Among all cars in the leftmost lane, 90% are fast. If a car is driving fast, what is \n",
    " the probability that it is in the leftmost lane?\"\n",
    "'''\n",
    "\n",
    "#P(A | B) = P(B | A) * P(A) / P(B)\n",
    "\n",
    "#P(A) = 0.2 (20% of the cars are in the leftmost lane)\n",
    "#P(B) = 0.4 (40% of the cars are fast)\n",
    "#P(B | A) = 0.9 (90% of the cars in the leftmost lane are fast)\n",
    "\n",
    "solution = 0.9*0.2/0.4\n",
    "solution"
   ]
  }
 ],
 "metadata": {
  "kernelspec": {
   "display_name": "Python 3",
   "language": "python",
   "name": "python3"
  },
  "language_info": {
   "codemirror_mode": {
    "name": "ipython",
    "version": 3
   },
   "file_extension": ".py",
   "mimetype": "text/x-python",
   "name": "python",
   "nbconvert_exporter": "python",
   "pygments_lexer": "ipython3",
   "version": "3.9.6"
  },
  "orig_nbformat": 4
 },
 "nbformat": 4,
 "nbformat_minor": 2
}
