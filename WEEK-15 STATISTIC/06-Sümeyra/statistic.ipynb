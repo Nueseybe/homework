{
 "cells": [
  {
   "attachments": {},
   "cell_type": "markdown",
   "metadata": {},
   "source": [
    "2. If a product with a product rating ratio greater than 0.5 is purchased, what is the probability that its price will be in the 30-50 range?"
   ]
  },
  {
   "attachments": {},
   "cell_type": "markdown",
   "metadata": {},
   "source": [
    "3. If the price of a product is in the 50-70 range, what is the probability of a return when the product review rate is greater than 0.5?"
   ]
  },
  {
   "attachments": {},
   "cell_type": "markdown",
   "metadata": {},
   "source": [
    "4. When the price of a product is more than 70, what is the probability that the product evaluation rate is greater than 0.5?"
   ]
  },
  {
   "attachments": {},
   "cell_type": "markdown",
   "metadata": {},
   "source": [
    "QUESTION: On a four-lane highway, cars either go fast or not. Faster cars should go in the far left lane. At any given time, 20% of the cars are in the leftmost lane. Overall, 40% of cars on the highway are classified as going fast. Of all cars, 90% of those in the leftmost lane are going fast. If a car is going fast, what is the probability that it is in the Leftmost Lane?"
   ]
  },
  {
   "attachments": {},
   "cell_type": "markdown",
   "metadata": {},
   "source": [
    "A: A car in the far left lane\n",
    "B: A fast-moving car\n",
    "\n",
    "Bayes' Theorem\n",
    "P(A|B) = P(B|A) * P(A) / P(B)\n",
    "\n",
    "P(B|A): It is 0.9 since it is given that 90% of the cars in the Leftmost Lane are going fast.\n",
    "P(A): Since the probability of a car in the leftmost lane is given as 20%, it is 0.2.\n",
    "P(B): Since the probability that the selected car is going fast is given as 40%, it is 0.4.\n",
    "\n",
    "P(A|B) = 0.9 * 0.2 / 0.4 = 0.45\n",
    "\n",
    "The probability that the fast-moving car is in the far left lane is 45%"
   ]
  }
 ],
 "metadata": {
  "language_info": {
   "name": "python"
  },
  "orig_nbformat": 4
 },
 "nbformat": 4,
 "nbformat_minor": 2
}
