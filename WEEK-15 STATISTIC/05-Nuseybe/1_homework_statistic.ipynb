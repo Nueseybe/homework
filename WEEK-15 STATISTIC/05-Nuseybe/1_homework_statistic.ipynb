{
 "cells": [
  {
   "cell_type": "code",
   "execution_count": 12,
   "metadata": {},
   "outputs": [],
   "source": [
    "import numpy as np\n",
    "import pandas as pd\n",
    "# Create 100 products*\n",
    "n = 100\n",
    "# Generate Random prices\n",
    "prices = np.random.normal(50, 10, n)\n",
    "# Generate a random return probability\n",
    "return_prob = np.random.uniform(0, 1, n) #Generates 100 random ratios between 0 and 1\n",
    "# Determine if it is returned\n",
    "# PS: We have set a limit that those below 20% in the Product Evaluation Percentage are returned, and we simulate our data.\n",
    "returns = return_prob < 0.2\n",
    "# Create the data frame\n",
    "df = pd.DataFrame({'Price': prices,'Product_Evaluation_Ratio': return_prob ,'Return': returns})"
   ]
  },
  {
   "attachments": {},
   "cell_type": "markdown",
   "metadata": {},
   "source": [
    "1. If the price of a given product is in the 50-70 range, what is the probability of returning the product?"
   ]
  },
  {
   "cell_type": "code",
   "execution_count": 30,
   "metadata": {},
   "outputs": [
    {
     "data": {
      "text/plain": [
       "8.0"
      ]
     },
     "execution_count": 30,
     "metadata": {},
     "output_type": "execute_result"
    }
   ],
   "source": [
    "#Written by Nuseybe om 07.04.2023\n",
    "\n",
    "df['Price_Category'] = pd.cut(df['Price'], bins=[0, 30, 50, 70, 100])\n",
    "df['Price_Category'] = df['Price_Category'].astype('string')\n",
    "#P(Return=True | Price_Category=(50, 70])\n",
    "len (df.query(\"Return == True and Price_Category=='(50, 70]'\"))* len(df)/100"
   ]
  },
  {
   "attachments": {},
   "cell_type": "markdown",
   "metadata": {},
   "source": [
    "2. If a product with a product rating ratio greater than 0.5 is purchased, what is the probability that its price will be in the 30-50 range?"
   ]
  },
  {
   "cell_type": "code",
   "execution_count": 35,
   "metadata": {},
   "outputs": [
    {
     "data": {
      "text/plain": [
       "55.35714285714286"
      ]
     },
     "execution_count": 35,
     "metadata": {},
     "output_type": "execute_result"
    }
   ],
   "source": [
    "len(df.query(\"Price_Category=='(30, 50]' and Product_Evaluation_Ratio > 0.5\"))/len(df.query(\"Product_Evaluation_Ratio > 0.5\"))*100"
   ]
  },
  {
   "attachments": {},
   "cell_type": "markdown",
   "metadata": {},
   "source": [
    "3. If the price of a product is in the 50-70 range, what is the probability of a return when the product evaluation rate is greater than 0.5?"
   ]
  },
  {
   "cell_type": "code",
   "execution_count": 36,
   "metadata": {},
   "outputs": [
    {
     "data": {
      "text/plain": [
       "51.11111111111111"
      ]
     },
     "execution_count": 36,
     "metadata": {},
     "output_type": "execute_result"
    }
   ],
   "source": [
    "len(df.query(\" Price_Category=='(50, 70]' and Product_Evaluation_Ratio > 0.5\"))/len(df.query(\"Price_Category=='(50, 70]'\"))*100"
   ]
  },
  {
   "cell_type": "markdown",
   "metadata": {},
   "source": [
    "4. When the price of a product is more than 70, what is the probability that the product evaluation rate is greater than 0.5?"
   ]
  },
  {
   "cell_type": "code",
   "execution_count": 38,
   "metadata": {},
   "outputs": [
    {
     "data": {
      "text/plain": [
       "1.7857142857142856"
      ]
     },
     "execution_count": 38,
     "metadata": {},
     "output_type": "execute_result"
    }
   ],
   "source": [
    "len(df.query(\" Price_Category=='(70, 100]' and Product_Evaluation_Ratio > 0.5\"))/len(df.query(\"Product_Evaluation_Ratio > 0.5\"))*100"
   ]
  },
  {
   "attachments": {},
   "cell_type": "markdown",
   "metadata": {},
   "source": [
    "Bayes Rule Question:                                                             \n",
    "On a four-lane highway, cars either go fast or not. Faster cars should go in the far left lane. At any given time, 20% of the cars are in the leftmost lane. Overall, 40% of cars on the highway are classified as going fast. Of all cars, 90% of those in the leftmost lane are going fast. If a car is going fast, what is the probability that it is in the far left lane?"
   ]
  },
  {
   "cell_type": "code",
   "execution_count": 39,
   "metadata": {},
   "outputs": [
    {
     "data": {
      "text/plain": [
       "0.45"
      ]
     },
     "execution_count": 39,
     "metadata": {},
     "output_type": "execute_result"
    }
   ],
   "source": [
    "\n",
    "l_lane = 0.2    #P(A) \n",
    "general = 0.4   #P(B)\n",
    "fastest = 0.9  #P(B|A)\n",
    "\n",
    "#Formul :   P(A|B) = P(A)* P(B|A) / P(B)\n",
    "probability_l_lane = l_lane * fastest /general\n",
    "\n",
    "probability_l_lane\n",
    " \n"
   ]
  }
 ],
 "metadata": {
  "kernelspec": {
   "display_name": "Python 3",
   "language": "python",
   "name": "python3"
  },
  "language_info": {
   "codemirror_mode": {
    "name": "ipython",
    "version": 3
   },
   "file_extension": ".py",
   "mimetype": "text/x-python",
   "name": "python",
   "nbconvert_exporter": "python",
   "pygments_lexer": "ipython3",
   "version": "3.9.13"
  },
  "orig_nbformat": 4
 },
 "nbformat": 4,
 "nbformat_minor": 2
}
