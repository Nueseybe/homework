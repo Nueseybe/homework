{
 "cells": [
  {
   "attachments": {},
   "cell_type": "markdown",
   "metadata": {},
   "source": [
    "Developer  : Tuba Gümüs Esmek\n",
    "\n",
    "Date       : 07.04.2023\n",
    "\n",
    "Subject    : Statistic \n"
   ]
  },
  {
   "cell_type": "code",
   "execution_count": 2,
   "metadata": {},
   "outputs": [
    {
     "data": {
      "text/html": [
       "<div>\n",
       "<style scoped>\n",
       "    .dataframe tbody tr th:only-of-type {\n",
       "        vertical-align: middle;\n",
       "    }\n",
       "\n",
       "    .dataframe tbody tr th {\n",
       "        vertical-align: top;\n",
       "    }\n",
       "\n",
       "    .dataframe thead th {\n",
       "        text-align: right;\n",
       "    }\n",
       "</style>\n",
       "<table border=\"1\" class=\"dataframe\">\n",
       "  <thead>\n",
       "    <tr style=\"text-align: right;\">\n",
       "      <th></th>\n",
       "      <th>Price</th>\n",
       "      <th>Urun_Degerlendirme_Oran</th>\n",
       "      <th>Return</th>\n",
       "    </tr>\n",
       "  </thead>\n",
       "  <tbody>\n",
       "    <tr>\n",
       "      <th>0</th>\n",
       "      <td>49.011579</td>\n",
       "      <td>0.435966</td>\n",
       "      <td>False</td>\n",
       "    </tr>\n",
       "    <tr>\n",
       "      <th>1</th>\n",
       "      <td>51.702172</td>\n",
       "      <td>0.324438</td>\n",
       "      <td>False</td>\n",
       "    </tr>\n",
       "    <tr>\n",
       "      <th>2</th>\n",
       "      <td>41.017282</td>\n",
       "      <td>0.479400</td>\n",
       "      <td>False</td>\n",
       "    </tr>\n",
       "    <tr>\n",
       "      <th>3</th>\n",
       "      <td>43.069775</td>\n",
       "      <td>0.910868</td>\n",
       "      <td>False</td>\n",
       "    </tr>\n",
       "    <tr>\n",
       "      <th>4</th>\n",
       "      <td>37.749128</td>\n",
       "      <td>0.134992</td>\n",
       "      <td>True</td>\n",
       "    </tr>\n",
       "  </tbody>\n",
       "</table>\n",
       "</div>"
      ],
      "text/plain": [
       "       Price  Urun_Degerlendirme_Oran  Return\n",
       "0  49.011579                 0.435966   False\n",
       "1  51.702172                 0.324438   False\n",
       "2  41.017282                 0.479400   False\n",
       "3  43.069775                 0.910868   False\n",
       "4  37.749128                 0.134992    True"
      ]
     },
     "execution_count": 2,
     "metadata": {},
     "output_type": "execute_result"
    }
   ],
   "source": [
    "import numpy as np\n",
    "import pandas as pd\n",
    "#Create 100 products\n",
    "n = 100\n",
    "# Generating random pricess\n",
    "prices = np.random.normal(50,10,n)\n",
    "# Generating a random return probability\n",
    "return_prob = np.random.uniform(0,1,n) #100 random ratio generation from 0 to 1\n",
    "\n",
    "returns = return_prob < 0.2 # Determine whether it is returned or not\n",
    "#Creating the data frame\n",
    "df = pd.DataFrame({'Price': prices,'Product_Rating_Rate':return_prob ,'Return': returns})\n",
    "df.head()"
   ]
  },
  {
   "cell_type": "code",
   "execution_count": 3,
   "metadata": {},
   "outputs": [
    {
     "data": {
      "text/html": [
       "<div>\n",
       "<style scoped>\n",
       "    .dataframe tbody tr th:only-of-type {\n",
       "        vertical-align: middle;\n",
       "    }\n",
       "\n",
       "    .dataframe tbody tr th {\n",
       "        vertical-align: top;\n",
       "    }\n",
       "\n",
       "    .dataframe thead th {\n",
       "        text-align: right;\n",
       "    }\n",
       "</style>\n",
       "<table border=\"1\" class=\"dataframe\">\n",
       "  <thead>\n",
       "    <tr style=\"text-align: right;\">\n",
       "      <th></th>\n",
       "      <th>Price</th>\n",
       "      <th>Urun_Degerlendirme_Oran</th>\n",
       "      <th>Return</th>\n",
       "      <th>Price_Category</th>\n",
       "    </tr>\n",
       "  </thead>\n",
       "  <tbody>\n",
       "    <tr>\n",
       "      <th>0</th>\n",
       "      <td>49.011579</td>\n",
       "      <td>0.435966</td>\n",
       "      <td>False</td>\n",
       "      <td>(30, 50]</td>\n",
       "    </tr>\n",
       "    <tr>\n",
       "      <th>1</th>\n",
       "      <td>51.702172</td>\n",
       "      <td>0.324438</td>\n",
       "      <td>False</td>\n",
       "      <td>(50, 70]</td>\n",
       "    </tr>\n",
       "    <tr>\n",
       "      <th>2</th>\n",
       "      <td>41.017282</td>\n",
       "      <td>0.479400</td>\n",
       "      <td>False</td>\n",
       "      <td>(30, 50]</td>\n",
       "    </tr>\n",
       "    <tr>\n",
       "      <th>3</th>\n",
       "      <td>43.069775</td>\n",
       "      <td>0.910868</td>\n",
       "      <td>False</td>\n",
       "      <td>(30, 50]</td>\n",
       "    </tr>\n",
       "    <tr>\n",
       "      <th>4</th>\n",
       "      <td>37.749128</td>\n",
       "      <td>0.134992</td>\n",
       "      <td>True</td>\n",
       "      <td>(30, 50]</td>\n",
       "    </tr>\n",
       "  </tbody>\n",
       "</table>\n",
       "</div>"
      ],
      "text/plain": [
       "       Price  Urun_Degerlendirme_Oran  Return Price_Category\n",
       "0  49.011579                 0.435966   False       (30, 50]\n",
       "1  51.702172                 0.324438   False       (50, 70]\n",
       "2  41.017282                 0.479400   False       (30, 50]\n",
       "3  43.069775                 0.910868   False       (30, 50]\n",
       "4  37.749128                 0.134992    True       (30, 50]"
      ]
     },
     "execution_count": 3,
     "metadata": {},
     "output_type": "execute_result"
    }
   ],
   "source": [
    "# Categorik yeni bir sutun elde ettik\n",
    "df['Price_Category'] = pd.cut(df['Price'], bins=[0, 30, 50, 70, 100])\n",
    "\n",
    "df.head()"
   ]
  },
  {
   "cell_type": "code",
   "execution_count": 4,
   "metadata": {},
   "outputs": [],
   "source": [
    "df['Price_Category'] =df['Price_Category'].astype('string')"
   ]
  },
  {
   "cell_type": "code",
   "execution_count": 5,
   "metadata": {},
   "outputs": [
    {
     "data": {
      "text/plain": [
       "7.0"
      ]
     },
     "execution_count": 5,
     "metadata": {},
     "output_type": "execute_result"
    }
   ],
   "source": [
    "#QUESTION 1\n",
    "#If the price of a given product is in the 50-70 range, what is the probability that the product will be returned?\n",
    "\n",
    "len (df.query(\"Return == True and Price_Category=='(50, 70]'\"))* len(df)/100"
   ]
  },
  {
   "cell_type": "code",
   "execution_count": 6,
   "metadata": {},
   "outputs": [
    {
     "data": {
      "text/plain": [
       "61.40350877192983"
      ]
     },
     "execution_count": 6,
     "metadata": {},
     "output_type": "execute_result"
    }
   ],
   "source": [
    "#QUESTION 2\n",
    "#There is a product with a product rating greater than 0.5, what is the probability that its price is in the 30-50 range?\n",
    "len(df.query(\"Price_Category=='(30, 50]' and Product_Rating_Rate > 0.5\"))/len(df.query(\"Product_Rating_Rate > 0.5\"))*100"
   ]
  },
  {
   "cell_type": "code",
   "execution_count": 7,
   "metadata": {},
   "outputs": [
    {
     "data": {
      "text/plain": [
       "51.35135135135135"
      ]
     },
     "execution_count": 7,
     "metadata": {},
     "output_type": "execute_result"
    }
   ],
   "source": [
    "#QUESTION 3\n",
    "#If the price of a product is in the 50-70 range, what is the probability of a return when the product review rate is greater than 0.5?\n",
    "len (df.query(\"Product_Rating_Rate > 0.5 and Price_Category=='(50, 70]'\"))/len(df.query( \"Price_Category =='(50, 70]'\"))*100"
   ]
  },
  {
   "cell_type": "code",
   "execution_count": null,
   "metadata": {},
   "outputs": [],
   "source": [
    "#QUESTION 4\n",
    "#When the price of a product is more than 70, what is the probability that the product evaluation rate is greater than 0.5?\n",
    "len(df.query(\"Price_Category > 70 and Product_Rating_Rate > 0.5\"))/len(df.query(\"Price_Category > 70\"))*100\n"
   ]
  },
  {
   "attachments": {},
   "cell_type": "markdown",
   "metadata": {},
   "source": [
    "Bayes Rule Question"
   ]
  },
  {
   "attachments": {},
   "cell_type": "markdown",
   "metadata": {},
   "source": [
    "QUESTION 5\n",
    "On a four-lane highway, cars are either going fast or going fast. Faster cars should go in the far left lane. At any given time, 20% of the cars are in the leftmost lane. Overall, 40% of cars on the highway steer fast. Of all cars, 90% of those in the leftmost lane are going fast. If a car is going fast, what is the probability that it is in the Leftmost Lane?\n",
    "\n",
    "Bayes Rule Formula:\n",
    "P(A/B) = P(A) * P(B/A) / P(B)\n",
    "\n",
    "P(A)  = cars in the left lane (cars_leftlane)\n",
    "P(B/A)= fast cars in the left lane (fastcars_leftlane)\n",
    "P(B)  = fast cars on the highway (fastcars)\n",
    "P(A/B)= fast cars on the highwaythe probability of the fast moving car being in the left lane"
   ]
  },
  {
   "cell_type": "code",
   "execution_count": null,
   "metadata": {},
   "outputs": [],
   "source": [
    "# SOLUTION\n",
    "\n",
    "cars_leftlane = 0.2     #P(A)\n",
    "fastcars_leftlane = 0.9 #P(B/A)\n",
    "fastcars = 0.4          #P(B)\n"
   ]
  },
  {
   "cell_type": "code",
   "execution_count": 1,
   "metadata": {},
   "outputs": [
    {
     "data": {
      "text/plain": [
       "0.45"
      ]
     },
     "execution_count": 1,
     "metadata": {},
     "output_type": "execute_result"
    }
   ],
   "source": [
    "#P(A/B) = P(A) * P(B/A) / P(B)\n",
    "0.2*0.9/0.4   #(PA/B)"
   ]
  }
 ],
 "metadata": {
  "kernelspec": {
   "display_name": "Python 3",
   "language": "python",
   "name": "python3"
  },
  "language_info": {
   "codemirror_mode": {
    "name": "ipython",
    "version": 3
   },
   "file_extension": ".py",
   "mimetype": "text/x-python",
   "name": "python",
   "nbconvert_exporter": "python",
   "pygments_lexer": "ipython3",
   "version": "3.7.7"
  },
  "orig_nbformat": 4
 },
 "nbformat": 4,
 "nbformat_minor": 2
}
