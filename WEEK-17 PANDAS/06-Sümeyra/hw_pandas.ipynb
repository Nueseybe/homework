{
 "cells": [
  {
   "cell_type": "markdown",
   "id": "027e1d2e",
   "metadata": {},
   "source": [
    "# 1- Preprocessing"
   ]
  },
  {
   "cell_type": "markdown",
   "id": "59ac2bd7",
   "metadata": {},
   "source": [
    "## Open the file"
   ]
  },
  {
   "cell_type": "code",
   "execution_count": 50,
   "id": "83469c22",
   "metadata": {},
   "outputs": [],
   "source": [
    "import pandas as pd"
   ]
  },
  {
   "cell_type": "code",
   "execution_count": 51,
   "id": "f0f78427",
   "metadata": {},
   "outputs": [],
   "source": [
    "hwork=pd.read_csv(\"hw_data.csv\")"
   ]
  },
  {
   "cell_type": "markdown",
   "id": "d4aa238c",
   "metadata": {},
   "source": [
    "## Examine file"
   ]
  },
  {
   "cell_type": "code",
   "execution_count": null,
   "id": "1f6abe66",
   "metadata": {},
   "outputs": [],
   "source": [
    "hwork.head()"
   ]
  },
  {
   "cell_type": "code",
   "execution_count": null,
   "id": "9ebb3b20",
   "metadata": {},
   "outputs": [],
   "source": [
    "hwork.info()"
   ]
  },
  {
   "cell_type": "code",
   "execution_count": null,
   "id": "583026c6",
   "metadata": {},
   "outputs": [],
   "source": [
    "hwork.describe()"
   ]
  },
  {
   "cell_type": "markdown",
   "id": "9b7823e0",
   "metadata": {},
   "source": [
    "## Define missing values"
   ]
  },
  {
   "cell_type": "code",
   "execution_count": null,
   "id": "e6a7d645",
   "metadata": {},
   "outputs": [],
   "source": [
    "hwork.isna()"
   ]
  },
  {
   "cell_type": "code",
   "execution_count": null,
   "id": "8bd8a661",
   "metadata": {},
   "outputs": [],
   "source": [
    "hwork.isna().sum()"
   ]
  },
  {
   "cell_type": "code",
   "execution_count": null,
   "id": "17dd0fcf",
   "metadata": {},
   "outputs": [],
   "source": [
    "hwork.isna().sum()/len(hwork)"
   ]
  },
  {
   "cell_type": "code",
   "execution_count": null,
   "id": "09aef70f",
   "metadata": {},
   "outputs": [],
   "source": [
    "hwork[hwork['Education Level'].isna()]"
   ]
  },
  {
   "cell_type": "code",
   "execution_count": null,
   "id": "87c9fcde",
   "metadata": {},
   "outputs": [],
   "source": [
    "hwork[hwork['Income'].isna()]"
   ]
  },
  {
   "cell_type": "code",
   "execution_count": null,
   "id": "c6fc2fc4",
   "metadata": {},
   "outputs": [],
   "source": [
    "hwork[hwork['Marital Status'].isna()]"
   ]
  },
  {
   "cell_type": "code",
   "execution_count": null,
   "id": "fd27f861",
   "metadata": {},
   "outputs": [],
   "source": [
    "hwork[hwork['Employment Status'].isna()]"
   ]
  },
  {
   "cell_type": "code",
   "execution_count": null,
   "id": "f73017fc",
   "metadata": {},
   "outputs": [],
   "source": [
    "hwork[hwork['Product Category'].isna()]"
   ]
  },
  {
   "cell_type": "markdown",
   "id": "e3971637",
   "metadata": {},
   "source": [
    "## Decide about missing values (fill or drop)"
   ]
  },
  {
   "cell_type": "code",
   "execution_count": 30,
   "id": "eafae265",
   "metadata": {},
   "outputs": [
    {
     "data": {
      "text/plain": [
       "'University'"
      ]
     },
     "execution_count": 30,
     "metadata": {},
     "output_type": "execute_result"
    }
   ],
   "source": [
    "hwork[\"Education Level\"].mode()[0] #We find the most repeated value and fill in the missing values with it."
   ]
  },
  {
   "cell_type": "code",
   "execution_count": 31,
   "id": "f1fdb803",
   "metadata": {},
   "outputs": [],
   "source": [
    "hwork[\"Education Level\"].fillna(hwork[\"Education Level\"].mode()[0], inplace=True)"
   ]
  },
  {
   "cell_type": "code",
   "execution_count": 32,
   "id": "3ee81358",
   "metadata": {},
   "outputs": [
    {
     "data": {
      "text/plain": [
       "'separated'"
      ]
     },
     "execution_count": 32,
     "metadata": {},
     "output_type": "execute_result"
    }
   ],
   "source": [
    "hwork[\"Marital Status\"].mode()[0]"
   ]
  },
  {
   "cell_type": "code",
   "execution_count": 33,
   "id": "dc64ceec",
   "metadata": {},
   "outputs": [],
   "source": [
    "hwork[\"Marital Status\"].fillna(hwork[\"Marital Status\"].mode()[0], inplace=True)"
   ]
  },
  {
   "cell_type": "code",
   "execution_count": 35,
   "id": "3306a788",
   "metadata": {},
   "outputs": [
    {
     "data": {
      "text/plain": [
       "57527845.1632653"
      ]
     },
     "execution_count": 35,
     "metadata": {},
     "output_type": "execute_result"
    }
   ],
   "source": [
    "hwork[\"Income\"].mean()"
   ]
  },
  {
   "cell_type": "code",
   "execution_count": 36,
   "id": "16520a10",
   "metadata": {},
   "outputs": [],
   "source": [
    "hwork[\"Income\"].fillna(hwork[\"Income\"].mean(), inplace=True)"
   ]
  },
  {
   "cell_type": "code",
   "execution_count": 38,
   "id": "7e957153",
   "metadata": {},
   "outputs": [],
   "source": [
    "hwork.drop(\"Product Category\", axis=1, inplace=True)"
   ]
  },
  {
   "cell_type": "markdown",
   "id": "cf1586ca",
   "metadata": {},
   "source": [
    "## Why did you fill missing values or if you have dropped, why did you do so? "
   ]
  },
  {
   "attachments": {},
   "cell_type": "markdown",
   "id": "9989f8e3",
   "metadata": {},
   "source": [
    "Since the rate of missing data in the Marital Status and Education Level variables is also high, we can exclude some of these variables from the data set. However, since the rate of missing data in other variables is low, it would be more appropriate to fill in missing data in these variables."
   ]
  },
  {
   "cell_type": "markdown",
   "id": "0a1b9046",
   "metadata": {},
   "source": [
    "## Find outliers if there are"
   ]
  },
  {
   "cell_type": "code",
   "execution_count": null,
   "id": "3d380d01",
   "metadata": {},
   "outputs": [],
   "source": [
    "hwork.describe()"
   ]
  },
  {
   "cell_type": "code",
   "execution_count": null,
   "id": "af348dbd",
   "metadata": {},
   "outputs": [],
   "source": [
    "#Identifying outliers in the Age column\n",
    "Q1 = hwork['Age'].quantile(0.25)\n",
    "Q3 = hwork['Age'].quantile(0.75)\n",
    "IQR = Q3 - Q1\n",
    "lower_limit = Q1 - 1.5 * IQR\n",
    "upper_limit = Q3 + 1.5 * IQR\n",
    "\n",
    "#Identifying outliers\n",
    "outliers = hwork[(hwork['Age'] < lower_limit) | (hwork['Age'] > upper_limit)]\n",
    "print(outliers)\n"
   ]
  },
  {
   "cell_type": "code",
   "execution_count": null,
   "id": "839e1d18",
   "metadata": {},
   "outputs": [],
   "source": [
    "#Identifying outliers in the Income column\n",
    "Q1 = hwork['Income'].quantile(0.25)\n",
    "Q3 = hwork['Income'].quantile(0.75)\n",
    "IQR = Q3 - Q1\n",
    "lower_limit = Q1 - 1.5 * IQR\n",
    "upper_limit = Q3 + 1.5 * IQR\n",
    "\n",
    "#Identifying outliers\n",
    "outliers = hwork[(hwork['Income'] < lower_limit) | (hwork['Income'] > upper_limit)]\n",
    "print(outliers)"
   ]
  },
  {
   "attachments": {},
   "cell_type": "markdown",
   "id": "a42ecb4b",
   "metadata": {},
   "source": [
    "In this dataset, there seem to be outliers in the \"Age\" and \"Income\" columns. The \"Age\" column shows the maximum value as 500, which is not a realistic value. The \"Income\" column also shows the maximum value as 575772080.0, which is not a realistic income value and is very different from other observations. Therefore, a value of 500 for the \"Age\" column is an outlier, and a value of 575772080.0  for the \"Income\" column is an outlier."
   ]
  },
  {
   "cell_type": "markdown",
   "id": "0425877a",
   "metadata": {},
   "source": [
    "## Decide what will you do with outliers"
   ]
  },
  {
   "attachments": {},
   "cell_type": "markdown",
   "id": "5b4af227",
   "metadata": {},
   "source": [
    "Since there are many outliers in the age column, I can replace it with the average, I can delete the Income column."
   ]
  },
  {
   "cell_type": "markdown",
   "id": "b2a70701",
   "metadata": {},
   "source": [
    "## Find duplicates, how many are there? Decide what will you do about that?"
   ]
  },
  {
   "cell_type": "code",
   "execution_count": null,
   "id": "9dc6e5e7",
   "metadata": {},
   "outputs": [],
   "source": [
    "hwork[hwork.duplicated()]"
   ]
  },
  {
   "cell_type": "code",
   "execution_count": null,
   "id": "b6d9f2d0",
   "metadata": {},
   "outputs": [],
   "source": [
    "hwork.drop_duplicates()"
   ]
  },
  {
   "cell_type": "markdown",
   "id": "8fdba0b2",
   "metadata": {},
   "source": [
    "## Explain why did you do that?"
   ]
  },
  {
   "cell_type": "code",
   "execution_count": null,
   "id": "a7a682ba",
   "metadata": {},
   "outputs": [],
   "source": []
  },
  {
   "cell_type": "markdown",
   "id": "a784cf15",
   "metadata": {},
   "source": [
    "# 2- Categorization"
   ]
  },
  {
   "cell_type": "markdown",
   "id": "a8dcf1a3",
   "metadata": {},
   "source": [
    "## Categorize satisfaction in 3 level and label them as 'Low', 'Moderate' and 'High'. Add a new column named 'Satisfaction Category' and store them there"
   ]
  },
  {
   "cell_type": "markdown",
   "id": "5e36b169",
   "metadata": {},
   "source": [
    "#### ||| Low Satisfaction : (1-3) ||| Moderate Satisfaction : (4-7) ||| High Satisfaction : (8-10) |||"
   ]
  },
  {
   "cell_type": "code",
   "execution_count": 66,
   "id": "fff4ab75",
   "metadata": {},
   "outputs": [],
   "source": [
    "low_st = hwork[hwork[\"Satisfaction Level\"] < 4]\n",
    "moderate_st = hwork[(hwork[\"Satisfaction Level\"] >= 4) & (hwork[\"Satisfaction Level\"] <= 7)]\n",
    "high_st = hwork[hwork[\"Satisfaction Level\"] > 7]\n"
   ]
  },
  {
   "cell_type": "code",
   "execution_count": 67,
   "id": "3e7d055a",
   "metadata": {},
   "outputs": [],
   "source": [
    "hwork[\"Satisfaction Category\"] = pd.cut(hwork[\"Satisfaction Level\"], bins=[0, 3, 6, 9], labels=[\"low_st\", \"moderate_st\", \"high_st\"])"
   ]
  },
  {
   "cell_type": "markdown",
   "id": "77f946c4",
   "metadata": {},
   "source": [
    "## Categorize income in 3 level and label them as 'Low', 'Moderate' and 'High'. Add a new column named 'Income Category' and store them there"
   ]
  },
  {
   "cell_type": "code",
   "execution_count": 72,
   "id": "9c787126",
   "metadata": {},
   "outputs": [],
   "source": [
    "hwork[\"Income Category\"] = pd.cut(hwork[\"Income\"], \n",
    "                                  bins=[0, 30000, 60000, float(\"inf\")], \n",
    "                                  labels=[\"Low\", \"Moderate\", \"High\"])"
   ]
  },
  {
   "cell_type": "code",
   "execution_count": null,
   "id": "8c0656aa",
   "metadata": {},
   "outputs": [],
   "source": [
    "hwork.drop(\"Memnuniyet Kategorisi\", axis=1)"
   ]
  },
  {
   "cell_type": "code",
   "execution_count": null,
   "id": "a876f776",
   "metadata": {},
   "outputs": [],
   "source": [
    "hwork.head()"
   ]
  },
  {
   "cell_type": "markdown",
   "id": "45adef9f",
   "metadata": {},
   "source": [
    "## Comparing using pivot tables"
   ]
  },
  {
   "attachments": {},
   "cell_type": "markdown",
   "id": "13c73b72",
   "metadata": {},
   "source": [
    "### Is there a relation between marital status and debt status?"
   ]
  },
  {
   "cell_type": "code",
   "execution_count": null,
   "id": "f30be478",
   "metadata": {},
   "outputs": [],
   "source": [
    "pd.crosstab(hwork['Marital Status'], hwork['Debt Status'])\n"
   ]
  },
  {
   "attachments": {},
   "cell_type": "markdown",
   "id": "15c62770",
   "metadata": {},
   "source": [
    "It shows that there is a relationship between marital status and debt status."
   ]
  },
  {
   "cell_type": "markdown",
   "id": "d79458fc",
   "metadata": {},
   "source": [
    "### Is there a relation between education level and satisfaction category?"
   ]
  },
  {
   "cell_type": "code",
   "execution_count": null,
   "id": "194fcbca",
   "metadata": {},
   "outputs": [],
   "source": [
    "pd.crosstab(hwork['Education Level'], hwork['Satisfaction Category'])"
   ]
  },
  {
   "attachments": {},
   "cell_type": "markdown",
   "id": "f34660f0",
   "metadata": {},
   "source": [
    "In this output, it can be seen that there is a relationship between education level and satisfaction categories. For example, it is seen that university graduates are mostly in the high satisfaction categories."
   ]
  },
  {
   "cell_type": "markdown",
   "id": "9097964e",
   "metadata": {},
   "source": [
    "### Is there a relation between employment status and satisfaction category?"
   ]
  },
  {
   "cell_type": "code",
   "execution_count": null,
   "id": "1cd4f3e7",
   "metadata": {},
   "outputs": [],
   "source": [
    "pd.crosstab(hwork['Employment Status'], hwork['Satisfaction Category'])"
   ]
  },
  {
   "cell_type": "markdown",
   "id": "fc4aab2f",
   "metadata": {},
   "source": [
    "# 4- General Conclusion"
   ]
  },
  {
   "cell_type": "markdown",
   "id": "c430d7f2",
   "metadata": {},
   "source": [
    "- "
   ]
  },
  {
   "cell_type": "markdown",
   "id": "546a2cf7",
   "metadata": {},
   "source": [
    "---"
   ]
  },
  {
   "cell_type": "markdown",
   "id": "23130f13",
   "metadata": {},
   "source": [
    "### Checklist"
   ]
  },
  {
   "attachments": {},
   "cell_type": "markdown",
   "id": "93cce972",
   "metadata": {},
   "source": [
    "- [x]  start homework;\n",
    "- [x]  file open;\n",
    "- [x ]  file examined;\n",
    "- [x]  missing values defined;\n",
    "- [x]  missing values are filled;\n",
    "- [x]  explanation for the possible causes of missing values;\n",
    "- [x]  an explanation of how the blanks are filled;\n",
    "- [x]  an explanation of how the blanks are filled;\n",
    "- [x]  finding outliers;\n",
    "- [x]  handling outliers;\n",
    "- [x]  duplicates showed;\n",
    "- [x]  duplicates deleted;\n",
    "- [x]  an explanation of which method is used to find and remove duplicates;\n",
    "- [x]  data is categorized;\n",
    "- [x]  an answer to the question \" Is there a relation betweenmarital status and debt status?\";\n",
    "- [x]  an answer to the question \" Is there a relation between income category and debt status?\";\n",
    "- [x]  an answer to the question \" Is there a relation between education level and satisfaction category?\";\n",
    "- [x]  an answer to the question \" Is there a relation between employment status and satisfaction category?\"\n",
    "- [x]  conclusions are present on each stage;\n",
    "- [x]  a general conclusion is made."
   ]
  },
  {
   "cell_type": "markdown",
   "id": "a69bd10b",
   "metadata": {},
   "source": [
    "---"
   ]
  }
 ],
 "metadata": {
  "kernelspec": {
   "display_name": "Python 3 (ipykernel)",
   "language": "python",
   "name": "python3"
  },
  "language_info": {
   "codemirror_mode": {
    "name": "ipython",
    "version": 3
   },
   "file_extension": ".py",
   "mimetype": "text/x-python",
   "name": "python",
   "nbconvert_exporter": "python",
   "pygments_lexer": "ipython3",
   "version": "3.11.1"
  }
 },
 "nbformat": 4,
 "nbformat_minor": 5
}
