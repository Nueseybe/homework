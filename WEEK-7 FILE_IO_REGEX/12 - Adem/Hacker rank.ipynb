{
 "cells": [
  {
   "cell_type": "code",
   "execution_count": null,
   "metadata": {},
   "outputs": [],
   "source": [
    "### PLEASE PUT HERE THE LINKS OF THE QUESTIONS, THEN I CAN CHECK THEM\n",
    "\n",
    "# 1 Matching Anything But a Newline\n",
    "pattern = r\"^(.{3}\\.){3}.{3}\"\t"
   ]
  },
  {
   "cell_type": "code",
   "execution_count": null,
   "metadata": {},
   "outputs": [],
   "source": [
    "# 2 Matching Specific String\n",
    "pattern = r'\\b(?:hackerrank)\\b'"
   ]
  },
  {
   "cell_type": "code",
   "execution_count": null,
   "metadata": {},
   "outputs": [],
   "source": [
    "# 3 Matching Digits & Non-Digit Characters\n",
    "pattern = r'(\\d\\d\\D){2}\\d{4}'"
   ]
  },
  {
   "cell_type": "code",
   "execution_count": null,
   "metadata": {},
   "outputs": [],
   "source": [
    "# 4 Matching Whitespace & Non-Whitespace Character\n",
    "pattern = r'\\S{2}(\\s\\S\\S){2}'"
   ]
  },
  {
   "cell_type": "code",
   "execution_count": null,
   "metadata": {},
   "outputs": [],
   "source": [
    "# 5 Matching Word & Non-Word Character\n",
    "pattern = r\"\\w{3}\\W\\w{10}\\W\\w{3}\""
   ]
  },
  {
   "cell_type": "code",
   "execution_count": null,
   "metadata": {},
   "outputs": [],
   "source": [
    "# 6 Matching Start & End\n",
    "pattern = r\"^\\w{5}\\W$\"\n"
   ]
  },
  {
   "cell_type": "code",
   "execution_count": null,
   "metadata": {},
   "outputs": [],
   "source": [
    "# 7 Matching Specific Characters\n",
    "pattern = r\"^[123][120][xs0][30Aa][xsu][.,]$\""
   ]
  },
  {
   "cell_type": "code",
   "execution_count": null,
   "metadata": {},
   "outputs": [],
   "source": [
    "# 8 Excluding Specific Characters\n",
    "pattern = r'^\\D[^aeiou][^bcDF]\\S[^AEIOU][^.,]$'"
   ]
  }
 ],
 "metadata": {
  "kernelspec": {
   "display_name": "Python 3",
   "language": "python",
   "name": "python3"
  },
  "language_info": {
   "codemirror_mode": {
    "name": "ipython",
    "version": 3
   },
   "file_extension": ".py",
   "mimetype": "text/x-python",
   "name": "python",
   "nbconvert_exporter": "python",
   "pygments_lexer": "ipython3",
   "version": "3.11.1 (tags/v3.11.1:a7a450f, Dec  6 2022, 19:58:39) [MSC v.1934 64 bit (AMD64)]"
  },
  "orig_nbformat": 4,
  "vscode": {
   "interpreter": {
    "hash": "7822592c750c1a6becce8c5734fdfa2a4b813106b38c155a718e32b9fa7b931d"
   }
  }
 },
 "nbformat": 4,
 "nbformat_minor": 2
}
