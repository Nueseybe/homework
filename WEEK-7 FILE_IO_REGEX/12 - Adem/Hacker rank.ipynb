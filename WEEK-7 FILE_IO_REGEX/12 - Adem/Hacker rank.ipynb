{
 "cells": [
  {
   "cell_type": "code",
   "execution_count": null,
   "metadata": {},
   "outputs": [],
   "source": [
    "# 1 Matching Anything But a Newline\n",
    "pattern = r\"^(.{3}\\.){3}.{3}\"\t"
   ]
  },
  {
   "cell_type": "code",
   "execution_count": null,
   "metadata": {},
   "outputs": [],
   "source": [
    "# 2 Matching Specific String\n",
    "pattern = r'\\b(?:hackerrank)\\b'"
   ]
  },
  {
   "cell_type": "code",
   "execution_count": null,
   "metadata": {},
   "outputs": [],
   "source": [
    "# 3 Matching Digits & Non-Digit Characters\n",
    "pattern = r'(\\d\\d\\D){2}\\d{4}'"
   ]
  },
  {
   "cell_type": "code",
   "execution_count": null,
   "metadata": {},
   "outputs": [],
   "source": [
    "# 4 Matching Whitespace & Non-Whitespace Character\n",
    "pattern = r'\\S{2}(\\s\\S\\S){2}'"
   ]
  },
  {
   "cell_type": "code",
   "execution_count": null,
   "metadata": {},
   "outputs": [],
   "source": [
    "# 5 Matching Word & Non-Word Character\n",
    "pattern = r\"\\w{3}\\W\\w{10}\\W\\w{3}\""
   ]
  },
  {
   "cell_type": "code",
   "execution_count": null,
   "metadata": {},
   "outputs": [],
   "source": [
    "# 6 Matching Start & End\n",
    "pattern = r\"^\\w{5}\\W$\"\n"
   ]
  },
  {
   "cell_type": "code",
   "execution_count": null,
   "metadata": {},
   "outputs": [],
   "source": [
    "# 7 Matching Specific Characters\n",
    "pattern = r\"^[123][120][xs0][30Aa][xsu][.,]$\""
   ]
  },
  {
   "cell_type": "code",
   "execution_count": null,
   "metadata": {},
   "outputs": [],
   "source": [
    "# 8 Excluding Specific Characters\n",
    "pattern = r'^\\D[^aeiou][^bcDF]\\S[^AEIOU][^.,]$'"
   ]
  }
 ],
 "metadata": {
  "kernelspec": {
   "display_name": "Python 3",
   "language": "python",
   "name": "python3"
  },
  "language_info": {
   "codemirror_mode": {
    "name": "ipython",
    "version": 3
   },
   "file_extension": ".py",
   "mimetype": "text/x-python",
   "name": "python",
   "nbconvert_exporter": "python",
   "pygments_lexer": "ipython3",
   "version": "3.10.8"
  },
  "orig_nbformat": 4,
  "vscode": {
   "interpreter": {
    "hash": "5e529fa9649f9a46707db6e0792965dbc5181c5093cd958735f9ba693f25bd20"
   }
  }
 },
 "nbformat": 4,
 "nbformat_minor": 2
}
